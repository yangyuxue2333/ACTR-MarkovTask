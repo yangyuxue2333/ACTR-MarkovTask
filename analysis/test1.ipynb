{
 "cells": [
  {
   "cell_type": "code",
   "execution_count": 1,
   "id": "a735033d-0828-4ba3-aa39-abe534c60f7e",
   "metadata": {},
   "outputs": [
    {
     "name": "stdout",
     "output_type": "stream",
     "text": [
      "ACT-R connection has been started.\n"
     ]
    }
   ],
   "source": [
    "from markov_device import *\n",
    "import matplotlib.pyplot as plt\n",
    "import seaborn as sns"
   ]
  },
  {
   "cell_type": "code",
   "execution_count": 2,
   "id": "2d7a7590-0e74-4971-9011-a7e5a2bdeb5b",
   "metadata": {},
   "outputs": [],
   "source": [
    "m = MarkovACTR(setup=False)\n",
    "m.setup( model='markov-model1', verbose=False)\n",
    "m.run_experiment(100)"
   ]
  },
  {
   "cell_type": "code",
   "execution_count": 3,
   "id": "b29b910f-7f62-4119-800d-9c92fb177527",
   "metadata": {},
   "outputs": [],
   "source": [
    "df = m.calculate_stay_probability()"
   ]
  },
  {
   "cell_type": "code",
   "execution_count": 4,
   "id": "11b7c66d-2d3c-4be5-b57c-616895823994",
   "metadata": {},
   "outputs": [
    {
     "data": {
      "text/html": [
       "<div>\n",
       "<style scoped>\n",
       "    .dataframe tbody tr th:only-of-type {\n",
       "        vertical-align: middle;\n",
       "    }\n",
       "\n",
       "    .dataframe tbody tr th {\n",
       "        vertical-align: top;\n",
       "    }\n",
       "\n",
       "    .dataframe thead th {\n",
       "        text-align: right;\n",
       "    }\n",
       "</style>\n",
       "<table border=\"1\" class=\"dataframe\">\n",
       "  <thead>\n",
       "    <tr style=\"text-align: right;\">\n",
       "      <th></th>\n",
       "      <th>received_reward</th>\n",
       "      <th>reward_frequency</th>\n",
       "      <th>state_frequency</th>\n",
       "      <th>state1_stay</th>\n",
       "    </tr>\n",
       "  </thead>\n",
       "  <tbody>\n",
       "    <tr>\n",
       "      <th>0</th>\n",
       "      <td>0</td>\n",
       "      <td>common</td>\n",
       "      <td>common</td>\n",
       "      <td>0.400000</td>\n",
       "    </tr>\n",
       "    <tr>\n",
       "      <th>1</th>\n",
       "      <td>0</td>\n",
       "      <td>common</td>\n",
       "      <td>rare</td>\n",
       "      <td>0.696970</td>\n",
       "    </tr>\n",
       "    <tr>\n",
       "      <th>2</th>\n",
       "      <td>0</td>\n",
       "      <td>rare</td>\n",
       "      <td>common</td>\n",
       "      <td>0.727273</td>\n",
       "    </tr>\n",
       "    <tr>\n",
       "      <th>3</th>\n",
       "      <td>0</td>\n",
       "      <td>rare</td>\n",
       "      <td>rare</td>\n",
       "      <td>1.000000</td>\n",
       "    </tr>\n",
       "    <tr>\n",
       "      <th>4</th>\n",
       "      <td>2</td>\n",
       "      <td>common</td>\n",
       "      <td>common</td>\n",
       "      <td>0.891892</td>\n",
       "    </tr>\n",
       "    <tr>\n",
       "      <th>5</th>\n",
       "      <td>2</td>\n",
       "      <td>common</td>\n",
       "      <td>rare</td>\n",
       "      <td>1.000000</td>\n",
       "    </tr>\n",
       "  </tbody>\n",
       "</table>\n",
       "</div>"
      ],
      "text/plain": [
       "   received_reward reward_frequency state_frequency  state1_stay\n",
       "0                0           common          common     0.400000\n",
       "1                0           common            rare     0.696970\n",
       "2                0             rare          common     0.727273\n",
       "3                0             rare            rare     1.000000\n",
       "4                2           common          common     0.891892\n",
       "5                2           common            rare     1.000000"
      ]
     },
     "execution_count": 4,
     "metadata": {},
     "output_type": "execute_result"
    }
   ],
   "source": [
    "df_state1stay = df.groupby(['received_reward', 'reward_frequency', 'state_frequency']).agg({'state1_stay': lambda x: x.mean(skipna=True)}).reset_index()\n",
    "df_state1stay"
   ]
  },
  {
   "cell_type": "code",
   "execution_count": 5,
   "id": "1794d858-9ccf-4eed-ada3-3db036dc5ce1",
   "metadata": {},
   "outputs": [
    {
     "name": "stdout",
     "output_type": "stream",
     "text": [
      "gained rewards: 80\n"
     ]
    }
   ],
   "source": [
    "print(\"gained rewards: %d\" % (df['received_reward'].sum()))"
   ]
  },
  {
   "cell_type": "code",
   "execution_count": 6,
   "id": "9afb8a91-2d6d-4628-8e12-c6fc2f25594e",
   "metadata": {},
   "outputs": [
    {
     "data": {
      "image/png": "[encoded data removed]",
      "text/plain": [
       "<Figure size 432x288 with 1 Axes>"
      ]
     },
     "metadata": {
      "needs_background": "light"
     },
     "output_type": "display_data"
    }
   ],
   "source": [
    "ax = sns.barplot(data=df_state1stay, x='received_reward', y='state1_stay',\n",
    "                 order = sorted(df['received_reward'].unique(), reverse=True), \n",
    "                 hue='state_frequency')\n",
    "ax.set(ylim=(0, 1))\n",
    "for container in ax.containers:\n",
    "    ax.bar_label(container, fmt='%.2f', label_type='center', color='white')\n",
    "plt.title('model-free')\n",
    "plt.show()"
   ]
  },
  {
   "cell_type": "code",
   "execution_count": 7,
   "id": "ea01a7fa-b378-41fe-a544-4f971b57327c",
   "metadata": {},
   "outputs": [
    {
     "data": {
      "text/html": [
       "<div>\n",
       "<style scoped>\n",
       "    .dataframe tbody tr th:only-of-type {\n",
       "        vertical-align: middle;\n",
       "    }\n",
       "\n",
       "    .dataframe tbody tr th {\n",
       "        vertical-align: top;\n",
       "    }\n",
       "\n",
       "    .dataframe thead th {\n",
       "        text-align: right;\n",
       "    }\n",
       "</style>\n",
       "<table border=\"1\" class=\"dataframe\">\n",
       "  <thead>\n",
       "    <tr style=\"text-align: right;\">\n",
       "      <th></th>\n",
       "      <th>state1_selected_stimulus</th>\n",
       "      <th>state1_frequency</th>\n",
       "      <th>state2_selected_stimulus_type</th>\n",
       "      <th>state2_frequency1</th>\n",
       "      <th>state2_frequency2</th>\n",
       "    </tr>\n",
       "  </thead>\n",
       "  <tbody>\n",
       "    <tr>\n",
       "      <th>0</th>\n",
       "      <td>A2</td>\n",
       "      <td>0.73</td>\n",
       "      <td>NaN</td>\n",
       "      <td>NaN</td>\n",
       "      <td>NaN</td>\n",
       "    </tr>\n",
       "    <tr>\n",
       "      <th>1</th>\n",
       "      <td>A1</td>\n",
       "      <td>0.27</td>\n",
       "      <td>B</td>\n",
       "      <td>0.59</td>\n",
       "      <td>NaN</td>\n",
       "    </tr>\n",
       "    <tr>\n",
       "      <th>2</th>\n",
       "      <td>A1</td>\n",
       "      <td>0.27</td>\n",
       "      <td>C</td>\n",
       "      <td>0.41</td>\n",
       "      <td>NaN</td>\n",
       "    </tr>\n",
       "    <tr>\n",
       "      <th>3</th>\n",
       "      <td>A2</td>\n",
       "      <td>NaN</td>\n",
       "      <td>C</td>\n",
       "      <td>NaN</td>\n",
       "      <td>0.66</td>\n",
       "    </tr>\n",
       "    <tr>\n",
       "      <th>4</th>\n",
       "      <td>A2</td>\n",
       "      <td>NaN</td>\n",
       "      <td>B</td>\n",
       "      <td>NaN</td>\n",
       "      <td>0.34</td>\n",
       "    </tr>\n",
       "  </tbody>\n",
       "</table>\n",
       "</div>"
      ],
      "text/plain": [
       "  state1_selected_stimulus  state1_frequency state2_selected_stimulus_type  \\\n",
       "0                       A2              0.73                           NaN   \n",
       "1                       A1              0.27                             B   \n",
       "2                       A1              0.27                             C   \n",
       "3                       A2               NaN                             C   \n",
       "4                       A2               NaN                             B   \n",
       "\n",
       "   state2_frequency1  state2_frequency2  \n",
       "0                NaN                NaN  \n",
       "1               0.59                NaN  \n",
       "2               0.41                NaN  \n",
       "3                NaN               0.66  \n",
       "4                NaN               0.34  "
      ]
     },
     "execution_count": 7,
     "metadata": {},
     "output_type": "execute_result"
    }
   ],
   "source": [
    "m.calculate_real_frequency().round(2)"
   ]
  },
  {
   "cell_type": "markdown",
   "id": "5c0121a3-1acc-465a-af55-7cbf714e5486",
   "metadata": {},
   "source": [
    "## ACT-R TRACE"
   ]
  },
  {
   "cell_type": "code",
   "execution_count": 29,
   "id": "a35d2dea-54f7-4e03-857a-714f1cbfc070",
   "metadata": {},
   "outputs": [
    {
     "name": "stdout",
     "output_type": "stream",
     "text": [
      "######### SETUP MODEL markov-model2 #########\n",
      " \t>> TASK PARAMETERS: {'MARKOV_PROBABILITY': 0.7, 'REWARD_PROBABILITY': 0.7} <<\n",
      " \t>> ACT-R PARAMETERS: None <<\n",
      "\n"
     ]
    }
   ],
   "source": [
    "m = MarkovACTR(setup=False)\n",
    "m.setup(model='markov-model2', verbose=True, reload=True)"
   ]
  },
  {
   "cell_type": "code",
   "execution_count": 30,
   "id": "2b670003-e497-4ab7-95ff-01e8a9f7bf36",
   "metadata": {},
   "outputs": [
    {
     "name": "stdout",
     "output_type": "stream",
     "text": [
      "<[MARKOV_STATE] \t[k, 1.21]'A2' \t[k, 1.01]'C2' \tR:[2] \t[C][C]\n",
      "<[MARKOV_STATE] \t[f, 1.08]'A1' \t[k, 0.96]'B2' \tR:[0] \t[C][C]\n"
     ]
    }
   ],
   "source": [
    "m.run_experiment(2)"
   ]
  },
  {
   "cell_type": "code",
   "execution_count": 31,
   "id": "93144667-93ec-492d-b6b1-6c51b2e662ce",
   "metadata": {},
   "outputs": [
    {
     "data": {
      "text/plain": [
       "[<[MARKOV_STATE] \t[k, 1.21]'A2' \t[k, 1.01]'C2' \tR:[2] \t[C][C],\n",
       " <[MARKOV_STATE] \t[f, 1.08]'A1' \t[k, 0.96]'B2' \tR:[0] \t[C][C]]"
      ]
     },
     "execution_count": 31,
     "metadata": {},
     "output_type": "execute_result"
    }
   ],
   "source": [
    "m.log"
   ]
  },
  {
   "cell_type": "code",
   "execution_count": null,
   "id": "79cd68df-deb4-49ea-8657-1f2e3b59aab5",
   "metadata": {},
   "outputs": [],
   "source": []
  },
  {
   "cell_type": "code",
   "execution_count": null,
   "id": "2a8396e9-115c-4da6-a273-14cbe4844de2",
   "metadata": {},
   "outputs": [],
   "source": []
  },
  {
   "cell_type": "code",
   "execution_count": null,
   "id": "b7f9c8da-079b-42ac-b4c2-c4929b1c390e",
   "metadata": {},
   "outputs": [],
   "source": []
  }
 ],
 "metadata": {
  "kernelspec": {
   "display_name": "Python 3",
   "language": "python",
   "name": "python3"
  },
  "language_info": {
   "codemirror_mode": {
    "name": "ipython",
    "version": 3
   },
   "file_extension": ".py",
   "mimetype": "text/x-python",
   "name": "python",
   "nbconvert_exporter": "python",
   "pygments_lexer": "ipython3",
   "version": "3.8.8"
  }
 },
 "nbformat": 4,
 "nbformat_minor": 5
}
