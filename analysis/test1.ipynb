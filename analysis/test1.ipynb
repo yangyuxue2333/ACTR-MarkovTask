{
 "cells": [
  {
   "cell_type": "code",
   "execution_count": 1,
   "id": "dd9213e5",
   "metadata": {},
   "outputs": [
    {
     "name": "stdout",
     "output_type": "stream",
     "text": [
      "ACT-R connection has been started.\n"
     ]
    }
   ],
   "source": [
    "from markov_device import *\n",
    "import matplotlib.pyplot as plt\n",
    "import seaborn as sns"
   ]
  },
  {
   "cell_type": "code",
   "execution_count": 2,
   "id": "69191f0e",
   "metadata": {},
   "outputs": [],
   "source": [
    "m = MarkovACTR(setup=False)\n",
    "m.setup( model='markov-model1', verbose=False)\n",
    "m.run_experiment(100)"
   ]
  },
  {
   "cell_type": "code",
   "execution_count": 3,
   "id": "e2a4b9a4",
   "metadata": {},
   "outputs": [],
   "source": [
    "df = m.calculate_stay_probability()"
   ]
  },
  {
   "cell_type": "code",
   "execution_count": 4,
   "id": "4d10b43c",
   "metadata": {},
   "outputs": [
    {
     "data": {
      "text/html": [
       "<div>\n",
       "<style scoped>\n",
       "    .dataframe tbody tr th:only-of-type {\n",
       "        vertical-align: middle;\n",
       "    }\n",
       "\n",
       "    .dataframe tbody tr th {\n",
       "        vertical-align: top;\n",
       "    }\n",
       "\n",
       "    .dataframe thead th {\n",
       "        text-align: right;\n",
       "    }\n",
       "</style>\n",
       "<table border=\"1\" class=\"dataframe\">\n",
       "  <thead>\n",
       "    <tr style=\"text-align: right;\">\n",
       "      <th></th>\n",
       "      <th>received_reward</th>\n",
       "      <th>reward_frequency</th>\n",
       "      <th>state_frequency</th>\n",
       "      <th>state1_stay</th>\n",
       "    </tr>\n",
       "  </thead>\n",
       "  <tbody>\n",
       "    <tr>\n",
       "      <th>0</th>\n",
       "      <td>0</td>\n",
       "      <td>common</td>\n",
       "      <td>common</td>\n",
       "      <td>0.375000</td>\n",
       "    </tr>\n",
       "    <tr>\n",
       "      <th>1</th>\n",
       "      <td>0</td>\n",
       "      <td>common</td>\n",
       "      <td>rare</td>\n",
       "      <td>0.848485</td>\n",
       "    </tr>\n",
       "    <tr>\n",
       "      <th>2</th>\n",
       "      <td>0</td>\n",
       "      <td>rare</td>\n",
       "      <td>common</td>\n",
       "      <td>0.636364</td>\n",
       "    </tr>\n",
       "    <tr>\n",
       "      <th>3</th>\n",
       "      <td>0</td>\n",
       "      <td>rare</td>\n",
       "      <td>rare</td>\n",
       "      <td>1.000000</td>\n",
       "    </tr>\n",
       "    <tr>\n",
       "      <th>4</th>\n",
       "      <td>2</td>\n",
       "      <td>common</td>\n",
       "      <td>common</td>\n",
       "      <td>1.000000</td>\n",
       "    </tr>\n",
       "    <tr>\n",
       "      <th>5</th>\n",
       "      <td>2</td>\n",
       "      <td>common</td>\n",
       "      <td>rare</td>\n",
       "      <td>1.000000</td>\n",
       "    </tr>\n",
       "  </tbody>\n",
       "</table>\n",
       "</div>"
      ],
      "text/plain": [
       "   received_reward reward_frequency state_frequency  state1_stay\n",
       "0                0           common          common     0.375000\n",
       "1                0           common            rare     0.848485\n",
       "2                0             rare          common     0.636364\n",
       "3                0             rare            rare     1.000000\n",
       "4                2           common          common     1.000000\n",
       "5                2           common            rare     1.000000"
      ]
     },
     "execution_count": 4,
     "metadata": {},
     "output_type": "execute_result"
    }
   ],
   "source": [
    "df_state1stay = df.groupby(['received_reward', 'reward_frequency', 'state_frequency']).agg({'state1_stay': lambda x: x.mean(skipna=True)}).reset_index()\n",
    "df_state1stay"
   ]
  },
  {
   "cell_type": "code",
   "execution_count": 5,
   "id": "03a58cc5",
   "metadata": {},
   "outputs": [
    {
     "name": "stdout",
     "output_type": "stream",
     "text": [
      "gained rewards: 94\n"
     ]
    }
   ],
   "source": [
    "print(\"gained rewards: %d\" % (df['received_reward'].sum()))"
   ]
  },
  {
   "cell_type": "code",
   "execution_count": 6,
   "id": "9ced9f6a",
   "metadata": {},
   "outputs": [
    {
     "data": {
      "image/png": "[encoded data removed]",
      "text/plain": [
       "<Figure size 432x288 with 1 Axes>"
      ]
     },
     "metadata": {
      "needs_background": "light"
     },
     "output_type": "display_data"
    }
   ],
   "source": [
    "ax = sns.barplot(data=df_state1stay, x='received_reward', y='state1_stay',\n",
    "                 order = sorted(df['received_reward'].unique(), reverse=True), \n",
    "                 hue='state_frequency')\n",
    "ax.set(ylim=(0, 1))\n",
    "for container in ax.containers:\n",
    "    ax.bar_label(container, fmt='%.2f', label_type='center', color='white')\n",
    "plt.title('model-free')\n",
    "plt.show()"
   ]
  },
  {
   "cell_type": "code",
   "execution_count": 7,
   "id": "40aa6a64",
   "metadata": {},
   "outputs": [
    {
     "data": {
      "text/html": [
       "<div>\n",
       "<style scoped>\n",
       "    .dataframe tbody tr th:only-of-type {\n",
       "        vertical-align: middle;\n",
       "    }\n",
       "\n",
       "    .dataframe tbody tr th {\n",
       "        vertical-align: top;\n",
       "    }\n",
       "\n",
       "    .dataframe thead th {\n",
       "        text-align: right;\n",
       "    }\n",
       "</style>\n",
       "<table border=\"1\" class=\"dataframe\">\n",
       "  <thead>\n",
       "    <tr style=\"text-align: right;\">\n",
       "      <th></th>\n",
       "      <th>state1_selected_stimulus</th>\n",
       "      <th>state1_frequency</th>\n",
       "      <th>state2_selected_stimulus_type</th>\n",
       "      <th>state2_frequency1</th>\n",
       "      <th>state2_frequency2</th>\n",
       "    </tr>\n",
       "  </thead>\n",
       "  <tbody>\n",
       "    <tr>\n",
       "      <th>0</th>\n",
       "      <td>A2</td>\n",
       "      <td>0.84</td>\n",
       "      <td>NaN</td>\n",
       "      <td>NaN</td>\n",
       "      <td>NaN</td>\n",
       "    </tr>\n",
       "    <tr>\n",
       "      <th>1</th>\n",
       "      <td>A1</td>\n",
       "      <td>0.16</td>\n",
       "      <td>B</td>\n",
       "      <td>0.56</td>\n",
       "      <td>NaN</td>\n",
       "    </tr>\n",
       "    <tr>\n",
       "      <th>2</th>\n",
       "      <td>A1</td>\n",
       "      <td>0.16</td>\n",
       "      <td>C</td>\n",
       "      <td>0.44</td>\n",
       "      <td>NaN</td>\n",
       "    </tr>\n",
       "    <tr>\n",
       "      <th>3</th>\n",
       "      <td>A2</td>\n",
       "      <td>NaN</td>\n",
       "      <td>C</td>\n",
       "      <td>NaN</td>\n",
       "      <td>0.65</td>\n",
       "    </tr>\n",
       "    <tr>\n",
       "      <th>4</th>\n",
       "      <td>A2</td>\n",
       "      <td>NaN</td>\n",
       "      <td>B</td>\n",
       "      <td>NaN</td>\n",
       "      <td>0.35</td>\n",
       "    </tr>\n",
       "  </tbody>\n",
       "</table>\n",
       "</div>"
      ],
      "text/plain": [
       "  state1_selected_stimulus  state1_frequency state2_selected_stimulus_type  \\\n",
       "0                       A2              0.84                           NaN   \n",
       "1                       A1              0.16                             B   \n",
       "2                       A1              0.16                             C   \n",
       "3                       A2               NaN                             C   \n",
       "4                       A2               NaN                             B   \n",
       "\n",
       "   state2_frequency1  state2_frequency2  \n",
       "0                NaN                NaN  \n",
       "1               0.56                NaN  \n",
       "2               0.44                NaN  \n",
       "3                NaN               0.65  \n",
       "4                NaN               0.35  "
      ]
     },
     "execution_count": 7,
     "metadata": {},
     "output_type": "execute_result"
    }
   ],
   "source": [
    "m.calculate_real_frequency().round(2)"
   ]
  },
  {
   "cell_type": "markdown",
   "id": "6082d4a8",
   "metadata": {},
   "source": [
    "## ACT-R TRACE"
   ]
  },
  {
   "cell_type": "code",
   "execution_count": 8,
   "id": "46311252",
   "metadata": {},
   "outputs": [],
   "source": [
    "def test1(m):\n",
    "    m.run_experiment(200)\n",
    "    df = m.calculate_stay_probability()\n",
    "    df_state1stay = df.groupby(['received_reward', 'reward_frequency', 'state_frequency']).agg({'state1_stay': lambda x: x.mean(skipna=True)}).reset_index()\n",
    "    \n",
    "    print(\"gained rewards: %.2f\" % (df['received_reward'].sum()/len(df)))\n",
    "    ax = sns.barplot(data=df_state1stay, x='received_reward', y='state1_stay',\n",
    "                 order = sorted(df['received_reward'].unique(), reverse=True), \n",
    "                 hue='state_frequency')\n",
    "    ax.set(ylim=(0, 1))\n",
    "    for container in ax.containers:\n",
    "        ax.bar_label(container, fmt='%.2f', label_type='center', color='white')\n",
    "    plt.title('model-free')\n",
    "    plt.show()"
   ]
  },
  {
   "cell_type": "code",
   "execution_count": 13,
   "id": "574dd41a",
   "metadata": {},
   "outputs": [],
   "source": [
    "m = MarkovACTR(setup=False)\n",
    "m.setup(model='markov-model1', verbose=False, reload=True)"
   ]
  },
  {
   "cell_type": "code",
   "execution_count": 14,
   "id": "d4410177",
   "metadata": {},
   "outputs": [
    {
     "name": "stdout",
     "output_type": "stream",
     "text": [
      "gained rewards: 0.95\n"
     ]
    },
    {
     "data": {
      "image/png": "[encoded data removed]",
      "text/plain": [
       "<Figure size 432x288 with 1 Axes>"
      ]
     },
     "metadata": {
      "needs_background": "light"
     },
     "output_type": "display_data"
    }
   ],
   "source": [
    "test1(m)"
   ]
  },
  {
   "cell_type": "code",
   "execution_count": 15,
   "id": "f0c01c87",
   "metadata": {},
   "outputs": [
    {
     "name": "stdout",
     "output_type": "stream",
     "text": [
      "gained rewards: 0.92\n"
     ]
    },
    {
     "data": {
      "image/png": "[encoded data removed]",
      "text/plain": [
       "<Figure size 432x288 with 1 Axes>"
      ]
     },
     "metadata": {
      "needs_background": "light"
     },
     "output_type": "display_data"
    }
   ],
   "source": [
    "m.setup(reload=False)\n",
    "test1(m)"
   ]
  },
  {
   "cell_type": "code",
   "execution_count": 16,
   "id": "a47c5656",
   "metadata": {},
   "outputs": [
    {
     "name": "stdout",
     "output_type": "stream",
     "text": [
      "gained rewards: 0.95\n"
     ]
    },
    {
     "data": {
      "image/png": "[encoded data removed]",
      "text/plain": [
       "<Figure size 432x288 with 1 Axes>"
      ]
     },
     "metadata": {
      "needs_background": "light"
     },
     "output_type": "display_data"
    }
   ],
   "source": [
    "m.setup(reload=False)\n",
    "test1(m)"
   ]
  },
  {
   "cell_type": "code",
   "execution_count": null,
   "id": "bda6021e",
   "metadata": {},
   "outputs": [],
   "source": []
  },
  {
   "cell_type": "code",
   "execution_count": null,
   "id": "d32a0b29-3556-494f-95fc-dd98ce3bd0d4",
   "metadata": {},
   "outputs": [],
   "source": []
  }
 ],
 "metadata": {
  "kernelspec": {
   "display_name": "Python 3",
   "language": "python",
   "name": "python3"
  },
  "language_info": {
   "codemirror_mode": {
    "name": "ipython",
    "version": 3
   },
   "file_extension": ".py",
   "mimetype": "text/x-python",
   "name": "python",
   "nbconvert_exporter": "python",
   "pygments_lexer": "ipython3",
   "version": "3.8.8"
  }
 },
 "nbformat": 4,
 "nbformat_minor": 5
}
