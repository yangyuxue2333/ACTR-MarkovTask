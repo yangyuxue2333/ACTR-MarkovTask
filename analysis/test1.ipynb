{
 "cells": [
  {
   "cell_type": "markdown",
   "id": "63f412a0-4370-4f55-83a6-a3e43cfdb608",
   "metadata": {
    "tags": []
   },
   "source": [
    "# ACT-R Model of Markov Task \n",
    "\n",
    "\n",
    "This notebook tests whether MB and MF run properly in ACT-R"
   ]
  },
  {
   "cell_type": "code",
   "execution_count": 1,
   "id": "dd9213e5",
   "metadata": {},
   "outputs": [
    {
     "name": "stdout",
     "output_type": "stream",
     "text": [
      "ACT-R connection has been started.\n"
     ]
    }
   ],
   "source": [
    "from markov_device import *\n",
    "import matplotlib.pyplot as plt\n",
    "import seaborn as sns"
   ]
  },
  {
   "cell_type": "markdown",
   "id": "6ed0b52a-1ed7-421e-bf9f-f01dab8abdf0",
   "metadata": {
    "jp-MarkdownHeadingCollapsed": true,
    "tags": []
   },
   "source": [
    "## ACT-R Trace\n",
    "\n",
    "Check whether MODEL-BASE, MODEL-FREE show correct ACT-R Trace"
   ]
  },
  {
   "cell_type": "code",
   "execution_count": 2,
   "id": "af54a49a-8d98-46f7-994b-bf16f804db6f",
   "metadata": {},
   "outputs": [
    {
     "name": "stdout",
     "output_type": "stream",
     "text": [
      "######### SETUP MODEL markov-model1 #########\n",
      " \t>> TASK PARAMETERS: {'MARKOV_PROBABILITY': 0.7, 'REWARD_PROBABILITY': 0.7, 'REWARD': {'B1': 2, 'B2': 0, 'C1': 0, 'C2': 0}} <<\n",
      " \t>> ACT-R PARAMETERS: {'v': 't', 'seed': [100, 0], 'ans': 0.1, 'le': 1.0, 'mas': None, 'egs': 0.1, 'alpha': 0.2, 'imaginal-activation': 1.0} <<\n",
      "\n",
      "     0.050   PROCEDURAL             PRODUCTION-FIRED PREPARE-WM\n",
      "     0.100   PROCEDURAL             PRODUCTION-FIRED FIND-SCREEN\n",
      "     0.300   PROCEDURAL             PRODUCTION-FIRED PROCESS-FIXATION\n",
      "     1.135   PROCEDURAL             PRODUCTION-FIRED FIND-SCREEN\n",
      "     1.270   PROCEDURAL             PRODUCTION-FIRED ENCODE-STATE1\n",
      "IN ENCODE-STATE2 A1 A2\n",
      "     1.320   PROCEDURAL             PRODUCTION-FIRED CHOOSE-STATE1-RIGHT\n",
      "IN STATE1-RIGHT NIL\n",
      "     1.590   PROCEDURAL             PRODUCTION-FIRED FIND-SCREEN\n",
      "     1.725   PROCEDURAL             PRODUCTION-FIRED ENCODE-STATE2\n",
      "IN ENCODE-STATE2 B1 B2\n",
      "     1.775   PROCEDURAL             PRODUCTION-FIRED CHOOSE-STATE2-RIGHT\n",
      "IN STATE2-LEFT NIL\n",
      "<[MARKOV_STATE] \t[k, 0.53]'A2' \t[k, 0.29]'B2' \tR:[0] \t[R][C]\n",
      "     1.895   PROCEDURAL             PRODUCTION-FIRED FIND-SCREEN\n",
      "     2.030   PROCEDURAL             PRODUCTION-FIRED ENCODE-STATE3\n",
      "DELIVER REWARD 0\n",
      "     2.080   PROCEDURAL             PRODUCTION-FIRED PREPARE-WM\n",
      "   100.060   PROCEDURAL             PRODUCTION-FIRED FIND-SCREEN\n",
      "   100.195   PROCEDURAL             PRODUCTION-FIRED PROCESS-FIXATION\n",
      "   101.135   PROCEDURAL             PRODUCTION-FIRED FIND-SCREEN\n",
      "   101.270   PROCEDURAL             PRODUCTION-FIRED ENCODE-STATE1\n",
      "IN ENCODE-STATE2 A1 A2\n",
      "   101.320   PROCEDURAL             PRODUCTION-FIRED CHOOSE-STATE1-LEFT\n",
      "IN STATE1-LEFT NIL\n",
      "   101.540   PROCEDURAL             PRODUCTION-FIRED FIND-SCREEN\n",
      "   101.675   PROCEDURAL             PRODUCTION-FIRED ENCODE-STATE2\n",
      "IN ENCODE-STATE2 B1 B2\n",
      "   101.725   PROCEDURAL             PRODUCTION-FIRED CHOOSE-STATE2-LEFT\n",
      "IN STATE2-LEFT NIL\n",
      "<[MARKOV_STATE] \t[f, 0.48]'A1' \t[f, 0.30]'B1' \tR:[2] \t[C][C]\n",
      "   101.845   PROCEDURAL             PRODUCTION-FIRED FIND-SCREEN\n",
      "   101.980   PROCEDURAL             PRODUCTION-FIRED ENCODE-STATE3\n",
      "DELIVER REWARD 2\n",
      "   102.030   PROCEDURAL             PRODUCTION-FIRED PREPARE-WM\n",
      "   180.050   PROCEDURAL             PRODUCTION-FIRED FIND-SCREEN\n",
      "   180.185   PROCEDURAL             PRODUCTION-FIRED DONE\n"
     ]
    }
   ],
   "source": [
    "m = MarkovACTR(setup=False)\n",
    "m.setup(model='markov-model1', verbose=True, actr_params={'v': 't'})\n",
    "m.run_experiment(2)"
   ]
  },
  {
   "cell_type": "code",
   "execution_count": 3,
   "id": "68827632-60fa-4d6a-8a9d-2f9db6dcf419",
   "metadata": {},
   "outputs": [
    {
     "name": "stdout",
     "output_type": "stream",
     "text": [
      "######### SETUP MODEL markov-model2 #########\n",
      " \t>> TASK PARAMETERS: {'MARKOV_PROBABILITY': 0.7, 'REWARD_PROBABILITY': 0.7, 'REWARD': {'B1': 2, 'B2': 0, 'C1': 0, 'C2': 0}} <<\n",
      " \t>> ACT-R PARAMETERS: {'v': 't', 'seed': [100, 0], 'ans': 0.1, 'le': 1.0, 'mas': None, 'egs': 0.1, 'alpha': 0.2, 'imaginal-activation': 1.0} <<\n",
      "\n",
      "     0.050   PROCEDURAL             PRODUCTION-FIRED PREPARE-WM\n",
      "     0.100   PROCEDURAL             PRODUCTION-FIRED FIND-SCREEN\n",
      "     0.300   PROCEDURAL             PRODUCTION-FIRED PROCESS-FIXATION\n",
      "     1.135   PROCEDURAL             PRODUCTION-FIRED FIND-SCREEN\n",
      "     1.270   PROCEDURAL             PRODUCTION-FIRED ENCODE-STATE1\n",
      "IN ENCODE-STATE2 A1 A2\n",
      "     1.320   PROCEDURAL             PRODUCTION-FIRED PLAN-STATE1-RETRIEVE\n",
      "     2.351   PROCEDURAL             PRODUCTION-FIRED PLAN-STATE1-RETRIEVE-SUCCESS\n",
      "IN PLAN-STATE1-RETRIEVE-SUCCESS NIL S1 LEFT\n",
      "     2.401   PROCEDURAL             PRODUCTION-FIRED CHOOSE-STATE1-LEFT\n",
      "IN STATE1-LEFT NIL\n",
      "     2.671   PROCEDURAL             PRODUCTION-FIRED FIND-SCREEN\n",
      "     2.806   PROCEDURAL             PRODUCTION-FIRED ENCODE-STATE2\n",
      "IN ENCODE-STATE2 B1 B2\n",
      "     2.856   PROCEDURAL             PRODUCTION-FIRED PLAN-STATE2-RETRIEVE\n",
      "IN PLAN-STATE2-RETRIEVE A1 A2 B1 B2 LEFT\n",
      "     3.504   PROCEDURAL             PRODUCTION-FIRED PLAN-STATE2-RETRIEVE-SUCCESS\n",
      "IN PLAN-STATE2-RETRIEVE-SUCCESS NIL S1 LEFT S2 LEFT\n",
      "     3.554   PROCEDURAL             PRODUCTION-FIRED CHOOSE-STATE2-LEFT\n",
      "IN STATE2-LEFT NIL\n",
      "<[MARKOV_STATE] \t[f, 1.61]'A1' \t[f, 0.99]'B1' \tR:[2] \t[C][C]\n",
      "     3.674   PROCEDURAL             PRODUCTION-FIRED FIND-SCREEN\n",
      "     3.809   PROCEDURAL             PRODUCTION-FIRED ENCODE-STATE3\n",
      "DELIVER REWARD 2 WM LEFT LEFT\n",
      "     3.859   PROCEDURAL             PRODUCTION-FIRED REFRESH-MEMORY\n",
      "REFRESH-MEMORY LEFT LEFT 2\n",
      "     5.186   PROCEDURAL             PRODUCTION-FIRED REFRESH-MEMORY-SUCCESS\n",
      "REFRESH-MEMORY-SUCCESS\n",
      "     5.236   PROCEDURAL             PRODUCTION-FIRED PREPARE-WM\n",
      "   100.060   PROCEDURAL             PRODUCTION-FIRED FIND-SCREEN\n",
      "   100.195   PROCEDURAL             PRODUCTION-FIRED PROCESS-FIXATION\n",
      "   101.135   PROCEDURAL             PRODUCTION-FIRED FIND-SCREEN\n",
      "   101.270   PROCEDURAL             PRODUCTION-FIRED ENCODE-STATE1\n",
      "IN ENCODE-STATE2 A1 A2\n",
      "   101.320   PROCEDURAL             PRODUCTION-FIRED PLAN-STATE1-RETRIEVE\n",
      "   102.325   PROCEDURAL             PRODUCTION-FIRED PLAN-STATE1-RETRIEVE-SUCCESS\n",
      "IN PLAN-STATE1-RETRIEVE-SUCCESS NIL S1 LEFT\n",
      "   102.375   PROCEDURAL             PRODUCTION-FIRED CHOOSE-STATE1-LEFT\n",
      "IN STATE1-LEFT NIL\n",
      "   102.495   PROCEDURAL             PRODUCTION-FIRED FIND-SCREEN\n",
      "   102.630   PROCEDURAL             PRODUCTION-FIRED ENCODE-STATE2\n",
      "IN ENCODE-STATE2 C1 C2\n",
      "   102.680   PROCEDURAL             PRODUCTION-FIRED PLAN-STATE2-RETRIEVE\n",
      "IN PLAN-STATE2-RETRIEVE A1 A2 C1 C2 LEFT\n",
      "   110.119   PROCEDURAL             PRODUCTION-FIRED PLAN-STATE2-RETRIEVE-FAILURE-LEFT\n",
      "IN PLAN-STATE2-RANDOM-LEFT NIL\n",
      "   110.169   PROCEDURAL             PRODUCTION-FIRED CHOOSE-STATE2-LEFT\n",
      "IN STATE2-LEFT NIL\n",
      "<[MARKOV_STATE] \t[f, 1.44]'A1' \t[f, 7.78]'C1' \tR:[0] \t[R][C]\n",
      "   110.289   PROCEDURAL             PRODUCTION-FIRED FIND-SCREEN\n",
      "   110.424   PROCEDURAL             PRODUCTION-FIRED ENCODE-STATE3\n",
      "DELIVER REWARD 0 WM LEFT LEFT\n",
      "   110.474   PROCEDURAL             PRODUCTION-FIRED REFRESH-MEMORY\n",
      "REFRESH-MEMORY LEFT LEFT 0\n",
      "   111.701   PROCEDURAL             PRODUCTION-FIRED REFRESH-MEMORY-SUCCESS\n",
      "REFRESH-MEMORY-SUCCESS\n",
      "   111.751   PROCEDURAL             PRODUCTION-FIRED PREPARE-WM\n",
      "   180.050   PROCEDURAL             PRODUCTION-FIRED FIND-SCREEN\n",
      "   180.185   PROCEDURAL             PRODUCTION-FIRED DONE\n"
     ]
    }
   ],
   "source": [
    "m = MarkovACTR(setup=False)\n",
    "m.setup(model='markov-model2', verbose=True, actr_params={'v': 't'})\n",
    "m.run_experiment(2)"
   ]
  },
  {
   "cell_type": "markdown",
   "id": "25012667-982d-4c1f-9c32-352d9836e82a",
   "metadata": {
    "jp-MarkdownHeadingCollapsed": true,
    "tags": []
   },
   "source": [
    "## ACT-R Parameter Setup\n",
    "\n",
    "Check whether MODEL-BASE, MODEL-FREE show correct ACT-R parameter updates"
   ]
  },
  {
   "cell_type": "code",
   "execution_count": 16,
   "id": "d57c33de-c75e-4e7d-9997-79f11bb9535f",
   "metadata": {},
   "outputs": [
    {
     "name": "stdout",
     "output_type": "stream",
     "text": [
      "######### SETUP MODEL markov-model1 #########\n",
      " \t>> TASK PARAMETERS: {'MARKOV_PROBABILITY': 0.7, 'REWARD_PROBABILITY': 0.7, 'REWARD': {'B1': 2, 'B2': 0, 'C1': 0, 'C2': 0}} <<\n",
      " \t>> ACT-R PARAMETERS: {'v': 'nil', 'seed': [100, 0], 'ans': 0.5, 'le': 1.0, 'mas': None, 'egs': 0.1, 'alpha': 0.2, 'imaginal-activation': 1.0} <<\n",
      "\n",
      "<[MARKOV_STATE] \t[k, 0.53]'A2' \t[k, 0.29]'C2' \tR:[0] \t[C][C]\n",
      "<[MARKOV_STATE] \t[f, 0.48]'A1' \t[f, 0.30]'C1' \tR:[0] \t[R][C]\n",
      "<[MARKOV_STATE] \t[f, 0.38]'A1' \t[k, 0.40]'B2' \tR:[0] \t[C][C]\n",
      "<[MARKOV_STATE] \t[f, 0.48]'A1' \t[k, 0.39]'B2' \tR:[0] \t[C][C]\n",
      "<[MARKOV_STATE] \t[k, 0.38]'A2' \t[f, 0.40]'C1' \tR:[0] \t[C][C]\n"
     ]
    }
   ],
   "source": [
    "m = MarkovACTR(setup=False)\n",
    "m.setup(model='markov-model1', verbose=True, actr_params={'v': 'nil', 'ans': .5})\n",
    "m.run_experiment(5)"
   ]
  },
  {
   "cell_type": "code",
   "execution_count": 17,
   "id": "c32d8dd5-7e29-469d-b12c-8a590928307e",
   "metadata": {},
   "outputs": [
    {
     "data": {
      "text/plain": [
       "0.5"
      ]
     },
     "execution_count": 17,
     "metadata": {},
     "output_type": "execute_result"
    }
   ],
   "source": [
    "m.get_actr_parameter('ans')"
   ]
  },
  {
   "cell_type": "code",
   "execution_count": 18,
   "id": "26e399e7-a1b2-45b5-8bc1-8dcfb171a226",
   "metadata": {},
   "outputs": [
    {
     "name": "stdout",
     "output_type": "stream",
     "text": [
      "######### SETUP MODEL markov-model2 #########\n",
      " \t>> TASK PARAMETERS: {'MARKOV_PROBABILITY': 0.7, 'REWARD_PROBABILITY': 0.7, 'REWARD': {'B1': 2, 'B2': 0, 'C1': 0, 'C2': 0}} <<\n",
      " \t>> ACT-R PARAMETERS: {'v': 'nil', 'seed': [100, 0], 'ans': 0.7, 'le': 1.0, 'mas': None, 'egs': 0.1, 'alpha': 0.2, 'imaginal-activation': 1.0} <<\n",
      "\n",
      "<[MARKOV_STATE] \t[f, 1.51]'A1' \t[f, 7.78]'C1' \tR:[0] \t[R][C]\n",
      "<[MARKOV_STATE] \t[f, 1.20]'A1' \t[f, 7.78]'C1' \tR:[0] \t[R][C]\n",
      "<[MARKOV_STATE] \t[k, 1.21]'A2' \t[f, 0.65]'B1' \tR:[2] \t[R][C]\n",
      "<[MARKOV_STATE] \t[f, 0.58]'A1' \t[f, 6.67]'B1' \tR:[2] \t[C][C]\n",
      "<[MARKOV_STATE] \t[k, 1.15]'A2' \t[k, 7.78]'C2' \tR:[0] \t[C][C]\n"
     ]
    }
   ],
   "source": [
    "m = MarkovACTR(setup=False)\n",
    "m.setup(model='markov-model2', verbose=True, actr_params={'v': 'nil', 'ans': .7})\n",
    "m.run_experiment(5)"
   ]
  },
  {
   "cell_type": "code",
   "execution_count": 19,
   "id": "69191f0e",
   "metadata": {},
   "outputs": [
    {
     "data": {
      "text/plain": [
       "0.7"
      ]
     },
     "execution_count": 19,
     "metadata": {},
     "output_type": "execute_result"
    }
   ],
   "source": [
    "m.get_actr_parameter('ans')"
   ]
  },
  {
   "cell_type": "markdown",
   "id": "e59a73ba-bcca-405e-bb18-4a37dc2cd664",
   "metadata": {},
   "source": [
    "## Markov Task Parameter Setup\n",
    "\n",
    "Check whether MODEL-BASE, MODEL-FREE show correct Markov Task parameter updates"
   ]
  },
  {
   "cell_type": "code",
   "execution_count": 6,
   "id": "ea046998-b518-4baf-8d39-e9f28bf7e272",
   "metadata": {},
   "outputs": [
    {
     "name": "stdout",
     "output_type": "stream",
     "text": [
      "######### SETUP MODEL markov-model1 #########\n",
      " \t>> TASK PARAMETERS: {'MARKOV_PROBABILITY': 0.7, 'REWARD_PROBABILITY': 0.7, 'REWARD': {'B1': 2, 'B2': 0, 'C1': 0, 'C2': 0}} <<\n",
      " \t>> ACT-R PARAMETERS: {'v': 'nil', 'seed': [100, 0], 'ans': 0.5, 'le': 1.0, 'mas': None, 'egs': 0.1, 'alpha': 0.2, 'imaginal-activation': 1.0} <<\n",
      "\n",
      "<[MARKOV_STATE] \t[k, 0.53]'A2' \t[k, 0.29]'C2' \tR:[0] \t[C][C]\n",
      "<[MARKOV_STATE] \t[f, 0.48]'A1' \t[f, 0.30]'C1' \tR:[0] \t[R][C]\n",
      "<[MARKOV_STATE] \t[f, 0.38]'A1' \t[k, 0.40]'B2' \tR:[0] \t[C][C]\n",
      "<[MARKOV_STATE] \t[f, 0.48]'A1' \t[k, 0.39]'B2' \tR:[0] \t[C][C]\n",
      "<[MARKOV_STATE] \t[k, 0.38]'A2' \t[f, 0.40]'B1' \tR:[0] \t[R][R]\n"
     ]
    }
   ],
   "source": [
    "m = MarkovACTR(setup=False)\n",
    "m.setup(model='markov-model1', verbose=True, reload=True, actr_params={'v': 'nil', 'ans': .5})\n",
    "m.run_experiment(5)"
   ]
  },
  {
   "cell_type": "code",
   "execution_count": 7,
   "id": "34038f5a-c66f-4349-9d06-a3dde6f99dc1",
   "metadata": {},
   "outputs": [
    {
     "name": "stdout",
     "output_type": "stream",
     "text": [
      "######### SETUP MODEL markov-model1 #########\n",
      " \t>> TASK PARAMETERS: {'MARKOV_PROBABILITY': 0.7, 'REWARD_PROBABILITY': 1.0, 'REWARD': {'B1': 2, 'B2': 0, 'C1': 0, 'C2': 2}} <<\n",
      " \t>> ACT-R PARAMETERS: {'v': 'nil', 'seed': [100, 0], 'ans': 0.5, 'le': 1.0, 'mas': None, 'egs': 0.1, 'alpha': 0.2, 'imaginal-activation': 1.0} <<\n",
      "\n",
      "<[MARKOV_STATE] \t[k, 0.53]'A2' \t[k, 0.29]'C2' \tR:[2] \t[C][C]\n",
      "<[MARKOV_STATE] \t[f, 0.48]'A1' \t[k, 0.40]'B2' \tR:[0] \t[C][C]\n",
      "<[MARKOV_STATE] \t[f, 0.48]'A1' \t[k, 0.39]'B2' \tR:[0] \t[C][C]\n",
      "<[MARKOV_STATE] \t[f, 0.48]'A1' \t[k, 0.39]'C2' \tR:[2] \t[R][C]\n",
      "<[MARKOV_STATE] \t[k, 0.38]'A2' \t[f, 0.40]'B1' \tR:[2] \t[R][C]\n"
     ]
    }
   ],
   "source": [
    "m.setup(model='markov-model1', verbose=True, \n",
    "        actr_params={'v': 'nil', 'ans': .5}, \n",
    "        task_params={'REWARD_PROBABILITY':1.0, 'REWARD': {'B1': 2, 'B2': 0, 'C1': 0, 'C2': 2}})\n",
    "m.run_experiment(5)"
   ]
  },
  {
   "cell_type": "code",
   "execution_count": 8,
   "id": "39f118f9-13a8-4d6a-b8b4-0e6fe62887b1",
   "metadata": {},
   "outputs": [
    {
     "name": "stdout",
     "output_type": "stream",
     "text": [
      "######### SETUP MODEL markov-model2 #########\n",
      " \t>> TASK PARAMETERS: {'MARKOV_PROBABILITY': 0.7, 'REWARD_PROBABILITY': 0.7, 'REWARD': {'B1': 2, 'B2': 0, 'C1': 0, 'C2': 0}} <<\n",
      " \t>> ACT-R PARAMETERS: {'v': 'nil', 'seed': [100, 0], 'ans': 0.5, 'le': 1.0, 'mas': None, 'egs': 0.1, 'alpha': 0.2, 'imaginal-activation': 1.0} <<\n",
      "\n",
      "<[MARKOV_STATE] \t[f, 1.54]'A1' \t[f, 0.47]'B1' \tR:[2] \t[C][C]\n",
      "<[MARKOV_STATE] \t[f, 1.27]'A1' \t[f, 7.78]'C1' \tR:[0] \t[R][C]\n",
      "<[MARKOV_STATE] \t[k, 1.30]'A2' \t[f, 7.88]'C1' \tR:[0] \t[C][C]\n",
      "<[MARKOV_STATE] \t[f, 0.67]'A1' \t[f, 4.11]'B1' \tR:[2] \t[C][C]\n",
      "<[MARKOV_STATE] \t[k, 1.25]'A2' \t[k, 7.78]'C2' \tR:[0] \t[C][C]\n"
     ]
    }
   ],
   "source": [
    "m = MarkovACTR(setup=False)\n",
    "m.setup(model='markov-model2', verbose=True, reload=True, actr_params={'v': 'nil', 'ans': .5})\n",
    "m.run_experiment(5)"
   ]
  },
  {
   "cell_type": "code",
   "execution_count": null,
   "id": "20bfa413-9c7d-4a41-aace-b67220141855",
   "metadata": {},
   "outputs": [],
   "source": []
  },
  {
   "cell_type": "markdown",
   "id": "b7112fc7-dc89-40a9-bb27-af3e78a67f69",
   "metadata": {
    "tags": []
   },
   "source": [
    "## Stay Probability\n",
    "\n",
    "Check stay probability of MB and MF\n",
    "\n",
    "- Stay: at n trial, choose `LEFT`, and at n+1 trial, still chooses `LEFT`\n",
    "\n",
    "- Prob(Stay): The probablity of choosing the same action in two consecutive trials"
   ]
  },
  {
   "cell_type": "code",
   "execution_count": 26,
   "id": "e2a4b9a4",
   "metadata": {},
   "outputs": [],
   "source": [
    "m = MarkovACTR(setup=False)\n",
    "m.setup(model='markov-model1', verbose=False, actr_params={'v': 'nil'})\n",
    "m.run_experiment(50)\n",
    "df = m.calculate_stay_probability()"
   ]
  },
  {
   "cell_type": "code",
   "execution_count": 27,
   "id": "4d10b43c",
   "metadata": {},
   "outputs": [
    {
     "data": {
      "text/html": [
       "<div>\n",
       "<style scoped>\n",
       "    .dataframe tbody tr th:only-of-type {\n",
       "        vertical-align: middle;\n",
       "    }\n",
       "\n",
       "    .dataframe tbody tr th {\n",
       "        vertical-align: top;\n",
       "    }\n",
       "\n",
       "    .dataframe thead th {\n",
       "        text-align: right;\n",
       "    }\n",
       "</style>\n",
       "<table border=\"1\" class=\"dataframe\">\n",
       "  <thead>\n",
       "    <tr style=\"text-align: right;\">\n",
       "      <th></th>\n",
       "      <th>received_reward</th>\n",
       "      <th>reward_frequency</th>\n",
       "      <th>state_frequency</th>\n",
       "      <th>state1_stay</th>\n",
       "    </tr>\n",
       "  </thead>\n",
       "  <tbody>\n",
       "    <tr>\n",
       "      <th>0</th>\n",
       "      <td>0</td>\n",
       "      <td>common</td>\n",
       "      <td>common</td>\n",
       "      <td>0.333333</td>\n",
       "    </tr>\n",
       "    <tr>\n",
       "      <th>1</th>\n",
       "      <td>0</td>\n",
       "      <td>common</td>\n",
       "      <td>rare</td>\n",
       "      <td>0.888889</td>\n",
       "    </tr>\n",
       "    <tr>\n",
       "      <th>2</th>\n",
       "      <td>0</td>\n",
       "      <td>rare</td>\n",
       "      <td>common</td>\n",
       "      <td>0.500000</td>\n",
       "    </tr>\n",
       "    <tr>\n",
       "      <th>3</th>\n",
       "      <td>0</td>\n",
       "      <td>rare</td>\n",
       "      <td>rare</td>\n",
       "      <td>0.500000</td>\n",
       "    </tr>\n",
       "    <tr>\n",
       "      <th>4</th>\n",
       "      <td>2</td>\n",
       "      <td>common</td>\n",
       "      <td>common</td>\n",
       "      <td>0.533333</td>\n",
       "    </tr>\n",
       "    <tr>\n",
       "      <th>5</th>\n",
       "      <td>2</td>\n",
       "      <td>common</td>\n",
       "      <td>rare</td>\n",
       "      <td>0.250000</td>\n",
       "    </tr>\n",
       "  </tbody>\n",
       "</table>\n",
       "</div>"
      ],
      "text/plain": [
       "   received_reward reward_frequency state_frequency  state1_stay\n",
       "0                0           common          common     0.333333\n",
       "1                0           common            rare     0.888889\n",
       "2                0             rare          common     0.500000\n",
       "3                0             rare            rare     0.500000\n",
       "4                2           common          common     0.533333\n",
       "5                2           common            rare     0.250000"
      ]
     },
     "execution_count": 27,
     "metadata": {},
     "output_type": "execute_result"
    }
   ],
   "source": [
    "df_state1stay = df.groupby(['received_reward', 'reward_frequency', 'state_frequency']).agg({'state1_stay': lambda x: x.mean(skipna=True)}).reset_index()\n",
    "df_state1stay"
   ]
  },
  {
   "cell_type": "code",
   "execution_count": 29,
   "id": "03a58cc5",
   "metadata": {},
   "outputs": [
    {
     "name": "stdout",
     "output_type": "stream",
     "text": [
      "gained rewards: 0.76\n"
     ]
    }
   ],
   "source": [
    "print(\"gained rewards: %.2f\" % (df['received_reward'].sum()/len(df)))"
   ]
  },
  {
   "cell_type": "code",
   "execution_count": 30,
   "id": "9ced9f6a",
   "metadata": {},
   "outputs": [
    {
     "data": {
      "image/png": "[encoded data removed]",
      "text/plain": [
       "<Figure size 432x288 with 1 Axes>"
      ]
     },
     "metadata": {
      "needs_background": "light"
     },
     "output_type": "display_data"
    }
   ],
   "source": [
    "ax = sns.barplot(data=df_state1stay, x='received_reward', y='state1_stay',\n",
    "                 order = sorted(df['received_reward'].unique(), reverse=True), \n",
    "                 hue='state_frequency')\n",
    "ax.set(ylim=(0, 1))\n",
    "for container in ax.containers:\n",
    "    ax.bar_label(container, fmt='%.2f', label_type='center', color='white')\n",
    "plt.title('model-free')\n",
    "plt.show()"
   ]
  },
  {
   "cell_type": "markdown",
   "id": "e41dcdae-9a63-4ba7-862e-0edcca487218",
   "metadata": {},
   "source": [
    "## Sanity Check: State Transition Probability \n",
    "\n",
    "This table shows the REAL state transition probability (calculated post-hoc). \n",
    "\n",
    "- `state1_frequency` could be any ratio, but if the model learns A1 leads to higher expected rewards, should be higher than A2\n",
    "- `state2_frequency1` should be 70% vs. 30%\n",
    "- `state2_frequency2` should be 70% vs. 30%"
   ]
  },
  {
   "cell_type": "code",
   "execution_count": 31,
   "id": "40aa6a64",
   "metadata": {},
   "outputs": [
    {
     "data": {
      "text/html": [
       "<div>\n",
       "<style scoped>\n",
       "    .dataframe tbody tr th:only-of-type {\n",
       "        vertical-align: middle;\n",
       "    }\n",
       "\n",
       "    .dataframe tbody tr th {\n",
       "        vertical-align: top;\n",
       "    }\n",
       "\n",
       "    .dataframe thead th {\n",
       "        text-align: right;\n",
       "    }\n",
       "</style>\n",
       "<table border=\"1\" class=\"dataframe\">\n",
       "  <thead>\n",
       "    <tr style=\"text-align: right;\">\n",
       "      <th></th>\n",
       "      <th>state1_selected_stimulus</th>\n",
       "      <th>state1_frequency</th>\n",
       "      <th>state2_selected_stimulus_type</th>\n",
       "      <th>state2_frequency1</th>\n",
       "      <th>state2_frequency2</th>\n",
       "    </tr>\n",
       "  </thead>\n",
       "  <tbody>\n",
       "    <tr>\n",
       "      <th>0</th>\n",
       "      <td>A1</td>\n",
       "      <td>0.62</td>\n",
       "      <td>B</td>\n",
       "      <td>0.71</td>\n",
       "      <td>NaN</td>\n",
       "    </tr>\n",
       "    <tr>\n",
       "      <th>1</th>\n",
       "      <td>A1</td>\n",
       "      <td>0.62</td>\n",
       "      <td>C</td>\n",
       "      <td>0.29</td>\n",
       "      <td>NaN</td>\n",
       "    </tr>\n",
       "    <tr>\n",
       "      <th>2</th>\n",
       "      <td>A2</td>\n",
       "      <td>0.38</td>\n",
       "      <td>NaN</td>\n",
       "      <td>NaN</td>\n",
       "      <td>NaN</td>\n",
       "    </tr>\n",
       "    <tr>\n",
       "      <th>3</th>\n",
       "      <td>A2</td>\n",
       "      <td>NaN</td>\n",
       "      <td>C</td>\n",
       "      <td>NaN</td>\n",
       "      <td>0.68</td>\n",
       "    </tr>\n",
       "    <tr>\n",
       "      <th>4</th>\n",
       "      <td>A2</td>\n",
       "      <td>NaN</td>\n",
       "      <td>B</td>\n",
       "      <td>NaN</td>\n",
       "      <td>0.32</td>\n",
       "    </tr>\n",
       "  </tbody>\n",
       "</table>\n",
       "</div>"
      ],
      "text/plain": [
       "  state1_selected_stimulus  state1_frequency state2_selected_stimulus_type  \\\n",
       "0                       A1              0.62                             B   \n",
       "1                       A1              0.62                             C   \n",
       "2                       A2              0.38                           NaN   \n",
       "3                       A2               NaN                             C   \n",
       "4                       A2               NaN                             B   \n",
       "\n",
       "   state2_frequency1  state2_frequency2  \n",
       "0               0.71                NaN  \n",
       "1               0.29                NaN  \n",
       "2                NaN                NaN  \n",
       "3                NaN               0.68  \n",
       "4                NaN               0.32  "
      ]
     },
     "execution_count": 31,
     "metadata": {},
     "output_type": "execute_result"
    }
   ],
   "source": [
    "m.calculate_real_frequency().round(2)"
   ]
  },
  {
   "cell_type": "markdown",
   "id": "6082d4a8",
   "metadata": {},
   "source": [
    "## Sanity Check:\n",
    "\n",
    "To see how model learns across time"
   ]
  },
  {
   "cell_type": "code",
   "execution_count": 10,
   "id": "46311252",
   "metadata": {},
   "outputs": [],
   "source": [
    "def test1(m):\n",
    "    m.run_experiment(50)\n",
    "    df = m.calculate_stay_probability()\n",
    "    df_state1stay = df.groupby(['received_reward', 'reward_frequency', 'state_frequency']).agg({'state1_stay': lambda x: x.mean(skipna=True)}).reset_index()\n",
    "    \n",
    "    print(\"gained rewards: %.2f\" % (df['received_reward'].sum()/len(df)))\n",
    "    ax = sns.barplot(data=df_state1stay, x='received_reward', y='state1_stay',\n",
    "                 order = sorted(df['received_reward'].unique(), reverse=True), \n",
    "                 hue='state_frequency')\n",
    "    ax.set(ylim=(0, 1))\n",
    "    for container in ax.containers:\n",
    "        ax.bar_label(container, fmt='%.2f', label_type='center', color='white')\n",
    "    plt.title('model-free')\n",
    "    plt.show()"
   ]
  },
  {
   "cell_type": "code",
   "execution_count": 11,
   "id": "574dd41a",
   "metadata": {},
   "outputs": [],
   "source": [
    "m = MarkovACTR(setup=False)\n",
    "m.setup(model='markov-model1', verbose=False, reload=True)"
   ]
  },
  {
   "cell_type": "code",
   "execution_count": 12,
   "id": "d4410177",
   "metadata": {},
   "outputs": [
    {
     "name": "stdout",
     "output_type": "stream",
     "text": [
      "gained rewards: 0.88\n"
     ]
    },
    {
     "data": {
      "image/png": "[encoded data removed]",
      "text/plain": [
       "<Figure size 432x288 with 1 Axes>"
      ]
     },
     "metadata": {
      "needs_background": "light"
     },
     "output_type": "display_data"
    }
   ],
   "source": [
    "test1(m)"
   ]
  },
  {
   "cell_type": "code",
   "execution_count": 13,
   "id": "f0c01c87",
   "metadata": {},
   "outputs": [
    {
     "name": "stdout",
     "output_type": "stream",
     "text": [
      "gained rewards: 0.90\n"
     ]
    },
    {
     "data": {
      "image/png": "[encoded data removed]",
      "text/plain": [
       "<Figure size 432x288 with 1 Axes>"
      ]
     },
     "metadata": {
      "needs_background": "light"
     },
     "output_type": "display_data"
    }
   ],
   "source": [
    "m.setup(reload=False)\n",
    "test1(m)"
   ]
  },
  {
   "cell_type": "code",
   "execution_count": 14,
   "id": "a47c5656",
   "metadata": {},
   "outputs": [
    {
     "name": "stdout",
     "output_type": "stream",
     "text": [
      "gained rewards: 0.85\n"
     ]
    },
    {
     "data": {
      "image/png": "[encoded data removed]",
      "text/plain": [
       "<Figure size 432x288 with 1 Axes>"
      ]
     },
     "metadata": {
      "needs_background": "light"
     },
     "output_type": "display_data"
    }
   ],
   "source": [
    "m.setup(reload=False)\n",
    "test1(m)"
   ]
  },
  {
   "cell_type": "code",
   "execution_count": null,
   "id": "bda6021e",
   "metadata": {},
   "outputs": [],
   "source": []
  },
  {
   "cell_type": "code",
   "execution_count": null,
   "id": "d32a0b29-3556-494f-95fc-dd98ce3bd0d4",
   "metadata": {},
   "outputs": [],
   "source": []
  },
  {
   "cell_type": "code",
   "execution_count": null,
   "id": "9daf1876-7d4b-47b8-bf26-ae17fc7397ca",
   "metadata": {},
   "outputs": [],
   "source": []
  },
  {
   "cell_type": "code",
   "execution_count": null,
   "id": "5ee7eb0d-02a5-4dd9-b92d-a88936ff91af",
   "metadata": {},
   "outputs": [],
   "source": []
  }
 ],
 "metadata": {
  "kernelspec": {
   "display_name": "Python 3",
   "language": "python",
   "name": "python3"
  },
  "language_info": {
   "codemirror_mode": {
    "name": "ipython",
    "version": 3
   },
   "file_extension": ".py",
   "mimetype": "text/x-python",
   "name": "python",
   "nbconvert_exporter": "python",
   "pygments_lexer": "ipython3",
   "version": "3.8.8"
  }
 },
 "nbformat": 4,
 "nbformat_minor": 5
}
