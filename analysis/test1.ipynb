{
 "cells": [
  {
   "cell_type": "markdown",
   "id": "63f412a0-4370-4f55-83a6-a3e43cfdb608",
   "metadata": {},
   "source": [
    "# ACT-R Model of Markov Task \n",
    "\n",
    "\n",
    "This notebook tests whether MB and MF run properly in ACT-R"
   ]
  },
  {
   "cell_type": "code",
   "execution_count": 1,
   "id": "dd9213e5",
   "metadata": {},
   "outputs": [
    {
     "name": "stdout",
     "output_type": "stream",
     "text": [
      "ACT-R connection has been started.\n"
     ]
    }
   ],
   "source": [
    "from markov_device import *\n",
    "import matplotlib.pyplot as plt\n",
    "import seaborn as sns"
   ]
  },
  {
   "cell_type": "code",
   "execution_count": 2,
   "id": "35e66d57-1fe8-44a7-a7eb-853ba44732b4",
   "metadata": {},
   "outputs": [],
   "source": [
    "m = MarkovACTR(setup=False)\n",
    "m.setup(model='markov-model2', verbose=False)"
   ]
  },
  {
   "cell_type": "code",
   "execution_count": 3,
   "id": "69191f0e",
   "metadata": {},
   "outputs": [],
   "source": [
    "m.run_experiment(50)"
   ]
  },
  {
   "cell_type": "code",
   "execution_count": 4,
   "id": "739228d2-90b7-4d8d-9cc7-0dde175077cc",
   "metadata": {},
   "outputs": [
    {
     "data": {
      "text/plain": [
       "[<[MARKOV_STATE] \t[f, 1.61]'A1' \t[f, 7.78]'C1' \tR:[0] \t[R][C],\n",
       " <[MARKOV_STATE] \t[f, 1.44]'A1' \t[f, 1.42]'B1' \tR:[2] \t[C][C],\n",
       " <[MARKOV_STATE] \t[k, 1.52]'A2' \t[f, 7.88]'C1' \tR:[0] \t[C][C],\n",
       " <[MARKOV_STATE] \t[f, 1.20]'A1' \t[k, 7.88]'C2' \tR:[0] \t[R][C],\n",
       " <[MARKOV_STATE] \t[k, 1.40]'A2' \t[k, 7.78]'C2' \tR:[0] \t[C][C],\n",
       " <[MARKOV_STATE] \t[k, 1.42]'A2' \t[f, 1.47]'B1' \tR:[2] \t[R][C],\n",
       " <[MARKOV_STATE] \t[k, 1.54]'A2' \t[k, 7.78]'C2' \tR:[0] \t[C][C],\n",
       " <[MARKOV_STATE] \t[f, 1.46]'A1' \t[f, 1.35]'B1' \tR:[2] \t[C][C],\n",
       " <[MARKOV_STATE] \t[k, 1.54]'A2' \t[f, 1.53]'B1' \tR:[0] \t[R][R],\n",
       " <[MARKOV_STATE] \t[f, 1.18]'A1' \t[k, 7.88]'C2' \tR:[0] \t[R][C]]"
      ]
     },
     "execution_count": 4,
     "metadata": {},
     "output_type": "execute_result"
    }
   ],
   "source": [
    "m.log[:10]"
   ]
  },
  {
   "cell_type": "code",
   "execution_count": null,
   "id": "c4698f52-e3c6-4071-9c03-f45fd93852d3",
   "metadata": {},
   "outputs": [],
   "source": []
  },
  {
   "cell_type": "markdown",
   "id": "b7112fc7-dc89-40a9-bb27-af3e78a67f69",
   "metadata": {
    "tags": []
   },
   "source": [
    "## Stay Probability\n",
    "\n",
    "Stay: at n trial, choose `LEFT`, and at n+1 trial, still chooses `LEFT`\n",
    "\n",
    "Prob(Stay): The probablity of choosing the same action in two consecutive trials"
   ]
  },
  {
   "cell_type": "code",
   "execution_count": 5,
   "id": "e2a4b9a4",
   "metadata": {},
   "outputs": [],
   "source": [
    "df = m.calculate_stay_probability()"
   ]
  },
  {
   "cell_type": "code",
   "execution_count": 6,
   "id": "4d10b43c",
   "metadata": {},
   "outputs": [
    {
     "data": {
      "text/html": [
       "<div>\n",
       "<style scoped>\n",
       "    .dataframe tbody tr th:only-of-type {\n",
       "        vertical-align: middle;\n",
       "    }\n",
       "\n",
       "    .dataframe tbody tr th {\n",
       "        vertical-align: top;\n",
       "    }\n",
       "\n",
       "    .dataframe thead th {\n",
       "        text-align: right;\n",
       "    }\n",
       "</style>\n",
       "<table border=\"1\" class=\"dataframe\">\n",
       "  <thead>\n",
       "    <tr style=\"text-align: right;\">\n",
       "      <th></th>\n",
       "      <th>received_reward</th>\n",
       "      <th>reward_frequency</th>\n",
       "      <th>state_frequency</th>\n",
       "      <th>state1_stay</th>\n",
       "    </tr>\n",
       "  </thead>\n",
       "  <tbody>\n",
       "    <tr>\n",
       "      <th>0</th>\n",
       "      <td>0</td>\n",
       "      <td>common</td>\n",
       "      <td>common</td>\n",
       "      <td>0.181818</td>\n",
       "    </tr>\n",
       "    <tr>\n",
       "      <th>1</th>\n",
       "      <td>0</td>\n",
       "      <td>common</td>\n",
       "      <td>rare</td>\n",
       "      <td>0.571429</td>\n",
       "    </tr>\n",
       "    <tr>\n",
       "      <th>2</th>\n",
       "      <td>0</td>\n",
       "      <td>rare</td>\n",
       "      <td>common</td>\n",
       "      <td>1.000000</td>\n",
       "    </tr>\n",
       "    <tr>\n",
       "      <th>3</th>\n",
       "      <td>0</td>\n",
       "      <td>rare</td>\n",
       "      <td>rare</td>\n",
       "      <td>0.500000</td>\n",
       "    </tr>\n",
       "    <tr>\n",
       "      <th>4</th>\n",
       "      <td>2</td>\n",
       "      <td>common</td>\n",
       "      <td>common</td>\n",
       "      <td>0.333333</td>\n",
       "    </tr>\n",
       "    <tr>\n",
       "      <th>5</th>\n",
       "      <td>2</td>\n",
       "      <td>common</td>\n",
       "      <td>rare</td>\n",
       "      <td>0.428571</td>\n",
       "    </tr>\n",
       "  </tbody>\n",
       "</table>\n",
       "</div>"
      ],
      "text/plain": [
       "   received_reward reward_frequency state_frequency  state1_stay\n",
       "0                0           common          common     0.181818\n",
       "1                0           common            rare     0.571429\n",
       "2                0             rare          common     1.000000\n",
       "3                0             rare            rare     0.500000\n",
       "4                2           common          common     0.333333\n",
       "5                2           common            rare     0.428571"
      ]
     },
     "execution_count": 6,
     "metadata": {},
     "output_type": "execute_result"
    }
   ],
   "source": [
    "df_state1stay = df.groupby(['received_reward', 'reward_frequency', 'state_frequency']).agg({'state1_stay': lambda x: x.mean(skipna=True)}).reset_index()\n",
    "df_state1stay"
   ]
  },
  {
   "cell_type": "code",
   "execution_count": 7,
   "id": "03a58cc5",
   "metadata": {},
   "outputs": [
    {
     "name": "stdout",
     "output_type": "stream",
     "text": [
      "gained rewards: 40\n"
     ]
    }
   ],
   "source": [
    "print(\"gained rewards: %d\" % (df['received_reward'].sum()))"
   ]
  },
  {
   "cell_type": "code",
   "execution_count": 8,
   "id": "9ced9f6a",
   "metadata": {},
   "outputs": [
    {
     "data": {
      "image/png": "[encoded data removed]",
      "text/plain": [
       "<Figure size 432x288 with 1 Axes>"
      ]
     },
     "metadata": {
      "needs_background": "light"
     },
     "output_type": "display_data"
    }
   ],
   "source": [
    "ax = sns.barplot(data=df_state1stay, x='received_reward', y='state1_stay',\n",
    "                 order = sorted(df['received_reward'].unique(), reverse=True), \n",
    "                 hue='state_frequency')\n",
    "ax.set(ylim=(0, 1))\n",
    "for container in ax.containers:\n",
    "    ax.bar_label(container, fmt='%.2f', label_type='center', color='white')\n",
    "plt.title('model-free')\n",
    "plt.show()"
   ]
  },
  {
   "cell_type": "markdown",
   "id": "e41dcdae-9a63-4ba7-862e-0edcca487218",
   "metadata": {},
   "source": [
    "## Sanity Check: State Transition Probability \n",
    "\n",
    "This table shows the REAL state transition probability (calculated post-hoc). "
   ]
  },
  {
   "cell_type": "code",
   "execution_count": 9,
   "id": "40aa6a64",
   "metadata": {},
   "outputs": [
    {
     "data": {
      "text/html": [
       "<div>\n",
       "<style scoped>\n",
       "    .dataframe tbody tr th:only-of-type {\n",
       "        vertical-align: middle;\n",
       "    }\n",
       "\n",
       "    .dataframe tbody tr th {\n",
       "        vertical-align: top;\n",
       "    }\n",
       "\n",
       "    .dataframe thead th {\n",
       "        text-align: right;\n",
       "    }\n",
       "</style>\n",
       "<table border=\"1\" class=\"dataframe\">\n",
       "  <thead>\n",
       "    <tr style=\"text-align: right;\">\n",
       "      <th></th>\n",
       "      <th>state1_selected_stimulus</th>\n",
       "      <th>state1_frequency</th>\n",
       "      <th>state2_selected_stimulus_type</th>\n",
       "      <th>state2_frequency1</th>\n",
       "      <th>state2_frequency2</th>\n",
       "    </tr>\n",
       "  </thead>\n",
       "  <tbody>\n",
       "    <tr>\n",
       "      <th>0</th>\n",
       "      <td>A1</td>\n",
       "      <td>0.6</td>\n",
       "      <td>B</td>\n",
       "      <td>0.53</td>\n",
       "      <td>NaN</td>\n",
       "    </tr>\n",
       "    <tr>\n",
       "      <th>1</th>\n",
       "      <td>A1</td>\n",
       "      <td>0.6</td>\n",
       "      <td>C</td>\n",
       "      <td>0.47</td>\n",
       "      <td>NaN</td>\n",
       "    </tr>\n",
       "    <tr>\n",
       "      <th>2</th>\n",
       "      <td>A2</td>\n",
       "      <td>0.4</td>\n",
       "      <td>NaN</td>\n",
       "      <td>NaN</td>\n",
       "      <td>NaN</td>\n",
       "    </tr>\n",
       "    <tr>\n",
       "      <th>3</th>\n",
       "      <td>A2</td>\n",
       "      <td>NaN</td>\n",
       "      <td>C</td>\n",
       "      <td>NaN</td>\n",
       "      <td>0.55</td>\n",
       "    </tr>\n",
       "    <tr>\n",
       "      <th>4</th>\n",
       "      <td>A2</td>\n",
       "      <td>NaN</td>\n",
       "      <td>B</td>\n",
       "      <td>NaN</td>\n",
       "      <td>0.45</td>\n",
       "    </tr>\n",
       "  </tbody>\n",
       "</table>\n",
       "</div>"
      ],
      "text/plain": [
       "  state1_selected_stimulus  state1_frequency state2_selected_stimulus_type  \\\n",
       "0                       A1               0.6                             B   \n",
       "1                       A1               0.6                             C   \n",
       "2                       A2               0.4                           NaN   \n",
       "3                       A2               NaN                             C   \n",
       "4                       A2               NaN                             B   \n",
       "\n",
       "   state2_frequency1  state2_frequency2  \n",
       "0               0.53                NaN  \n",
       "1               0.47                NaN  \n",
       "2                NaN                NaN  \n",
       "3                NaN               0.55  \n",
       "4                NaN               0.45  "
      ]
     },
     "execution_count": 9,
     "metadata": {},
     "output_type": "execute_result"
    }
   ],
   "source": [
    "m.calculate_real_frequency().round(2)"
   ]
  },
  {
   "cell_type": "markdown",
   "id": "6082d4a8",
   "metadata": {},
   "source": [
    "## Sanity Check:\n",
    "\n",
    "To see how model learns across time"
   ]
  },
  {
   "cell_type": "code",
   "execution_count": 10,
   "id": "46311252",
   "metadata": {},
   "outputs": [],
   "source": [
    "def test1(m):\n",
    "    m.run_experiment(50)\n",
    "    df = m.calculate_stay_probability()\n",
    "    df_state1stay = df.groupby(['received_reward', 'reward_frequency', 'state_frequency']).agg({'state1_stay': lambda x: x.mean(skipna=True)}).reset_index()\n",
    "    \n",
    "    print(\"gained rewards: %.2f\" % (df['received_reward'].sum()/len(df)))\n",
    "    ax = sns.barplot(data=df_state1stay, x='received_reward', y='state1_stay',\n",
    "                 order = sorted(df['received_reward'].unique(), reverse=True), \n",
    "                 hue='state_frequency')\n",
    "    ax.set(ylim=(0, 1))\n",
    "    for container in ax.containers:\n",
    "        ax.bar_label(container, fmt='%.2f', label_type='center', color='white')\n",
    "    plt.title('model-free')\n",
    "    plt.show()"
   ]
  },
  {
   "cell_type": "code",
   "execution_count": 11,
   "id": "574dd41a",
   "metadata": {},
   "outputs": [],
   "source": [
    "m = MarkovACTR(setup=False)\n",
    "m.setup(model='markov-model1', verbose=False, reload=True)"
   ]
  },
  {
   "cell_type": "code",
   "execution_count": 12,
   "id": "d4410177",
   "metadata": {},
   "outputs": [
    {
     "name": "stdout",
     "output_type": "stream",
     "text": [
      "gained rewards: 0.88\n"
     ]
    },
    {
     "data": {
      "image/png": "[encoded data removed]",
      "text/plain": [
       "<Figure size 432x288 with 1 Axes>"
      ]
     },
     "metadata": {
      "needs_background": "light"
     },
     "output_type": "display_data"
    }
   ],
   "source": [
    "test1(m)"
   ]
  },
  {
   "cell_type": "code",
   "execution_count": 13,
   "id": "f0c01c87",
   "metadata": {},
   "outputs": [
    {
     "name": "stdout",
     "output_type": "stream",
     "text": [
      "gained rewards: 0.90\n"
     ]
    },
    {
     "data": {
      "image/png": "[encoded data removed]",
      "text/plain": [
       "<Figure size 432x288 with 1 Axes>"
      ]
     },
     "metadata": {
      "needs_background": "light"
     },
     "output_type": "display_data"
    }
   ],
   "source": [
    "m.setup(reload=False)\n",
    "test1(m)"
   ]
  },
  {
   "cell_type": "code",
   "execution_count": 14,
   "id": "a47c5656",
   "metadata": {},
   "outputs": [
    {
     "name": "stdout",
     "output_type": "stream",
     "text": [
      "gained rewards: 0.85\n"
     ]
    },
    {
     "data": {
      "image/png": "[encoded data removed]",
      "text/plain": [
       "<Figure size 432x288 with 1 Axes>"
      ]
     },
     "metadata": {
      "needs_background": "light"
     },
     "output_type": "display_data"
    }
   ],
   "source": [
    "m.setup(reload=False)\n",
    "test1(m)"
   ]
  },
  {
   "cell_type": "code",
   "execution_count": null,
   "id": "bda6021e",
   "metadata": {},
   "outputs": [],
   "source": []
  },
  {
   "cell_type": "code",
   "execution_count": null,
   "id": "d32a0b29-3556-494f-95fc-dd98ce3bd0d4",
   "metadata": {},
   "outputs": [],
   "source": []
  },
  {
   "cell_type": "code",
   "execution_count": null,
   "id": "9daf1876-7d4b-47b8-bf26-ae17fc7397ca",
   "metadata": {},
   "outputs": [],
   "source": []
  },
  {
   "cell_type": "code",
   "execution_count": null,
   "id": "5ee7eb0d-02a5-4dd9-b92d-a88936ff91af",
   "metadata": {},
   "outputs": [],
   "source": []
  }
 ],
 "metadata": {
  "kernelspec": {
   "display_name": "Python 3",
   "language": "python",
   "name": "python3"
  },
  "language_info": {
   "codemirror_mode": {
    "name": "ipython",
    "version": 3
   },
   "file_extension": ".py",
   "mimetype": "text/x-python",
   "name": "python",
   "nbconvert_exporter": "python",
   "pygments_lexer": "ipython3",
   "version": "3.8.8"
  }
 },
 "nbformat": 4,
 "nbformat_minor": 5
}
