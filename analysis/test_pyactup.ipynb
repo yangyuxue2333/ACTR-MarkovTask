{
 "cells": [
  {
   "cell_type": "code",
   "execution_count": 1,
   "id": "4a14feac-c9fc-4777-bbd4-30d9485a4456",
   "metadata": {},
   "outputs": [
    {
     "name": "stdout",
     "output_type": "stream",
     "text": [
      "Error trying to connect to ACT-R at 127.0.0.1 : 2650 with exception (<class 'ConnectionRefusedError'>, ConnectionRefusedError(61, 'Connection refused'), <traceback object at 0x7fdaf3fdb640>)\n",
      "ACT-R connection NOT established, but no exception detected or already handled.\n",
      "Could not start ACT-R connection.\n"
     ]
    }
   ],
   "source": [
    "import sys\n",
    "import os\n",
    "\n",
    "SCRIPT_PATH = os.path.join(os.path.abspath(os.path.dirname('../__file__')), 'script')\n",
    "sys.path.insert(0, SCRIPT_PATH)\n",
    "\n",
    "\n",
    "from markov_pyactup import *\n",
    "from statsmodels.formula.api import logit, glm\n",
    "import statsmodels.api as sm\n",
    "import statsmodels.formula.api as smf\n",
    "from scipy import stats\n",
    "import matplotlib.pyplot as plt\n",
    "import seaborn as sns\n",
    "import glob\n",
    "from matplotlib.ticker import (MultipleLocator, AutoMinorLocator)\n",
    "\n",
    "\n",
    "main_dir = os.path.dirname(os.path.realpath('../__file__'))"
   ]
  },
  {
   "cell_type": "code",
   "execution_count": 8,
   "id": "3c7b14ee-c977-41a9-8a53-27c85c8dab61",
   "metadata": {},
   "outputs": [
    {
     "name": "stdout",
     "output_type": "stream",
     "text": [
      "################## SETUP MODEL markov-ibl ##################\n",
      "{'MARKOV_PROBABILITY': 0.7, 'REWARD_PROBABILITY': 'LOAD', 'REWARD': {'B1': (1, -1), 'B2': (1, -1), 'C1': (1, -1), 'C2': (1, -1)}, 'alpha1': 0.2, 'alpha2': 0.2, 'beta1': 5, 'beta2': 5, 'lambda_parameter': 0.2, 'p_parameter': 0, 'w_parameter': 0, 'noise': 0.2, 'decay': 0.1}\n",
      "<[MARKOV_STATE] \t[L, 0.00]'A1' \t[R, 0.00]'C2' \tR:[1] \t[R][R]\n",
      "<[MARKOV_STATE] \t[R, 0.00]'A2' \t[R, 0.00]'C2' \tR:[-1] \t[C][C]\n",
      "<[MARKOV_STATE] \t[L, 0.00]'A1' \t[L, 0.00]'B1' \tR:[-1] \t[C][R]\n",
      "<[MARKOV_STATE] \t[L, 0.00]'A1' \t[L, 0.00]'C1' \tR:[1] \t[R][C]\n",
      "<[MARKOV_STATE] \t[R, 0.00]'A2' \t[L, 0.00]'C1' \tR:[1] \t[C][C]\n",
      "<[MARKOV_STATE] \t[L, 0.00]'A1' \t[R, 0.00]'B2' \tR:[-1] \t[C][C]\n",
      "<[MARKOV_STATE] \t[L, 0.00]'A1' \t[L, 0.00]'B1' \tR:[1] \t[C][C]\n",
      "<[MARKOV_STATE] \t[L, 0.00]'A1' \t[L, 0.00]'B1' \tR:[1] \t[C][C]\n",
      "<[MARKOV_STATE] \t[R, 0.00]'A2' \t[L, 0.00]'B1' \tR:[1] \t[R][C]\n",
      "<[MARKOV_STATE] \t[L, 0.00]'A1' \t[R, 0.00]'B2' \tR:[1] \t[C][C]\n",
      "<[MARKOV_STATE] \t[L, 0.00]'A1' \t[R, 0.00]'C2' \tR:[-1] \t[R][C]\n",
      "<[MARKOV_STATE] \t[L, 0.00]'A1' \t[R, 0.00]'B2' \tR:[-1] \t[C][R]\n",
      "<[MARKOV_STATE] \t[R, 0.00]'A2' \t[R, 0.00]'B2' \tR:[-1] \t[R][R]\n",
      "<[MARKOV_STATE] \t[R, 0.00]'A2' \t[L, 0.00]'C1' \tR:[1] \t[C][C]\n",
      "<[MARKOV_STATE] \t[R, 0.00]'A2' \t[L, 0.00]'B1' \tR:[1] \t[R][C]\n",
      "<[MARKOV_STATE] \t[R, 0.00]'A2' \t[L, 0.00]'C1' \tR:[1] \t[C][C]\n",
      "<[MARKOV_STATE] \t[L, 0.00]'A1' \t[R, 0.00]'C2' \tR:[1] \t[R][R]\n",
      "<[MARKOV_STATE] \t[R, 0.00]'A2' \t[L, 0.00]'B1' \tR:[-1] \t[R][R]\n",
      "<[MARKOV_STATE] \t[L, 0.00]'A1' \t[L, 0.00]'B1' \tR:[-1] \t[C][R]\n",
      "<[MARKOV_STATE] \t[R, 0.00]'A2' \t[L, 0.00]'B1' \tR:[1] \t[R][C]\n",
      "<[MARKOV_STATE] \t[L, 0.00]'A1' \t[L, 0.00]'B1' \tR:[1] \t[C][C]\n",
      "<[MARKOV_STATE] \t[L, 0.00]'A1' \t[L, 0.00]'C1' \tR:[1] \t[R][C]\n",
      "<[MARKOV_STATE] \t[R, 0.00]'A2' \t[L, 0.00]'C1' \tR:[1] \t[C][C]\n",
      "<[MARKOV_STATE] \t[L, 0.00]'A1' \t[L, 0.00]'B1' \tR:[1] \t[C][C]\n",
      "<[MARKOV_STATE] \t[L, 0.00]'A1' \t[L, 0.00]'B1' \tR:[1] \t[C][C]\n",
      "<[MARKOV_STATE] \t[R, 0.00]'A2' \t[R, 0.00]'C2' \tR:[-1] \t[C][C]\n",
      "<[MARKOV_STATE] \t[R, 0.00]'A2' \t[L, 0.00]'C1' \tR:[-1] \t[C][R]\n",
      "<[MARKOV_STATE] \t[R, 0.00]'A2' \t[R, 0.00]'C2' \tR:[-1] \t[C][C]\n",
      "<[MARKOV_STATE] \t[R, 0.00]'A2' \t[L, 0.00]'C1' \tR:[1] \t[C][C]\n",
      "<[MARKOV_STATE] \t[R, 0.00]'A2' \t[L, 0.00]'C1' \tR:[1] \t[C][C]\n",
      "<[MARKOV_STATE] \t[R, 0.00]'A2' \t[L, 0.00]'B1' \tR:[-1] \t[R][R]\n",
      "<[MARKOV_STATE] \t[L, 0.00]'A1' \t[L, 0.00]'C1' \tR:[1] \t[R][C]\n",
      "<[MARKOV_STATE] \t[L, 0.00]'A1' \t[R, 0.00]'B2' \tR:[1] \t[C][C]\n",
      "<[MARKOV_STATE] \t[R, 0.00]'A2' \t[L, 0.00]'C1' \tR:[1] \t[C][C]\n",
      "<[MARKOV_STATE] \t[L, 0.00]'A1' \t[L, 0.00]'C1' \tR:[1] \t[R][C]\n",
      "<[MARKOV_STATE] \t[R, 0.00]'A2' \t[L, 0.00]'C1' \tR:[1] \t[C][C]\n",
      "<[MARKOV_STATE] \t[L, 0.00]'A1' \t[L, 0.00]'B1' \tR:[-1] \t[C][R]\n",
      "<[MARKOV_STATE] \t[R, 0.00]'A2' \t[L, 0.00]'B1' \tR:[1] \t[R][R]\n",
      "<[MARKOV_STATE] \t[R, 0.00]'A2' \t[L, 0.00]'C1' \tR:[1] \t[C][C]\n",
      "<[MARKOV_STATE] \t[R, 0.00]'A2' \t[R, 0.00]'B2' \tR:[1] \t[R][C]\n"
     ]
    }
   ],
   "source": [
    "# model_name='markov-rlhybrid' rlmf\n",
    "model_name='markov-ibl'\n",
    "r1, r0 = 1,-1\n",
    "params = {'REWARD': {'B1': (r1, r0), 'B2': (r1, r0), 'C1': (r1, r0), 'C2': (r1, r0)}}\n",
    "\n",
    "\n",
    "m = MarkovIBL(verbose=1, model=model_name)\n",
    "m.update_parameters(**params, decay=.1)\n",
    "m.run_experiment(n=40) "
   ]
  },
  {
   "cell_type": "code",
   "execution_count": 3,
   "id": "11226a61-9dcd-4960-8e73-acc541dd9c72",
   "metadata": {},
   "outputs": [],
   "source": [
    "# pprint.pprint(m.memory) #dm"
   ]
  },
  {
   "cell_type": "code",
   "execution_count": 4,
   "id": "a2c0500f-5b8e-441a-b774-c93d3614d9af",
   "metadata": {},
   "outputs": [],
   "source": [
    "# pprint.pprint(m.memory.activation_history) #dm"
   ]
  },
  {
   "cell_type": "code",
   "execution_count": 11,
   "id": "6f0f36c3-de24-4529-8678-a7bb629ccf48",
   "metadata": {},
   "outputs": [
    {
     "data": {
      "application/json": {
       "ascii": false,
       "bar_format": null,
       "colour": null,
       "elapsed": 0.0288698673248291,
       "initial": 0,
       "n": 0,
       "ncols": null,
       "nrows": null,
       "postfix": null,
       "prefix": "",
       "rate": null,
       "total": 50,
       "unit": "it",
       "unit_divisor": 1000,
       "unit_scale": false
      },
      "application/vnd.jupyter.widget-view+json": {
       "model_id": "f42f4d71607440d9a72b4a606e2d0cf3",
       "version_major": 2,
       "version_minor": 0
      },
      "text/plain": [
       "  0%|          | 0/50 [00:00<?, ?it/s]"
      ]
     },
     "metadata": {},
     "output_type": "display_data"
    },
    {
     "name": "stdout",
     "output_type": "stream",
     "text": [
      "################## SETUP MODEL markov-ibl ##################\n",
      "{'MARKOV_PROBABILITY': 0.7, 'REWARD_PROBABILITY': 'LOAD', 'REWARD': {'B1': (1, -1), 'B2': (1, -1), 'C1': (1, -1), 'C2': (1, -1)}, 'alpha1': 0.5, 'alpha2': 0.5, 'beta1': 5, 'beta2': 5, 'lambda_parameter': 0.5, 'p_parameter': 0, 'w_parameter': 0.5, 'noise': 0.25, 'decay': 0.8}\n"
     ]
    },
    {
     "data": {
      "image/png": "[encoded data removed]",
      "text/plain": [
       "<Figure size 432x288 with 1 Axes>"
      ]
     },
     "metadata": {
      "needs_background": "light"
     },
     "output_type": "display_data"
    }
   ],
   "source": [
    "df = MarkovSimulation.run_simulations(model=model_name, e=50, verbose=True, \\\n",
    "                                      **params, \\\n",
    "                                      alpha1=.5, alpha2=.5, \\\n",
    "                                      beta1=5, beta2=5, \\\n",
    "                                      p_parameter=0, lambda_parameter=.5, w_parameter=.5,\n",
    "                                      noise=.25, decay=.8)\n",
    "Plot.plot_response_switch(df, model_name=model_name, dep_var_suffix=\"_mean\")"
   ]
  },
  {
   "cell_type": "code",
   "execution_count": null,
   "id": "41d8599c-d61a-4d35-9a93-5a72e74b1a11",
   "metadata": {},
   "outputs": [],
   "source": []
  },
  {
   "cell_type": "code",
   "execution_count": null,
   "id": "5e21a8d1-122b-4ef1-9c39-11946f1f4c6d",
   "metadata": {},
   "outputs": [],
   "source": []
  },
  {
   "cell_type": "markdown",
   "id": "eba1f65e-3be5-4446-896b-4a7891361a63",
   "metadata": {},
   "source": [
    "## Estimate LL"
   ]
  },
  {
   "cell_type": "code",
   "execution_count": 28,
   "id": "f39532d9-82ff-40c5-b9cb-8ac1080cc839",
   "metadata": {},
   "outputs": [
    {
     "data": {
      "text/plain": [
       " final_simplex: (array([[0.20910638, 0.26148776],\n",
       "       [0.20918667, 0.26149429],\n",
       "       [0.20918705, 0.26155371]]), array([95.43856951, 95.43856972, 95.43856984]))\n",
       "           fun: 95.43856951333247\n",
       "       message: 'Optimization terminated successfully.'\n",
       "          nfev: 66\n",
       "           nit: 33\n",
       "        status: 0\n",
       "       success: True\n",
       "             x: array([0.20910638, 0.26148776])"
      ]
     },
     "execution_count": 28,
     "metadata": {},
     "output_type": "execute_result"
    }
   ],
   "source": [
    "main_dir = os.path.dirname(os.getcwd())\n",
    "subject_dir = os.path.join(main_dir, 'data', 'human', 'online_data')\n",
    "\n",
    "\n",
    "subject_id = '5'\n",
    "\n",
    "e = MarkovEstimateion()\n",
    "e.data = e.load_subject_data(subject_dir=subject_dir, subject_id=subject_id)\n",
    "opt.minimize(e.vLLproc, x0 = [0.5, 0.5], method = \"Nelder-Mead\")"
   ]
  },
  {
   "cell_type": "code",
   "execution_count": 29,
   "id": "4094b559-33ff-4d23-b907-db5e4fa23a39",
   "metadata": {},
   "outputs": [
    {
     "name": "stderr",
     "output_type": "stream",
     "text": [
      "<ipython-input-29-0ef3acd725bd>:15: UserWarning: FixedFormatter should only be used together with FixedLocator\n",
      "  ax.set_xticklabels([''] + [str(round(x,2)) for x in alphaspace])\n",
      "<ipython-input-29-0ef3acd725bd>:16: UserWarning: FixedFormatter should only be used together with FixedLocator\n",
      "  ax.set_yticklabels([''] + [str(round(x, 2)) for x in tempspace])\n"
     ]
    },
    {
     "data": {
      "image/png": "[encoded data removed]",
      "text/plain": [
       "<Figure size 432x288 with 2 Axes>"
      ]
     },
     "metadata": {
      "needs_background": "light"
     },
     "output_type": "display_data"
    }
   ],
   "source": [
    "alphaspace = np.linspace(0.2, 1, 11)\n",
    "tempspace = np.linspace(0.2, 1, 11)\n",
    "matrix = np.zeros((len(alphaspace), len(tempspace)))\n",
    "for i, a in enumerate(alphaspace):\n",
    "    for j, t in enumerate(tempspace):\n",
    "        matrix[i,j] = MarkovEstimateion.estimate_LL(e.data, a, t)\n",
    "        \n",
    "fig = plt.figure()\n",
    "ax = fig.add_subplot(111)\n",
    "cax = ax.matshow(matrix, interpolation='nearest')\n",
    "fig.colorbar(cax)\n",
    "\n",
    "ax.xaxis.set_major_locator(MultipleLocator(1))\n",
    "ax.yaxis.set_major_locator(MultipleLocator(1))\n",
    "ax.set_xticklabels([''] + [str(round(x,2)) for x in alphaspace])\n",
    "ax.set_yticklabels([''] + [str(round(x, 2)) for x in tempspace])\n",
    "ax.set_ylabel(\"Learning rate\")\n",
    "ax.set_xlabel(\"Temperature\")\n",
    "plt.show()"
   ]
  },
  {
   "cell_type": "code",
   "execution_count": 31,
   "id": "d00cba0b-2708-46c9-a415-2eabc56af5be",
   "metadata": {},
   "outputs": [
    {
     "data": {
      "text/html": [
       "<div>\n",
       "<style scoped>\n",
       "    .dataframe tbody tr th:only-of-type {\n",
       "        vertical-align: middle;\n",
       "    }\n",
       "\n",
       "    .dataframe tbody tr th {\n",
       "        vertical-align: top;\n",
       "    }\n",
       "\n",
       "    .dataframe thead th {\n",
       "        text-align: right;\n",
       "    }\n",
       "</style>\n",
       "<table border=\"1\" class=\"dataframe\">\n",
       "  <thead>\n",
       "    <tr style=\"text-align: right;\">\n",
       "      <th></th>\n",
       "      <th>param0</th>\n",
       "      <th>param1</th>\n",
       "      <th>param2</th>\n",
       "      <th>param3</th>\n",
       "      <th>param4</th>\n",
       "      <th>param5</th>\n",
       "      <th>param6</th>\n",
       "      <th>param7</th>\n",
       "      <th>subject_id</th>\n",
       "    </tr>\n",
       "  </thead>\n",
       "  <tbody>\n",
       "    <tr>\n",
       "      <th>106</th>\n",
       "      <td>107</td>\n",
       "      <td>0.463308</td>\n",
       "      <td>2.150351</td>\n",
       "      <td>3.537485</td>\n",
       "      <td>2.271229</td>\n",
       "      <td>0.270756</td>\n",
       "      <td>0.806843</td>\n",
       "      <td>182.6808</td>\n",
       "      <td>sub5</td>\n",
       "    </tr>\n",
       "  </tbody>\n",
       "</table>\n",
       "</div>"
      ],
      "text/plain": [
       "     param0    param1    param2    param3    param4    param5    param6  \\\n",
       "106     107  0.463308  2.150351  3.537485  2.271229  0.270756  0.806843   \n",
       "\n",
       "       param7 subject_id  \n",
       "106  182.6808       sub5  "
      ]
     },
     "execution_count": 31,
     "metadata": {},
     "output_type": "execute_result"
    }
   ],
   "source": [
    "df_fits = pd.read_csv(os.path.join(main_dir, \"data/human/analysis_code_and_data/output/online_data/RL/online_fits.txt\"), \n",
    "                      sep='\\t', header=None)\n",
    "df_fits.columns = ['param'+str(i) for i in range(8)] + ['subject_id']\n",
    "df_fits[df_fits['subject_id']=='sub'+subject_id]"
   ]
  },
  {
   "cell_type": "code",
   "execution_count": null,
   "id": "f5e5dd47-cb4f-4e6d-a640-9fd94afadf53",
   "metadata": {},
   "outputs": [],
   "source": []
  },
  {
   "cell_type": "code",
   "execution_count": null,
   "id": "0af5763c-cad6-4a56-b881-13460472df0e",
   "metadata": {},
   "outputs": [],
   "source": []
  }
 ],
 "metadata": {
  "kernelspec": {
   "display_name": "Python 3",
   "language": "python",
   "name": "python3"
  },
  "language_info": {
   "codemirror_mode": {
    "name": "ipython",
    "version": 3
   },
   "file_extension": ".py",
   "mimetype": "text/x-python",
   "name": "python",
   "nbconvert_exporter": "python",
   "pygments_lexer": "ipython3",
   "version": "3.8.6"
  }
 },
 "nbformat": 4,
 "nbformat_minor": 5
}
