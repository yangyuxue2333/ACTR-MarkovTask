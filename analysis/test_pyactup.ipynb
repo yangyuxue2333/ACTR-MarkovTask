{
 "cells": [
  {
   "cell_type": "code",
   "execution_count": 1,
   "id": "4a14feac-c9fc-4777-bbd4-30d9485a4456",
   "metadata": {},
   "outputs": [
    {
     "name": "stdout",
     "output_type": "stream",
     "text": [
      "Error trying to connect to ACT-R at 127.0.0.1 : 2650 with exception (<class 'ConnectionRefusedError'>, ConnectionRefusedError(61, 'Connection refused'), <traceback object at 0x7fe3157a4980>)\n",
      "ACT-R connection NOT established, but no exception detected or already handled.\n",
      "Could not start ACT-R connection.\n"
     ]
    }
   ],
   "source": [
    "import sys\n",
    "import os\n",
    "\n",
    "SCRIPT_PATH = os.path.join(os.path.abspath(os.path.dirname('../__file__')), 'script')\n",
    "sys.path.insert(0, SCRIPT_PATH)\n",
    "\n",
    "\n",
    "from markov_pyactup import *\n",
    "from statsmodels.formula.api import logit, glm\n",
    "import statsmodels.api as sm\n",
    "import statsmodels.formula.api as smf\n",
    "from scipy import stats\n",
    "import matplotlib.pyplot as plt\n",
    "import seaborn as sns\n",
    "import glob\n",
    "from matplotlib.ticker import (MultipleLocator, AutoMinorLocator)\n",
    "\n",
    "\n",
    "main_dir = os.path.dirname(os.path.realpath('../__file__'))"
   ]
  },
  {
   "cell_type": "code",
   "execution_count": 2,
   "id": "3c7b14ee-c977-41a9-8a53-27c85c8dab61",
   "metadata": {},
   "outputs": [
    {
     "name": "stdout",
     "output_type": "stream",
     "text": [
      "################## SETUP MODEL markov-ibl-mb ##################\n",
      "{'MARKOV_PROBABILITY': 0.7, 'REWARD_PROBABILITY': 'LOAD', 'REWARD': {'B1': (1, -1), 'B2': (1, -1), 'C1': (1, -1), 'C2': (1, -1)}, 'alpha1': 0.2, 'alpha2': 0.2, 'beta1': 5, 'beta2': 5, 'lambda_parameter': 0.2, 'p_parameter': 0.5, 'w_parameter': 0, 'noise': 0.2, 'decay': 0.1}\n",
      "<[MARKOV_STATE] \t[L, 0.00]'A1' \t[L, 0.00]'B1' \tR:[-1] \t[C][R]\n",
      "<[MARKOV_STATE] \t[L, 0.00]'A1' \t[L, 0.00]'B1' \tR:[1] \t[C][C]\n",
      "<[MARKOV_STATE] \t[L, 0.00]'A1' \t[L, 0.00]'B1' \tR:[-1] \t[C][R]\n",
      "<[MARKOV_STATE] \t[L, 0.00]'A1' \t[R, 0.00]'C2' \tR:[-1] \t[R][C]\n",
      "<[MARKOV_STATE] \t[L, 0.00]'A1' \t[L, 0.00]'B1' \tR:[1] \t[C][C]\n"
     ]
    }
   ],
   "source": [
    "# model_name='markov-rlhybrid' rlmf\n",
    "model_name='markov-ibl-mb'\n",
    "r1, r0 = 1,-1\n",
    "params = {'REWARD': {'B1': (r1, r0), 'B2': (r1, r0), 'C1': (r1, r0), 'C2': (r1, r0)}}\n",
    "\n",
    "\n",
    "m = MarkovIBL(verbose=1, model=model_name)\n",
    "m.update_parameters(**params, decay=.1, p_parameter=.5)\n",
    "m.run_experiment(n=5) "
   ]
  },
  {
   "cell_type": "code",
   "execution_count": 3,
   "id": "11226a61-9dcd-4960-8e73-acc541dd9c72",
   "metadata": {},
   "outputs": [],
   "source": [
    "# pprint.pprint(m.memory) #dm"
   ]
  },
  {
   "cell_type": "code",
   "execution_count": 4,
   "id": "a2c0500f-5b8e-441a-b774-c93d3614d9af",
   "metadata": {},
   "outputs": [],
   "source": [
    "# pprint.pprint(m.memory.activation_history) #dm"
   ]
  },
  {
   "cell_type": "code",
   "execution_count": 5,
   "id": "f31b3452-1a52-4b80-b1eb-80263e094af2",
   "metadata": {},
   "outputs": [
    {
     "data": {
      "application/json": {
       "ascii": false,
       "bar_format": null,
       "colour": null,
       "elapsed": 0.039183855056762695,
       "initial": 0,
       "n": 0,
       "ncols": null,
       "nrows": null,
       "postfix": null,
       "prefix": "",
       "rate": null,
       "total": 100,
       "unit": "it",
       "unit_divisor": 1000,
       "unit_scale": false
      },
      "application/vnd.jupyter.widget-view+json": {
       "model_id": "f89309786942447e898c0081dc2c84c4",
       "version_major": 2,
       "version_minor": 0
      },
      "text/plain": [
       "  0%|          | 0/100 [00:00<?, ?it/s]"
      ]
     },
     "metadata": {},
     "output_type": "display_data"
    },
    {
     "name": "stdout",
     "output_type": "stream",
     "text": [
      "################## SETUP MODEL markov-ibl-mb ##################\n",
      "{'MARKOV_PROBABILITY': 0.7, 'REWARD_PROBABILITY': 'LOAD', 'REWARD': {'B1': (1, -1), 'B2': (1, -1), 'C1': (1, -1), 'C2': (1, -1)}, 'alpha1': 0.5, 'alpha2': 0.5, 'beta1': 5, 'beta2': 5, 'lambda_parameter': 0.2, 'p_parameter': 0, 'w_parameter': 0, 'noise': 0.2, 'decay': 0.5}\n"
     ]
    },
    {
     "data": {
      "image/png": "[encoded data removed]",
      "text/plain": [
       "<Figure size 432x288 with 1 Axes>"
      ]
     },
     "metadata": {
      "needs_background": "light"
     },
     "output_type": "display_data"
    }
   ],
   "source": [
    "df = MarkovSimulation.run_simulations(model=model_name, e=100, verbose=True, \\\n",
    "                                      **params, \\\n",
    "                                      alpha1=.5, alpha2=.5, \\\n",
    "                                      beta1=5, beta2=5, \\\n",
    "                                      p_parameter=0, lambda_parameter=.2, w_parameter=0,\n",
    "                                      noise=.2, decay=.5)\n",
    "Plot.plot_response_switch(df, model_name=model_name, dep_var_suffix=\"_mean\", barplot=True)"
   ]
  },
  {
   "cell_type": "code",
   "execution_count": 6,
   "id": "90dfdf10-6d6c-4453-93c5-fbe8fa75c6b1",
   "metadata": {},
   "outputs": [
    {
     "data": {
      "application/json": {
       "ascii": false,
       "bar_format": null,
       "colour": null,
       "elapsed": 0.03973507881164551,
       "initial": 0,
       "n": 0,
       "ncols": null,
       "nrows": null,
       "postfix": null,
       "prefix": "",
       "rate": null,
       "total": 100,
       "unit": "it",
       "unit_divisor": 1000,
       "unit_scale": false
      },
      "application/vnd.jupyter.widget-view+json": {
       "model_id": "f661006ff70444e0aa1343ddc007e304",
       "version_major": 2,
       "version_minor": 0
      },
      "text/plain": [
       "  0%|          | 0/100 [00:00<?, ?it/s]"
      ]
     },
     "metadata": {},
     "output_type": "display_data"
    },
    {
     "name": "stdout",
     "output_type": "stream",
     "text": [
      "################## SETUP MODEL markov-ibl-hybrid ##################\n",
      "{'MARKOV_PROBABILITY': 0.7, 'REWARD_PROBABILITY': 'LOAD', 'REWARD': {'B1': (1, -1), 'B2': (1, -1), 'C1': (1, -1), 'C2': (1, -1)}, 'alpha1': 0.5, 'alpha2': 0.5, 'beta1': 5, 'beta2': 5, 'lambda_parameter': 0.2, 'p_parameter': 0, 'w_parameter': 0, 'noise': 0.2, 'decay': 0.5}\n"
     ]
    },
    {
     "data": {
      "image/png": "[encoded data removed]",
      "text/plain": [
       "<Figure size 432x288 with 1 Axes>"
      ]
     },
     "metadata": {
      "needs_background": "light"
     },
     "output_type": "display_data"
    }
   ],
   "source": [
    "model_name='markov-ibl-hybrid'\n",
    "df = MarkovSimulation.run_simulations(model=model_name, e=100, verbose=True, \\\n",
    "                                      **params, \\\n",
    "                                      alpha1=.5, alpha2=.5, \\\n",
    "                                      beta1=5, beta2=5, \\\n",
    "                                      p_parameter=0, lambda_parameter=.2, w_parameter=0,\n",
    "                                      noise=.2, decay=.5)\n",
    "Plot.plot_response_switch(df, model_name=model_name, dep_var_suffix=\"_mean\", barplot=True)"
   ]
  },
  {
   "cell_type": "code",
   "execution_count": null,
   "id": "41d8599c-d61a-4d35-9a93-5a72e74b1a11",
   "metadata": {},
   "outputs": [],
   "source": []
  },
  {
   "cell_type": "code",
   "execution_count": null,
   "id": "5e21a8d1-122b-4ef1-9c39-11946f1f4c6d",
   "metadata": {},
   "outputs": [],
   "source": []
  },
  {
   "cell_type": "code",
   "execution_count": null,
   "id": "0af5763c-cad6-4a56-b881-13460472df0e",
   "metadata": {},
   "outputs": [],
   "source": []
  }
 ],
 "metadata": {
  "kernelspec": {
   "display_name": "Python 3",
   "language": "python",
   "name": "python3"
  },
  "language_info": {
   "codemirror_mode": {
    "name": "ipython",
    "version": 3
   },
   "file_extension": ".py",
   "mimetype": "text/x-python",
   "name": "python",
   "nbconvert_exporter": "python",
   "pygments_lexer": "ipython3",
   "version": "3.8.6"
  }
 },
 "nbformat": 4,
 "nbformat_minor": 5
}
