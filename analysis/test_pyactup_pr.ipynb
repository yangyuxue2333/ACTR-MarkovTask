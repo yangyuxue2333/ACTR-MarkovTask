{
 "cells": [
  {
   "cell_type": "code",
   "execution_count": 1,
   "id": "848f725d-7b31-4899-9913-9d7266ebf80c",
   "metadata": {},
   "outputs": [
    {
     "name": "stdout",
     "output_type": "stream",
     "text": [
      "Error trying to connect to ACT-R at 127.0.0.1 : 2651 with exception (<class 'ConnectionRefusedError'>, ConnectionRefusedError(111, 'Connection refused'), <traceback object at 0x7fbdf08c0900>)\n",
      "ACT-R connection NOT established, but no exception detected or already handled.\n",
      "Could not start ACT-R connection.\n"
     ]
    }
   ],
   "source": [
    "import sys\n",
    "import os\n",
    "\n",
    "SCRIPT_PATH = os.path.join(os.path.abspath(os.path.dirname('../__file__')), 'script')\n",
    "sys.path.insert(0, SCRIPT_PATH)\n",
    "\n",
    "\n",
    "from markov_pyactup import *\n",
    "from statsmodels.formula.api import logit, glm\n",
    "import statsmodels.api as sm\n",
    "import statsmodels.formula.api as smf\n",
    "from scipy import stats\n",
    "import matplotlib.pyplot as plt\n",
    "import seaborn as sns\n",
    "import glob\n",
    "from matplotlib.ticker import (MultipleLocator, AutoMinorLocator)\n",
    "\n",
    "\n",
    "main_dir = os.path.dirname(os.getcwd())\n",
    "subject_dir = os.path.join(main_dir, 'data', 'human', '\"online_data')\n",
    "pr_dir = os.path.join(main_dir, 'data', 'model', 'param_recovery')\n",
    "opt_dir = os.path.join(main_dir, 'data', 'model', 'param_optimization_0403')\n",
    "\n",
    "main_dir, subject_dir, opt_dir\n",
    "\n",
    "sns.set_theme(style=\"white\", rc={\"axes.spines.right\": True, \"axes.spines.top\": True}, font_scale=1.3)"
   ]
  },
  {
   "cell_type": "markdown",
   "id": "927e78f7-0dbf-47e7-8263-63fee5c58eac",
   "metadata": {},
   "source": [
    "## Run Parameter Recovery "
   ]
  },
  {
   "cell_type": "code",
   "execution_count": null,
   "id": "787986d6-dfc2-4087-9dac-1bbe4517120e",
   "metadata": {},
   "outputs": [
    {
     "name": "stdout",
     "output_type": "stream",
     "text": [
      "...SKIP ORI OPT...\n",
      "...SKIP SINGLE RUN SIM...\n",
      "START OPT REC...\n",
      "... SAVED optimized parameter data ...[1] [markov-rl-hybrid]\n",
      "... SAVED optimized parameter data ...[1] [markov-ibl-hybrid]\n",
      "... SAVED optimized parameter data ...[2] [markov-rl-hybrid]\n",
      "... SAVED optimized parameter data ...[2] [markov-ibl-hybrid]\n",
      "... SAVED optimized parameter data ...[3] [markov-rl-hybrid]\n",
      "... SAVED optimized parameter data ...[3] [markov-ibl-hybrid]\n",
      "... SAVED optimized parameter data ...[4] [markov-rl-hybrid]\n",
      "... SAVED optimized parameter data ...[4] [markov-ibl-hybrid]\n",
      "... SAVED optimized parameter data ...[5] [markov-rl-hybrid]\n",
      "... SAVED optimized parameter data ...[5] [markov-ibl-hybrid]\n",
      "... SAVED optimized parameter data ...[6] [markov-rl-hybrid]\n",
      "... SAVED optimized parameter data ...[6] [markov-ibl-hybrid]\n",
      "... SAVED optimized parameter data ...[7] [markov-rl-hybrid]\n",
      "... SAVED optimized parameter data ...[7] [markov-ibl-hybrid]\n",
      "... SAVED optimized parameter data ...[8] [markov-rl-hybrid]\n",
      "... SAVED optimized parameter data ...[8] [markov-ibl-hybrid]\n",
      "... SAVED optimized parameter data ...[9] [markov-rl-hybrid]\n",
      "... SAVED optimized parameter data ...[9] [markov-ibl-hybrid]\n",
      "... SAVED optimized parameter data ...[10] [markov-rl-hybrid]\n",
      "... SAVED optimized parameter data ...[10] [markov-ibl-hybrid]\n",
      "... SAVED optimized parameter data ...[11] [markov-rl-hybrid]\n",
      "... SAVED optimized parameter data ...[11] [markov-ibl-hybrid]\n",
      "... SAVED optimized parameter data ...[12] [markov-rl-hybrid]\n",
      "... SAVED optimized parameter data ...[12] [markov-ibl-hybrid]\n",
      "... SAVED optimized parameter data ...[13] [markov-rl-hybrid]\n",
      "... SAVED optimized parameter data ...[13] [markov-ibl-hybrid]\n",
      "... SAVED optimized parameter data ...[14] [markov-rl-hybrid]\n",
      "... SAVED optimized parameter data ...[14] [markov-ibl-hybrid]\n",
      "... SAVED optimized parameter data ...[15] [markov-rl-hybrid]\n",
      "... SAVED optimized parameter data ...[15] [markov-ibl-hybrid]\n",
      "... SAVED optimized parameter data ...[16] [markov-rl-hybrid]\n",
      "... SAVED optimized parameter data ...[16] [markov-ibl-hybrid]\n",
      "... SAVED optimized parameter data ...[17] [markov-rl-hybrid]\n",
      "... SAVED optimized parameter data ...[17] [markov-ibl-hybrid]\n",
      "... SAVED optimized parameter data ...[18] [markov-rl-hybrid]\n",
      "... SAVED optimized parameter data ...[18] [markov-ibl-hybrid]\n",
      "... SAVED optimized parameter data ...[19] [markov-rl-hybrid]\n",
      "... SAVED optimized parameter data ...[19] [markov-ibl-hybrid]\n",
      "... SAVED optimized parameter data ...[20] [markov-rl-hybrid]\n",
      "... SAVED optimized parameter data ...[20] [markov-ibl-hybrid]\n",
      "... SAVED optimized parameter data ...[21] [markov-rl-hybrid]\n",
      "... SAVED optimized parameter data ...[21] [markov-ibl-hybrid]\n",
      "... SAVED optimized parameter data ...[22] [markov-rl-hybrid]\n",
      "... SAVED optimized parameter data ...[22] [markov-ibl-hybrid]\n",
      "... SAVED optimized parameter data ...[23] [markov-rl-hybrid]\n",
      "... SAVED optimized parameter data ...[23] [markov-ibl-hybrid]\n",
      "... SAVED optimized parameter data ...[24] [markov-rl-hybrid]\n",
      "... SAVED optimized parameter data ...[24] [markov-ibl-hybrid]\n",
      "... SAVED optimized parameter data ...[25] [markov-rl-hybrid]\n",
      "... SAVED optimized parameter data ...[25] [markov-ibl-hybrid]\n",
      "... SAVED optimized parameter data ...[26] [markov-rl-hybrid]\n",
      "... SAVED optimized parameter data ...[26] [markov-ibl-hybrid]\n",
      "... SAVED optimized parameter data ...[27] [markov-rl-hybrid]\n",
      "... SAVED optimized parameter data ...[27] [markov-ibl-hybrid]\n",
      "... SAVED optimized parameter data ...[28] [markov-rl-hybrid]\n",
      "... SAVED optimized parameter data ...[28] [markov-ibl-hybrid]\n",
      "... SAVED optimized parameter data ...[29] [markov-rl-hybrid]\n",
      "... SAVED optimized parameter data ...[29] [markov-ibl-hybrid]\n",
      "... SAVED optimized parameter data ...[30] [markov-rl-hybrid]\n",
      "... SAVED optimized parameter data ...[30] [markov-ibl-hybrid]\n",
      "... SAVED optimized parameter data ...[31] [markov-rl-hybrid]\n",
      "... SAVED optimized parameter data ...[31] [markov-ibl-hybrid]\n",
      "... SAVED optimized parameter data ...[32] [markov-rl-hybrid]\n",
      "... SAVED optimized parameter data ...[32] [markov-ibl-hybrid]\n",
      "... SAVED optimized parameter data ...[33] [markov-rl-hybrid]\n",
      "... SAVED optimized parameter data ...[33] [markov-ibl-hybrid]\n",
      "... SAVED optimized parameter data ...[34] [markov-rl-hybrid]\n",
      "... SAVED optimized parameter data ...[34] [markov-ibl-hybrid]\n",
      "... SAVED optimized parameter data ...[35] [markov-rl-hybrid]\n",
      "... SAVED optimized parameter data ...[35] [markov-ibl-hybrid]\n",
      "... SAVED optimized parameter data ...[36] [markov-rl-hybrid]\n",
      "... SAVED optimized parameter data ...[36] [markov-ibl-hybrid]\n",
      "... SAVED optimized parameter data ...[37] [markov-rl-hybrid]\n",
      "... SAVED optimized parameter data ...[37] [markov-ibl-hybrid]\n",
      "... SAVED optimized parameter data ...[38] [markov-rl-hybrid]\n",
      "... SAVED optimized parameter data ...[38] [markov-ibl-hybrid]\n",
      "... SAVED optimized parameter data ...[39] [markov-rl-hybrid]\n",
      "... SAVED optimized parameter data ...[39] [markov-ibl-hybrid]\n",
      "... SAVED optimized parameter data ...[40] [markov-rl-hybrid]\n",
      "... SAVED optimized parameter data ...[40] [markov-ibl-hybrid]\n",
      "... SAVED optimized parameter data ...[41] [markov-rl-hybrid]\n",
      "... SAVED optimized parameter data ...[41] [markov-ibl-hybrid]\n",
      "... SAVED optimized parameter data ...[42] [markov-rl-hybrid]\n",
      "... SAVED optimized parameter data ...[42] [markov-ibl-hybrid]\n",
      "... SAVED optimized parameter data ...[43] [markov-rl-hybrid]\n",
      "... SAVED optimized parameter data ...[43] [markov-ibl-hybrid]\n",
      "... SAVED optimized parameter data ...[44] [markov-rl-hybrid]\n",
      "... SAVED optimized parameter data ...[44] [markov-ibl-hybrid]\n",
      "... SAVED optimized parameter data ...[45] [markov-rl-hybrid]\n",
      "... SAVED optimized parameter data ...[45] [markov-ibl-hybrid]\n",
      "... SAVED optimized parameter data ...[46] [markov-rl-hybrid]\n",
      "... SAVED optimized parameter data ...[46] [markov-ibl-hybrid]\n",
      "... SAVED optimized parameter data ...[47] [markov-rl-hybrid]\n",
      "... SAVED optimized parameter data ...[47] [markov-ibl-hybrid]\n",
      "... SAVED optimized parameter data ...[48] [markov-rl-hybrid]\n"
     ]
    }
   ],
   "source": [
    "MarkovSimulation.simulate_param_recovery(pr_dir=pr_dir, load_opt=False, verbose=True)"
   ]
  },
  {
   "cell_type": "markdown",
   "id": "1068fb09-fc1f-408f-bf80-7875e9941012",
   "metadata": {},
   "source": [
    "## Correlation"
   ]
  },
  {
   "cell_type": "code",
   "execution_count": null,
   "id": "ff254685-0118-4b34-b880-900e56560220",
   "metadata": {},
   "outputs": [],
   "source": [
    "df_ori = pd.concat([pd.read_csv(f) for f in glob.glob(os.path.join(pr_dir, '*ori*', '*'))], axis=0).melt(id_vars=['subject_id', 'estimate_model'], var_name='param_name', value_name='param_value').sort_values(by = ['subject_id', 'estimate_model'])\n",
    "df_rec = pd.concat([pd.read_csv(f) for f in glob.glob(os.path.join(pr_dir, '*rec*', '*'))], axis=0).melt(id_vars=['subject_id', 'estimate_model'], var_name='param_name', value_name='param_value').sort_values(by = ['subject_id', 'estimate_model'])"
   ]
  },
  {
   "cell_type": "code",
   "execution_count": null,
   "id": "08aff17b-2455-4086-aef2-65088919b44a",
   "metadata": {},
   "outputs": [],
   "source": [
    "dfm1 = pd.merge(df_ori[df_ori['estimate_model']=='markov-rl-hybrid'], df_rec[df_rec['estimate_model']=='markov-rl-hybrid'], \n",
    "         on=['subject_id', 'param_name', 'estimate_model'], suffixes=('.ori', '.rec')).drop_duplicates()\n",
    "dfm2 = pd.merge(df_ori[df_ori['estimate_model']=='markov-ibl-hybrid'], df_rec[df_rec['estimate_model']=='markov-ibl-hybrid'],\n",
    "         on=['subject_id', 'param_name', 'estimate_model'], suffixes=('.ori', '.rec'))"
   ]
  },
  {
   "cell_type": "code",
   "execution_count": null,
   "id": "fda0ee8d-587b-4283-85b2-4edf99a50575",
   "metadata": {},
   "outputs": [],
   "source": [
    "MarkovPlot.parameter_lm_plot(df=dfm1, x_name='param_value.ori', y_name='param_value.rec', exclude_parameters=['temperature', 'decay', 'lf', 'fixed_cost'], alpha=.1)"
   ]
  },
  {
   "cell_type": "code",
   "execution_count": null,
   "id": "bddeea54-4eee-4da0-88d2-edcde1cfcc4d",
   "metadata": {},
   "outputs": [],
   "source": [
    "MarkovPlot.parameter_lm_plot(df=dfm2, x_name='param_value.ori', y_name='param_value.rec', exclude_parameters=['beta', 'lf', 'fixed_cost'], alpha=.1)"
   ]
  },
  {
   "cell_type": "code",
   "execution_count": null,
   "id": "37e8349f-9f74-4af8-a1a8-278ce786636b",
   "metadata": {},
   "outputs": [],
   "source": []
  },
  {
   "cell_type": "code",
   "execution_count": null,
   "id": "7155fcec-9a89-4e62-9eb4-59860510869f",
   "metadata": {},
   "outputs": [],
   "source": []
  },
  {
   "cell_type": "code",
   "execution_count": null,
   "id": "aac44956-5d25-44c1-9ff4-14affad4a2f8",
   "metadata": {},
   "outputs": [],
   "source": []
  }
 ],
 "metadata": {
  "kernelspec": {
   "display_name": "Python 3 (ipykernel)",
   "language": "python",
   "name": "python3"
  },
  "language_info": {
   "codemirror_mode": {
    "name": "ipython",
    "version": 3
   },
   "file_extension": ".py",
   "mimetype": "text/x-python",
   "name": "python",
   "nbconvert_exporter": "python",
   "pygments_lexer": "ipython3",
   "version": "3.9.0"
  }
 },
 "nbformat": 4,
 "nbformat_minor": 5
}
