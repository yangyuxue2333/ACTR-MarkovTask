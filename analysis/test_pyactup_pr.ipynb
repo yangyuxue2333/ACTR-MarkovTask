{
 "cells": [
  {
   "cell_type": "code",
   "execution_count": 1,
   "id": "848f725d-7b31-4899-9913-9d7266ebf80c",
   "metadata": {},
   "outputs": [
    {
     "name": "stdout",
     "output_type": "stream",
     "text": [
      "Error trying to connect to ACT-R at 127.0.0.1 : 2651 with exception (<class 'ConnectionRefusedError'>, ConnectionRefusedError(111, 'Connection refused'), <traceback object at 0x7f4becafe900>)\n",
      "ACT-R connection NOT established, but no exception detected or already handled.\n",
      "Could not start ACT-R connection.\n"
     ]
    }
   ],
   "source": [
    "import sys\n",
    "import os\n",
    "\n",
    "SCRIPT_PATH = os.path.join(os.path.abspath(os.path.dirname('../__file__')), 'script')\n",
    "sys.path.insert(0, SCRIPT_PATH)\n",
    "\n",
    "\n",
    "from markov_pyactup import *\n",
    "from statsmodels.formula.api import logit, glm\n",
    "import statsmodels.api as sm\n",
    "import statsmodels.formula.api as smf\n",
    "from scipy import stats\n",
    "import matplotlib.pyplot as plt\n",
    "import seaborn as sns\n",
    "import glob\n",
    "from matplotlib.ticker import (MultipleLocator, AutoMinorLocator)\n",
    "\n",
    "\n",
    "main_dir = os.path.dirname(os.getcwd())\n",
    "subject_dir = os.path.join(main_dir, 'data', 'human', '\"online_data')\n",
    "pr_dir = os.path.join(main_dir, 'data', 'model', 'param_recovery')\n",
    "opt_dir = os.path.join(main_dir, 'data', 'model', 'param_optimization_0403')\n",
    "\n",
    "main_dir, subject_dir, opt_dir\n",
    "\n",
    "sns.set_theme(style=\"white\", rc={\"axes.spines.right\": True, \"axes.spines.top\": True}, font_scale=1.3)"
   ]
  },
  {
   "cell_type": "markdown",
   "id": "927e78f7-0dbf-47e7-8263-63fee5c58eac",
   "metadata": {},
   "source": [
    "## Run Parameter Recovery "
   ]
  },
  {
   "cell_type": "code",
   "execution_count": 4,
   "id": "b80d5326-1070-4a7d-8693-f20260aa793c",
   "metadata": {},
   "outputs": [
    {
     "data": {
      "text/html": [
       "<div>\n",
       "<style scoped>\n",
       "    .dataframe tbody tr th:only-of-type {\n",
       "        vertical-align: middle;\n",
       "    }\n",
       "\n",
       "    .dataframe tbody tr th {\n",
       "        vertical-align: top;\n",
       "    }\n",
       "\n",
       "    .dataframe thead th {\n",
       "        text-align: right;\n",
       "    }\n",
       "</style>\n",
       "<table border=\"1\" class=\"dataframe\">\n",
       "  <thead>\n",
       "    <tr style=\"text-align: right;\">\n",
       "      <th></th>\n",
       "      <th>alpha</th>\n",
       "      <th>beta</th>\n",
       "      <th>lambda_parameter</th>\n",
       "      <th>p_parameter</th>\n",
       "      <th>w_parameter</th>\n",
       "      <th>temperature</th>\n",
       "      <th>decay</th>\n",
       "      <th>lf</th>\n",
       "      <th>fixed_cost</th>\n",
       "      <th>maxLL</th>\n",
       "      <th>estimate_model</th>\n",
       "      <th>subject_id</th>\n",
       "    </tr>\n",
       "  </thead>\n",
       "  <tbody>\n",
       "    <tr>\n",
       "      <th>0</th>\n",
       "      <td>1.0000</td>\n",
       "      <td>1.0047</td>\n",
       "      <td>0.7697</td>\n",
       "      <td>0.0</td>\n",
       "      <td>0.2887</td>\n",
       "      <td>0.2000</td>\n",
       "      <td>0.5000</td>\n",
       "      <td>0.5</td>\n",
       "      <td>0.0</td>\n",
       "      <td>-264.9156</td>\n",
       "      <td>markov-rl-hybrid</td>\n",
       "      <td>1</td>\n",
       "    </tr>\n",
       "    <tr>\n",
       "      <th>1</th>\n",
       "      <td>0.9320</td>\n",
       "      <td>2.2464</td>\n",
       "      <td>0.3731</td>\n",
       "      <td>0.0</td>\n",
       "      <td>0.3629</td>\n",
       "      <td>1.8174</td>\n",
       "      <td>1.3051</td>\n",
       "      <td>0.5</td>\n",
       "      <td>0.0</td>\n",
       "      <td>-268.9632</td>\n",
       "      <td>markov-ibl-hybrid</td>\n",
       "      <td>1</td>\n",
       "    </tr>\n",
       "    <tr>\n",
       "      <th>2</th>\n",
       "      <td>0.9459</td>\n",
       "      <td>0.9394</td>\n",
       "      <td>0.5169</td>\n",
       "      <td>0.0</td>\n",
       "      <td>0.0000</td>\n",
       "      <td>0.2000</td>\n",
       "      <td>0.5000</td>\n",
       "      <td>0.5</td>\n",
       "      <td>0.0</td>\n",
       "      <td>-267.8429</td>\n",
       "      <td>markov-rl-hybrid</td>\n",
       "      <td>2</td>\n",
       "    </tr>\n",
       "    <tr>\n",
       "      <th>3</th>\n",
       "      <td>0.5590</td>\n",
       "      <td>1.4825</td>\n",
       "      <td>0.5180</td>\n",
       "      <td>0.0</td>\n",
       "      <td>0.1036</td>\n",
       "      <td>1.0372</td>\n",
       "      <td>0.9914</td>\n",
       "      <td>0.5</td>\n",
       "      <td>0.0</td>\n",
       "      <td>-270.1964</td>\n",
       "      <td>markov-ibl-hybrid</td>\n",
       "      <td>2</td>\n",
       "    </tr>\n",
       "  </tbody>\n",
       "</table>\n",
       "</div>"
      ],
      "text/plain": [
       "    alpha    beta  lambda_parameter  p_parameter  w_parameter  temperature  \\\n",
       "0  1.0000  1.0047            0.7697          0.0       0.2887       0.2000   \n",
       "1  0.9320  2.2464            0.3731          0.0       0.3629       1.8174   \n",
       "2  0.9459  0.9394            0.5169          0.0       0.0000       0.2000   \n",
       "3  0.5590  1.4825            0.5180          0.0       0.1036       1.0372   \n",
       "\n",
       "    decay   lf  fixed_cost     maxLL     estimate_model  subject_id  \n",
       "0  0.5000  0.5         0.0 -264.9156   markov-rl-hybrid           1  \n",
       "1  1.3051  0.5         0.0 -268.9632  markov-ibl-hybrid           1  \n",
       "2  0.5000  0.5         0.0 -267.8429   markov-rl-hybrid           2  \n",
       "3  0.9914  0.5         0.0 -270.1964  markov-ibl-hybrid           2  "
      ]
     },
     "execution_count": 4,
     "metadata": {},
     "output_type": "execute_result"
    }
   ],
   "source": [
    "subject_ids = [1,2]\n",
    "dfo = MarkovEstimation.load_optimization_data(opt_dir=opt_dir,\n",
    "                                      estimate_models=['markov-rl-hybrid', 'markov-ibl-hybrid'],\n",
    "                                      long_format=False,\n",
    "                                      only_maxLL=True)\n",
    "dfo[dfo['subject_id'].isin(subject_ids)]\n"
   ]
  },
  {
   "cell_type": "code",
   "execution_count": 2,
   "id": "787986d6-dfc2-4087-9dac-1bbe4517120e",
   "metadata": {},
   "outputs": [
    {
     "name": "stdout",
     "output_type": "stream",
     "text": [
      "...SKIP ORI OPT...\n",
      "...SKIP SINGLE RUN SIM...\n",
      "START OPT REC...\n"
     ]
    },
    {
     "name": "stderr",
     "output_type": "stream",
     "text": [
      "\n",
      "KeyboardInterrupt\n",
      "\n"
     ]
    }
   ],
   "source": [
    "MarkovSimulation.simulate_param_recovery(pr_dir=pr_dir, load_opt=True, verbose=True, overwrite=False)"
   ]
  },
  {
   "cell_type": "markdown",
   "id": "1068fb09-fc1f-408f-bf80-7875e9941012",
   "metadata": {},
   "source": [
    "## Correlation"
   ]
  },
  {
   "cell_type": "code",
   "execution_count": null,
   "id": "ff254685-0118-4b34-b880-900e56560220",
   "metadata": {},
   "outputs": [],
   "source": [
    "df_ori = pd.concat([pd.read_csv(f) for f in glob.glob(os.path.join(pr_dir, '*ori*', '*'))], axis=0).melt(id_vars=['subject_id', 'estimate_model'], var_name='param_name', value_name='param_value').sort_values(by = ['subject_id', 'estimate_model'])\n",
    "df_rec = pd.concat([pd.read_csv(f) for f in glob.glob(os.path.join(pr_dir, '*rec*', '*'))], axis=0).melt(id_vars=['subject_id', 'estimate_model'], var_name='param_name', value_name='param_value').sort_values(by = ['subject_id', 'estimate_model'])"
   ]
  },
  {
   "cell_type": "code",
   "execution_count": null,
   "id": "08aff17b-2455-4086-aef2-65088919b44a",
   "metadata": {},
   "outputs": [],
   "source": [
    "dfm1 = pd.merge(df_ori[df_ori['estimate_model']=='markov-rl-hybrid'], df_rec[df_rec['estimate_model']=='markov-rl-hybrid'], \n",
    "         on=['subject_id', 'param_name', 'estimate_model'], suffixes=('.ori', '.rec')).drop_duplicates()\n",
    "dfm2 = pd.merge(df_ori[df_ori['estimate_model']=='markov-ibl-hybrid'], df_rec[df_rec['estimate_model']=='markov-ibl-hybrid'],\n",
    "         on=['subject_id', 'param_name', 'estimate_model'], suffixes=('.ori', '.rec'))"
   ]
  },
  {
   "cell_type": "code",
   "execution_count": null,
   "id": "fda0ee8d-587b-4283-85b2-4edf99a50575",
   "metadata": {},
   "outputs": [],
   "source": [
    "MarkovPlot.parameter_lm_plot(df=dfm1, x_name='param_value.ori', y_name='param_value.rec', exclude_parameters=['temperature', 'decay', 'lf', 'fixed_cost'], alpha=.1)"
   ]
  },
  {
   "cell_type": "code",
   "execution_count": null,
   "id": "bddeea54-4eee-4da0-88d2-edcde1cfcc4d",
   "metadata": {},
   "outputs": [],
   "source": [
    "MarkovPlot.parameter_lm_plot(df=dfm2, x_name='param_value.ori', y_name='param_value.rec', exclude_parameters=['beta', 'lf', 'fixed_cost'], alpha=.1)"
   ]
  },
  {
   "cell_type": "code",
   "execution_count": null,
   "id": "37e8349f-9f74-4af8-a1a8-278ce786636b",
   "metadata": {},
   "outputs": [],
   "source": []
  },
  {
   "cell_type": "code",
   "execution_count": null,
   "id": "7155fcec-9a89-4e62-9eb4-59860510869f",
   "metadata": {},
   "outputs": [],
   "source": []
  },
  {
   "cell_type": "code",
   "execution_count": null,
   "id": "aac44956-5d25-44c1-9ff4-14affad4a2f8",
   "metadata": {},
   "outputs": [],
   "source": []
  }
 ],
 "metadata": {
  "kernelspec": {
   "display_name": "Python 3 (ipykernel)",
   "language": "python",
   "name": "python3"
  },
  "language_info": {
   "codemirror_mode": {
    "name": "ipython",
    "version": 3
   },
   "file_extension": ".py",
   "mimetype": "text/x-python",
   "name": "python",
   "nbconvert_exporter": "python",
   "pygments_lexer": "ipython3",
   "version": "3.9.0"
  }
 },
 "nbformat": 4,
 "nbformat_minor": 5
}
