{
 "cells": [
  {
   "cell_type": "code",
   "execution_count": 1,
   "id": "848f725d-7b31-4899-9913-9d7266ebf80c",
   "metadata": {},
   "outputs": [
    {
     "name": "stdout",
     "output_type": "stream",
     "text": [
      "Error trying to connect to ACT-R at 127.0.0.1 : 2651 with exception (<class 'ConnectionRefusedError'>, ConnectionRefusedError(111, 'Connection refused'), <traceback object at 0x7f43babcd940>)\n",
      "ACT-R connection NOT established, but no exception detected or already handled.\n",
      "Could not start ACT-R connection.\n"
     ]
    }
   ],
   "source": [
    "import sys\n",
    "import os\n",
    "\n",
    "SCRIPT_PATH = os.path.join(os.path.abspath(os.path.dirname('../__file__')), 'script')\n",
    "sys.path.insert(0, SCRIPT_PATH)\n",
    "\n",
    "\n",
    "from markov_pyactup import *\n",
    "from statsmodels.formula.api import logit, glm\n",
    "import statsmodels.api as sm\n",
    "import statsmodels.formula.api as smf\n",
    "from scipy import stats\n",
    "import matplotlib.pyplot as plt\n",
    "import seaborn as sns\n",
    "import glob\n",
    "from matplotlib.ticker import (MultipleLocator, AutoMinorLocator)\n",
    "\n",
    "\n",
    "main_dir = os.path.dirname(os.getcwd())\n",
    "subject_dir = os.path.join(main_dir, 'data', 'human', '\"online_data')\n",
    "pr_dir = os.path.join(main_dir, 'data', 'model', 'param_recovery_test')\n",
    "main_dir, subject_dir\n",
    "\n",
    "sns.set_theme(style=\"white\", rc={\"axes.spines.right\": True, \"axes.spines.top\": True}, font_scale=1.3)"
   ]
  },
  {
   "cell_type": "markdown",
   "id": "927e78f7-0dbf-47e7-8263-63fee5c58eac",
   "metadata": {},
   "source": [
    "## Run Parameter Recovery "
   ]
  },
  {
   "cell_type": "code",
   "execution_count": null,
   "id": "787986d6-dfc2-4087-9dac-1bbe4517120e",
   "metadata": {},
   "outputs": [
    {
     "name": "stdout",
     "output_type": "stream",
     "text": [
      "START OPT ORI...\n",
      "... SAVED optimized parameter data ...[1] [markov-rl-hybrid]\n",
      "... SAVED optimized parameter data ...[1] [markov-ibl-hybrid]\n",
      "... SAVED optimized parameter data ...[2] [markov-rl-hybrid]\n",
      "... SAVED optimized parameter data ...[2] [markov-ibl-hybrid]\n",
      "... SAVED optimized parameter data ...[3] [markov-rl-hybrid]\n",
      "... SAVED optimized parameter data ...[3] [markov-ibl-hybrid]\n",
      "... SAVED optimized parameter data ...[4] [markov-rl-hybrid]\n",
      "... SAVED optimized parameter data ...[4] [markov-ibl-hybrid]\n",
      "... SAVED optimized parameter data ...[5] [markov-rl-hybrid]\n",
      "... SAVED optimized parameter data ...[5] [markov-ibl-hybrid]\n",
      "... SAVED optimized parameter data ...[6] [markov-rl-hybrid]\n",
      "... SAVED optimized parameter data ...[6] [markov-ibl-hybrid]\n",
      "... SAVED optimized parameter data ...[7] [markov-rl-hybrid]\n",
      "... SAVED optimized parameter data ...[7] [markov-ibl-hybrid]\n",
      "... SAVED optimized parameter data ...[8] [markov-rl-hybrid]\n",
      "... SAVED optimized parameter data ...[8] [markov-ibl-hybrid]\n",
      "... SAVED optimized parameter data ...[9] [markov-rl-hybrid]\n",
      "... SAVED optimized parameter data ...[9] [markov-ibl-hybrid]\n"
     ]
    }
   ],
   "source": [
    "MarkovSimulation.simulate_param_recovery(pr_dir=pr_dir, verbose=True)"
   ]
  },
  {
   "cell_type": "markdown",
   "id": "1068fb09-fc1f-408f-bf80-7875e9941012",
   "metadata": {},
   "source": [
    "## Correlation"
   ]
  },
  {
   "cell_type": "code",
   "execution_count": null,
   "id": "ff254685-0118-4b34-b880-900e56560220",
   "metadata": {},
   "outputs": [],
   "source": [
    "df_ori = pd.concat([pd.read_csv(f) for f in glob.glob(os.path.join(pr_dir, '*ori*', '*'))], axis=0).melt(id_vars=['subject_id', 'estimate_model'], var_name='param_name', value_name='param_value').sort_values(by = ['subject_id', 'estimate_model'])\n",
    "df_rec = pd.concat([pd.read_csv(f) for f in glob.glob(os.path.join(pr_dir, '*rec*', '*'))], axis=0).melt(id_vars=['subject_id', 'estimate_model'], var_name='param_name', value_name='param_value').sort_values(by = ['subject_id', 'estimate_model'])"
   ]
  },
  {
   "cell_type": "code",
   "execution_count": null,
   "id": "08aff17b-2455-4086-aef2-65088919b44a",
   "metadata": {},
   "outputs": [],
   "source": [
    "dfm = pd.merge(df_ori.drop(['estimate_model'], axis=1), df_rec.drop(['estimate_model'], axis=1), \n",
    "         on=['subject_id', 'param_name'], suffixes=('.ori', '.rec'))"
   ]
  },
  {
   "cell_type": "code",
   "execution_count": null,
   "id": "fda0ee8d-587b-4283-85b2-4edf99a50575",
   "metadata": {},
   "outputs": [],
   "source": [
    "MarkovPlot.parameter_lm_plot(df=dfm, x_name='param_value.ori', y_name='param_value.rec', exclude_parameters=['lf', 'fixed_cost'], alpha=.1)"
   ]
  },
  {
   "cell_type": "code",
   "execution_count": null,
   "id": "bddeea54-4eee-4da0-88d2-edcde1cfcc4d",
   "metadata": {},
   "outputs": [],
   "source": []
  }
 ],
 "metadata": {
  "kernelspec": {
   "display_name": "Python 3 (ipykernel)",
   "language": "python",
   "name": "python3"
  },
  "language_info": {
   "codemirror_mode": {
    "name": "ipython",
    "version": 3
   },
   "file_extension": ".py",
   "mimetype": "text/x-python",
   "name": "python",
   "nbconvert_exporter": "python",
   "pygments_lexer": "ipython3",
   "version": "3.9.0"
  }
 },
 "nbformat": 4,
 "nbformat_minor": 5
}
