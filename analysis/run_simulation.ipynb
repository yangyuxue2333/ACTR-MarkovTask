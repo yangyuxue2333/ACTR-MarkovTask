{
 "cells": [
  {
   "cell_type": "code",
   "execution_count": 1,
   "id": "3bdb0a58-eb6f-4ae2-9089-bb55125443d3",
   "metadata": {},
   "outputs": [
    {
     "name": "stdout",
     "output_type": "stream",
     "text": [
      "ACT-R connection has been started.\n"
     ]
    },
    {
     "data": {
      "text/plain": [
       "'/home/chery/Documents/Github/ACTR-MarkovTask'"
      ]
     },
     "execution_count": 1,
     "metadata": {},
     "output_type": "execute_result"
    }
   ],
   "source": [
    "import sys\n",
    "import os\n",
    "\n",
    "SCRIPT_PATH = os.path.join(os.path.abspath(os.path.dirname('../__file__')), 'script')\n",
    "sys.path.insert(0, SCRIPT_PATH)\n",
    "\n",
    "from markov_simulate_test import Simulation\n",
    "import pandas as pd\n",
    "import numpy as np\n",
    "import matplotlib.pyplot as plt\n",
    "import seaborn as sns\n",
    "from pathlib import Path\n",
    "from tqdm import tqdm\n",
    "import itertools\n",
    "from tqdm import tqdm\n",
    "import time\n",
    "import pprint as p\n",
    "\n",
    "main_dir = os.path.dirname(os.getcwd())\n",
    "main_dir"
   ]
  },
  {
   "cell_type": "code",
   "execution_count": 2,
   "id": "3c2d80c3-5710-47c8-b9c7-65499fb07a19",
   "metadata": {},
   "outputs": [
    {
     "name": "stdout",
     "output_type": "stream",
     "text": [
      "TOTAL NUM PARAMETER COMBINATION [2] \n",
      "\t[TASK PARAM: (2)], \n",
      "\t[ACT-R PARAM: (1)]\n"
     ]
    }
   ],
   "source": [
    "# simulation parameter: \n",
    "e=1 # e: the number of simulation epoch\n",
    "n=20 # n: the number of trials per simulas\n",
    "\n",
    "# log parameter:\n",
    "log_dir = 'data/param_simulation_test/' # destination dir\n",
    "model_name = 'markov-model1' # model name\n",
    "\n",
    "# task parameter combination\n",
    "m = [0, 0.5, 1, 1.5]  \n",
    "r = [0.1, 5, 10]  \n",
    "random_walk = ['LOAD'] # use pre-loaded reward probability in /fixed\n",
    "\n",
    "# actr parameter combination\n",
    "ans = [0.2, 0.7]\n",
    "egs = [0.2, 0.7]\n",
    "alpha = [0.2, 0.7]\n",
    "lf = [0.5, 1]\n",
    "\n",
    "task_param_set = list(itertools.product(*[random_walk, m, r]))[:2]\n",
    "actr_param_set = list(itertools.product(*[ans, egs, alpha, lf]))[:1]\n",
    "\n",
    "print('TOTAL NUM PARAMETER COMBINATION [%d] \\n\\t[TASK PARAM: (%d)], \\n\\t[ACT-R PARAM: (%d)]' % (len(task_param_set) * len(actr_param_set), len(task_param_set), len(actr_param_set)))"
   ]
  },
  {
   "cell_type": "code",
   "execution_count": 6,
   "id": "e82c2a67-cffd-4c3d-8553-317756a94138",
   "metadata": {},
   "outputs": [
    {
     "name": "stdout",
     "output_type": "stream",
     "text": [
      "...OVERWRITE......CREATE...\n",
      "\t...COMPLETE...param_task0_actr0/\n",
      ">>> ESTIMATED ONE COMBINATION SET: RUNNING TIME (EST): [0.04] minutes <<<\n",
      "...OVERWRITE......CREATE...\n",
      "\t...COMPLETE...param_task1_actr0/\n",
      ">>> FINISHED: RUNNING TIME: [0.03] <<<\n"
     ]
    }
   ],
   "source": [
    "start_time = time.time()\n",
    "\n",
    "for i in range(len(task_param_set)):\n",
    "\n",
    "    random_walk, m, r = task_param_set[i]\n",
    "    task_params = {'REWARD': {'B1': r, 'B2': r, 'C1': r, 'C2': r}, 'RANDOM_WALK': random_walk, 'M': m}\n",
    "\n",
    "    for j in range(len(actr_param_set)): \n",
    "        \n",
    "        ans, egs, alpha, lf = actr_param_set[j]\n",
    "        actr_params = {'ans': ans, 'egs': egs, 'alpha': alpha, 'lf': lf, 'bll': 0.5, 'mas': 2}\n",
    "        \n",
    "        param_folder_id = 'param_task%d_actr%d/' % (i, j)\n",
    "\n",
    "        # check if alreay simulated\n",
    "        # log_dir = '%s%s' % (log_dir, param_folder_id)\n",
    "        dest_dir = os.path.join(main_dir, log_dir, param_folder_id)\n",
    "        if not Simulation.simple_check_exist(dest_dir=dest_dir, target_num_files=5, verbose=True, overwrite=True, special_suffix=\"*\"):\n",
    "            Simulation.simulate_stay_probability(model=model_name, epoch=e, n=n, task_params=task_params, actr_params=actr_params, log=dest_dir, verbose=False)\n",
    "            print(\"\\t...COMPLETE...%s\" % (param_folder_id))\n",
    "        else:\n",
    "            print(\"\\t...SKIP ....%s\" % (param_folder_id))\n",
    "        \n",
    "        if (i==0) and (j==0):\n",
    "            end_time = time.time()\n",
    "            print('>>> ESTIMATED ONE COMBINATION SET: RUNNING TIME (EST): [%.2f] minutes <<<' % ( (1/60) * len(task_param_set) * len(actr_param_set) * (end_time - start_time)))\n",
    "print('>>> FINISHED: RUNNING TIME: [%.2f] <<<' % ((1/60) * (time.time() - start_time)))"
   ]
  },
  {
   "cell_type": "code",
   "execution_count": null,
   "id": "d2a1f112-9c12-434b-9cba-b0e4a1f9357b",
   "metadata": {},
   "outputs": [],
   "source": []
  },
  {
   "cell_type": "code",
   "execution_count": null,
   "id": "96268e82-1bc3-44ef-b414-20354413b8c4",
   "metadata": {},
   "outputs": [],
   "source": []
  },
  {
   "cell_type": "code",
   "execution_count": null,
   "id": "ee02ef36-a4ec-4535-bf67-25e03e730b22",
   "metadata": {},
   "outputs": [],
   "source": []
  },
  {
   "cell_type": "code",
   "execution_count": null,
   "id": "062a5ccb-d20a-4e0f-8e31-dcf2620b319f",
   "metadata": {},
   "outputs": [],
   "source": []
  },
  {
   "cell_type": "code",
   "execution_count": null,
   "id": "40beef21-b027-4d7c-8272-69fd64e065db",
   "metadata": {},
   "outputs": [],
   "source": []
  },
  {
   "cell_type": "code",
   "execution_count": null,
   "id": "d9ee05e4-af71-456c-a687-77a50d272119",
   "metadata": {},
   "outputs": [],
   "source": []
  }
 ],
 "metadata": {
  "kernelspec": {
   "display_name": "Python 3 (ipykernel)",
   "language": "python",
   "name": "python3"
  },
  "language_info": {
   "codemirror_mode": {
    "name": "ipython",
    "version": 3
   },
   "file_extension": ".py",
   "mimetype": "text/x-python",
   "name": "python",
   "nbconvert_exporter": "python",
   "pygments_lexer": "ipython3",
   "version": "3.9.0"
  }
 },
 "nbformat": 4,
 "nbformat_minor": 5
}
