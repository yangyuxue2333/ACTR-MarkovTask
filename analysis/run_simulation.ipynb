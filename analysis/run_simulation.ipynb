{
 "cells": [
  {
   "cell_type": "code",
   "execution_count": 1,
   "id": "3bdb0a58-eb6f-4ae2-9089-bb55125443d3",
   "metadata": {},
   "outputs": [
    {
     "name": "stdout",
     "output_type": "stream",
     "text": [
      "ACT-R connection has been started.\n"
     ]
    }
   ],
   "source": [
    "import sys\n",
    "import os\n",
    "\n",
    "SCRIPT_PATH = os.path.join(os.path.abspath(os.path.dirname('../__file__')), 'script')\n",
    "sys.path.insert(0, SCRIPT_PATH)\n",
    "\n",
    "from markov_simulate_test import *\n",
    "import pandas as pd\n",
    "import numpy as np\n",
    "import matplotlib.pyplot as plt\n",
    "import seaborn as sns\n",
    "from pathlib import Path\n",
    "from tqdm import tqdm\n",
    "import itertools\n",
    "from tqdm import tqdm\n",
    "import time"
   ]
  },
  {
   "cell_type": "code",
   "execution_count": 2,
   "id": "8fe8c4be-8650-4b55-ac41-3becc6bc916f",
   "metadata": {},
   "outputs": [],
   "source": [
    "# task parameter combination\n",
    "m = [0, 0.5, 1, 1.5]\n",
    "r = [3, 5, 10]\n",
    "random_walk = [True]\n",
    "\n",
    "# actr parameter combination\n",
    "ans = [0.2, 0.7]\n",
    "egs = [0.2, 0.7]\n",
    "alpha = [0.2, 0.7]\n",
    "lf = [0.5, 1]\n",
    "\n",
    "task_param_set = list(itertools.product(*[random_walk, m, r]))\n",
    "actr_param_set = list(itertools.product(*[ans, egs, alpha, lf]))"
   ]
  },
  {
   "cell_type": "code",
   "execution_count": 3,
   "id": "2bfc3fea-ef73-4cbf-94c2-61d2ff1c7fa5",
   "metadata": {},
   "outputs": [
    {
     "name": "stdout",
     "output_type": "stream",
     "text": [
      "TOTAL NUM PARAMETER COMBINATION [192] \n",
      "\t[TASK PARAM: (12)], \n",
      "\t[ACT-R PARAM: (16)]\n"
     ]
    }
   ],
   "source": [
    "print('TOTAL NUM PARAMETER COMBINATION [%d] \\n\\t[TASK PARAM: (%d)], \\n\\t[ACT-R PARAM: (%d)]' % (len(task_param_set)*len(actr_param_set), len(task_param_set), len(actr_param_set)))"
   ]
  },
  {
   "cell_type": "code",
   "execution_count": 4,
   "id": "b1d2c0b1-625c-44e5-9bd3-572d24a4a4b0",
   "metadata": {},
   "outputs": [],
   "source": [
    "# actr parameter:\n",
    "# actr_params1={'seed':'nil', 'ans':0.2, 'egs':0.5, 'alpha':0.2, 'v':'nil', 'lf':1, 'bll':0.5, 'mas':2}\n",
    "# actr_params2={'seed':'nil', 'ans':0.7, 'egs':0.5, 'alpha':0.2, 'v':'nil', 'lf':.5, 'bll':0.5, 'mas':2}\n",
    "\n",
    "# simulation parameter: \n",
    "# e: the number of simulation epoch\n",
    "# n: the number of trials per simulation epoch\n",
    "e=1\n",
    "n=5\n",
    "\n",
    "# log parameter:\n",
    "log_path = 'param_simulation_test/'"
   ]
  },
  {
   "cell_type": "code",
   "execution_count": 5,
   "id": "7c113fb7-8320-4494-a92a-e1cd9caf645d",
   "metadata": {},
   "outputs": [],
   "source": [
    "def check_parameters(log_file_path, task_param_set, actr_param_set, epoch, n):\n",
    "    if not os.path.exists(log_file_path):\n",
    "        return False\n",
    "    log = pd.read_csv(log_file_path, header=0, index_col=0).drop(columns=['file_path'])\n",
    "    log_param_list = log.to_records(index=False).tolist()\n",
    "    for log_param_set in log_param_list:\n",
    "        curr_param_set = (epoch, n, \n",
    "                          actr_param_set['seed'], \n",
    "                          actr_param_set['ans'], \n",
    "                          actr_param_set['egs'], \n",
    "                          actr_param_set['alpha'], \n",
    "                          # actr_param_set['v'], \n",
    "                          actr_param_set['lf'], \n",
    "                          actr_param_set['bll'], \n",
    "                          actr_param_set['mas'],\n",
    "                          str(task_param_set['REWARD']),\n",
    "                          task_param_set['RANDOM_WALK'],\n",
    "                          task_param_set['M'])\n",
    "        \n",
    "        if log_param_set == curr_param_set:\n",
    "            return True\n",
    "    return False"
   ]
  },
  {
   "cell_type": "code",
   "execution_count": null,
   "id": "5a26b923-d76d-4e24-a42c-ac0364e7bebc",
   "metadata": {},
   "outputs": [],
   "source": []
  },
  {
   "cell_type": "code",
   "execution_count": 6,
   "id": "5f0e553c-9260-4eac-b60e-51977610554c",
   "metadata": {},
   "outputs": [
    {
     "name": "stderr",
     "output_type": "stream",
     "text": [
      "  0%|          | 0/12 [00:00<?, ?it/s]\n",
      "  0%|          | 0/1 [00:00<?, ?it/s]\u001b[A"
     ]
    },
    {
     "name": "stdout",
     "output_type": "stream",
     "text": [
      "######### SETUP MODEL markov-model1 #########\n",
      " \t>> TASK PARAMETERS: {'MARKOV_PROBABILITY': 0.7, 'REWARD_PROBABILITY': {'B1': 0.26, 'B2': 0.57, 'C1': 0.41, 'C2': 0.28}, 'REWARD': {'B1': 3, 'B2': 3, 'C1': 3, 'C2': 3}, 'RANDOM_WALK': True, 'M': 0} <<\n",
      " \t>> ACT-R PARAMETERS: {'v': None, 'seed': 'nil', 'ans': 0.2, 'lf': 0.5, 'bll': 0.5, 'mas': 2, 'egs': 0.2, 'alpha': 0.2, 'imaginal-activation': 1.0} <<\n",
      "\n"
     ]
    },
    {
     "name": "stderr",
     "output_type": "stream",
     "text": [
      "\n",
      "100%|██████████| 1/1 [00:00<00:00,  3.55it/s]\u001b[A\n",
      "\n",
      "  0%|          | 0/1 [00:00<?, ?it/s]\u001b[A\n",
      "100%|██████████| 1/1 [00:00<00:00,  3.63it/s]\u001b[A\n",
      "\n",
      "  0%|          | 0/1 [00:00<?, ?it/s]\u001b[A"
     ]
    },
    {
     "name": "stdout",
     "output_type": "stream",
     "text": [
      "######### SETUP MODEL markov-model2 #########\n",
      " \t>> TASK PARAMETERS: {'MARKOV_PROBABILITY': 0.7, 'REWARD_PROBABILITY': {'B1': 0.26, 'B2': 0.57, 'C1': 0.41, 'C2': 0.28}, 'REWARD': {'B1': 3, 'B2': 3, 'C1': 3, 'C2': 3}, 'RANDOM_WALK': True, 'M': 0} <<\n",
      " \t>> ACT-R PARAMETERS: {'v': None, 'seed': 'nil', 'ans': 0.2, 'lf': 0.5, 'bll': 0.5, 'mas': 2, 'egs': 0.2, 'alpha': 0.2, 'imaginal-activation': 1.0} <<\n",
      "\n"
     ]
    },
    {
     "name": "stderr",
     "output_type": "stream",
     "text": [
      "\n",
      "100%|██████████| 1/1 [00:00<00:00,  3.47it/s]\u001b[A\n",
      "\n",
      "  0%|          | 0/1 [00:00<?, ?it/s]\u001b[A"
     ]
    },
    {
     "name": "stdout",
     "output_type": "stream",
     "text": [
      "######### SETUP MODEL markov-model3 #########\n",
      " \t>> TASK PARAMETERS: {'MARKOV_PROBABILITY': 0.7, 'REWARD_PROBABILITY': {'B1': 0.26, 'B2': 0.57, 'C1': 0.41, 'C2': 0.28}, 'REWARD': {'B1': 3, 'B2': 3, 'C1': 3, 'C2': 3}, 'RANDOM_WALK': True, 'M': 0} <<\n",
      " \t>> ACT-R PARAMETERS: {'v': None, 'seed': 'nil', 'ans': 0.2, 'lf': 0.5, 'bll': 0.5, 'mas': 2, 'egs': 0.2, 'alpha': 0.2, 'imaginal-activation': 1.0} <<\n",
      "\n",
      "COMPLETE...\n"
     ]
    },
    {
     "name": "stderr",
     "output_type": "stream",
     "text": [
      "\n",
      "100%|██████████| 1/1 [00:00<00:00,  3.72it/s]\u001b[A\n",
      "\n",
      "  0%|          | 0/1 [00:00<?, ?it/s]\u001b[A"
     ]
    },
    {
     "name": "stdout",
     "output_type": "stream",
     "text": [
      "######### SETUP MODEL markov-model1 #########\n",
      " \t>> TASK PARAMETERS: {'MARKOV_PROBABILITY': 0.7, 'REWARD_PROBABILITY': {'B1': 0.26, 'B2': 0.57, 'C1': 0.41, 'C2': 0.28}, 'REWARD': {'B1': 3, 'B2': 3, 'C1': 3, 'C2': 3}, 'RANDOM_WALK': True, 'M': 0} <<\n",
      " \t>> ACT-R PARAMETERS: {'v': None, 'seed': 'nil', 'ans': 0.2, 'lf': 1, 'bll': 0.5, 'mas': 2, 'egs': 0.2, 'alpha': 0.2, 'imaginal-activation': 1.0} <<\n",
      "\n"
     ]
    },
    {
     "name": "stderr",
     "output_type": "stream",
     "text": [
      "\n",
      "100%|██████████| 1/1 [00:00<00:00,  3.54it/s]\u001b[A\n",
      "\n",
      "  0%|          | 0/1 [00:00<?, ?it/s]\u001b[A"
     ]
    },
    {
     "name": "stdout",
     "output_type": "stream",
     "text": [
      "######### SETUP MODEL markov-model2 #########\n",
      " \t>> TASK PARAMETERS: {'MARKOV_PROBABILITY': 0.7, 'REWARD_PROBABILITY': {'B1': 0.26, 'B2': 0.57, 'C1': 0.41, 'C2': 0.28}, 'REWARD': {'B1': 3, 'B2': 3, 'C1': 3, 'C2': 3}, 'RANDOM_WALK': True, 'M': 0} <<\n",
      " \t>> ACT-R PARAMETERS: {'v': None, 'seed': 'nil', 'ans': 0.2, 'lf': 1, 'bll': 0.5, 'mas': 2, 'egs': 0.2, 'alpha': 0.2, 'imaginal-activation': 1.0} <<\n",
      "\n"
     ]
    },
    {
     "name": "stderr",
     "output_type": "stream",
     "text": [
      "\n",
      "100%|██████████| 1/1 [00:00<00:00,  3.69it/s]\u001b[A\n",
      "\n",
      "  0%|          | 0/1 [00:00<?, ?it/s]\u001b[A"
     ]
    },
    {
     "name": "stdout",
     "output_type": "stream",
     "text": [
      "######### SETUP MODEL markov-model3 #########\n",
      " \t>> TASK PARAMETERS: {'MARKOV_PROBABILITY': 0.7, 'REWARD_PROBABILITY': {'B1': 0.26, 'B2': 0.57, 'C1': 0.41, 'C2': 0.28}, 'REWARD': {'B1': 3, 'B2': 3, 'C1': 3, 'C2': 3}, 'RANDOM_WALK': True, 'M': 0} <<\n",
      " \t>> ACT-R PARAMETERS: {'v': None, 'seed': 'nil', 'ans': 0.2, 'lf': 1, 'bll': 0.5, 'mas': 2, 'egs': 0.2, 'alpha': 0.2, 'imaginal-activation': 1.0} <<\n",
      "\n",
      "COMPLETE...\n"
     ]
    },
    {
     "name": "stderr",
     "output_type": "stream",
     "text": [
      "\n",
      "100%|██████████| 1/1 [00:00<00:00,  3.69it/s]\u001b[A\n",
      "\n",
      "  0%|          | 0/1 [00:00<?, ?it/s]\u001b[A"
     ]
    },
    {
     "name": "stdout",
     "output_type": "stream",
     "text": [
      "######### SETUP MODEL markov-model1 #########\n",
      " \t>> TASK PARAMETERS: {'MARKOV_PROBABILITY': 0.7, 'REWARD_PROBABILITY': {'B1': 0.26, 'B2': 0.57, 'C1': 0.41, 'C2': 0.28}, 'REWARD': {'B1': 3, 'B2': 3, 'C1': 3, 'C2': 3}, 'RANDOM_WALK': True, 'M': 0} <<\n",
      " \t>> ACT-R PARAMETERS: {'v': None, 'seed': 'nil', 'ans': 0.2, 'lf': 0.5, 'bll': 0.5, 'mas': 2, 'egs': 0.2, 'alpha': 0.7, 'imaginal-activation': 1.0} <<\n",
      "\n"
     ]
    },
    {
     "name": "stderr",
     "output_type": "stream",
     "text": [
      "\n",
      "100%|██████████| 1/1 [00:00<00:00,  2.98it/s]\u001b[A\n",
      "\n",
      "  0%|          | 0/1 [00:00<?, ?it/s]\u001b[A"
     ]
    },
    {
     "name": "stdout",
     "output_type": "stream",
     "text": [
      "######### SETUP MODEL markov-model2 #########\n",
      " \t>> TASK PARAMETERS: {'MARKOV_PROBABILITY': 0.7, 'REWARD_PROBABILITY': {'B1': 0.26, 'B2': 0.57, 'C1': 0.41, 'C2': 0.28}, 'REWARD': {'B1': 3, 'B2': 3, 'C1': 3, 'C2': 3}, 'RANDOM_WALK': True, 'M': 0} <<\n",
      " \t>> ACT-R PARAMETERS: {'v': None, 'seed': 'nil', 'ans': 0.2, 'lf': 0.5, 'bll': 0.5, 'mas': 2, 'egs': 0.2, 'alpha': 0.7, 'imaginal-activation': 1.0} <<\n",
      "\n"
     ]
    },
    {
     "name": "stderr",
     "output_type": "stream",
     "text": [
      "\n",
      "100%|██████████| 1/1 [00:00<00:00,  3.56it/s]\u001b[A\n",
      "\n",
      "  0%|          | 0/1 [00:00<?, ?it/s]\u001b[A"
     ]
    },
    {
     "name": "stdout",
     "output_type": "stream",
     "text": [
      "######### SETUP MODEL markov-model3 #########\n",
      " \t>> TASK PARAMETERS: {'MARKOV_PROBABILITY': 0.7, 'REWARD_PROBABILITY': {'B1': 0.26, 'B2': 0.57, 'C1': 0.41, 'C2': 0.28}, 'REWARD': {'B1': 3, 'B2': 3, 'C1': 3, 'C2': 3}, 'RANDOM_WALK': True, 'M': 0} <<\n",
      " \t>> ACT-R PARAMETERS: {'v': None, 'seed': 'nil', 'ans': 0.2, 'lf': 0.5, 'bll': 0.5, 'mas': 2, 'egs': 0.2, 'alpha': 0.7, 'imaginal-activation': 1.0} <<\n",
      "\n",
      "COMPLETE...\n"
     ]
    },
    {
     "name": "stderr",
     "output_type": "stream",
     "text": [
      "\n",
      "100%|██████████| 1/1 [00:00<00:00,  3.90it/s]\u001b[A\n",
      "\n",
      "  0%|          | 0/1 [00:00<?, ?it/s]\u001b[A"
     ]
    },
    {
     "name": "stdout",
     "output_type": "stream",
     "text": [
      "######### SETUP MODEL markov-model1 #########\n",
      " \t>> TASK PARAMETERS: {'MARKOV_PROBABILITY': 0.7, 'REWARD_PROBABILITY': {'B1': 0.26, 'B2': 0.57, 'C1': 0.41, 'C2': 0.28}, 'REWARD': {'B1': 3, 'B2': 3, 'C1': 3, 'C2': 3}, 'RANDOM_WALK': True, 'M': 0} <<\n",
      " \t>> ACT-R PARAMETERS: {'v': None, 'seed': 'nil', 'ans': 0.2, 'lf': 1, 'bll': 0.5, 'mas': 2, 'egs': 0.2, 'alpha': 0.7, 'imaginal-activation': 1.0} <<\n",
      "\n"
     ]
    },
    {
     "name": "stderr",
     "output_type": "stream",
     "text": [
      "\n",
      "100%|██████████| 1/1 [00:00<00:00,  3.56it/s]\u001b[A\n",
      "\n",
      "  0%|          | 0/1 [00:00<?, ?it/s]\u001b[A"
     ]
    },
    {
     "name": "stdout",
     "output_type": "stream",
     "text": [
      "######### SETUP MODEL markov-model2 #########\n",
      " \t>> TASK PARAMETERS: {'MARKOV_PROBABILITY': 0.7, 'REWARD_PROBABILITY': {'B1': 0.26, 'B2': 0.57, 'C1': 0.41, 'C2': 0.28}, 'REWARD': {'B1': 3, 'B2': 3, 'C1': 3, 'C2': 3}, 'RANDOM_WALK': True, 'M': 0} <<\n",
      " \t>> ACT-R PARAMETERS: {'v': None, 'seed': 'nil', 'ans': 0.2, 'lf': 1, 'bll': 0.5, 'mas': 2, 'egs': 0.2, 'alpha': 0.7, 'imaginal-activation': 1.0} <<\n",
      "\n"
     ]
    },
    {
     "name": "stderr",
     "output_type": "stream",
     "text": [
      "\n",
      "100%|██████████| 1/1 [00:00<00:00,  3.66it/s]\u001b[A\n",
      "\n",
      "  0%|          | 0/1 [00:00<?, ?it/s]\u001b[A"
     ]
    },
    {
     "name": "stdout",
     "output_type": "stream",
     "text": [
      "######### SETUP MODEL markov-model3 #########\n",
      " \t>> TASK PARAMETERS: {'MARKOV_PROBABILITY': 0.7, 'REWARD_PROBABILITY': {'B1': 0.26, 'B2': 0.57, 'C1': 0.41, 'C2': 0.28}, 'REWARD': {'B1': 3, 'B2': 3, 'C1': 3, 'C2': 3}, 'RANDOM_WALK': True, 'M': 0} <<\n",
      " \t>> ACT-R PARAMETERS: {'v': None, 'seed': 'nil', 'ans': 0.2, 'lf': 1, 'bll': 0.5, 'mas': 2, 'egs': 0.2, 'alpha': 0.7, 'imaginal-activation': 1.0} <<\n",
      "\n",
      "COMPLETE...\n"
     ]
    },
    {
     "name": "stderr",
     "output_type": "stream",
     "text": [
      "\n",
      "100%|██████████| 1/1 [00:00<00:00,  3.92it/s]\u001b[A\n",
      "\n",
      "  0%|          | 0/1 [00:00<?, ?it/s]\u001b[A"
     ]
    },
    {
     "name": "stdout",
     "output_type": "stream",
     "text": [
      "######### SETUP MODEL markov-model1 #########\n",
      " \t>> TASK PARAMETERS: {'MARKOV_PROBABILITY': 0.7, 'REWARD_PROBABILITY': {'B1': 0.26, 'B2': 0.57, 'C1': 0.41, 'C2': 0.28}, 'REWARD': {'B1': 3, 'B2': 3, 'C1': 3, 'C2': 3}, 'RANDOM_WALK': True, 'M': 0} <<\n",
      " \t>> ACT-R PARAMETERS: {'v': None, 'seed': 'nil', 'ans': 0.2, 'lf': 0.5, 'bll': 0.5, 'mas': 2, 'egs': 0.7, 'alpha': 0.2, 'imaginal-activation': 1.0} <<\n",
      "\n"
     ]
    },
    {
     "name": "stderr",
     "output_type": "stream",
     "text": [
      "\n",
      "100%|██████████| 1/1 [00:00<00:00,  3.52it/s]\u001b[A\n",
      "\n",
      "  0%|          | 0/1 [00:00<?, ?it/s]\u001b[A"
     ]
    },
    {
     "name": "stdout",
     "output_type": "stream",
     "text": [
      "######### SETUP MODEL markov-model2 #########\n",
      " \t>> TASK PARAMETERS: {'MARKOV_PROBABILITY': 0.7, 'REWARD_PROBABILITY': {'B1': 0.26, 'B2': 0.57, 'C1': 0.41, 'C2': 0.28}, 'REWARD': {'B1': 3, 'B2': 3, 'C1': 3, 'C2': 3}, 'RANDOM_WALK': True, 'M': 0} <<\n",
      " \t>> ACT-R PARAMETERS: {'v': None, 'seed': 'nil', 'ans': 0.2, 'lf': 0.5, 'bll': 0.5, 'mas': 2, 'egs': 0.7, 'alpha': 0.2, 'imaginal-activation': 1.0} <<\n",
      "\n"
     ]
    },
    {
     "name": "stderr",
     "output_type": "stream",
     "text": [
      "\n",
      "100%|██████████| 1/1 [00:00<00:00,  3.67it/s]\u001b[A\n",
      "\n",
      "  0%|          | 0/1 [00:00<?, ?it/s]\u001b[A"
     ]
    },
    {
     "name": "stdout",
     "output_type": "stream",
     "text": [
      "######### SETUP MODEL markov-model3 #########\n",
      " \t>> TASK PARAMETERS: {'MARKOV_PROBABILITY': 0.7, 'REWARD_PROBABILITY': {'B1': 0.26, 'B2': 0.57, 'C1': 0.41, 'C2': 0.28}, 'REWARD': {'B1': 3, 'B2': 3, 'C1': 3, 'C2': 3}, 'RANDOM_WALK': True, 'M': 0} <<\n",
      " \t>> ACT-R PARAMETERS: {'v': None, 'seed': 'nil', 'ans': 0.2, 'lf': 0.5, 'bll': 0.5, 'mas': 2, 'egs': 0.7, 'alpha': 0.2, 'imaginal-activation': 1.0} <<\n",
      "\n",
      "COMPLETE...\n"
     ]
    },
    {
     "name": "stderr",
     "output_type": "stream",
     "text": [
      "\n",
      "100%|██████████| 1/1 [00:00<00:00,  3.48it/s]\u001b[A\n",
      "\n",
      "  0%|          | 0/1 [00:00<?, ?it/s]\u001b[A"
     ]
    },
    {
     "name": "stdout",
     "output_type": "stream",
     "text": [
      "######### SETUP MODEL markov-model1 #########\n",
      " \t>> TASK PARAMETERS: {'MARKOV_PROBABILITY': 0.7, 'REWARD_PROBABILITY': {'B1': 0.26, 'B2': 0.57, 'C1': 0.41, 'C2': 0.28}, 'REWARD': {'B1': 3, 'B2': 3, 'C1': 3, 'C2': 3}, 'RANDOM_WALK': True, 'M': 0} <<\n",
      " \t>> ACT-R PARAMETERS: {'v': None, 'seed': 'nil', 'ans': 0.2, 'lf': 1, 'bll': 0.5, 'mas': 2, 'egs': 0.7, 'alpha': 0.2, 'imaginal-activation': 1.0} <<\n",
      "\n"
     ]
    },
    {
     "name": "stderr",
     "output_type": "stream",
     "text": [
      "\n",
      "100%|██████████| 1/1 [00:00<00:00,  3.29it/s]\u001b[A\n",
      "\n",
      "  0%|          | 0/1 [00:00<?, ?it/s]\u001b[A"
     ]
    },
    {
     "name": "stdout",
     "output_type": "stream",
     "text": [
      "######### SETUP MODEL markov-model2 #########\n",
      " \t>> TASK PARAMETERS: {'MARKOV_PROBABILITY': 0.7, 'REWARD_PROBABILITY': {'B1': 0.26, 'B2': 0.57, 'C1': 0.41, 'C2': 0.28}, 'REWARD': {'B1': 3, 'B2': 3, 'C1': 3, 'C2': 3}, 'RANDOM_WALK': True, 'M': 0} <<\n",
      " \t>> ACT-R PARAMETERS: {'v': None, 'seed': 'nil', 'ans': 0.2, 'lf': 1, 'bll': 0.5, 'mas': 2, 'egs': 0.7, 'alpha': 0.2, 'imaginal-activation': 1.0} <<\n",
      "\n"
     ]
    },
    {
     "name": "stderr",
     "output_type": "stream",
     "text": [
      "\n",
      "100%|██████████| 1/1 [00:00<00:00,  3.74it/s]\u001b[A\n",
      "\n",
      "  0%|          | 0/1 [00:00<?, ?it/s]\u001b[A"
     ]
    },
    {
     "name": "stdout",
     "output_type": "stream",
     "text": [
      "######### SETUP MODEL markov-model3 #########\n",
      " \t>> TASK PARAMETERS: {'MARKOV_PROBABILITY': 0.7, 'REWARD_PROBABILITY': {'B1': 0.26, 'B2': 0.57, 'C1': 0.41, 'C2': 0.28}, 'REWARD': {'B1': 3, 'B2': 3, 'C1': 3, 'C2': 3}, 'RANDOM_WALK': True, 'M': 0} <<\n",
      " \t>> ACT-R PARAMETERS: {'v': None, 'seed': 'nil', 'ans': 0.2, 'lf': 1, 'bll': 0.5, 'mas': 2, 'egs': 0.7, 'alpha': 0.2, 'imaginal-activation': 1.0} <<\n",
      "\n",
      "COMPLETE...\n"
     ]
    },
    {
     "name": "stderr",
     "output_type": "stream",
     "text": [
      "\n",
      "100%|██████████| 1/1 [00:00<00:00,  3.90it/s]\u001b[A\n",
      "\n",
      "  0%|          | 0/1 [00:00<?, ?it/s]\u001b[A"
     ]
    },
    {
     "name": "stdout",
     "output_type": "stream",
     "text": [
      "######### SETUP MODEL markov-model1 #########\n",
      " \t>> TASK PARAMETERS: {'MARKOV_PROBABILITY': 0.7, 'REWARD_PROBABILITY': {'B1': 0.26, 'B2': 0.57, 'C1': 0.41, 'C2': 0.28}, 'REWARD': {'B1': 3, 'B2': 3, 'C1': 3, 'C2': 3}, 'RANDOM_WALK': True, 'M': 0} <<\n",
      " \t>> ACT-R PARAMETERS: {'v': None, 'seed': 'nil', 'ans': 0.2, 'lf': 0.5, 'bll': 0.5, 'mas': 2, 'egs': 0.7, 'alpha': 0.7, 'imaginal-activation': 1.0} <<\n",
      "\n"
     ]
    },
    {
     "name": "stderr",
     "output_type": "stream",
     "text": [
      "\n",
      "100%|██████████| 1/1 [00:00<00:00,  3.56it/s]\u001b[A\n",
      "\n",
      "  0%|          | 0/1 [00:00<?, ?it/s]\u001b[A"
     ]
    },
    {
     "name": "stdout",
     "output_type": "stream",
     "text": [
      "######### SETUP MODEL markov-model2 #########\n",
      " \t>> TASK PARAMETERS: {'MARKOV_PROBABILITY': 0.7, 'REWARD_PROBABILITY': {'B1': 0.26, 'B2': 0.57, 'C1': 0.41, 'C2': 0.28}, 'REWARD': {'B1': 3, 'B2': 3, 'C1': 3, 'C2': 3}, 'RANDOM_WALK': True, 'M': 0} <<\n",
      " \t>> ACT-R PARAMETERS: {'v': None, 'seed': 'nil', 'ans': 0.2, 'lf': 0.5, 'bll': 0.5, 'mas': 2, 'egs': 0.7, 'alpha': 0.7, 'imaginal-activation': 1.0} <<\n",
      "\n"
     ]
    },
    {
     "name": "stderr",
     "output_type": "stream",
     "text": [
      "\n",
      "100%|██████████| 1/1 [00:00<00:00,  3.60it/s]\u001b[A\n",
      "\n",
      "  0%|          | 0/1 [00:00<?, ?it/s]\u001b[A"
     ]
    },
    {
     "name": "stdout",
     "output_type": "stream",
     "text": [
      "######### SETUP MODEL markov-model3 #########\n",
      " \t>> TASK PARAMETERS: {'MARKOV_PROBABILITY': 0.7, 'REWARD_PROBABILITY': {'B1': 0.26, 'B2': 0.57, 'C1': 0.41, 'C2': 0.28}, 'REWARD': {'B1': 3, 'B2': 3, 'C1': 3, 'C2': 3}, 'RANDOM_WALK': True, 'M': 0} <<\n",
      " \t>> ACT-R PARAMETERS: {'v': None, 'seed': 'nil', 'ans': 0.2, 'lf': 0.5, 'bll': 0.5, 'mas': 2, 'egs': 0.7, 'alpha': 0.7, 'imaginal-activation': 1.0} <<\n",
      "\n",
      "COMPLETE...\n"
     ]
    },
    {
     "name": "stderr",
     "output_type": "stream",
     "text": [
      "\n",
      "100%|██████████| 1/1 [00:00<00:00,  3.94it/s]\u001b[A\n",
      "\n",
      "  0%|          | 0/1 [00:00<?, ?it/s]\u001b[A"
     ]
    },
    {
     "name": "stdout",
     "output_type": "stream",
     "text": [
      "######### SETUP MODEL markov-model1 #########\n",
      " \t>> TASK PARAMETERS: {'MARKOV_PROBABILITY': 0.7, 'REWARD_PROBABILITY': {'B1': 0.26, 'B2': 0.57, 'C1': 0.41, 'C2': 0.28}, 'REWARD': {'B1': 3, 'B2': 3, 'C1': 3, 'C2': 3}, 'RANDOM_WALK': True, 'M': 0} <<\n",
      " \t>> ACT-R PARAMETERS: {'v': None, 'seed': 'nil', 'ans': 0.2, 'lf': 1, 'bll': 0.5, 'mas': 2, 'egs': 0.7, 'alpha': 0.7, 'imaginal-activation': 1.0} <<\n",
      "\n"
     ]
    },
    {
     "name": "stderr",
     "output_type": "stream",
     "text": [
      "\n",
      "100%|██████████| 1/1 [00:00<00:00,  3.56it/s]\u001b[A\n",
      "\n",
      "  0%|          | 0/1 [00:00<?, ?it/s]\u001b[A"
     ]
    },
    {
     "name": "stdout",
     "output_type": "stream",
     "text": [
      "######### SETUP MODEL markov-model2 #########\n",
      " \t>> TASK PARAMETERS: {'MARKOV_PROBABILITY': 0.7, 'REWARD_PROBABILITY': {'B1': 0.26, 'B2': 0.57, 'C1': 0.41, 'C2': 0.28}, 'REWARD': {'B1': 3, 'B2': 3, 'C1': 3, 'C2': 3}, 'RANDOM_WALK': True, 'M': 0} <<\n",
      " \t>> ACT-R PARAMETERS: {'v': None, 'seed': 'nil', 'ans': 0.2, 'lf': 1, 'bll': 0.5, 'mas': 2, 'egs': 0.7, 'alpha': 0.7, 'imaginal-activation': 1.0} <<\n",
      "\n"
     ]
    },
    {
     "name": "stderr",
     "output_type": "stream",
     "text": [
      "\n",
      "100%|██████████| 1/1 [00:00<00:00,  3.69it/s]\u001b[A\n",
      "\n",
      "  0%|          | 0/1 [00:00<?, ?it/s]\u001b[A"
     ]
    },
    {
     "name": "stdout",
     "output_type": "stream",
     "text": [
      "######### SETUP MODEL markov-model3 #########\n",
      " \t>> TASK PARAMETERS: {'MARKOV_PROBABILITY': 0.7, 'REWARD_PROBABILITY': {'B1': 0.26, 'B2': 0.57, 'C1': 0.41, 'C2': 0.28}, 'REWARD': {'B1': 3, 'B2': 3, 'C1': 3, 'C2': 3}, 'RANDOM_WALK': True, 'M': 0} <<\n",
      " \t>> ACT-R PARAMETERS: {'v': None, 'seed': 'nil', 'ans': 0.2, 'lf': 1, 'bll': 0.5, 'mas': 2, 'egs': 0.7, 'alpha': 0.7, 'imaginal-activation': 1.0} <<\n",
      "\n",
      "COMPLETE...\n"
     ]
    },
    {
     "name": "stderr",
     "output_type": "stream",
     "text": [
      "\n",
      "100%|██████████| 1/1 [00:00<00:00,  3.86it/s]\u001b[A\n",
      "\n",
      "  0%|          | 0/1 [00:00<?, ?it/s]\u001b[A"
     ]
    },
    {
     "name": "stdout",
     "output_type": "stream",
     "text": [
      "######### SETUP MODEL markov-model1 #########\n",
      " \t>> TASK PARAMETERS: {'MARKOV_PROBABILITY': 0.7, 'REWARD_PROBABILITY': {'B1': 0.26, 'B2': 0.57, 'C1': 0.41, 'C2': 0.28}, 'REWARD': {'B1': 3, 'B2': 3, 'C1': 3, 'C2': 3}, 'RANDOM_WALK': True, 'M': 0} <<\n",
      " \t>> ACT-R PARAMETERS: {'v': None, 'seed': 'nil', 'ans': 0.7, 'lf': 0.5, 'bll': 0.5, 'mas': 2, 'egs': 0.2, 'alpha': 0.2, 'imaginal-activation': 1.0} <<\n",
      "\n"
     ]
    },
    {
     "name": "stderr",
     "output_type": "stream",
     "text": [
      "\n",
      "100%|██████████| 1/1 [00:00<00:00,  2.38it/s]\u001b[A\n",
      "\n",
      "  0%|          | 0/1 [00:00<?, ?it/s]\u001b[A"
     ]
    },
    {
     "name": "stdout",
     "output_type": "stream",
     "text": [
      "######### SETUP MODEL markov-model2 #########\n",
      " \t>> TASK PARAMETERS: {'MARKOV_PROBABILITY': 0.7, 'REWARD_PROBABILITY': {'B1': 0.26, 'B2': 0.57, 'C1': 0.41, 'C2': 0.28}, 'REWARD': {'B1': 3, 'B2': 3, 'C1': 3, 'C2': 3}, 'RANDOM_WALK': True, 'M': 0} <<\n",
      " \t>> ACT-R PARAMETERS: {'v': None, 'seed': 'nil', 'ans': 0.7, 'lf': 0.5, 'bll': 0.5, 'mas': 2, 'egs': 0.2, 'alpha': 0.2, 'imaginal-activation': 1.0} <<\n",
      "\n"
     ]
    },
    {
     "name": "stderr",
     "output_type": "stream",
     "text": [
      "\n",
      "100%|██████████| 1/1 [00:00<00:00,  3.76it/s]\u001b[A\n",
      "\n",
      "  0%|          | 0/1 [00:00<?, ?it/s]\u001b[A"
     ]
    },
    {
     "name": "stdout",
     "output_type": "stream",
     "text": [
      "######### SETUP MODEL markov-model3 #########\n",
      " \t>> TASK PARAMETERS: {'MARKOV_PROBABILITY': 0.7, 'REWARD_PROBABILITY': {'B1': 0.26, 'B2': 0.57, 'C1': 0.41, 'C2': 0.28}, 'REWARD': {'B1': 3, 'B2': 3, 'C1': 3, 'C2': 3}, 'RANDOM_WALK': True, 'M': 0} <<\n",
      " \t>> ACT-R PARAMETERS: {'v': None, 'seed': 'nil', 'ans': 0.7, 'lf': 0.5, 'bll': 0.5, 'mas': 2, 'egs': 0.2, 'alpha': 0.2, 'imaginal-activation': 1.0} <<\n",
      "\n",
      "COMPLETE...\n"
     ]
    },
    {
     "name": "stderr",
     "output_type": "stream",
     "text": [
      "\n",
      "100%|██████████| 1/1 [00:00<00:00,  3.92it/s]\u001b[A\n",
      "\n",
      "  0%|          | 0/1 [00:00<?, ?it/s]\u001b[A"
     ]
    },
    {
     "name": "stdout",
     "output_type": "stream",
     "text": [
      "######### SETUP MODEL markov-model1 #########\n",
      " \t>> TASK PARAMETERS: {'MARKOV_PROBABILITY': 0.7, 'REWARD_PROBABILITY': {'B1': 0.26, 'B2': 0.57, 'C1': 0.41, 'C2': 0.28}, 'REWARD': {'B1': 3, 'B2': 3, 'C1': 3, 'C2': 3}, 'RANDOM_WALK': True, 'M': 0} <<\n",
      " \t>> ACT-R PARAMETERS: {'v': None, 'seed': 'nil', 'ans': 0.7, 'lf': 1, 'bll': 0.5, 'mas': 2, 'egs': 0.2, 'alpha': 0.2, 'imaginal-activation': 1.0} <<\n",
      "\n"
     ]
    },
    {
     "name": "stderr",
     "output_type": "stream",
     "text": [
      "\n",
      "100%|██████████| 1/1 [00:00<00:00,  2.51it/s]\u001b[A\n",
      "\n",
      "  0%|          | 0/1 [00:00<?, ?it/s]\u001b[A"
     ]
    },
    {
     "name": "stdout",
     "output_type": "stream",
     "text": [
      "######### SETUP MODEL markov-model2 #########\n",
      " \t>> TASK PARAMETERS: {'MARKOV_PROBABILITY': 0.7, 'REWARD_PROBABILITY': {'B1': 0.26, 'B2': 0.57, 'C1': 0.41, 'C2': 0.28}, 'REWARD': {'B1': 3, 'B2': 3, 'C1': 3, 'C2': 3}, 'RANDOM_WALK': True, 'M': 0} <<\n",
      " \t>> ACT-R PARAMETERS: {'v': None, 'seed': 'nil', 'ans': 0.7, 'lf': 1, 'bll': 0.5, 'mas': 2, 'egs': 0.2, 'alpha': 0.2, 'imaginal-activation': 1.0} <<\n",
      "\n"
     ]
    },
    {
     "name": "stderr",
     "output_type": "stream",
     "text": [
      "\n",
      "100%|██████████| 1/1 [00:00<00:00,  3.78it/s]\u001b[A\n",
      "\n",
      "  0%|          | 0/1 [00:00<?, ?it/s]\u001b[A"
     ]
    },
    {
     "name": "stdout",
     "output_type": "stream",
     "text": [
      "######### SETUP MODEL markov-model3 #########\n",
      " \t>> TASK PARAMETERS: {'MARKOV_PROBABILITY': 0.7, 'REWARD_PROBABILITY': {'B1': 0.26, 'B2': 0.57, 'C1': 0.41, 'C2': 0.28}, 'REWARD': {'B1': 3, 'B2': 3, 'C1': 3, 'C2': 3}, 'RANDOM_WALK': True, 'M': 0} <<\n",
      " \t>> ACT-R PARAMETERS: {'v': None, 'seed': 'nil', 'ans': 0.7, 'lf': 1, 'bll': 0.5, 'mas': 2, 'egs': 0.2, 'alpha': 0.2, 'imaginal-activation': 1.0} <<\n",
      "\n",
      "COMPLETE...\n"
     ]
    },
    {
     "name": "stderr",
     "output_type": "stream",
     "text": [
      "\n",
      "100%|██████████| 1/1 [00:00<00:00,  3.92it/s]\u001b[A\n",
      "\n",
      "  0%|          | 0/1 [00:00<?, ?it/s]\u001b[A"
     ]
    },
    {
     "name": "stdout",
     "output_type": "stream",
     "text": [
      "######### SETUP MODEL markov-model1 #########\n",
      " \t>> TASK PARAMETERS: {'MARKOV_PROBABILITY': 0.7, 'REWARD_PROBABILITY': {'B1': 0.26, 'B2': 0.57, 'C1': 0.41, 'C2': 0.28}, 'REWARD': {'B1': 3, 'B2': 3, 'C1': 3, 'C2': 3}, 'RANDOM_WALK': True, 'M': 0} <<\n",
      " \t>> ACT-R PARAMETERS: {'v': None, 'seed': 'nil', 'ans': 0.7, 'lf': 0.5, 'bll': 0.5, 'mas': 2, 'egs': 0.2, 'alpha': 0.7, 'imaginal-activation': 1.0} <<\n",
      "\n"
     ]
    },
    {
     "name": "stderr",
     "output_type": "stream",
     "text": [
      "\n",
      "100%|██████████| 1/1 [00:00<00:00,  1.84it/s]\u001b[A\n",
      "\n",
      "  0%|          | 0/1 [00:00<?, ?it/s]\u001b[A"
     ]
    },
    {
     "name": "stdout",
     "output_type": "stream",
     "text": [
      "######### SETUP MODEL markov-model2 #########\n",
      " \t>> TASK PARAMETERS: {'MARKOV_PROBABILITY': 0.7, 'REWARD_PROBABILITY': {'B1': 0.26, 'B2': 0.57, 'C1': 0.41, 'C2': 0.28}, 'REWARD': {'B1': 3, 'B2': 3, 'C1': 3, 'C2': 3}, 'RANDOM_WALK': True, 'M': 0} <<\n",
      " \t>> ACT-R PARAMETERS: {'v': None, 'seed': 'nil', 'ans': 0.7, 'lf': 0.5, 'bll': 0.5, 'mas': 2, 'egs': 0.2, 'alpha': 0.7, 'imaginal-activation': 1.0} <<\n",
      "\n"
     ]
    },
    {
     "name": "stderr",
     "output_type": "stream",
     "text": [
      "\n",
      "100%|██████████| 1/1 [00:00<00:00,  3.56it/s]\u001b[A\n",
      "\n",
      "  0%|          | 0/1 [00:00<?, ?it/s]\u001b[A"
     ]
    },
    {
     "name": "stdout",
     "output_type": "stream",
     "text": [
      "######### SETUP MODEL markov-model3 #########\n",
      " \t>> TASK PARAMETERS: {'MARKOV_PROBABILITY': 0.7, 'REWARD_PROBABILITY': {'B1': 0.26, 'B2': 0.57, 'C1': 0.41, 'C2': 0.28}, 'REWARD': {'B1': 3, 'B2': 3, 'C1': 3, 'C2': 3}, 'RANDOM_WALK': True, 'M': 0} <<\n",
      " \t>> ACT-R PARAMETERS: {'v': None, 'seed': 'nil', 'ans': 0.7, 'lf': 0.5, 'bll': 0.5, 'mas': 2, 'egs': 0.2, 'alpha': 0.7, 'imaginal-activation': 1.0} <<\n",
      "\n",
      "COMPLETE...\n"
     ]
    },
    {
     "name": "stderr",
     "output_type": "stream",
     "text": [
      "\n",
      "100%|██████████| 1/1 [00:00<00:00,  3.99it/s]\u001b[A\n",
      "\n",
      "  0%|          | 0/1 [00:00<?, ?it/s]\u001b[A"
     ]
    },
    {
     "name": "stdout",
     "output_type": "stream",
     "text": [
      "######### SETUP MODEL markov-model1 #########\n",
      " \t>> TASK PARAMETERS: {'MARKOV_PROBABILITY': 0.7, 'REWARD_PROBABILITY': {'B1': 0.26, 'B2': 0.57, 'C1': 0.41, 'C2': 0.28}, 'REWARD': {'B1': 3, 'B2': 3, 'C1': 3, 'C2': 3}, 'RANDOM_WALK': True, 'M': 0} <<\n",
      " \t>> ACT-R PARAMETERS: {'v': None, 'seed': 'nil', 'ans': 0.7, 'lf': 1, 'bll': 0.5, 'mas': 2, 'egs': 0.2, 'alpha': 0.7, 'imaginal-activation': 1.0} <<\n",
      "\n"
     ]
    },
    {
     "name": "stderr",
     "output_type": "stream",
     "text": [
      "\n",
      "100%|██████████| 1/1 [00:00<00:00,  1.84it/s]\u001b[A\n",
      "\n",
      "  0%|          | 0/1 [00:00<?, ?it/s]\u001b[A"
     ]
    },
    {
     "name": "stdout",
     "output_type": "stream",
     "text": [
      "######### SETUP MODEL markov-model2 #########\n",
      " \t>> TASK PARAMETERS: {'MARKOV_PROBABILITY': 0.7, 'REWARD_PROBABILITY': {'B1': 0.26, 'B2': 0.57, 'C1': 0.41, 'C2': 0.28}, 'REWARD': {'B1': 3, 'B2': 3, 'C1': 3, 'C2': 3}, 'RANDOM_WALK': True, 'M': 0} <<\n",
      " \t>> ACT-R PARAMETERS: {'v': None, 'seed': 'nil', 'ans': 0.7, 'lf': 1, 'bll': 0.5, 'mas': 2, 'egs': 0.2, 'alpha': 0.7, 'imaginal-activation': 1.0} <<\n",
      "\n"
     ]
    },
    {
     "name": "stderr",
     "output_type": "stream",
     "text": [
      "\n",
      "100%|██████████| 1/1 [00:00<00:00,  3.68it/s]\u001b[A\n",
      "\n",
      "  0%|          | 0/1 [00:00<?, ?it/s]\u001b[A"
     ]
    },
    {
     "name": "stdout",
     "output_type": "stream",
     "text": [
      "######### SETUP MODEL markov-model3 #########\n",
      " \t>> TASK PARAMETERS: {'MARKOV_PROBABILITY': 0.7, 'REWARD_PROBABILITY': {'B1': 0.26, 'B2': 0.57, 'C1': 0.41, 'C2': 0.28}, 'REWARD': {'B1': 3, 'B2': 3, 'C1': 3, 'C2': 3}, 'RANDOM_WALK': True, 'M': 0} <<\n",
      " \t>> ACT-R PARAMETERS: {'v': None, 'seed': 'nil', 'ans': 0.7, 'lf': 1, 'bll': 0.5, 'mas': 2, 'egs': 0.2, 'alpha': 0.7, 'imaginal-activation': 1.0} <<\n",
      "\n",
      "COMPLETE...\n"
     ]
    },
    {
     "name": "stderr",
     "output_type": "stream",
     "text": [
      "\n",
      "100%|██████████| 1/1 [00:00<00:00,  3.92it/s]\u001b[A\n",
      "\n",
      "  0%|          | 0/1 [00:00<?, ?it/s]\u001b[A"
     ]
    },
    {
     "name": "stdout",
     "output_type": "stream",
     "text": [
      "######### SETUP MODEL markov-model1 #########\n",
      " \t>> TASK PARAMETERS: {'MARKOV_PROBABILITY': 0.7, 'REWARD_PROBABILITY': {'B1': 0.26, 'B2': 0.57, 'C1': 0.41, 'C2': 0.28}, 'REWARD': {'B1': 3, 'B2': 3, 'C1': 3, 'C2': 3}, 'RANDOM_WALK': True, 'M': 0} <<\n",
      " \t>> ACT-R PARAMETERS: {'v': None, 'seed': 'nil', 'ans': 0.7, 'lf': 0.5, 'bll': 0.5, 'mas': 2, 'egs': 0.7, 'alpha': 0.2, 'imaginal-activation': 1.0} <<\n",
      "\n"
     ]
    },
    {
     "name": "stderr",
     "output_type": "stream",
     "text": [
      "\n",
      "100%|██████████| 1/1 [00:00<00:00,  3.77it/s]\u001b[A\n",
      "\n",
      "  0%|          | 0/1 [00:00<?, ?it/s]\u001b[A"
     ]
    },
    {
     "name": "stdout",
     "output_type": "stream",
     "text": [
      "######### SETUP MODEL markov-model2 #########\n",
      " \t>> TASK PARAMETERS: {'MARKOV_PROBABILITY': 0.7, 'REWARD_PROBABILITY': {'B1': 0.26, 'B2': 0.57, 'C1': 0.41, 'C2': 0.28}, 'REWARD': {'B1': 3, 'B2': 3, 'C1': 3, 'C2': 3}, 'RANDOM_WALK': True, 'M': 0} <<\n",
      " \t>> ACT-R PARAMETERS: {'v': None, 'seed': 'nil', 'ans': 0.7, 'lf': 0.5, 'bll': 0.5, 'mas': 2, 'egs': 0.7, 'alpha': 0.2, 'imaginal-activation': 1.0} <<\n",
      "\n"
     ]
    },
    {
     "name": "stderr",
     "output_type": "stream",
     "text": [
      "\n",
      "100%|██████████| 1/1 [00:00<00:00,  3.74it/s]\u001b[A\n",
      "\n",
      "  0%|          | 0/1 [00:00<?, ?it/s]\u001b[A"
     ]
    },
    {
     "name": "stdout",
     "output_type": "stream",
     "text": [
      "######### SETUP MODEL markov-model3 #########\n",
      " \t>> TASK PARAMETERS: {'MARKOV_PROBABILITY': 0.7, 'REWARD_PROBABILITY': {'B1': 0.26, 'B2': 0.57, 'C1': 0.41, 'C2': 0.28}, 'REWARD': {'B1': 3, 'B2': 3, 'C1': 3, 'C2': 3}, 'RANDOM_WALK': True, 'M': 0} <<\n",
      " \t>> ACT-R PARAMETERS: {'v': None, 'seed': 'nil', 'ans': 0.7, 'lf': 0.5, 'bll': 0.5, 'mas': 2, 'egs': 0.7, 'alpha': 0.2, 'imaginal-activation': 1.0} <<\n",
      "\n",
      "COMPLETE...\n"
     ]
    },
    {
     "name": "stderr",
     "output_type": "stream",
     "text": [
      "\n",
      "100%|██████████| 1/1 [00:00<00:00,  3.84it/s]\u001b[A\n",
      "\n",
      "  0%|          | 0/1 [00:00<?, ?it/s]\u001b[A"
     ]
    },
    {
     "name": "stdout",
     "output_type": "stream",
     "text": [
      "######### SETUP MODEL markov-model1 #########\n",
      " \t>> TASK PARAMETERS: {'MARKOV_PROBABILITY': 0.7, 'REWARD_PROBABILITY': {'B1': 0.26, 'B2': 0.57, 'C1': 0.41, 'C2': 0.28}, 'REWARD': {'B1': 3, 'B2': 3, 'C1': 3, 'C2': 3}, 'RANDOM_WALK': True, 'M': 0} <<\n",
      " \t>> ACT-R PARAMETERS: {'v': None, 'seed': 'nil', 'ans': 0.7, 'lf': 1, 'bll': 0.5, 'mas': 2, 'egs': 0.7, 'alpha': 0.2, 'imaginal-activation': 1.0} <<\n",
      "\n"
     ]
    },
    {
     "name": "stderr",
     "output_type": "stream",
     "text": [
      "\n",
      "100%|██████████| 1/1 [00:00<00:00,  3.47it/s]\u001b[A\n",
      "\n",
      "  0%|          | 0/1 [00:00<?, ?it/s]\u001b[A"
     ]
    },
    {
     "name": "stdout",
     "output_type": "stream",
     "text": [
      "######### SETUP MODEL markov-model2 #########\n",
      " \t>> TASK PARAMETERS: {'MARKOV_PROBABILITY': 0.7, 'REWARD_PROBABILITY': {'B1': 0.26, 'B2': 0.57, 'C1': 0.41, 'C2': 0.28}, 'REWARD': {'B1': 3, 'B2': 3, 'C1': 3, 'C2': 3}, 'RANDOM_WALK': True, 'M': 0} <<\n",
      " \t>> ACT-R PARAMETERS: {'v': None, 'seed': 'nil', 'ans': 0.7, 'lf': 1, 'bll': 0.5, 'mas': 2, 'egs': 0.7, 'alpha': 0.2, 'imaginal-activation': 1.0} <<\n",
      "\n"
     ]
    },
    {
     "name": "stderr",
     "output_type": "stream",
     "text": [
      "\n",
      "100%|██████████| 1/1 [00:00<00:00,  3.78it/s]\u001b[A\n",
      "\n",
      "  0%|          | 0/1 [00:00<?, ?it/s]\u001b[A"
     ]
    },
    {
     "name": "stdout",
     "output_type": "stream",
     "text": [
      "######### SETUP MODEL markov-model3 #########\n",
      " \t>> TASK PARAMETERS: {'MARKOV_PROBABILITY': 0.7, 'REWARD_PROBABILITY': {'B1': 0.26, 'B2': 0.57, 'C1': 0.41, 'C2': 0.28}, 'REWARD': {'B1': 3, 'B2': 3, 'C1': 3, 'C2': 3}, 'RANDOM_WALK': True, 'M': 0} <<\n",
      " \t>> ACT-R PARAMETERS: {'v': None, 'seed': 'nil', 'ans': 0.7, 'lf': 1, 'bll': 0.5, 'mas': 2, 'egs': 0.7, 'alpha': 0.2, 'imaginal-activation': 1.0} <<\n",
      "\n",
      "COMPLETE...\n"
     ]
    },
    {
     "name": "stderr",
     "output_type": "stream",
     "text": [
      "\n",
      "100%|██████████| 1/1 [00:00<00:00,  3.67it/s]\u001b[A\n",
      "\n",
      "  0%|          | 0/1 [00:00<?, ?it/s]\u001b[A"
     ]
    },
    {
     "name": "stdout",
     "output_type": "stream",
     "text": [
      "######### SETUP MODEL markov-model1 #########\n",
      " \t>> TASK PARAMETERS: {'MARKOV_PROBABILITY': 0.7, 'REWARD_PROBABILITY': {'B1': 0.26, 'B2': 0.57, 'C1': 0.41, 'C2': 0.28}, 'REWARD': {'B1': 3, 'B2': 3, 'C1': 3, 'C2': 3}, 'RANDOM_WALK': True, 'M': 0} <<\n",
      " \t>> ACT-R PARAMETERS: {'v': None, 'seed': 'nil', 'ans': 0.7, 'lf': 0.5, 'bll': 0.5, 'mas': 2, 'egs': 0.7, 'alpha': 0.7, 'imaginal-activation': 1.0} <<\n",
      "\n"
     ]
    },
    {
     "name": "stderr",
     "output_type": "stream",
     "text": [
      "\n",
      "100%|██████████| 1/1 [00:00<00:00,  3.55it/s]\u001b[A\n",
      "\n",
      "  0%|          | 0/1 [00:00<?, ?it/s]\u001b[A"
     ]
    },
    {
     "name": "stdout",
     "output_type": "stream",
     "text": [
      "######### SETUP MODEL markov-model2 #########\n",
      " \t>> TASK PARAMETERS: {'MARKOV_PROBABILITY': 0.7, 'REWARD_PROBABILITY': {'B1': 0.26, 'B2': 0.57, 'C1': 0.41, 'C2': 0.28}, 'REWARD': {'B1': 3, 'B2': 3, 'C1': 3, 'C2': 3}, 'RANDOM_WALK': True, 'M': 0} <<\n",
      " \t>> ACT-R PARAMETERS: {'v': None, 'seed': 'nil', 'ans': 0.7, 'lf': 0.5, 'bll': 0.5, 'mas': 2, 'egs': 0.7, 'alpha': 0.7, 'imaginal-activation': 1.0} <<\n",
      "\n"
     ]
    },
    {
     "name": "stderr",
     "output_type": "stream",
     "text": [
      "\n",
      "100%|██████████| 1/1 [00:00<00:00,  3.74it/s]\u001b[A\n",
      "\n",
      "  0%|          | 0/1 [00:00<?, ?it/s]\u001b[A"
     ]
    },
    {
     "name": "stdout",
     "output_type": "stream",
     "text": [
      "######### SETUP MODEL markov-model3 #########\n",
      " \t>> TASK PARAMETERS: {'MARKOV_PROBABILITY': 0.7, 'REWARD_PROBABILITY': {'B1': 0.26, 'B2': 0.57, 'C1': 0.41, 'C2': 0.28}, 'REWARD': {'B1': 3, 'B2': 3, 'C1': 3, 'C2': 3}, 'RANDOM_WALK': True, 'M': 0} <<\n",
      " \t>> ACT-R PARAMETERS: {'v': None, 'seed': 'nil', 'ans': 0.7, 'lf': 0.5, 'bll': 0.5, 'mas': 2, 'egs': 0.7, 'alpha': 0.7, 'imaginal-activation': 1.0} <<\n",
      "\n",
      "COMPLETE...\n"
     ]
    },
    {
     "name": "stderr",
     "output_type": "stream",
     "text": [
      "\n",
      "100%|██████████| 1/1 [00:00<00:00,  3.92it/s]\u001b[A\n",
      "\n",
      "  0%|          | 0/1 [00:00<?, ?it/s]\u001b[A"
     ]
    },
    {
     "name": "stdout",
     "output_type": "stream",
     "text": [
      "######### SETUP MODEL markov-model1 #########\n",
      " \t>> TASK PARAMETERS: {'MARKOV_PROBABILITY': 0.7, 'REWARD_PROBABILITY': {'B1': 0.26, 'B2': 0.57, 'C1': 0.41, 'C2': 0.28}, 'REWARD': {'B1': 3, 'B2': 3, 'C1': 3, 'C2': 3}, 'RANDOM_WALK': True, 'M': 0} <<\n",
      " \t>> ACT-R PARAMETERS: {'v': None, 'seed': 'nil', 'ans': 0.7, 'lf': 1, 'bll': 0.5, 'mas': 2, 'egs': 0.7, 'alpha': 0.7, 'imaginal-activation': 1.0} <<\n",
      "\n"
     ]
    },
    {
     "name": "stderr",
     "output_type": "stream",
     "text": [
      "\n",
      "100%|██████████| 1/1 [00:00<00:00,  1.96it/s]\u001b[A\n",
      "\n",
      "  0%|          | 0/1 [00:00<?, ?it/s]\u001b[A"
     ]
    },
    {
     "name": "stdout",
     "output_type": "stream",
     "text": [
      "######### SETUP MODEL markov-model2 #########\n",
      " \t>> TASK PARAMETERS: {'MARKOV_PROBABILITY': 0.7, 'REWARD_PROBABILITY': {'B1': 0.26, 'B2': 0.57, 'C1': 0.41, 'C2': 0.28}, 'REWARD': {'B1': 3, 'B2': 3, 'C1': 3, 'C2': 3}, 'RANDOM_WALK': True, 'M': 0} <<\n",
      " \t>> ACT-R PARAMETERS: {'v': None, 'seed': 'nil', 'ans': 0.7, 'lf': 1, 'bll': 0.5, 'mas': 2, 'egs': 0.7, 'alpha': 0.7, 'imaginal-activation': 1.0} <<\n",
      "\n"
     ]
    },
    {
     "name": "stderr",
     "output_type": "stream",
     "text": [
      "\n",
      "100%|██████████| 1/1 [00:00<00:00,  3.66it/s]\u001b[A\n",
      "  8%|▊         | 1/12 [00:14<02:37, 14.34s/it]\n",
      "  0%|          | 0/1 [00:00<?, ?it/s]\u001b[A"
     ]
    },
    {
     "name": "stdout",
     "output_type": "stream",
     "text": [
      "######### SETUP MODEL markov-model3 #########\n",
      " \t>> TASK PARAMETERS: {'MARKOV_PROBABILITY': 0.7, 'REWARD_PROBABILITY': {'B1': 0.26, 'B2': 0.57, 'C1': 0.41, 'C2': 0.28}, 'REWARD': {'B1': 3, 'B2': 3, 'C1': 3, 'C2': 3}, 'RANDOM_WALK': True, 'M': 0} <<\n",
      " \t>> ACT-R PARAMETERS: {'v': None, 'seed': 'nil', 'ans': 0.7, 'lf': 1, 'bll': 0.5, 'mas': 2, 'egs': 0.7, 'alpha': 0.7, 'imaginal-activation': 1.0} <<\n",
      "\n",
      "COMPLETE...\n"
     ]
    },
    {
     "name": "stderr",
     "output_type": "stream",
     "text": [
      "\n",
      "100%|██████████| 1/1 [00:00<00:00,  3.91it/s]\u001b[A\n",
      "\n",
      "  0%|          | 0/1 [00:00<?, ?it/s]\u001b[A"
     ]
    },
    {
     "name": "stdout",
     "output_type": "stream",
     "text": [
      "######### SETUP MODEL markov-model1 #########\n",
      " \t>> TASK PARAMETERS: {'MARKOV_PROBABILITY': 0.7, 'REWARD_PROBABILITY': {'B1': 0.26, 'B2': 0.57, 'C1': 0.41, 'C2': 0.28}, 'REWARD': {'B1': 5, 'B2': 5, 'C1': 5, 'C2': 5}, 'RANDOM_WALK': True, 'M': 0} <<\n",
      " \t>> ACT-R PARAMETERS: {'v': None, 'seed': 'nil', 'ans': 0.2, 'lf': 0.5, 'bll': 0.5, 'mas': 2, 'egs': 0.2, 'alpha': 0.2, 'imaginal-activation': 1.0} <<\n",
      "\n"
     ]
    },
    {
     "name": "stderr",
     "output_type": "stream",
     "text": [
      "\n",
      "100%|██████████| 1/1 [00:00<00:00,  3.71it/s]\u001b[A\n",
      "\n",
      "  0%|          | 0/1 [00:00<?, ?it/s]\u001b[A"
     ]
    },
    {
     "name": "stdout",
     "output_type": "stream",
     "text": [
      "######### SETUP MODEL markov-model2 #########\n",
      " \t>> TASK PARAMETERS: {'MARKOV_PROBABILITY': 0.7, 'REWARD_PROBABILITY': {'B1': 0.26, 'B2': 0.57, 'C1': 0.41, 'C2': 0.28}, 'REWARD': {'B1': 5, 'B2': 5, 'C1': 5, 'C2': 5}, 'RANDOM_WALK': True, 'M': 0} <<\n",
      " \t>> ACT-R PARAMETERS: {'v': None, 'seed': 'nil', 'ans': 0.2, 'lf': 0.5, 'bll': 0.5, 'mas': 2, 'egs': 0.2, 'alpha': 0.2, 'imaginal-activation': 1.0} <<\n",
      "\n"
     ]
    },
    {
     "name": "stderr",
     "output_type": "stream",
     "text": [
      "\n",
      "100%|██████████| 1/1 [00:00<00:00,  3.72it/s]\u001b[A\n",
      "\n",
      "  0%|          | 0/1 [00:00<?, ?it/s]\u001b[A"
     ]
    },
    {
     "name": "stdout",
     "output_type": "stream",
     "text": [
      "######### SETUP MODEL markov-model3 #########\n",
      " \t>> TASK PARAMETERS: {'MARKOV_PROBABILITY': 0.7, 'REWARD_PROBABILITY': {'B1': 0.26, 'B2': 0.57, 'C1': 0.41, 'C2': 0.28}, 'REWARD': {'B1': 5, 'B2': 5, 'C1': 5, 'C2': 5}, 'RANDOM_WALK': True, 'M': 0} <<\n",
      " \t>> ACT-R PARAMETERS: {'v': None, 'seed': 'nil', 'ans': 0.2, 'lf': 0.5, 'bll': 0.5, 'mas': 2, 'egs': 0.2, 'alpha': 0.2, 'imaginal-activation': 1.0} <<\n",
      "\n",
      "COMPLETE...\n"
     ]
    },
    {
     "name": "stderr",
     "output_type": "stream",
     "text": [
      "\n",
      "100%|██████████| 1/1 [00:00<00:00,  3.94it/s]\u001b[A\n",
      "\n",
      "  0%|          | 0/1 [00:00<?, ?it/s]\u001b[A"
     ]
    },
    {
     "name": "stdout",
     "output_type": "stream",
     "text": [
      "######### SETUP MODEL markov-model1 #########\n",
      " \t>> TASK PARAMETERS: {'MARKOV_PROBABILITY': 0.7, 'REWARD_PROBABILITY': {'B1': 0.26, 'B2': 0.57, 'C1': 0.41, 'C2': 0.28}, 'REWARD': {'B1': 5, 'B2': 5, 'C1': 5, 'C2': 5}, 'RANDOM_WALK': True, 'M': 0} <<\n",
      " \t>> ACT-R PARAMETERS: {'v': None, 'seed': 'nil', 'ans': 0.2, 'lf': 1, 'bll': 0.5, 'mas': 2, 'egs': 0.2, 'alpha': 0.2, 'imaginal-activation': 1.0} <<\n",
      "\n"
     ]
    },
    {
     "name": "stderr",
     "output_type": "stream",
     "text": [
      "\n",
      "100%|██████████| 1/1 [00:00<00:00,  3.76it/s]\u001b[A\n",
      "\n",
      "  0%|          | 0/1 [00:00<?, ?it/s]\u001b[A"
     ]
    },
    {
     "name": "stdout",
     "output_type": "stream",
     "text": [
      "######### SETUP MODEL markov-model2 #########\n",
      " \t>> TASK PARAMETERS: {'MARKOV_PROBABILITY': 0.7, 'REWARD_PROBABILITY': {'B1': 0.26, 'B2': 0.57, 'C1': 0.41, 'C2': 0.28}, 'REWARD': {'B1': 5, 'B2': 5, 'C1': 5, 'C2': 5}, 'RANDOM_WALK': True, 'M': 0} <<\n",
      " \t>> ACT-R PARAMETERS: {'v': None, 'seed': 'nil', 'ans': 0.2, 'lf': 1, 'bll': 0.5, 'mas': 2, 'egs': 0.2, 'alpha': 0.2, 'imaginal-activation': 1.0} <<\n",
      "\n"
     ]
    },
    {
     "name": "stderr",
     "output_type": "stream",
     "text": [
      "\n",
      "100%|██████████| 1/1 [00:00<00:00,  3.15it/s]\u001b[A\n",
      "\n",
      "  0%|          | 0/1 [00:00<?, ?it/s]\u001b[A"
     ]
    },
    {
     "name": "stdout",
     "output_type": "stream",
     "text": [
      "######### SETUP MODEL markov-model3 #########\n",
      " \t>> TASK PARAMETERS: {'MARKOV_PROBABILITY': 0.7, 'REWARD_PROBABILITY': {'B1': 0.26, 'B2': 0.57, 'C1': 0.41, 'C2': 0.28}, 'REWARD': {'B1': 5, 'B2': 5, 'C1': 5, 'C2': 5}, 'RANDOM_WALK': True, 'M': 0} <<\n",
      " \t>> ACT-R PARAMETERS: {'v': None, 'seed': 'nil', 'ans': 0.2, 'lf': 1, 'bll': 0.5, 'mas': 2, 'egs': 0.2, 'alpha': 0.2, 'imaginal-activation': 1.0} <<\n",
      "\n",
      "COMPLETE...\n"
     ]
    },
    {
     "name": "stderr",
     "output_type": "stream",
     "text": [
      "\n",
      "100%|██████████| 1/1 [00:00<00:00,  3.96it/s]\u001b[A\n",
      "\n",
      "  0%|          | 0/1 [00:00<?, ?it/s]\u001b[A"
     ]
    },
    {
     "name": "stdout",
     "output_type": "stream",
     "text": [
      "######### SETUP MODEL markov-model1 #########\n",
      " \t>> TASK PARAMETERS: {'MARKOV_PROBABILITY': 0.7, 'REWARD_PROBABILITY': {'B1': 0.26, 'B2': 0.57, 'C1': 0.41, 'C2': 0.28}, 'REWARD': {'B1': 5, 'B2': 5, 'C1': 5, 'C2': 5}, 'RANDOM_WALK': True, 'M': 0} <<\n",
      " \t>> ACT-R PARAMETERS: {'v': None, 'seed': 'nil', 'ans': 0.2, 'lf': 0.5, 'bll': 0.5, 'mas': 2, 'egs': 0.2, 'alpha': 0.7, 'imaginal-activation': 1.0} <<\n",
      "\n"
     ]
    },
    {
     "name": "stderr",
     "output_type": "stream",
     "text": [
      "\n",
      "100%|██████████| 1/1 [00:00<00:00,  2.73it/s]\u001b[A\n",
      "\n",
      "  0%|          | 0/1 [00:00<?, ?it/s]\u001b[A"
     ]
    },
    {
     "name": "stdout",
     "output_type": "stream",
     "text": [
      "######### SETUP MODEL markov-model2 #########\n",
      " \t>> TASK PARAMETERS: {'MARKOV_PROBABILITY': 0.7, 'REWARD_PROBABILITY': {'B1': 0.26, 'B2': 0.57, 'C1': 0.41, 'C2': 0.28}, 'REWARD': {'B1': 5, 'B2': 5, 'C1': 5, 'C2': 5}, 'RANDOM_WALK': True, 'M': 0} <<\n",
      " \t>> ACT-R PARAMETERS: {'v': None, 'seed': 'nil', 'ans': 0.2, 'lf': 0.5, 'bll': 0.5, 'mas': 2, 'egs': 0.2, 'alpha': 0.7, 'imaginal-activation': 1.0} <<\n",
      "\n"
     ]
    },
    {
     "name": "stderr",
     "output_type": "stream",
     "text": [
      "\n",
      "100%|██████████| 1/1 [00:00<00:00,  3.28it/s]\u001b[A\n",
      "\n",
      "  0%|          | 0/1 [00:00<?, ?it/s]\u001b[A"
     ]
    },
    {
     "name": "stdout",
     "output_type": "stream",
     "text": [
      "######### SETUP MODEL markov-model3 #########\n",
      " \t>> TASK PARAMETERS: {'MARKOV_PROBABILITY': 0.7, 'REWARD_PROBABILITY': {'B1': 0.26, 'B2': 0.57, 'C1': 0.41, 'C2': 0.28}, 'REWARD': {'B1': 5, 'B2': 5, 'C1': 5, 'C2': 5}, 'RANDOM_WALK': True, 'M': 0} <<\n",
      " \t>> ACT-R PARAMETERS: {'v': None, 'seed': 'nil', 'ans': 0.2, 'lf': 0.5, 'bll': 0.5, 'mas': 2, 'egs': 0.2, 'alpha': 0.7, 'imaginal-activation': 1.0} <<\n",
      "\n",
      "COMPLETE...\n"
     ]
    },
    {
     "name": "stderr",
     "output_type": "stream",
     "text": [
      "\n",
      "100%|██████████| 1/1 [00:00<00:00,  3.52it/s]\u001b[A\n",
      "\n",
      "  0%|          | 0/1 [00:00<?, ?it/s]\u001b[A"
     ]
    },
    {
     "name": "stdout",
     "output_type": "stream",
     "text": [
      "######### SETUP MODEL markov-model1 #########\n",
      " \t>> TASK PARAMETERS: {'MARKOV_PROBABILITY': 0.7, 'REWARD_PROBABILITY': {'B1': 0.26, 'B2': 0.57, 'C1': 0.41, 'C2': 0.28}, 'REWARD': {'B1': 5, 'B2': 5, 'C1': 5, 'C2': 5}, 'RANDOM_WALK': True, 'M': 0} <<\n",
      " \t>> ACT-R PARAMETERS: {'v': None, 'seed': 'nil', 'ans': 0.2, 'lf': 1, 'bll': 0.5, 'mas': 2, 'egs': 0.2, 'alpha': 0.7, 'imaginal-activation': 1.0} <<\n",
      "\n"
     ]
    },
    {
     "name": "stderr",
     "output_type": "stream",
     "text": [
      "\n",
      "100%|██████████| 1/1 [00:00<00:00,  3.42it/s]\u001b[A\n",
      "\n",
      "  0%|          | 0/1 [00:00<?, ?it/s]\u001b[A"
     ]
    },
    {
     "name": "stdout",
     "output_type": "stream",
     "text": [
      "######### SETUP MODEL markov-model2 #########\n",
      " \t>> TASK PARAMETERS: {'MARKOV_PROBABILITY': 0.7, 'REWARD_PROBABILITY': {'B1': 0.26, 'B2': 0.57, 'C1': 0.41, 'C2': 0.28}, 'REWARD': {'B1': 5, 'B2': 5, 'C1': 5, 'C2': 5}, 'RANDOM_WALK': True, 'M': 0} <<\n",
      " \t>> ACT-R PARAMETERS: {'v': None, 'seed': 'nil', 'ans': 0.2, 'lf': 1, 'bll': 0.5, 'mas': 2, 'egs': 0.2, 'alpha': 0.7, 'imaginal-activation': 1.0} <<\n",
      "\n"
     ]
    },
    {
     "name": "stderr",
     "output_type": "stream",
     "text": [
      "\n",
      "100%|██████████| 1/1 [00:00<00:00,  3.20it/s]\u001b[A\n",
      "\n",
      "  0%|          | 0/1 [00:00<?, ?it/s]\u001b[A"
     ]
    },
    {
     "name": "stdout",
     "output_type": "stream",
     "text": [
      "######### SETUP MODEL markov-model3 #########\n",
      " \t>> TASK PARAMETERS: {'MARKOV_PROBABILITY': 0.7, 'REWARD_PROBABILITY': {'B1': 0.26, 'B2': 0.57, 'C1': 0.41, 'C2': 0.28}, 'REWARD': {'B1': 5, 'B2': 5, 'C1': 5, 'C2': 5}, 'RANDOM_WALK': True, 'M': 0} <<\n",
      " \t>> ACT-R PARAMETERS: {'v': None, 'seed': 'nil', 'ans': 0.2, 'lf': 1, 'bll': 0.5, 'mas': 2, 'egs': 0.2, 'alpha': 0.7, 'imaginal-activation': 1.0} <<\n",
      "\n",
      "COMPLETE...\n"
     ]
    },
    {
     "name": "stderr",
     "output_type": "stream",
     "text": [
      "\n",
      "100%|██████████| 1/1 [00:00<00:00,  3.53it/s]\u001b[A\n",
      "\n",
      "  0%|          | 0/1 [00:00<?, ?it/s]\u001b[A"
     ]
    },
    {
     "name": "stdout",
     "output_type": "stream",
     "text": [
      "######### SETUP MODEL markov-model1 #########\n",
      " \t>> TASK PARAMETERS: {'MARKOV_PROBABILITY': 0.7, 'REWARD_PROBABILITY': {'B1': 0.26, 'B2': 0.57, 'C1': 0.41, 'C2': 0.28}, 'REWARD': {'B1': 5, 'B2': 5, 'C1': 5, 'C2': 5}, 'RANDOM_WALK': True, 'M': 0} <<\n",
      " \t>> ACT-R PARAMETERS: {'v': None, 'seed': 'nil', 'ans': 0.2, 'lf': 0.5, 'bll': 0.5, 'mas': 2, 'egs': 0.7, 'alpha': 0.2, 'imaginal-activation': 1.0} <<\n",
      "\n"
     ]
    },
    {
     "name": "stderr",
     "output_type": "stream",
     "text": [
      "\n",
      "100%|██████████| 1/1 [00:00<00:00,  3.56it/s]\u001b[A\n",
      "\n",
      "  0%|          | 0/1 [00:00<?, ?it/s]\u001b[A"
     ]
    },
    {
     "name": "stdout",
     "output_type": "stream",
     "text": [
      "######### SETUP MODEL markov-model2 #########\n",
      " \t>> TASK PARAMETERS: {'MARKOV_PROBABILITY': 0.7, 'REWARD_PROBABILITY': {'B1': 0.26, 'B2': 0.57, 'C1': 0.41, 'C2': 0.28}, 'REWARD': {'B1': 5, 'B2': 5, 'C1': 5, 'C2': 5}, 'RANDOM_WALK': True, 'M': 0} <<\n",
      " \t>> ACT-R PARAMETERS: {'v': None, 'seed': 'nil', 'ans': 0.2, 'lf': 0.5, 'bll': 0.5, 'mas': 2, 'egs': 0.7, 'alpha': 0.2, 'imaginal-activation': 1.0} <<\n",
      "\n"
     ]
    },
    {
     "name": "stderr",
     "output_type": "stream",
     "text": [
      "\n",
      "100%|██████████| 1/1 [00:00<00:00,  3.49it/s]\u001b[A\n",
      "\n",
      "  0%|          | 0/1 [00:00<?, ?it/s]\u001b[A"
     ]
    },
    {
     "name": "stdout",
     "output_type": "stream",
     "text": [
      "######### SETUP MODEL markov-model3 #########\n",
      " \t>> TASK PARAMETERS: {'MARKOV_PROBABILITY': 0.7, 'REWARD_PROBABILITY': {'B1': 0.26, 'B2': 0.57, 'C1': 0.41, 'C2': 0.28}, 'REWARD': {'B1': 5, 'B2': 5, 'C1': 5, 'C2': 5}, 'RANDOM_WALK': True, 'M': 0} <<\n",
      " \t>> ACT-R PARAMETERS: {'v': None, 'seed': 'nil', 'ans': 0.2, 'lf': 0.5, 'bll': 0.5, 'mas': 2, 'egs': 0.7, 'alpha': 0.2, 'imaginal-activation': 1.0} <<\n",
      "\n",
      "COMPLETE...\n"
     ]
    },
    {
     "name": "stderr",
     "output_type": "stream",
     "text": [
      "\n",
      "100%|██████████| 1/1 [00:00<00:00,  3.57it/s]\u001b[A\n",
      "\n",
      "  0%|          | 0/1 [00:00<?, ?it/s]\u001b[A"
     ]
    },
    {
     "name": "stdout",
     "output_type": "stream",
     "text": [
      "######### SETUP MODEL markov-model1 #########\n",
      " \t>> TASK PARAMETERS: {'MARKOV_PROBABILITY': 0.7, 'REWARD_PROBABILITY': {'B1': 0.26, 'B2': 0.57, 'C1': 0.41, 'C2': 0.28}, 'REWARD': {'B1': 5, 'B2': 5, 'C1': 5, 'C2': 5}, 'RANDOM_WALK': True, 'M': 0} <<\n",
      " \t>> ACT-R PARAMETERS: {'v': None, 'seed': 'nil', 'ans': 0.2, 'lf': 1, 'bll': 0.5, 'mas': 2, 'egs': 0.7, 'alpha': 0.2, 'imaginal-activation': 1.0} <<\n",
      "\n"
     ]
    },
    {
     "name": "stderr",
     "output_type": "stream",
     "text": [
      "\n",
      "100%|██████████| 1/1 [00:00<00:00,  3.44it/s]\u001b[A\n",
      "\n",
      "  0%|          | 0/1 [00:00<?, ?it/s]\u001b[A"
     ]
    },
    {
     "name": "stdout",
     "output_type": "stream",
     "text": [
      "######### SETUP MODEL markov-model2 #########\n",
      " \t>> TASK PARAMETERS: {'MARKOV_PROBABILITY': 0.7, 'REWARD_PROBABILITY': {'B1': 0.26, 'B2': 0.57, 'C1': 0.41, 'C2': 0.28}, 'REWARD': {'B1': 5, 'B2': 5, 'C1': 5, 'C2': 5}, 'RANDOM_WALK': True, 'M': 0} <<\n",
      " \t>> ACT-R PARAMETERS: {'v': None, 'seed': 'nil', 'ans': 0.2, 'lf': 1, 'bll': 0.5, 'mas': 2, 'egs': 0.7, 'alpha': 0.2, 'imaginal-activation': 1.0} <<\n",
      "\n"
     ]
    },
    {
     "name": "stderr",
     "output_type": "stream",
     "text": [
      "\n",
      "100%|██████████| 1/1 [00:00<00:00,  3.42it/s]\u001b[A\n",
      "\n",
      "  0%|          | 0/1 [00:00<?, ?it/s]\u001b[A"
     ]
    },
    {
     "name": "stdout",
     "output_type": "stream",
     "text": [
      "######### SETUP MODEL markov-model3 #########\n",
      " \t>> TASK PARAMETERS: {'MARKOV_PROBABILITY': 0.7, 'REWARD_PROBABILITY': {'B1': 0.26, 'B2': 0.57, 'C1': 0.41, 'C2': 0.28}, 'REWARD': {'B1': 5, 'B2': 5, 'C1': 5, 'C2': 5}, 'RANDOM_WALK': True, 'M': 0} <<\n",
      " \t>> ACT-R PARAMETERS: {'v': None, 'seed': 'nil', 'ans': 0.2, 'lf': 1, 'bll': 0.5, 'mas': 2, 'egs': 0.7, 'alpha': 0.2, 'imaginal-activation': 1.0} <<\n",
      "\n",
      "COMPLETE...\n"
     ]
    },
    {
     "name": "stderr",
     "output_type": "stream",
     "text": [
      "\n",
      "100%|██████████| 1/1 [00:00<00:00,  3.74it/s]\u001b[A\n",
      "\n",
      "  0%|          | 0/1 [00:00<?, ?it/s]\u001b[A"
     ]
    },
    {
     "name": "stdout",
     "output_type": "stream",
     "text": [
      "######### SETUP MODEL markov-model1 #########\n",
      " \t>> TASK PARAMETERS: {'MARKOV_PROBABILITY': 0.7, 'REWARD_PROBABILITY': {'B1': 0.26, 'B2': 0.57, 'C1': 0.41, 'C2': 0.28}, 'REWARD': {'B1': 5, 'B2': 5, 'C1': 5, 'C2': 5}, 'RANDOM_WALK': True, 'M': 0} <<\n",
      " \t>> ACT-R PARAMETERS: {'v': None, 'seed': 'nil', 'ans': 0.2, 'lf': 0.5, 'bll': 0.5, 'mas': 2, 'egs': 0.7, 'alpha': 0.7, 'imaginal-activation': 1.0} <<\n",
      "\n"
     ]
    },
    {
     "name": "stderr",
     "output_type": "stream",
     "text": [
      "\n",
      "100%|██████████| 1/1 [00:00<00:00,  3.35it/s]\u001b[A\n",
      "\n",
      "  0%|          | 0/1 [00:00<?, ?it/s]\u001b[A"
     ]
    },
    {
     "name": "stdout",
     "output_type": "stream",
     "text": [
      "######### SETUP MODEL markov-model2 #########\n",
      " \t>> TASK PARAMETERS: {'MARKOV_PROBABILITY': 0.7, 'REWARD_PROBABILITY': {'B1': 0.26, 'B2': 0.57, 'C1': 0.41, 'C2': 0.28}, 'REWARD': {'B1': 5, 'B2': 5, 'C1': 5, 'C2': 5}, 'RANDOM_WALK': True, 'M': 0} <<\n",
      " \t>> ACT-R PARAMETERS: {'v': None, 'seed': 'nil', 'ans': 0.2, 'lf': 0.5, 'bll': 0.5, 'mas': 2, 'egs': 0.7, 'alpha': 0.7, 'imaginal-activation': 1.0} <<\n",
      "\n"
     ]
    },
    {
     "name": "stderr",
     "output_type": "stream",
     "text": [
      "\n",
      "100%|██████████| 1/1 [00:00<00:00,  3.41it/s]\u001b[A\n",
      "\n",
      "  0%|          | 0/1 [00:00<?, ?it/s]\u001b[A"
     ]
    },
    {
     "name": "stdout",
     "output_type": "stream",
     "text": [
      "######### SETUP MODEL markov-model3 #########\n",
      " \t>> TASK PARAMETERS: {'MARKOV_PROBABILITY': 0.7, 'REWARD_PROBABILITY': {'B1': 0.26, 'B2': 0.57, 'C1': 0.41, 'C2': 0.28}, 'REWARD': {'B1': 5, 'B2': 5, 'C1': 5, 'C2': 5}, 'RANDOM_WALK': True, 'M': 0} <<\n",
      " \t>> ACT-R PARAMETERS: {'v': None, 'seed': 'nil', 'ans': 0.2, 'lf': 0.5, 'bll': 0.5, 'mas': 2, 'egs': 0.7, 'alpha': 0.7, 'imaginal-activation': 1.0} <<\n",
      "\n",
      "COMPLETE...\n"
     ]
    },
    {
     "name": "stderr",
     "output_type": "stream",
     "text": [
      "\n",
      "100%|██████████| 1/1 [00:00<00:00,  3.65it/s]\u001b[A\n",
      "\n",
      "  0%|          | 0/1 [00:00<?, ?it/s]\u001b[A"
     ]
    },
    {
     "name": "stdout",
     "output_type": "stream",
     "text": [
      "######### SETUP MODEL markov-model1 #########\n",
      " \t>> TASK PARAMETERS: {'MARKOV_PROBABILITY': 0.7, 'REWARD_PROBABILITY': {'B1': 0.26, 'B2': 0.57, 'C1': 0.41, 'C2': 0.28}, 'REWARD': {'B1': 5, 'B2': 5, 'C1': 5, 'C2': 5}, 'RANDOM_WALK': True, 'M': 0} <<\n",
      " \t>> ACT-R PARAMETERS: {'v': None, 'seed': 'nil', 'ans': 0.2, 'lf': 1, 'bll': 0.5, 'mas': 2, 'egs': 0.7, 'alpha': 0.7, 'imaginal-activation': 1.0} <<\n",
      "\n"
     ]
    },
    {
     "name": "stderr",
     "output_type": "stream",
     "text": [
      "\n",
      "100%|██████████| 1/1 [00:00<00:00,  3.67it/s]\u001b[A\n",
      "\n",
      "  0%|          | 0/1 [00:00<?, ?it/s]\u001b[A"
     ]
    },
    {
     "name": "stdout",
     "output_type": "stream",
     "text": [
      "######### SETUP MODEL markov-model2 #########\n",
      " \t>> TASK PARAMETERS: {'MARKOV_PROBABILITY': 0.7, 'REWARD_PROBABILITY': {'B1': 0.26, 'B2': 0.57, 'C1': 0.41, 'C2': 0.28}, 'REWARD': {'B1': 5, 'B2': 5, 'C1': 5, 'C2': 5}, 'RANDOM_WALK': True, 'M': 0} <<\n",
      " \t>> ACT-R PARAMETERS: {'v': None, 'seed': 'nil', 'ans': 0.2, 'lf': 1, 'bll': 0.5, 'mas': 2, 'egs': 0.7, 'alpha': 0.7, 'imaginal-activation': 1.0} <<\n",
      "\n"
     ]
    },
    {
     "name": "stderr",
     "output_type": "stream",
     "text": [
      "\n",
      "100%|██████████| 1/1 [00:00<00:00,  3.42it/s]\u001b[A\n",
      "\n",
      "  0%|          | 0/1 [00:00<?, ?it/s]\u001b[A"
     ]
    },
    {
     "name": "stdout",
     "output_type": "stream",
     "text": [
      "######### SETUP MODEL markov-model3 #########\n",
      " \t>> TASK PARAMETERS: {'MARKOV_PROBABILITY': 0.7, 'REWARD_PROBABILITY': {'B1': 0.26, 'B2': 0.57, 'C1': 0.41, 'C2': 0.28}, 'REWARD': {'B1': 5, 'B2': 5, 'C1': 5, 'C2': 5}, 'RANDOM_WALK': True, 'M': 0} <<\n",
      " \t>> ACT-R PARAMETERS: {'v': None, 'seed': 'nil', 'ans': 0.2, 'lf': 1, 'bll': 0.5, 'mas': 2, 'egs': 0.7, 'alpha': 0.7, 'imaginal-activation': 1.0} <<\n",
      "\n",
      "COMPLETE...\n"
     ]
    },
    {
     "name": "stderr",
     "output_type": "stream",
     "text": [
      "\n",
      "100%|██████████| 1/1 [00:00<00:00,  3.75it/s]\u001b[A\n",
      "\n",
      "  0%|          | 0/1 [00:00<?, ?it/s]\u001b[A"
     ]
    },
    {
     "name": "stdout",
     "output_type": "stream",
     "text": [
      "######### SETUP MODEL markov-model1 #########\n",
      " \t>> TASK PARAMETERS: {'MARKOV_PROBABILITY': 0.7, 'REWARD_PROBABILITY': {'B1': 0.26, 'B2': 0.57, 'C1': 0.41, 'C2': 0.28}, 'REWARD': {'B1': 5, 'B2': 5, 'C1': 5, 'C2': 5}, 'RANDOM_WALK': True, 'M': 0} <<\n",
      " \t>> ACT-R PARAMETERS: {'v': None, 'seed': 'nil', 'ans': 0.7, 'lf': 0.5, 'bll': 0.5, 'mas': 2, 'egs': 0.2, 'alpha': 0.2, 'imaginal-activation': 1.0} <<\n",
      "\n"
     ]
    },
    {
     "name": "stderr",
     "output_type": "stream",
     "text": [
      "\n",
      "100%|██████████| 1/1 [00:00<00:00,  2.42it/s]\u001b[A\n",
      "\n",
      "  0%|          | 0/1 [00:00<?, ?it/s]\u001b[A"
     ]
    },
    {
     "name": "stdout",
     "output_type": "stream",
     "text": [
      "######### SETUP MODEL markov-model2 #########\n",
      " \t>> TASK PARAMETERS: {'MARKOV_PROBABILITY': 0.7, 'REWARD_PROBABILITY': {'B1': 0.26, 'B2': 0.57, 'C1': 0.41, 'C2': 0.28}, 'REWARD': {'B1': 5, 'B2': 5, 'C1': 5, 'C2': 5}, 'RANDOM_WALK': True, 'M': 0} <<\n",
      " \t>> ACT-R PARAMETERS: {'v': None, 'seed': 'nil', 'ans': 0.7, 'lf': 0.5, 'bll': 0.5, 'mas': 2, 'egs': 0.2, 'alpha': 0.2, 'imaginal-activation': 1.0} <<\n",
      "\n"
     ]
    },
    {
     "name": "stderr",
     "output_type": "stream",
     "text": [
      "\n",
      "100%|██████████| 1/1 [00:00<00:00,  3.62it/s]\u001b[A\n",
      "\n",
      "  0%|          | 0/1 [00:00<?, ?it/s]\u001b[A"
     ]
    },
    {
     "name": "stdout",
     "output_type": "stream",
     "text": [
      "######### SETUP MODEL markov-model3 #########\n",
      " \t>> TASK PARAMETERS: {'MARKOV_PROBABILITY': 0.7, 'REWARD_PROBABILITY': {'B1': 0.26, 'B2': 0.57, 'C1': 0.41, 'C2': 0.28}, 'REWARD': {'B1': 5, 'B2': 5, 'C1': 5, 'C2': 5}, 'RANDOM_WALK': True, 'M': 0} <<\n",
      " \t>> ACT-R PARAMETERS: {'v': None, 'seed': 'nil', 'ans': 0.7, 'lf': 0.5, 'bll': 0.5, 'mas': 2, 'egs': 0.2, 'alpha': 0.2, 'imaginal-activation': 1.0} <<\n",
      "\n",
      "COMPLETE...\n"
     ]
    },
    {
     "name": "stderr",
     "output_type": "stream",
     "text": [
      "\n",
      "100%|██████████| 1/1 [00:00<00:00,  3.77it/s]\u001b[A\n",
      "\n",
      "  0%|          | 0/1 [00:00<?, ?it/s]\u001b[A"
     ]
    },
    {
     "name": "stdout",
     "output_type": "stream",
     "text": [
      "######### SETUP MODEL markov-model1 #########\n",
      " \t>> TASK PARAMETERS: {'MARKOV_PROBABILITY': 0.7, 'REWARD_PROBABILITY': {'B1': 0.26, 'B2': 0.57, 'C1': 0.41, 'C2': 0.28}, 'REWARD': {'B1': 5, 'B2': 5, 'C1': 5, 'C2': 5}, 'RANDOM_WALK': True, 'M': 0} <<\n",
      " \t>> ACT-R PARAMETERS: {'v': None, 'seed': 'nil', 'ans': 0.7, 'lf': 1, 'bll': 0.5, 'mas': 2, 'egs': 0.2, 'alpha': 0.2, 'imaginal-activation': 1.0} <<\n",
      "\n"
     ]
    },
    {
     "name": "stderr",
     "output_type": "stream",
     "text": [
      "\n",
      "100%|██████████| 1/1 [00:00<00:00,  2.36it/s]\u001b[A\n",
      "\n",
      "  0%|          | 0/1 [00:00<?, ?it/s]\u001b[A"
     ]
    },
    {
     "name": "stdout",
     "output_type": "stream",
     "text": [
      "######### SETUP MODEL markov-model2 #########\n",
      " \t>> TASK PARAMETERS: {'MARKOV_PROBABILITY': 0.7, 'REWARD_PROBABILITY': {'B1': 0.26, 'B2': 0.57, 'C1': 0.41, 'C2': 0.28}, 'REWARD': {'B1': 5, 'B2': 5, 'C1': 5, 'C2': 5}, 'RANDOM_WALK': True, 'M': 0} <<\n",
      " \t>> ACT-R PARAMETERS: {'v': None, 'seed': 'nil', 'ans': 0.7, 'lf': 1, 'bll': 0.5, 'mas': 2, 'egs': 0.2, 'alpha': 0.2, 'imaginal-activation': 1.0} <<\n",
      "\n"
     ]
    },
    {
     "name": "stderr",
     "output_type": "stream",
     "text": [
      "\n",
      "100%|██████████| 1/1 [00:00<00:00,  3.78it/s]\u001b[A\n",
      "\n",
      "  0%|          | 0/1 [00:00<?, ?it/s]\u001b[A"
     ]
    },
    {
     "name": "stdout",
     "output_type": "stream",
     "text": [
      "######### SETUP MODEL markov-model3 #########\n",
      " \t>> TASK PARAMETERS: {'MARKOV_PROBABILITY': 0.7, 'REWARD_PROBABILITY': {'B1': 0.26, 'B2': 0.57, 'C1': 0.41, 'C2': 0.28}, 'REWARD': {'B1': 5, 'B2': 5, 'C1': 5, 'C2': 5}, 'RANDOM_WALK': True, 'M': 0} <<\n",
      " \t>> ACT-R PARAMETERS: {'v': None, 'seed': 'nil', 'ans': 0.7, 'lf': 1, 'bll': 0.5, 'mas': 2, 'egs': 0.2, 'alpha': 0.2, 'imaginal-activation': 1.0} <<\n",
      "\n",
      "COMPLETE...\n"
     ]
    },
    {
     "name": "stderr",
     "output_type": "stream",
     "text": [
      "\n",
      "100%|██████████| 1/1 [00:00<00:00,  3.49it/s]\u001b[A\n",
      "\n",
      "  0%|          | 0/1 [00:00<?, ?it/s]\u001b[A"
     ]
    },
    {
     "name": "stdout",
     "output_type": "stream",
     "text": [
      "######### SETUP MODEL markov-model1 #########\n",
      " \t>> TASK PARAMETERS: {'MARKOV_PROBABILITY': 0.7, 'REWARD_PROBABILITY': {'B1': 0.26, 'B2': 0.57, 'C1': 0.41, 'C2': 0.28}, 'REWARD': {'B1': 5, 'B2': 5, 'C1': 5, 'C2': 5}, 'RANDOM_WALK': True, 'M': 0} <<\n",
      " \t>> ACT-R PARAMETERS: {'v': None, 'seed': 'nil', 'ans': 0.7, 'lf': 0.5, 'bll': 0.5, 'mas': 2, 'egs': 0.2, 'alpha': 0.7, 'imaginal-activation': 1.0} <<\n",
      "\n"
     ]
    },
    {
     "name": "stderr",
     "output_type": "stream",
     "text": [
      "\n",
      "100%|██████████| 1/1 [00:00<00:00,  1.82it/s]\u001b[A\n",
      "\n",
      "  0%|          | 0/1 [00:00<?, ?it/s]\u001b[A"
     ]
    },
    {
     "name": "stdout",
     "output_type": "stream",
     "text": [
      "######### SETUP MODEL markov-model2 #########\n",
      " \t>> TASK PARAMETERS: {'MARKOV_PROBABILITY': 0.7, 'REWARD_PROBABILITY': {'B1': 0.26, 'B2': 0.57, 'C1': 0.41, 'C2': 0.28}, 'REWARD': {'B1': 5, 'B2': 5, 'C1': 5, 'C2': 5}, 'RANDOM_WALK': True, 'M': 0} <<\n",
      " \t>> ACT-R PARAMETERS: {'v': None, 'seed': 'nil', 'ans': 0.7, 'lf': 0.5, 'bll': 0.5, 'mas': 2, 'egs': 0.2, 'alpha': 0.7, 'imaginal-activation': 1.0} <<\n",
      "\n"
     ]
    },
    {
     "name": "stderr",
     "output_type": "stream",
     "text": [
      "\n",
      "100%|██████████| 1/1 [00:00<00:00,  3.56it/s]\u001b[A\n",
      "\n",
      "  0%|          | 0/1 [00:00<?, ?it/s]\u001b[A"
     ]
    },
    {
     "name": "stdout",
     "output_type": "stream",
     "text": [
      "######### SETUP MODEL markov-model3 #########\n",
      " \t>> TASK PARAMETERS: {'MARKOV_PROBABILITY': 0.7, 'REWARD_PROBABILITY': {'B1': 0.26, 'B2': 0.57, 'C1': 0.41, 'C2': 0.28}, 'REWARD': {'B1': 5, 'B2': 5, 'C1': 5, 'C2': 5}, 'RANDOM_WALK': True, 'M': 0} <<\n",
      " \t>> ACT-R PARAMETERS: {'v': None, 'seed': 'nil', 'ans': 0.7, 'lf': 0.5, 'bll': 0.5, 'mas': 2, 'egs': 0.2, 'alpha': 0.7, 'imaginal-activation': 1.0} <<\n",
      "\n",
      "COMPLETE...\n"
     ]
    },
    {
     "name": "stderr",
     "output_type": "stream",
     "text": [
      "\n",
      "100%|██████████| 1/1 [00:00<00:00,  3.14it/s]\u001b[A\n",
      "\n",
      "  0%|          | 0/1 [00:00<?, ?it/s]\u001b[A"
     ]
    },
    {
     "name": "stdout",
     "output_type": "stream",
     "text": [
      "######### SETUP MODEL markov-model1 #########\n",
      " \t>> TASK PARAMETERS: {'MARKOV_PROBABILITY': 0.7, 'REWARD_PROBABILITY': {'B1': 0.26, 'B2': 0.57, 'C1': 0.41, 'C2': 0.28}, 'REWARD': {'B1': 5, 'B2': 5, 'C1': 5, 'C2': 5}, 'RANDOM_WALK': True, 'M': 0} <<\n",
      " \t>> ACT-R PARAMETERS: {'v': None, 'seed': 'nil', 'ans': 0.7, 'lf': 1, 'bll': 0.5, 'mas': 2, 'egs': 0.2, 'alpha': 0.7, 'imaginal-activation': 1.0} <<\n",
      "\n"
     ]
    },
    {
     "name": "stderr",
     "output_type": "stream",
     "text": [
      "\n",
      "100%|██████████| 1/1 [00:00<00:00,  1.66it/s]\u001b[A\n",
      "\n",
      "  0%|          | 0/1 [00:00<?, ?it/s]\u001b[A"
     ]
    },
    {
     "name": "stdout",
     "output_type": "stream",
     "text": [
      "######### SETUP MODEL markov-model2 #########\n",
      " \t>> TASK PARAMETERS: {'MARKOV_PROBABILITY': 0.7, 'REWARD_PROBABILITY': {'B1': 0.26, 'B2': 0.57, 'C1': 0.41, 'C2': 0.28}, 'REWARD': {'B1': 5, 'B2': 5, 'C1': 5, 'C2': 5}, 'RANDOM_WALK': True, 'M': 0} <<\n",
      " \t>> ACT-R PARAMETERS: {'v': None, 'seed': 'nil', 'ans': 0.7, 'lf': 1, 'bll': 0.5, 'mas': 2, 'egs': 0.2, 'alpha': 0.7, 'imaginal-activation': 1.0} <<\n",
      "\n"
     ]
    },
    {
     "name": "stderr",
     "output_type": "stream",
     "text": [
      "\n",
      "100%|██████████| 1/1 [00:00<00:00,  3.47it/s]\u001b[A\n",
      "\n",
      "  0%|          | 0/1 [00:00<?, ?it/s]\u001b[A"
     ]
    },
    {
     "name": "stdout",
     "output_type": "stream",
     "text": [
      "######### SETUP MODEL markov-model3 #########\n",
      " \t>> TASK PARAMETERS: {'MARKOV_PROBABILITY': 0.7, 'REWARD_PROBABILITY': {'B1': 0.26, 'B2': 0.57, 'C1': 0.41, 'C2': 0.28}, 'REWARD': {'B1': 5, 'B2': 5, 'C1': 5, 'C2': 5}, 'RANDOM_WALK': True, 'M': 0} <<\n",
      " \t>> ACT-R PARAMETERS: {'v': None, 'seed': 'nil', 'ans': 0.7, 'lf': 1, 'bll': 0.5, 'mas': 2, 'egs': 0.2, 'alpha': 0.7, 'imaginal-activation': 1.0} <<\n",
      "\n",
      "COMPLETE...\n"
     ]
    },
    {
     "name": "stderr",
     "output_type": "stream",
     "text": [
      "\n",
      "100%|██████████| 1/1 [00:00<00:00,  3.72it/s]\u001b[A\n",
      "\n",
      "  0%|          | 0/1 [00:00<?, ?it/s]\u001b[A"
     ]
    },
    {
     "name": "stdout",
     "output_type": "stream",
     "text": [
      "######### SETUP MODEL markov-model1 #########\n",
      " \t>> TASK PARAMETERS: {'MARKOV_PROBABILITY': 0.7, 'REWARD_PROBABILITY': {'B1': 0.26, 'B2': 0.57, 'C1': 0.41, 'C2': 0.28}, 'REWARD': {'B1': 5, 'B2': 5, 'C1': 5, 'C2': 5}, 'RANDOM_WALK': True, 'M': 0} <<\n",
      " \t>> ACT-R PARAMETERS: {'v': None, 'seed': 'nil', 'ans': 0.7, 'lf': 0.5, 'bll': 0.5, 'mas': 2, 'egs': 0.7, 'alpha': 0.2, 'imaginal-activation': 1.0} <<\n",
      "\n"
     ]
    },
    {
     "name": "stderr",
     "output_type": "stream",
     "text": [
      "\n",
      "100%|██████████| 1/1 [00:00<00:00,  3.57it/s]\u001b[A\n",
      "\n",
      "  0%|          | 0/1 [00:00<?, ?it/s]\u001b[A"
     ]
    },
    {
     "name": "stdout",
     "output_type": "stream",
     "text": [
      "######### SETUP MODEL markov-model2 #########\n",
      " \t>> TASK PARAMETERS: {'MARKOV_PROBABILITY': 0.7, 'REWARD_PROBABILITY': {'B1': 0.26, 'B2': 0.57, 'C1': 0.41, 'C2': 0.28}, 'REWARD': {'B1': 5, 'B2': 5, 'C1': 5, 'C2': 5}, 'RANDOM_WALK': True, 'M': 0} <<\n",
      " \t>> ACT-R PARAMETERS: {'v': None, 'seed': 'nil', 'ans': 0.7, 'lf': 0.5, 'bll': 0.5, 'mas': 2, 'egs': 0.7, 'alpha': 0.2, 'imaginal-activation': 1.0} <<\n",
      "\n"
     ]
    },
    {
     "name": "stderr",
     "output_type": "stream",
     "text": [
      "\n",
      "100%|██████████| 1/1 [00:00<00:00,  3.53it/s]\u001b[A\n",
      "\n",
      "  0%|          | 0/1 [00:00<?, ?it/s]\u001b[A"
     ]
    },
    {
     "name": "stdout",
     "output_type": "stream",
     "text": [
      "######### SETUP MODEL markov-model3 #########\n",
      " \t>> TASK PARAMETERS: {'MARKOV_PROBABILITY': 0.7, 'REWARD_PROBABILITY': {'B1': 0.26, 'B2': 0.57, 'C1': 0.41, 'C2': 0.28}, 'REWARD': {'B1': 5, 'B2': 5, 'C1': 5, 'C2': 5}, 'RANDOM_WALK': True, 'M': 0} <<\n",
      " \t>> ACT-R PARAMETERS: {'v': None, 'seed': 'nil', 'ans': 0.7, 'lf': 0.5, 'bll': 0.5, 'mas': 2, 'egs': 0.7, 'alpha': 0.2, 'imaginal-activation': 1.0} <<\n",
      "\n",
      "COMPLETE...\n"
     ]
    },
    {
     "name": "stderr",
     "output_type": "stream",
     "text": [
      "\n",
      "100%|██████████| 1/1 [00:00<00:00,  3.58it/s]\u001b[A\n",
      "\n",
      "  0%|          | 0/1 [00:00<?, ?it/s]\u001b[A"
     ]
    },
    {
     "name": "stdout",
     "output_type": "stream",
     "text": [
      "######### SETUP MODEL markov-model1 #########\n",
      " \t>> TASK PARAMETERS: {'MARKOV_PROBABILITY': 0.7, 'REWARD_PROBABILITY': {'B1': 0.26, 'B2': 0.57, 'C1': 0.41, 'C2': 0.28}, 'REWARD': {'B1': 5, 'B2': 5, 'C1': 5, 'C2': 5}, 'RANDOM_WALK': True, 'M': 0} <<\n",
      " \t>> ACT-R PARAMETERS: {'v': None, 'seed': 'nil', 'ans': 0.7, 'lf': 1, 'bll': 0.5, 'mas': 2, 'egs': 0.7, 'alpha': 0.2, 'imaginal-activation': 1.0} <<\n",
      "\n"
     ]
    },
    {
     "name": "stderr",
     "output_type": "stream",
     "text": [
      "\n",
      "100%|██████████| 1/1 [00:00<00:00,  3.30it/s]\u001b[A\n",
      "\n",
      "  0%|          | 0/1 [00:00<?, ?it/s]\u001b[A"
     ]
    },
    {
     "name": "stdout",
     "output_type": "stream",
     "text": [
      "######### SETUP MODEL markov-model2 #########\n",
      " \t>> TASK PARAMETERS: {'MARKOV_PROBABILITY': 0.7, 'REWARD_PROBABILITY': {'B1': 0.26, 'B2': 0.57, 'C1': 0.41, 'C2': 0.28}, 'REWARD': {'B1': 5, 'B2': 5, 'C1': 5, 'C2': 5}, 'RANDOM_WALK': True, 'M': 0} <<\n",
      " \t>> ACT-R PARAMETERS: {'v': None, 'seed': 'nil', 'ans': 0.7, 'lf': 1, 'bll': 0.5, 'mas': 2, 'egs': 0.7, 'alpha': 0.2, 'imaginal-activation': 1.0} <<\n",
      "\n"
     ]
    },
    {
     "name": "stderr",
     "output_type": "stream",
     "text": [
      "\n",
      "100%|██████████| 1/1 [00:00<00:00,  3.25it/s]\u001b[A\n",
      "\n",
      "  0%|          | 0/1 [00:00<?, ?it/s]\u001b[A"
     ]
    },
    {
     "name": "stdout",
     "output_type": "stream",
     "text": [
      "######### SETUP MODEL markov-model3 #########\n",
      " \t>> TASK PARAMETERS: {'MARKOV_PROBABILITY': 0.7, 'REWARD_PROBABILITY': {'B1': 0.26, 'B2': 0.57, 'C1': 0.41, 'C2': 0.28}, 'REWARD': {'B1': 5, 'B2': 5, 'C1': 5, 'C2': 5}, 'RANDOM_WALK': True, 'M': 0} <<\n",
      " \t>> ACT-R PARAMETERS: {'v': None, 'seed': 'nil', 'ans': 0.7, 'lf': 1, 'bll': 0.5, 'mas': 2, 'egs': 0.7, 'alpha': 0.2, 'imaginal-activation': 1.0} <<\n",
      "\n",
      "COMPLETE...\n"
     ]
    },
    {
     "name": "stderr",
     "output_type": "stream",
     "text": [
      "\n",
      "100%|██████████| 1/1 [00:00<00:00,  3.60it/s]\u001b[A\n",
      "\n",
      "  0%|          | 0/1 [00:00<?, ?it/s]\u001b[A"
     ]
    },
    {
     "name": "stdout",
     "output_type": "stream",
     "text": [
      "######### SETUP MODEL markov-model1 #########\n",
      " \t>> TASK PARAMETERS: {'MARKOV_PROBABILITY': 0.7, 'REWARD_PROBABILITY': {'B1': 0.26, 'B2': 0.57, 'C1': 0.41, 'C2': 0.28}, 'REWARD': {'B1': 5, 'B2': 5, 'C1': 5, 'C2': 5}, 'RANDOM_WALK': True, 'M': 0} <<\n",
      " \t>> ACT-R PARAMETERS: {'v': None, 'seed': 'nil', 'ans': 0.7, 'lf': 0.5, 'bll': 0.5, 'mas': 2, 'egs': 0.7, 'alpha': 0.7, 'imaginal-activation': 1.0} <<\n",
      "\n"
     ]
    },
    {
     "name": "stderr",
     "output_type": "stream",
     "text": [
      "\n",
      "100%|██████████| 1/1 [00:00<00:00,  3.43it/s]\u001b[A\n",
      "\n",
      "  0%|          | 0/1 [00:00<?, ?it/s]\u001b[A"
     ]
    },
    {
     "name": "stdout",
     "output_type": "stream",
     "text": [
      "######### SETUP MODEL markov-model2 #########\n",
      " \t>> TASK PARAMETERS: {'MARKOV_PROBABILITY': 0.7, 'REWARD_PROBABILITY': {'B1': 0.26, 'B2': 0.57, 'C1': 0.41, 'C2': 0.28}, 'REWARD': {'B1': 5, 'B2': 5, 'C1': 5, 'C2': 5}, 'RANDOM_WALK': True, 'M': 0} <<\n",
      " \t>> ACT-R PARAMETERS: {'v': None, 'seed': 'nil', 'ans': 0.7, 'lf': 0.5, 'bll': 0.5, 'mas': 2, 'egs': 0.7, 'alpha': 0.7, 'imaginal-activation': 1.0} <<\n",
      "\n"
     ]
    },
    {
     "name": "stderr",
     "output_type": "stream",
     "text": [
      "\n",
      "100%|██████████| 1/1 [00:00<00:00,  3.52it/s]\u001b[A\n",
      "\n",
      "  0%|          | 0/1 [00:00<?, ?it/s]\u001b[A"
     ]
    },
    {
     "name": "stdout",
     "output_type": "stream",
     "text": [
      "######### SETUP MODEL markov-model3 #########\n",
      " \t>> TASK PARAMETERS: {'MARKOV_PROBABILITY': 0.7, 'REWARD_PROBABILITY': {'B1': 0.26, 'B2': 0.57, 'C1': 0.41, 'C2': 0.28}, 'REWARD': {'B1': 5, 'B2': 5, 'C1': 5, 'C2': 5}, 'RANDOM_WALK': True, 'M': 0} <<\n",
      " \t>> ACT-R PARAMETERS: {'v': None, 'seed': 'nil', 'ans': 0.7, 'lf': 0.5, 'bll': 0.5, 'mas': 2, 'egs': 0.7, 'alpha': 0.7, 'imaginal-activation': 1.0} <<\n",
      "\n",
      "COMPLETE...\n"
     ]
    },
    {
     "name": "stderr",
     "output_type": "stream",
     "text": [
      "\n",
      "100%|██████████| 1/1 [00:00<00:00,  3.72it/s]\u001b[A\n",
      "\n",
      "  0%|          | 0/1 [00:00<?, ?it/s]\u001b[A"
     ]
    },
    {
     "name": "stdout",
     "output_type": "stream",
     "text": [
      "######### SETUP MODEL markov-model1 #########\n",
      " \t>> TASK PARAMETERS: {'MARKOV_PROBABILITY': 0.7, 'REWARD_PROBABILITY': {'B1': 0.26, 'B2': 0.57, 'C1': 0.41, 'C2': 0.28}, 'REWARD': {'B1': 5, 'B2': 5, 'C1': 5, 'C2': 5}, 'RANDOM_WALK': True, 'M': 0} <<\n",
      " \t>> ACT-R PARAMETERS: {'v': None, 'seed': 'nil', 'ans': 0.7, 'lf': 1, 'bll': 0.5, 'mas': 2, 'egs': 0.7, 'alpha': 0.7, 'imaginal-activation': 1.0} <<\n",
      "\n"
     ]
    },
    {
     "name": "stderr",
     "output_type": "stream",
     "text": [
      "\n",
      "100%|██████████| 1/1 [00:00<00:00,  1.85it/s]\u001b[A\n",
      "\n",
      "  0%|          | 0/1 [00:00<?, ?it/s]\u001b[A"
     ]
    },
    {
     "name": "stdout",
     "output_type": "stream",
     "text": [
      "######### SETUP MODEL markov-model2 #########\n",
      " \t>> TASK PARAMETERS: {'MARKOV_PROBABILITY': 0.7, 'REWARD_PROBABILITY': {'B1': 0.26, 'B2': 0.57, 'C1': 0.41, 'C2': 0.28}, 'REWARD': {'B1': 5, 'B2': 5, 'C1': 5, 'C2': 5}, 'RANDOM_WALK': True, 'M': 0} <<\n",
      " \t>> ACT-R PARAMETERS: {'v': None, 'seed': 'nil', 'ans': 0.7, 'lf': 1, 'bll': 0.5, 'mas': 2, 'egs': 0.7, 'alpha': 0.7, 'imaginal-activation': 1.0} <<\n",
      "\n"
     ]
    },
    {
     "name": "stderr",
     "output_type": "stream",
     "text": [
      "\n",
      "100%|██████████| 1/1 [00:00<00:00,  3.68it/s]\u001b[A\n",
      " 17%|█▋        | 2/12 [00:29<02:27, 14.71s/it]\n",
      "  0%|          | 0/1 [00:00<?, ?it/s]\u001b[A"
     ]
    },
    {
     "name": "stdout",
     "output_type": "stream",
     "text": [
      "######### SETUP MODEL markov-model3 #########\n",
      " \t>> TASK PARAMETERS: {'MARKOV_PROBABILITY': 0.7, 'REWARD_PROBABILITY': {'B1': 0.26, 'B2': 0.57, 'C1': 0.41, 'C2': 0.28}, 'REWARD': {'B1': 5, 'B2': 5, 'C1': 5, 'C2': 5}, 'RANDOM_WALK': True, 'M': 0} <<\n",
      " \t>> ACT-R PARAMETERS: {'v': None, 'seed': 'nil', 'ans': 0.7, 'lf': 1, 'bll': 0.5, 'mas': 2, 'egs': 0.7, 'alpha': 0.7, 'imaginal-activation': 1.0} <<\n",
      "\n",
      "COMPLETE...\n"
     ]
    },
    {
     "name": "stderr",
     "output_type": "stream",
     "text": [
      "\n",
      "100%|██████████| 1/1 [00:00<00:00,  3.66it/s]\u001b[A\n",
      "\n",
      "  0%|          | 0/1 [00:00<?, ?it/s]\u001b[A"
     ]
    },
    {
     "name": "stdout",
     "output_type": "stream",
     "text": [
      "######### SETUP MODEL markov-model1 #########\n",
      " \t>> TASK PARAMETERS: {'MARKOV_PROBABILITY': 0.7, 'REWARD_PROBABILITY': {'B1': 0.26, 'B2': 0.57, 'C1': 0.41, 'C2': 0.28}, 'REWARD': {'B1': 10, 'B2': 10, 'C1': 10, 'C2': 10}, 'RANDOM_WALK': True, 'M': 0} <<\n",
      " \t>> ACT-R PARAMETERS: {'v': None, 'seed': 'nil', 'ans': 0.2, 'lf': 0.5, 'bll': 0.5, 'mas': 2, 'egs': 0.2, 'alpha': 0.2, 'imaginal-activation': 1.0} <<\n",
      "\n"
     ]
    },
    {
     "name": "stderr",
     "output_type": "stream",
     "text": [
      "\n",
      "100%|██████████| 1/1 [00:00<00:00,  3.14it/s]\u001b[A\n",
      "\n",
      "  0%|          | 0/1 [00:00<?, ?it/s]\u001b[A"
     ]
    },
    {
     "name": "stdout",
     "output_type": "stream",
     "text": [
      "######### SETUP MODEL markov-model2 #########\n",
      " \t>> TASK PARAMETERS: {'MARKOV_PROBABILITY': 0.7, 'REWARD_PROBABILITY': {'B1': 0.26, 'B2': 0.57, 'C1': 0.41, 'C2': 0.28}, 'REWARD': {'B1': 10, 'B2': 10, 'C1': 10, 'C2': 10}, 'RANDOM_WALK': True, 'M': 0} <<\n",
      " \t>> ACT-R PARAMETERS: {'v': None, 'seed': 'nil', 'ans': 0.2, 'lf': 0.5, 'bll': 0.5, 'mas': 2, 'egs': 0.2, 'alpha': 0.2, 'imaginal-activation': 1.0} <<\n",
      "\n"
     ]
    },
    {
     "name": "stderr",
     "output_type": "stream",
     "text": [
      "\n",
      "100%|██████████| 1/1 [00:00<00:00,  3.22it/s]\u001b[A\n",
      "\n",
      "  0%|          | 0/1 [00:00<?, ?it/s]\u001b[A"
     ]
    },
    {
     "name": "stdout",
     "output_type": "stream",
     "text": [
      "######### SETUP MODEL markov-model3 #########\n",
      " \t>> TASK PARAMETERS: {'MARKOV_PROBABILITY': 0.7, 'REWARD_PROBABILITY': {'B1': 0.26, 'B2': 0.57, 'C1': 0.41, 'C2': 0.28}, 'REWARD': {'B1': 10, 'B2': 10, 'C1': 10, 'C2': 10}, 'RANDOM_WALK': True, 'M': 0} <<\n",
      " \t>> ACT-R PARAMETERS: {'v': None, 'seed': 'nil', 'ans': 0.2, 'lf': 0.5, 'bll': 0.5, 'mas': 2, 'egs': 0.2, 'alpha': 0.2, 'imaginal-activation': 1.0} <<\n",
      "\n",
      "COMPLETE...\n"
     ]
    },
    {
     "name": "stderr",
     "output_type": "stream",
     "text": [
      "\n",
      "100%|██████████| 1/1 [00:00<00:00,  3.87it/s]\u001b[A\n",
      "\n",
      "  0%|          | 0/1 [00:00<?, ?it/s]\u001b[A"
     ]
    },
    {
     "name": "stdout",
     "output_type": "stream",
     "text": [
      "######### SETUP MODEL markov-model1 #########\n",
      " \t>> TASK PARAMETERS: {'MARKOV_PROBABILITY': 0.7, 'REWARD_PROBABILITY': {'B1': 0.26, 'B2': 0.57, 'C1': 0.41, 'C2': 0.28}, 'REWARD': {'B1': 10, 'B2': 10, 'C1': 10, 'C2': 10}, 'RANDOM_WALK': True, 'M': 0} <<\n",
      " \t>> ACT-R PARAMETERS: {'v': None, 'seed': 'nil', 'ans': 0.2, 'lf': 1, 'bll': 0.5, 'mas': 2, 'egs': 0.2, 'alpha': 0.2, 'imaginal-activation': 1.0} <<\n",
      "\n"
     ]
    },
    {
     "name": "stderr",
     "output_type": "stream",
     "text": [
      "\n",
      "100%|██████████| 1/1 [00:00<00:00,  3.56it/s]\u001b[A\n",
      "\n",
      "  0%|          | 0/1 [00:00<?, ?it/s]\u001b[A"
     ]
    },
    {
     "name": "stdout",
     "output_type": "stream",
     "text": [
      "######### SETUP MODEL markov-model2 #########\n",
      " \t>> TASK PARAMETERS: {'MARKOV_PROBABILITY': 0.7, 'REWARD_PROBABILITY': {'B1': 0.26, 'B2': 0.57, 'C1': 0.41, 'C2': 0.28}, 'REWARD': {'B1': 10, 'B2': 10, 'C1': 10, 'C2': 10}, 'RANDOM_WALK': True, 'M': 0} <<\n",
      " \t>> ACT-R PARAMETERS: {'v': None, 'seed': 'nil', 'ans': 0.2, 'lf': 1, 'bll': 0.5, 'mas': 2, 'egs': 0.2, 'alpha': 0.2, 'imaginal-activation': 1.0} <<\n",
      "\n"
     ]
    },
    {
     "name": "stderr",
     "output_type": "stream",
     "text": [
      "\n",
      "100%|██████████| 1/1 [00:00<00:00,  3.66it/s]\u001b[A\n",
      "\n",
      "  0%|          | 0/1 [00:00<?, ?it/s]\u001b[A"
     ]
    },
    {
     "name": "stdout",
     "output_type": "stream",
     "text": [
      "######### SETUP MODEL markov-model3 #########\n",
      " \t>> TASK PARAMETERS: {'MARKOV_PROBABILITY': 0.7, 'REWARD_PROBABILITY': {'B1': 0.26, 'B2': 0.57, 'C1': 0.41, 'C2': 0.28}, 'REWARD': {'B1': 10, 'B2': 10, 'C1': 10, 'C2': 10}, 'RANDOM_WALK': True, 'M': 0} <<\n",
      " \t>> ACT-R PARAMETERS: {'v': None, 'seed': 'nil', 'ans': 0.2, 'lf': 1, 'bll': 0.5, 'mas': 2, 'egs': 0.2, 'alpha': 0.2, 'imaginal-activation': 1.0} <<\n",
      "\n",
      "COMPLETE...\n"
     ]
    },
    {
     "name": "stderr",
     "output_type": "stream",
     "text": [
      "\n",
      "100%|██████████| 1/1 [00:00<00:00,  3.63it/s]\u001b[A\n",
      "\n",
      "  0%|          | 0/1 [00:00<?, ?it/s]\u001b[A"
     ]
    },
    {
     "name": "stdout",
     "output_type": "stream",
     "text": [
      "######### SETUP MODEL markov-model1 #########\n",
      " \t>> TASK PARAMETERS: {'MARKOV_PROBABILITY': 0.7, 'REWARD_PROBABILITY': {'B1': 0.26, 'B2': 0.57, 'C1': 0.41, 'C2': 0.28}, 'REWARD': {'B1': 10, 'B2': 10, 'C1': 10, 'C2': 10}, 'RANDOM_WALK': True, 'M': 0} <<\n",
      " \t>> ACT-R PARAMETERS: {'v': None, 'seed': 'nil', 'ans': 0.2, 'lf': 0.5, 'bll': 0.5, 'mas': 2, 'egs': 0.2, 'alpha': 0.7, 'imaginal-activation': 1.0} <<\n",
      "\n"
     ]
    },
    {
     "name": "stderr",
     "output_type": "stream",
     "text": [
      "\n",
      "100%|██████████| 1/1 [00:00<00:00,  2.83it/s]\u001b[A\n",
      "\n",
      "  0%|          | 0/1 [00:00<?, ?it/s]\u001b[A"
     ]
    },
    {
     "name": "stdout",
     "output_type": "stream",
     "text": [
      "######### SETUP MODEL markov-model2 #########\n",
      " \t>> TASK PARAMETERS: {'MARKOV_PROBABILITY': 0.7, 'REWARD_PROBABILITY': {'B1': 0.26, 'B2': 0.57, 'C1': 0.41, 'C2': 0.28}, 'REWARD': {'B1': 10, 'B2': 10, 'C1': 10, 'C2': 10}, 'RANDOM_WALK': True, 'M': 0} <<\n",
      " \t>> ACT-R PARAMETERS: {'v': None, 'seed': 'nil', 'ans': 0.2, 'lf': 0.5, 'bll': 0.5, 'mas': 2, 'egs': 0.2, 'alpha': 0.7, 'imaginal-activation': 1.0} <<\n",
      "\n"
     ]
    },
    {
     "name": "stderr",
     "output_type": "stream",
     "text": [
      "\n",
      "100%|██████████| 1/1 [00:00<00:00,  3.34it/s]\u001b[A\n",
      "\n",
      "  0%|          | 0/1 [00:00<?, ?it/s]\u001b[A"
     ]
    },
    {
     "name": "stdout",
     "output_type": "stream",
     "text": [
      "######### SETUP MODEL markov-model3 #########\n",
      " \t>> TASK PARAMETERS: {'MARKOV_PROBABILITY': 0.7, 'REWARD_PROBABILITY': {'B1': 0.26, 'B2': 0.57, 'C1': 0.41, 'C2': 0.28}, 'REWARD': {'B1': 10, 'B2': 10, 'C1': 10, 'C2': 10}, 'RANDOM_WALK': True, 'M': 0} <<\n",
      " \t>> ACT-R PARAMETERS: {'v': None, 'seed': 'nil', 'ans': 0.2, 'lf': 0.5, 'bll': 0.5, 'mas': 2, 'egs': 0.2, 'alpha': 0.7, 'imaginal-activation': 1.0} <<\n",
      "\n",
      "COMPLETE...\n"
     ]
    },
    {
     "name": "stderr",
     "output_type": "stream",
     "text": [
      "\n",
      "100%|██████████| 1/1 [00:00<00:00,  3.66it/s]\u001b[A\n",
      "\n",
      "  0%|          | 0/1 [00:00<?, ?it/s]\u001b[A"
     ]
    },
    {
     "name": "stdout",
     "output_type": "stream",
     "text": [
      "######### SETUP MODEL markov-model1 #########\n",
      " \t>> TASK PARAMETERS: {'MARKOV_PROBABILITY': 0.7, 'REWARD_PROBABILITY': {'B1': 0.26, 'B2': 0.57, 'C1': 0.41, 'C2': 0.28}, 'REWARD': {'B1': 10, 'B2': 10, 'C1': 10, 'C2': 10}, 'RANDOM_WALK': True, 'M': 0} <<\n",
      " \t>> ACT-R PARAMETERS: {'v': None, 'seed': 'nil', 'ans': 0.2, 'lf': 1, 'bll': 0.5, 'mas': 2, 'egs': 0.2, 'alpha': 0.7, 'imaginal-activation': 1.0} <<\n",
      "\n"
     ]
    },
    {
     "name": "stderr",
     "output_type": "stream",
     "text": [
      "\n",
      "100%|██████████| 1/1 [00:00<00:00,  3.01it/s]\u001b[A\n",
      "\n",
      "  0%|          | 0/1 [00:00<?, ?it/s]\u001b[A"
     ]
    },
    {
     "name": "stdout",
     "output_type": "stream",
     "text": [
      "######### SETUP MODEL markov-model2 #########\n",
      " \t>> TASK PARAMETERS: {'MARKOV_PROBABILITY': 0.7, 'REWARD_PROBABILITY': {'B1': 0.26, 'B2': 0.57, 'C1': 0.41, 'C2': 0.28}, 'REWARD': {'B1': 10, 'B2': 10, 'C1': 10, 'C2': 10}, 'RANDOM_WALK': True, 'M': 0} <<\n",
      " \t>> ACT-R PARAMETERS: {'v': None, 'seed': 'nil', 'ans': 0.2, 'lf': 1, 'bll': 0.5, 'mas': 2, 'egs': 0.2, 'alpha': 0.7, 'imaginal-activation': 1.0} <<\n",
      "\n"
     ]
    },
    {
     "name": "stderr",
     "output_type": "stream",
     "text": [
      "\n",
      "100%|██████████| 1/1 [00:00<00:00,  3.09it/s]\u001b[A\n",
      "\n",
      "  0%|          | 0/1 [00:00<?, ?it/s]\u001b[A"
     ]
    },
    {
     "name": "stdout",
     "output_type": "stream",
     "text": [
      "######### SETUP MODEL markov-model3 #########\n",
      " \t>> TASK PARAMETERS: {'MARKOV_PROBABILITY': 0.7, 'REWARD_PROBABILITY': {'B1': 0.26, 'B2': 0.57, 'C1': 0.41, 'C2': 0.28}, 'REWARD': {'B1': 10, 'B2': 10, 'C1': 10, 'C2': 10}, 'RANDOM_WALK': True, 'M': 0} <<\n",
      " \t>> ACT-R PARAMETERS: {'v': None, 'seed': 'nil', 'ans': 0.2, 'lf': 1, 'bll': 0.5, 'mas': 2, 'egs': 0.2, 'alpha': 0.7, 'imaginal-activation': 1.0} <<\n",
      "\n",
      "COMPLETE...\n"
     ]
    },
    {
     "name": "stderr",
     "output_type": "stream",
     "text": [
      "\n",
      "100%|██████████| 1/1 [00:00<00:00,  3.46it/s]\u001b[A\n",
      "\n",
      "  0%|          | 0/1 [00:00<?, ?it/s]\u001b[A"
     ]
    },
    {
     "name": "stdout",
     "output_type": "stream",
     "text": [
      "######### SETUP MODEL markov-model1 #########\n",
      " \t>> TASK PARAMETERS: {'MARKOV_PROBABILITY': 0.7, 'REWARD_PROBABILITY': {'B1': 0.26, 'B2': 0.57, 'C1': 0.41, 'C2': 0.28}, 'REWARD': {'B1': 10, 'B2': 10, 'C1': 10, 'C2': 10}, 'RANDOM_WALK': True, 'M': 0} <<\n",
      " \t>> ACT-R PARAMETERS: {'v': None, 'seed': 'nil', 'ans': 0.2, 'lf': 0.5, 'bll': 0.5, 'mas': 2, 'egs': 0.7, 'alpha': 0.2, 'imaginal-activation': 1.0} <<\n",
      "\n"
     ]
    },
    {
     "name": "stderr",
     "output_type": "stream",
     "text": [
      "\n",
      "100%|██████████| 1/1 [00:00<00:00,  3.74it/s]\u001b[A\n",
      "\n",
      "  0%|          | 0/1 [00:00<?, ?it/s]\u001b[A"
     ]
    },
    {
     "name": "stdout",
     "output_type": "stream",
     "text": [
      "######### SETUP MODEL markov-model2 #########\n",
      " \t>> TASK PARAMETERS: {'MARKOV_PROBABILITY': 0.7, 'REWARD_PROBABILITY': {'B1': 0.26, 'B2': 0.57, 'C1': 0.41, 'C2': 0.28}, 'REWARD': {'B1': 10, 'B2': 10, 'C1': 10, 'C2': 10}, 'RANDOM_WALK': True, 'M': 0} <<\n",
      " \t>> ACT-R PARAMETERS: {'v': None, 'seed': 'nil', 'ans': 0.2, 'lf': 0.5, 'bll': 0.5, 'mas': 2, 'egs': 0.7, 'alpha': 0.2, 'imaginal-activation': 1.0} <<\n",
      "\n"
     ]
    },
    {
     "name": "stderr",
     "output_type": "stream",
     "text": [
      "\n",
      "100%|██████████| 1/1 [00:00<00:00,  3.68it/s]\u001b[A\n",
      "\n",
      "  0%|          | 0/1 [00:00<?, ?it/s]\u001b[A"
     ]
    },
    {
     "name": "stdout",
     "output_type": "stream",
     "text": [
      "######### SETUP MODEL markov-model3 #########\n",
      " \t>> TASK PARAMETERS: {'MARKOV_PROBABILITY': 0.7, 'REWARD_PROBABILITY': {'B1': 0.26, 'B2': 0.57, 'C1': 0.41, 'C2': 0.28}, 'REWARD': {'B1': 10, 'B2': 10, 'C1': 10, 'C2': 10}, 'RANDOM_WALK': True, 'M': 0} <<\n",
      " \t>> ACT-R PARAMETERS: {'v': None, 'seed': 'nil', 'ans': 0.2, 'lf': 0.5, 'bll': 0.5, 'mas': 2, 'egs': 0.7, 'alpha': 0.2, 'imaginal-activation': 1.0} <<\n",
      "\n",
      "COMPLETE...\n"
     ]
    },
    {
     "name": "stderr",
     "output_type": "stream",
     "text": [
      "\n",
      "100%|██████████| 1/1 [00:00<00:00,  3.91it/s]\u001b[A\n",
      "\n",
      "  0%|          | 0/1 [00:00<?, ?it/s]\u001b[A"
     ]
    },
    {
     "name": "stdout",
     "output_type": "stream",
     "text": [
      "######### SETUP MODEL markov-model1 #########\n",
      " \t>> TASK PARAMETERS: {'MARKOV_PROBABILITY': 0.7, 'REWARD_PROBABILITY': {'B1': 0.26, 'B2': 0.57, 'C1': 0.41, 'C2': 0.28}, 'REWARD': {'B1': 10, 'B2': 10, 'C1': 10, 'C2': 10}, 'RANDOM_WALK': True, 'M': 0} <<\n",
      " \t>> ACT-R PARAMETERS: {'v': None, 'seed': 'nil', 'ans': 0.2, 'lf': 1, 'bll': 0.5, 'mas': 2, 'egs': 0.7, 'alpha': 0.2, 'imaginal-activation': 1.0} <<\n",
      "\n"
     ]
    },
    {
     "name": "stderr",
     "output_type": "stream",
     "text": [
      "\n",
      "100%|██████████| 1/1 [00:00<00:00,  3.75it/s]\u001b[A\n",
      "\n",
      "  0%|          | 0/1 [00:00<?, ?it/s]\u001b[A"
     ]
    },
    {
     "name": "stdout",
     "output_type": "stream",
     "text": [
      "######### SETUP MODEL markov-model2 #########\n",
      " \t>> TASK PARAMETERS: {'MARKOV_PROBABILITY': 0.7, 'REWARD_PROBABILITY': {'B1': 0.26, 'B2': 0.57, 'C1': 0.41, 'C2': 0.28}, 'REWARD': {'B1': 10, 'B2': 10, 'C1': 10, 'C2': 10}, 'RANDOM_WALK': True, 'M': 0} <<\n",
      " \t>> ACT-R PARAMETERS: {'v': None, 'seed': 'nil', 'ans': 0.2, 'lf': 1, 'bll': 0.5, 'mas': 2, 'egs': 0.7, 'alpha': 0.2, 'imaginal-activation': 1.0} <<\n",
      "\n"
     ]
    },
    {
     "name": "stderr",
     "output_type": "stream",
     "text": [
      "\n",
      "100%|██████████| 1/1 [00:00<00:00,  3.55it/s]\u001b[A\n",
      "\n",
      "  0%|          | 0/1 [00:00<?, ?it/s]\u001b[A"
     ]
    },
    {
     "name": "stdout",
     "output_type": "stream",
     "text": [
      "######### SETUP MODEL markov-model3 #########\n",
      " \t>> TASK PARAMETERS: {'MARKOV_PROBABILITY': 0.7, 'REWARD_PROBABILITY': {'B1': 0.26, 'B2': 0.57, 'C1': 0.41, 'C2': 0.28}, 'REWARD': {'B1': 10, 'B2': 10, 'C1': 10, 'C2': 10}, 'RANDOM_WALK': True, 'M': 0} <<\n",
      " \t>> ACT-R PARAMETERS: {'v': None, 'seed': 'nil', 'ans': 0.2, 'lf': 1, 'bll': 0.5, 'mas': 2, 'egs': 0.7, 'alpha': 0.2, 'imaginal-activation': 1.0} <<\n",
      "\n",
      "COMPLETE...\n"
     ]
    },
    {
     "name": "stderr",
     "output_type": "stream",
     "text": [
      "\n",
      "100%|██████████| 1/1 [00:00<00:00,  3.72it/s]\u001b[A\n",
      "\n",
      "  0%|          | 0/1 [00:00<?, ?it/s]\u001b[A"
     ]
    },
    {
     "name": "stdout",
     "output_type": "stream",
     "text": [
      "######### SETUP MODEL markov-model1 #########\n",
      " \t>> TASK PARAMETERS: {'MARKOV_PROBABILITY': 0.7, 'REWARD_PROBABILITY': {'B1': 0.26, 'B2': 0.57, 'C1': 0.41, 'C2': 0.28}, 'REWARD': {'B1': 10, 'B2': 10, 'C1': 10, 'C2': 10}, 'RANDOM_WALK': True, 'M': 0} <<\n",
      " \t>> ACT-R PARAMETERS: {'v': None, 'seed': 'nil', 'ans': 0.2, 'lf': 0.5, 'bll': 0.5, 'mas': 2, 'egs': 0.7, 'alpha': 0.7, 'imaginal-activation': 1.0} <<\n",
      "\n"
     ]
    },
    {
     "name": "stderr",
     "output_type": "stream",
     "text": [
      "\n",
      "100%|██████████| 1/1 [00:00<00:00,  3.79it/s]\u001b[A\n",
      "\n",
      "  0%|          | 0/1 [00:00<?, ?it/s]\u001b[A"
     ]
    },
    {
     "name": "stdout",
     "output_type": "stream",
     "text": [
      "######### SETUP MODEL markov-model2 #########\n",
      " \t>> TASK PARAMETERS: {'MARKOV_PROBABILITY': 0.7, 'REWARD_PROBABILITY': {'B1': 0.26, 'B2': 0.57, 'C1': 0.41, 'C2': 0.28}, 'REWARD': {'B1': 10, 'B2': 10, 'C1': 10, 'C2': 10}, 'RANDOM_WALK': True, 'M': 0} <<\n",
      " \t>> ACT-R PARAMETERS: {'v': None, 'seed': 'nil', 'ans': 0.2, 'lf': 0.5, 'bll': 0.5, 'mas': 2, 'egs': 0.7, 'alpha': 0.7, 'imaginal-activation': 1.0} <<\n",
      "\n"
     ]
    },
    {
     "name": "stderr",
     "output_type": "stream",
     "text": [
      "\n",
      "100%|██████████| 1/1 [00:00<00:00,  3.61it/s]\u001b[A\n",
      "\n",
      "  0%|          | 0/1 [00:00<?, ?it/s]\u001b[A"
     ]
    },
    {
     "name": "stdout",
     "output_type": "stream",
     "text": [
      "######### SETUP MODEL markov-model3 #########\n",
      " \t>> TASK PARAMETERS: {'MARKOV_PROBABILITY': 0.7, 'REWARD_PROBABILITY': {'B1': 0.26, 'B2': 0.57, 'C1': 0.41, 'C2': 0.28}, 'REWARD': {'B1': 10, 'B2': 10, 'C1': 10, 'C2': 10}, 'RANDOM_WALK': True, 'M': 0} <<\n",
      " \t>> ACT-R PARAMETERS: {'v': None, 'seed': 'nil', 'ans': 0.2, 'lf': 0.5, 'bll': 0.5, 'mas': 2, 'egs': 0.7, 'alpha': 0.7, 'imaginal-activation': 1.0} <<\n",
      "\n",
      "COMPLETE...\n"
     ]
    },
    {
     "name": "stderr",
     "output_type": "stream",
     "text": [
      "\n",
      "100%|██████████| 1/1 [00:00<00:00,  3.71it/s]\u001b[A\n",
      "\n",
      "  0%|          | 0/1 [00:00<?, ?it/s]\u001b[A"
     ]
    },
    {
     "name": "stdout",
     "output_type": "stream",
     "text": [
      "######### SETUP MODEL markov-model1 #########\n",
      " \t>> TASK PARAMETERS: {'MARKOV_PROBABILITY': 0.7, 'REWARD_PROBABILITY': {'B1': 0.26, 'B2': 0.57, 'C1': 0.41, 'C2': 0.28}, 'REWARD': {'B1': 10, 'B2': 10, 'C1': 10, 'C2': 10}, 'RANDOM_WALK': True, 'M': 0} <<\n",
      " \t>> ACT-R PARAMETERS: {'v': None, 'seed': 'nil', 'ans': 0.2, 'lf': 1, 'bll': 0.5, 'mas': 2, 'egs': 0.7, 'alpha': 0.7, 'imaginal-activation': 1.0} <<\n",
      "\n"
     ]
    },
    {
     "name": "stderr",
     "output_type": "stream",
     "text": [
      "\n",
      "100%|██████████| 1/1 [00:00<00:00,  3.63it/s]\u001b[A\n",
      "\n",
      "  0%|          | 0/1 [00:00<?, ?it/s]\u001b[A"
     ]
    },
    {
     "name": "stdout",
     "output_type": "stream",
     "text": [
      "######### SETUP MODEL markov-model2 #########\n",
      " \t>> TASK PARAMETERS: {'MARKOV_PROBABILITY': 0.7, 'REWARD_PROBABILITY': {'B1': 0.26, 'B2': 0.57, 'C1': 0.41, 'C2': 0.28}, 'REWARD': {'B1': 10, 'B2': 10, 'C1': 10, 'C2': 10}, 'RANDOM_WALK': True, 'M': 0} <<\n",
      " \t>> ACT-R PARAMETERS: {'v': None, 'seed': 'nil', 'ans': 0.2, 'lf': 1, 'bll': 0.5, 'mas': 2, 'egs': 0.7, 'alpha': 0.7, 'imaginal-activation': 1.0} <<\n",
      "\n"
     ]
    },
    {
     "name": "stderr",
     "output_type": "stream",
     "text": [
      "\n",
      "100%|██████████| 1/1 [00:00<00:00,  3.70it/s]\u001b[A\n",
      "\n",
      "  0%|          | 0/1 [00:00<?, ?it/s]\u001b[A"
     ]
    },
    {
     "name": "stdout",
     "output_type": "stream",
     "text": [
      "######### SETUP MODEL markov-model3 #########\n",
      " \t>> TASK PARAMETERS: {'MARKOV_PROBABILITY': 0.7, 'REWARD_PROBABILITY': {'B1': 0.26, 'B2': 0.57, 'C1': 0.41, 'C2': 0.28}, 'REWARD': {'B1': 10, 'B2': 10, 'C1': 10, 'C2': 10}, 'RANDOM_WALK': True, 'M': 0} <<\n",
      " \t>> ACT-R PARAMETERS: {'v': None, 'seed': 'nil', 'ans': 0.2, 'lf': 1, 'bll': 0.5, 'mas': 2, 'egs': 0.7, 'alpha': 0.7, 'imaginal-activation': 1.0} <<\n",
      "\n",
      "COMPLETE...\n"
     ]
    },
    {
     "name": "stderr",
     "output_type": "stream",
     "text": [
      "\n",
      "100%|██████████| 1/1 [00:00<00:00,  3.95it/s]\u001b[A\n",
      "\n",
      "  0%|          | 0/1 [00:00<?, ?it/s]\u001b[A"
     ]
    },
    {
     "name": "stdout",
     "output_type": "stream",
     "text": [
      "######### SETUP MODEL markov-model1 #########\n",
      " \t>> TASK PARAMETERS: {'MARKOV_PROBABILITY': 0.7, 'REWARD_PROBABILITY': {'B1': 0.26, 'B2': 0.57, 'C1': 0.41, 'C2': 0.28}, 'REWARD': {'B1': 10, 'B2': 10, 'C1': 10, 'C2': 10}, 'RANDOM_WALK': True, 'M': 0} <<\n",
      " \t>> ACT-R PARAMETERS: {'v': None, 'seed': 'nil', 'ans': 0.7, 'lf': 0.5, 'bll': 0.5, 'mas': 2, 'egs': 0.2, 'alpha': 0.2, 'imaginal-activation': 1.0} <<\n",
      "\n"
     ]
    },
    {
     "name": "stderr",
     "output_type": "stream",
     "text": [
      "\n",
      "100%|██████████| 1/1 [00:00<00:00,  2.36it/s]\u001b[A\n",
      "\n",
      "  0%|          | 0/1 [00:00<?, ?it/s]\u001b[A"
     ]
    },
    {
     "name": "stdout",
     "output_type": "stream",
     "text": [
      "######### SETUP MODEL markov-model2 #########\n",
      " \t>> TASK PARAMETERS: {'MARKOV_PROBABILITY': 0.7, 'REWARD_PROBABILITY': {'B1': 0.26, 'B2': 0.57, 'C1': 0.41, 'C2': 0.28}, 'REWARD': {'B1': 10, 'B2': 10, 'C1': 10, 'C2': 10}, 'RANDOM_WALK': True, 'M': 0} <<\n",
      " \t>> ACT-R PARAMETERS: {'v': None, 'seed': 'nil', 'ans': 0.7, 'lf': 0.5, 'bll': 0.5, 'mas': 2, 'egs': 0.2, 'alpha': 0.2, 'imaginal-activation': 1.0} <<\n",
      "\n"
     ]
    },
    {
     "name": "stderr",
     "output_type": "stream",
     "text": [
      "\n",
      "100%|██████████| 1/1 [00:00<00:00,  3.63it/s]\u001b[A\n",
      "\n",
      "  0%|          | 0/1 [00:00<?, ?it/s]\u001b[A"
     ]
    },
    {
     "name": "stdout",
     "output_type": "stream",
     "text": [
      "######### SETUP MODEL markov-model3 #########\n",
      " \t>> TASK PARAMETERS: {'MARKOV_PROBABILITY': 0.7, 'REWARD_PROBABILITY': {'B1': 0.26, 'B2': 0.57, 'C1': 0.41, 'C2': 0.28}, 'REWARD': {'B1': 10, 'B2': 10, 'C1': 10, 'C2': 10}, 'RANDOM_WALK': True, 'M': 0} <<\n",
      " \t>> ACT-R PARAMETERS: {'v': None, 'seed': 'nil', 'ans': 0.7, 'lf': 0.5, 'bll': 0.5, 'mas': 2, 'egs': 0.2, 'alpha': 0.2, 'imaginal-activation': 1.0} <<\n",
      "\n",
      "COMPLETE...\n"
     ]
    },
    {
     "name": "stderr",
     "output_type": "stream",
     "text": [
      "\n",
      "100%|██████████| 1/1 [00:00<00:00,  3.99it/s]\u001b[A\n",
      "\n",
      "  0%|          | 0/1 [00:00<?, ?it/s]\u001b[A"
     ]
    },
    {
     "name": "stdout",
     "output_type": "stream",
     "text": [
      "######### SETUP MODEL markov-model1 #########\n",
      " \t>> TASK PARAMETERS: {'MARKOV_PROBABILITY': 0.7, 'REWARD_PROBABILITY': {'B1': 0.26, 'B2': 0.57, 'C1': 0.41, 'C2': 0.28}, 'REWARD': {'B1': 10, 'B2': 10, 'C1': 10, 'C2': 10}, 'RANDOM_WALK': True, 'M': 0} <<\n",
      " \t>> ACT-R PARAMETERS: {'v': None, 'seed': 'nil', 'ans': 0.7, 'lf': 1, 'bll': 0.5, 'mas': 2, 'egs': 0.2, 'alpha': 0.2, 'imaginal-activation': 1.0} <<\n",
      "\n"
     ]
    },
    {
     "name": "stderr",
     "output_type": "stream",
     "text": [
      "\n",
      "100%|██████████| 1/1 [00:00<00:00,  2.49it/s]\u001b[A\n",
      "\n",
      "  0%|          | 0/1 [00:00<?, ?it/s]\u001b[A"
     ]
    },
    {
     "name": "stdout",
     "output_type": "stream",
     "text": [
      "######### SETUP MODEL markov-model2 #########\n",
      " \t>> TASK PARAMETERS: {'MARKOV_PROBABILITY': 0.7, 'REWARD_PROBABILITY': {'B1': 0.26, 'B2': 0.57, 'C1': 0.41, 'C2': 0.28}, 'REWARD': {'B1': 10, 'B2': 10, 'C1': 10, 'C2': 10}, 'RANDOM_WALK': True, 'M': 0} <<\n",
      " \t>> ACT-R PARAMETERS: {'v': None, 'seed': 'nil', 'ans': 0.7, 'lf': 1, 'bll': 0.5, 'mas': 2, 'egs': 0.2, 'alpha': 0.2, 'imaginal-activation': 1.0} <<\n",
      "\n"
     ]
    },
    {
     "name": "stderr",
     "output_type": "stream",
     "text": [
      "\n",
      "100%|██████████| 1/1 [00:00<00:00,  3.67it/s]\u001b[A\n",
      "\n",
      "  0%|          | 0/1 [00:00<?, ?it/s]\u001b[A"
     ]
    },
    {
     "name": "stdout",
     "output_type": "stream",
     "text": [
      "######### SETUP MODEL markov-model3 #########\n",
      " \t>> TASK PARAMETERS: {'MARKOV_PROBABILITY': 0.7, 'REWARD_PROBABILITY': {'B1': 0.26, 'B2': 0.57, 'C1': 0.41, 'C2': 0.28}, 'REWARD': {'B1': 10, 'B2': 10, 'C1': 10, 'C2': 10}, 'RANDOM_WALK': True, 'M': 0} <<\n",
      " \t>> ACT-R PARAMETERS: {'v': None, 'seed': 'nil', 'ans': 0.7, 'lf': 1, 'bll': 0.5, 'mas': 2, 'egs': 0.2, 'alpha': 0.2, 'imaginal-activation': 1.0} <<\n",
      "\n",
      "COMPLETE...\n"
     ]
    },
    {
     "name": "stderr",
     "output_type": "stream",
     "text": [
      "\n",
      "100%|██████████| 1/1 [00:00<00:00,  3.97it/s]\u001b[A\n",
      "\n",
      "  0%|          | 0/1 [00:00<?, ?it/s]\u001b[A"
     ]
    },
    {
     "name": "stdout",
     "output_type": "stream",
     "text": [
      "######### SETUP MODEL markov-model1 #########\n",
      " \t>> TASK PARAMETERS: {'MARKOV_PROBABILITY': 0.7, 'REWARD_PROBABILITY': {'B1': 0.26, 'B2': 0.57, 'C1': 0.41, 'C2': 0.28}, 'REWARD': {'B1': 10, 'B2': 10, 'C1': 10, 'C2': 10}, 'RANDOM_WALK': True, 'M': 0} <<\n",
      " \t>> ACT-R PARAMETERS: {'v': None, 'seed': 'nil', 'ans': 0.7, 'lf': 0.5, 'bll': 0.5, 'mas': 2, 'egs': 0.2, 'alpha': 0.7, 'imaginal-activation': 1.0} <<\n",
      "\n"
     ]
    },
    {
     "name": "stderr",
     "output_type": "stream",
     "text": [
      "\n",
      "100%|██████████| 1/1 [00:00<00:00,  1.91it/s]\u001b[A\n",
      "\n",
      "  0%|          | 0/1 [00:00<?, ?it/s]\u001b[A"
     ]
    },
    {
     "name": "stdout",
     "output_type": "stream",
     "text": [
      "######### SETUP MODEL markov-model2 #########\n",
      " \t>> TASK PARAMETERS: {'MARKOV_PROBABILITY': 0.7, 'REWARD_PROBABILITY': {'B1': 0.26, 'B2': 0.57, 'C1': 0.41, 'C2': 0.28}, 'REWARD': {'B1': 10, 'B2': 10, 'C1': 10, 'C2': 10}, 'RANDOM_WALK': True, 'M': 0} <<\n",
      " \t>> ACT-R PARAMETERS: {'v': None, 'seed': 'nil', 'ans': 0.7, 'lf': 0.5, 'bll': 0.5, 'mas': 2, 'egs': 0.2, 'alpha': 0.7, 'imaginal-activation': 1.0} <<\n",
      "\n"
     ]
    },
    {
     "name": "stderr",
     "output_type": "stream",
     "text": [
      "\n",
      "100%|██████████| 1/1 [00:00<00:00,  3.75it/s]\u001b[A\n",
      "\n",
      "  0%|          | 0/1 [00:00<?, ?it/s]\u001b[A"
     ]
    },
    {
     "name": "stdout",
     "output_type": "stream",
     "text": [
      "######### SETUP MODEL markov-model3 #########\n",
      " \t>> TASK PARAMETERS: {'MARKOV_PROBABILITY': 0.7, 'REWARD_PROBABILITY': {'B1': 0.26, 'B2': 0.57, 'C1': 0.41, 'C2': 0.28}, 'REWARD': {'B1': 10, 'B2': 10, 'C1': 10, 'C2': 10}, 'RANDOM_WALK': True, 'M': 0} <<\n",
      " \t>> ACT-R PARAMETERS: {'v': None, 'seed': 'nil', 'ans': 0.7, 'lf': 0.5, 'bll': 0.5, 'mas': 2, 'egs': 0.2, 'alpha': 0.7, 'imaginal-activation': 1.0} <<\n",
      "\n",
      "COMPLETE...\n"
     ]
    },
    {
     "name": "stderr",
     "output_type": "stream",
     "text": [
      "\n",
      "100%|██████████| 1/1 [00:00<00:00,  3.94it/s]\u001b[A\n",
      "\n",
      "  0%|          | 0/1 [00:00<?, ?it/s]\u001b[A"
     ]
    },
    {
     "name": "stdout",
     "output_type": "stream",
     "text": [
      "######### SETUP MODEL markov-model1 #########\n",
      " \t>> TASK PARAMETERS: {'MARKOV_PROBABILITY': 0.7, 'REWARD_PROBABILITY': {'B1': 0.26, 'B2': 0.57, 'C1': 0.41, 'C2': 0.28}, 'REWARD': {'B1': 10, 'B2': 10, 'C1': 10, 'C2': 10}, 'RANDOM_WALK': True, 'M': 0} <<\n",
      " \t>> ACT-R PARAMETERS: {'v': None, 'seed': 'nil', 'ans': 0.7, 'lf': 1, 'bll': 0.5, 'mas': 2, 'egs': 0.2, 'alpha': 0.7, 'imaginal-activation': 1.0} <<\n",
      "\n"
     ]
    },
    {
     "name": "stderr",
     "output_type": "stream",
     "text": [
      "\n",
      "100%|██████████| 1/1 [00:00<00:00,  1.88it/s]\u001b[A\n",
      "\n",
      "  0%|          | 0/1 [00:00<?, ?it/s]\u001b[A"
     ]
    },
    {
     "name": "stdout",
     "output_type": "stream",
     "text": [
      "######### SETUP MODEL markov-model2 #########\n",
      " \t>> TASK PARAMETERS: {'MARKOV_PROBABILITY': 0.7, 'REWARD_PROBABILITY': {'B1': 0.26, 'B2': 0.57, 'C1': 0.41, 'C2': 0.28}, 'REWARD': {'B1': 10, 'B2': 10, 'C1': 10, 'C2': 10}, 'RANDOM_WALK': True, 'M': 0} <<\n",
      " \t>> ACT-R PARAMETERS: {'v': None, 'seed': 'nil', 'ans': 0.7, 'lf': 1, 'bll': 0.5, 'mas': 2, 'egs': 0.2, 'alpha': 0.7, 'imaginal-activation': 1.0} <<\n",
      "\n"
     ]
    },
    {
     "name": "stderr",
     "output_type": "stream",
     "text": [
      "\n",
      "100%|██████████| 1/1 [00:00<00:00,  3.70it/s]\u001b[A\n",
      "\n",
      "  0%|          | 0/1 [00:00<?, ?it/s]\u001b[A"
     ]
    },
    {
     "name": "stdout",
     "output_type": "stream",
     "text": [
      "######### SETUP MODEL markov-model3 #########\n",
      " \t>> TASK PARAMETERS: {'MARKOV_PROBABILITY': 0.7, 'REWARD_PROBABILITY': {'B1': 0.26, 'B2': 0.57, 'C1': 0.41, 'C2': 0.28}, 'REWARD': {'B1': 10, 'B2': 10, 'C1': 10, 'C2': 10}, 'RANDOM_WALK': True, 'M': 0} <<\n",
      " \t>> ACT-R PARAMETERS: {'v': None, 'seed': 'nil', 'ans': 0.7, 'lf': 1, 'bll': 0.5, 'mas': 2, 'egs': 0.2, 'alpha': 0.7, 'imaginal-activation': 1.0} <<\n",
      "\n",
      "COMPLETE...\n"
     ]
    },
    {
     "name": "stderr",
     "output_type": "stream",
     "text": [
      "\n",
      "100%|██████████| 1/1 [00:00<00:00,  3.88it/s]\u001b[A\n",
      "\n",
      "  0%|          | 0/1 [00:00<?, ?it/s]\u001b[A"
     ]
    },
    {
     "name": "stdout",
     "output_type": "stream",
     "text": [
      "######### SETUP MODEL markov-model1 #########\n",
      " \t>> TASK PARAMETERS: {'MARKOV_PROBABILITY': 0.7, 'REWARD_PROBABILITY': {'B1': 0.26, 'B2': 0.57, 'C1': 0.41, 'C2': 0.28}, 'REWARD': {'B1': 10, 'B2': 10, 'C1': 10, 'C2': 10}, 'RANDOM_WALK': True, 'M': 0} <<\n",
      " \t>> ACT-R PARAMETERS: {'v': None, 'seed': 'nil', 'ans': 0.7, 'lf': 0.5, 'bll': 0.5, 'mas': 2, 'egs': 0.7, 'alpha': 0.2, 'imaginal-activation': 1.0} <<\n",
      "\n"
     ]
    },
    {
     "name": "stderr",
     "output_type": "stream",
     "text": [
      "\n",
      "100%|██████████| 1/1 [00:00<00:00,  3.78it/s]\u001b[A\n",
      "\n",
      "  0%|          | 0/1 [00:00<?, ?it/s]\u001b[A"
     ]
    },
    {
     "name": "stdout",
     "output_type": "stream",
     "text": [
      "######### SETUP MODEL markov-model2 #########\n",
      " \t>> TASK PARAMETERS: {'MARKOV_PROBABILITY': 0.7, 'REWARD_PROBABILITY': {'B1': 0.26, 'B2': 0.57, 'C1': 0.41, 'C2': 0.28}, 'REWARD': {'B1': 10, 'B2': 10, 'C1': 10, 'C2': 10}, 'RANDOM_WALK': True, 'M': 0} <<\n",
      " \t>> ACT-R PARAMETERS: {'v': None, 'seed': 'nil', 'ans': 0.7, 'lf': 0.5, 'bll': 0.5, 'mas': 2, 'egs': 0.7, 'alpha': 0.2, 'imaginal-activation': 1.0} <<\n",
      "\n"
     ]
    },
    {
     "name": "stderr",
     "output_type": "stream",
     "text": [
      "\n",
      "100%|██████████| 1/1 [00:00<00:00,  3.73it/s]\u001b[A\n",
      "\n",
      "  0%|          | 0/1 [00:00<?, ?it/s]\u001b[A"
     ]
    },
    {
     "name": "stdout",
     "output_type": "stream",
     "text": [
      "######### SETUP MODEL markov-model3 #########\n",
      " \t>> TASK PARAMETERS: {'MARKOV_PROBABILITY': 0.7, 'REWARD_PROBABILITY': {'B1': 0.26, 'B2': 0.57, 'C1': 0.41, 'C2': 0.28}, 'REWARD': {'B1': 10, 'B2': 10, 'C1': 10, 'C2': 10}, 'RANDOM_WALK': True, 'M': 0} <<\n",
      " \t>> ACT-R PARAMETERS: {'v': None, 'seed': 'nil', 'ans': 0.7, 'lf': 0.5, 'bll': 0.5, 'mas': 2, 'egs': 0.7, 'alpha': 0.2, 'imaginal-activation': 1.0} <<\n",
      "\n",
      "COMPLETE...\n"
     ]
    },
    {
     "name": "stderr",
     "output_type": "stream",
     "text": [
      "\n",
      "100%|██████████| 1/1 [00:00<00:00,  3.80it/s]\u001b[A\n",
      "\n",
      "  0%|          | 0/1 [00:00<?, ?it/s]\u001b[A"
     ]
    },
    {
     "name": "stdout",
     "output_type": "stream",
     "text": [
      "######### SETUP MODEL markov-model1 #########\n",
      " \t>> TASK PARAMETERS: {'MARKOV_PROBABILITY': 0.7, 'REWARD_PROBABILITY': {'B1': 0.26, 'B2': 0.57, 'C1': 0.41, 'C2': 0.28}, 'REWARD': {'B1': 10, 'B2': 10, 'C1': 10, 'C2': 10}, 'RANDOM_WALK': True, 'M': 0} <<\n",
      " \t>> ACT-R PARAMETERS: {'v': None, 'seed': 'nil', 'ans': 0.7, 'lf': 1, 'bll': 0.5, 'mas': 2, 'egs': 0.7, 'alpha': 0.2, 'imaginal-activation': 1.0} <<\n",
      "\n"
     ]
    },
    {
     "name": "stderr",
     "output_type": "stream",
     "text": [
      "\n",
      "100%|██████████| 1/1 [00:00<00:00,  3.82it/s]\u001b[A\n",
      "\n",
      "  0%|          | 0/1 [00:00<?, ?it/s]\u001b[A"
     ]
    },
    {
     "name": "stdout",
     "output_type": "stream",
     "text": [
      "######### SETUP MODEL markov-model2 #########\n",
      " \t>> TASK PARAMETERS: {'MARKOV_PROBABILITY': 0.7, 'REWARD_PROBABILITY': {'B1': 0.26, 'B2': 0.57, 'C1': 0.41, 'C2': 0.28}, 'REWARD': {'B1': 10, 'B2': 10, 'C1': 10, 'C2': 10}, 'RANDOM_WALK': True, 'M': 0} <<\n",
      " \t>> ACT-R PARAMETERS: {'v': None, 'seed': 'nil', 'ans': 0.7, 'lf': 1, 'bll': 0.5, 'mas': 2, 'egs': 0.7, 'alpha': 0.2, 'imaginal-activation': 1.0} <<\n",
      "\n"
     ]
    },
    {
     "name": "stderr",
     "output_type": "stream",
     "text": [
      "\n",
      "100%|██████████| 1/1 [00:00<00:00,  3.71it/s]\u001b[A\n",
      "\n",
      "  0%|          | 0/1 [00:00<?, ?it/s]\u001b[A"
     ]
    },
    {
     "name": "stdout",
     "output_type": "stream",
     "text": [
      "######### SETUP MODEL markov-model3 #########\n",
      " \t>> TASK PARAMETERS: {'MARKOV_PROBABILITY': 0.7, 'REWARD_PROBABILITY': {'B1': 0.26, 'B2': 0.57, 'C1': 0.41, 'C2': 0.28}, 'REWARD': {'B1': 10, 'B2': 10, 'C1': 10, 'C2': 10}, 'RANDOM_WALK': True, 'M': 0} <<\n",
      " \t>> ACT-R PARAMETERS: {'v': None, 'seed': 'nil', 'ans': 0.7, 'lf': 1, 'bll': 0.5, 'mas': 2, 'egs': 0.7, 'alpha': 0.2, 'imaginal-activation': 1.0} <<\n",
      "\n",
      "COMPLETE...\n"
     ]
    },
    {
     "name": "stderr",
     "output_type": "stream",
     "text": [
      "\n",
      "100%|██████████| 1/1 [00:00<00:00,  3.92it/s]\u001b[A\n",
      "\n",
      "  0%|          | 0/1 [00:00<?, ?it/s]\u001b[A"
     ]
    },
    {
     "name": "stdout",
     "output_type": "stream",
     "text": [
      "######### SETUP MODEL markov-model1 #########\n",
      " \t>> TASK PARAMETERS: {'MARKOV_PROBABILITY': 0.7, 'REWARD_PROBABILITY': {'B1': 0.26, 'B2': 0.57, 'C1': 0.41, 'C2': 0.28}, 'REWARD': {'B1': 10, 'B2': 10, 'C1': 10, 'C2': 10}, 'RANDOM_WALK': True, 'M': 0} <<\n",
      " \t>> ACT-R PARAMETERS: {'v': None, 'seed': 'nil', 'ans': 0.7, 'lf': 0.5, 'bll': 0.5, 'mas': 2, 'egs': 0.7, 'alpha': 0.7, 'imaginal-activation': 1.0} <<\n",
      "\n"
     ]
    },
    {
     "name": "stderr",
     "output_type": "stream",
     "text": [
      "\n",
      "100%|██████████| 1/1 [00:00<00:00,  3.55it/s]\u001b[A\n",
      "\n",
      "  0%|          | 0/1 [00:00<?, ?it/s]\u001b[A"
     ]
    },
    {
     "name": "stdout",
     "output_type": "stream",
     "text": [
      "######### SETUP MODEL markov-model2 #########\n",
      " \t>> TASK PARAMETERS: {'MARKOV_PROBABILITY': 0.7, 'REWARD_PROBABILITY': {'B1': 0.26, 'B2': 0.57, 'C1': 0.41, 'C2': 0.28}, 'REWARD': {'B1': 10, 'B2': 10, 'C1': 10, 'C2': 10}, 'RANDOM_WALK': True, 'M': 0} <<\n",
      " \t>> ACT-R PARAMETERS: {'v': None, 'seed': 'nil', 'ans': 0.7, 'lf': 0.5, 'bll': 0.5, 'mas': 2, 'egs': 0.7, 'alpha': 0.7, 'imaginal-activation': 1.0} <<\n",
      "\n"
     ]
    },
    {
     "name": "stderr",
     "output_type": "stream",
     "text": [
      "\n",
      "100%|██████████| 1/1 [00:00<00:00,  3.74it/s]\u001b[A\n",
      "\n",
      "  0%|          | 0/1 [00:00<?, ?it/s]\u001b[A"
     ]
    },
    {
     "name": "stdout",
     "output_type": "stream",
     "text": [
      "######### SETUP MODEL markov-model3 #########\n",
      " \t>> TASK PARAMETERS: {'MARKOV_PROBABILITY': 0.7, 'REWARD_PROBABILITY': {'B1': 0.26, 'B2': 0.57, 'C1': 0.41, 'C2': 0.28}, 'REWARD': {'B1': 10, 'B2': 10, 'C1': 10, 'C2': 10}, 'RANDOM_WALK': True, 'M': 0} <<\n",
      " \t>> ACT-R PARAMETERS: {'v': None, 'seed': 'nil', 'ans': 0.7, 'lf': 0.5, 'bll': 0.5, 'mas': 2, 'egs': 0.7, 'alpha': 0.7, 'imaginal-activation': 1.0} <<\n",
      "\n",
      "COMPLETE...\n"
     ]
    },
    {
     "name": "stderr",
     "output_type": "stream",
     "text": [
      "\n",
      "100%|██████████| 1/1 [00:00<00:00,  3.65it/s]\u001b[A\n",
      "\n",
      "  0%|          | 0/1 [00:00<?, ?it/s]\u001b[A"
     ]
    },
    {
     "name": "stdout",
     "output_type": "stream",
     "text": [
      "######### SETUP MODEL markov-model1 #########\n",
      " \t>> TASK PARAMETERS: {'MARKOV_PROBABILITY': 0.7, 'REWARD_PROBABILITY': {'B1': 0.26, 'B2': 0.57, 'C1': 0.41, 'C2': 0.28}, 'REWARD': {'B1': 10, 'B2': 10, 'C1': 10, 'C2': 10}, 'RANDOM_WALK': True, 'M': 0} <<\n",
      " \t>> ACT-R PARAMETERS: {'v': None, 'seed': 'nil', 'ans': 0.7, 'lf': 1, 'bll': 0.5, 'mas': 2, 'egs': 0.7, 'alpha': 0.7, 'imaginal-activation': 1.0} <<\n",
      "\n"
     ]
    },
    {
     "name": "stderr",
     "output_type": "stream",
     "text": [
      "\n",
      "100%|██████████| 1/1 [00:00<00:00,  1.92it/s]\u001b[A\n",
      "\n",
      "  0%|          | 0/1 [00:00<?, ?it/s]\u001b[A"
     ]
    },
    {
     "name": "stdout",
     "output_type": "stream",
     "text": [
      "######### SETUP MODEL markov-model2 #########\n",
      " \t>> TASK PARAMETERS: {'MARKOV_PROBABILITY': 0.7, 'REWARD_PROBABILITY': {'B1': 0.26, 'B2': 0.57, 'C1': 0.41, 'C2': 0.28}, 'REWARD': {'B1': 10, 'B2': 10, 'C1': 10, 'C2': 10}, 'RANDOM_WALK': True, 'M': 0} <<\n",
      " \t>> ACT-R PARAMETERS: {'v': None, 'seed': 'nil', 'ans': 0.7, 'lf': 1, 'bll': 0.5, 'mas': 2, 'egs': 0.7, 'alpha': 0.7, 'imaginal-activation': 1.0} <<\n",
      "\n"
     ]
    },
    {
     "name": "stderr",
     "output_type": "stream",
     "text": [
      "\n",
      "100%|██████████| 1/1 [00:00<00:00,  2.92it/s]\u001b[A\n",
      " 25%|██▌       | 3/12 [00:43<02:11, 14.64s/it]\n",
      "  0%|          | 0/1 [00:00<?, ?it/s]\u001b[A"
     ]
    },
    {
     "name": "stdout",
     "output_type": "stream",
     "text": [
      "######### SETUP MODEL markov-model3 #########\n",
      " \t>> TASK PARAMETERS: {'MARKOV_PROBABILITY': 0.7, 'REWARD_PROBABILITY': {'B1': 0.26, 'B2': 0.57, 'C1': 0.41, 'C2': 0.28}, 'REWARD': {'B1': 10, 'B2': 10, 'C1': 10, 'C2': 10}, 'RANDOM_WALK': True, 'M': 0} <<\n",
      " \t>> ACT-R PARAMETERS: {'v': None, 'seed': 'nil', 'ans': 0.7, 'lf': 1, 'bll': 0.5, 'mas': 2, 'egs': 0.7, 'alpha': 0.7, 'imaginal-activation': 1.0} <<\n",
      "\n",
      "COMPLETE...\n"
     ]
    },
    {
     "name": "stderr",
     "output_type": "stream",
     "text": [
      "\n",
      "100%|██████████| 1/1 [00:00<00:00,  2.91it/s]\u001b[A\n",
      "\n",
      "  0%|          | 0/1 [00:00<?, ?it/s]\u001b[A"
     ]
    },
    {
     "name": "stdout",
     "output_type": "stream",
     "text": [
      "######### SETUP MODEL markov-model1 #########\n",
      " \t>> TASK PARAMETERS: {'MARKOV_PROBABILITY': 0.7, 'REWARD_PROBABILITY': {'B1': 0.26, 'B2': 0.57, 'C1': 0.41, 'C2': 0.28}, 'REWARD': {'B1': 3, 'B2': 3, 'C1': 3, 'C2': 3}, 'RANDOM_WALK': True, 'M': 0.5} <<\n",
      " \t>> ACT-R PARAMETERS: {'v': None, 'seed': 'nil', 'ans': 0.2, 'lf': 0.5, 'bll': 0.5, 'mas': 2, 'egs': 0.2, 'alpha': 0.2, 'imaginal-activation': 1.0} <<\n",
      "\n"
     ]
    },
    {
     "name": "stderr",
     "output_type": "stream",
     "text": [
      "\n",
      "100%|██████████| 1/1 [00:00<00:00,  2.99it/s]\u001b[A\n",
      "\n",
      "  0%|          | 0/1 [00:00<?, ?it/s]\u001b[A"
     ]
    },
    {
     "name": "stdout",
     "output_type": "stream",
     "text": [
      "######### SETUP MODEL markov-model2 #########\n",
      " \t>> TASK PARAMETERS: {'MARKOV_PROBABILITY': 0.7, 'REWARD_PROBABILITY': {'B1': 0.26, 'B2': 0.57, 'C1': 0.41, 'C2': 0.28}, 'REWARD': {'B1': 3, 'B2': 3, 'C1': 3, 'C2': 3}, 'RANDOM_WALK': True, 'M': 0.5} <<\n",
      " \t>> ACT-R PARAMETERS: {'v': None, 'seed': 'nil', 'ans': 0.2, 'lf': 0.5, 'bll': 0.5, 'mas': 2, 'egs': 0.2, 'alpha': 0.2, 'imaginal-activation': 1.0} <<\n",
      "\n"
     ]
    },
    {
     "name": "stderr",
     "output_type": "stream",
     "text": [
      "\n",
      "100%|██████████| 1/1 [00:00<00:00,  3.40it/s]\u001b[A\n",
      "\n",
      "  0%|          | 0/1 [00:00<?, ?it/s]\u001b[A"
     ]
    },
    {
     "name": "stdout",
     "output_type": "stream",
     "text": [
      "######### SETUP MODEL markov-model3 #########\n",
      " \t>> TASK PARAMETERS: {'MARKOV_PROBABILITY': 0.7, 'REWARD_PROBABILITY': {'B1': 0.26, 'B2': 0.57, 'C1': 0.41, 'C2': 0.28}, 'REWARD': {'B1': 3, 'B2': 3, 'C1': 3, 'C2': 3}, 'RANDOM_WALK': True, 'M': 0.5} <<\n",
      " \t>> ACT-R PARAMETERS: {'v': None, 'seed': 'nil', 'ans': 0.2, 'lf': 0.5, 'bll': 0.5, 'mas': 2, 'egs': 0.2, 'alpha': 0.2, 'imaginal-activation': 1.0} <<\n",
      "\n",
      "COMPLETE...\n"
     ]
    },
    {
     "name": "stderr",
     "output_type": "stream",
     "text": [
      "\n",
      "100%|██████████| 1/1 [00:00<00:00,  3.39it/s]\u001b[A\n",
      "\n",
      "  0%|          | 0/1 [00:00<?, ?it/s]\u001b[A"
     ]
    },
    {
     "name": "stdout",
     "output_type": "stream",
     "text": [
      "######### SETUP MODEL markov-model1 #########\n",
      " \t>> TASK PARAMETERS: {'MARKOV_PROBABILITY': 0.7, 'REWARD_PROBABILITY': {'B1': 0.26, 'B2': 0.57, 'C1': 0.41, 'C2': 0.28}, 'REWARD': {'B1': 3, 'B2': 3, 'C1': 3, 'C2': 3}, 'RANDOM_WALK': True, 'M': 0.5} <<\n",
      " \t>> ACT-R PARAMETERS: {'v': None, 'seed': 'nil', 'ans': 0.2, 'lf': 1, 'bll': 0.5, 'mas': 2, 'egs': 0.2, 'alpha': 0.2, 'imaginal-activation': 1.0} <<\n",
      "\n"
     ]
    },
    {
     "name": "stderr",
     "output_type": "stream",
     "text": [
      "\n",
      "100%|██████████| 1/1 [00:00<00:00,  3.37it/s]\u001b[A\n",
      "\n",
      "  0%|          | 0/1 [00:00<?, ?it/s]\u001b[A"
     ]
    },
    {
     "name": "stdout",
     "output_type": "stream",
     "text": [
      "######### SETUP MODEL markov-model2 #########\n",
      " \t>> TASK PARAMETERS: {'MARKOV_PROBABILITY': 0.7, 'REWARD_PROBABILITY': {'B1': 0.26, 'B2': 0.57, 'C1': 0.41, 'C2': 0.28}, 'REWARD': {'B1': 3, 'B2': 3, 'C1': 3, 'C2': 3}, 'RANDOM_WALK': True, 'M': 0.5} <<\n",
      " \t>> ACT-R PARAMETERS: {'v': None, 'seed': 'nil', 'ans': 0.2, 'lf': 1, 'bll': 0.5, 'mas': 2, 'egs': 0.2, 'alpha': 0.2, 'imaginal-activation': 1.0} <<\n",
      "\n"
     ]
    },
    {
     "name": "stderr",
     "output_type": "stream",
     "text": [
      "\n",
      "100%|██████████| 1/1 [00:00<00:00,  3.37it/s]\u001b[A\n",
      "\n",
      "  0%|          | 0/1 [00:00<?, ?it/s]\u001b[A"
     ]
    },
    {
     "name": "stdout",
     "output_type": "stream",
     "text": [
      "######### SETUP MODEL markov-model3 #########\n",
      " \t>> TASK PARAMETERS: {'MARKOV_PROBABILITY': 0.7, 'REWARD_PROBABILITY': {'B1': 0.26, 'B2': 0.57, 'C1': 0.41, 'C2': 0.28}, 'REWARD': {'B1': 3, 'B2': 3, 'C1': 3, 'C2': 3}, 'RANDOM_WALK': True, 'M': 0.5} <<\n",
      " \t>> ACT-R PARAMETERS: {'v': None, 'seed': 'nil', 'ans': 0.2, 'lf': 1, 'bll': 0.5, 'mas': 2, 'egs': 0.2, 'alpha': 0.2, 'imaginal-activation': 1.0} <<\n",
      "\n",
      "COMPLETE...\n",
      "######### SETUP MODEL markov-model1 #########\n",
      " \t>> TASK PARAMETERS: {'MARKOV_PROBABILITY': 0.7, 'REWARD_PROBABILITY': {'B1': 0.26, 'B2': 0.57, 'C1': 0.41, 'C2': 0.28}, 'REWARD': {'B1': 3, 'B2': 3, 'C1': 3, 'C2': 3}, 'RANDOM_WALK': True, 'M': 0.5} <<\n",
      " \t>> ACT-R PARAMETERS: {'v': None, 'seed': 'nil', 'ans': 0.2, 'lf': 0.5, 'bll': 0.5, 'mas': 2, 'egs': 0.2, 'alpha': 0.7, 'imaginal-activation': 1.0} <<\n",
      "\n"
     ]
    },
    {
     "name": "stderr",
     "output_type": "stream",
     "text": [
      "\n",
      "100%|██████████| 1/1 [00:00<00:00,  2.80it/s]\u001b[A\n",
      "\n",
      "  0%|          | 0/1 [00:00<?, ?it/s]\u001b[A\n",
      "100%|██████████| 1/1 [00:00<00:00,  3.02it/s]\u001b[A\n",
      "\n",
      "  0%|          | 0/1 [00:00<?, ?it/s]\u001b[A"
     ]
    },
    {
     "name": "stdout",
     "output_type": "stream",
     "text": [
      "######### SETUP MODEL markov-model2 #########\n",
      " \t>> TASK PARAMETERS: {'MARKOV_PROBABILITY': 0.7, 'REWARD_PROBABILITY': {'B1': 0.26, 'B2': 0.57, 'C1': 0.41, 'C2': 0.28}, 'REWARD': {'B1': 3, 'B2': 3, 'C1': 3, 'C2': 3}, 'RANDOM_WALK': True, 'M': 0.5} <<\n",
      " \t>> ACT-R PARAMETERS: {'v': None, 'seed': 'nil', 'ans': 0.2, 'lf': 0.5, 'bll': 0.5, 'mas': 2, 'egs': 0.2, 'alpha': 0.7, 'imaginal-activation': 1.0} <<\n",
      "\n"
     ]
    },
    {
     "name": "stderr",
     "output_type": "stream",
     "text": [
      "\n",
      "100%|██████████| 1/1 [00:00<00:00,  3.28it/s]\u001b[A\n",
      "\n",
      "  0%|          | 0/1 [00:00<?, ?it/s]\u001b[A"
     ]
    },
    {
     "name": "stdout",
     "output_type": "stream",
     "text": [
      "######### SETUP MODEL markov-model3 #########\n",
      " \t>> TASK PARAMETERS: {'MARKOV_PROBABILITY': 0.7, 'REWARD_PROBABILITY': {'B1': 0.26, 'B2': 0.57, 'C1': 0.41, 'C2': 0.28}, 'REWARD': {'B1': 3, 'B2': 3, 'C1': 3, 'C2': 3}, 'RANDOM_WALK': True, 'M': 0.5} <<\n",
      " \t>> ACT-R PARAMETERS: {'v': None, 'seed': 'nil', 'ans': 0.2, 'lf': 0.5, 'bll': 0.5, 'mas': 2, 'egs': 0.2, 'alpha': 0.7, 'imaginal-activation': 1.0} <<\n",
      "\n",
      "COMPLETE...\n"
     ]
    },
    {
     "name": "stderr",
     "output_type": "stream",
     "text": [
      "\n",
      "100%|██████████| 1/1 [00:00<00:00,  3.60it/s]\u001b[A\n",
      "\n",
      "  0%|          | 0/1 [00:00<?, ?it/s]\u001b[A"
     ]
    },
    {
     "name": "stdout",
     "output_type": "stream",
     "text": [
      "######### SETUP MODEL markov-model1 #########\n",
      " \t>> TASK PARAMETERS: {'MARKOV_PROBABILITY': 0.7, 'REWARD_PROBABILITY': {'B1': 0.26, 'B2': 0.57, 'C1': 0.41, 'C2': 0.28}, 'REWARD': {'B1': 3, 'B2': 3, 'C1': 3, 'C2': 3}, 'RANDOM_WALK': True, 'M': 0.5} <<\n",
      " \t>> ACT-R PARAMETERS: {'v': None, 'seed': 'nil', 'ans': 0.2, 'lf': 1, 'bll': 0.5, 'mas': 2, 'egs': 0.2, 'alpha': 0.7, 'imaginal-activation': 1.0} <<\n",
      "\n"
     ]
    },
    {
     "name": "stderr",
     "output_type": "stream",
     "text": [
      "\n",
      "100%|██████████| 1/1 [00:00<00:00,  3.23it/s]\u001b[A\n",
      "\n",
      "  0%|          | 0/1 [00:00<?, ?it/s]\u001b[A"
     ]
    },
    {
     "name": "stdout",
     "output_type": "stream",
     "text": [
      "######### SETUP MODEL markov-model2 #########\n",
      " \t>> TASK PARAMETERS: {'MARKOV_PROBABILITY': 0.7, 'REWARD_PROBABILITY': {'B1': 0.26, 'B2': 0.57, 'C1': 0.41, 'C2': 0.28}, 'REWARD': {'B1': 3, 'B2': 3, 'C1': 3, 'C2': 3}, 'RANDOM_WALK': True, 'M': 0.5} <<\n",
      " \t>> ACT-R PARAMETERS: {'v': None, 'seed': 'nil', 'ans': 0.2, 'lf': 1, 'bll': 0.5, 'mas': 2, 'egs': 0.2, 'alpha': 0.7, 'imaginal-activation': 1.0} <<\n",
      "\n"
     ]
    },
    {
     "name": "stderr",
     "output_type": "stream",
     "text": [
      "\n",
      "100%|██████████| 1/1 [00:00<00:00,  3.61it/s]\u001b[A\n",
      "\n",
      "  0%|          | 0/1 [00:00<?, ?it/s]\u001b[A"
     ]
    },
    {
     "name": "stdout",
     "output_type": "stream",
     "text": [
      "######### SETUP MODEL markov-model3 #########\n",
      " \t>> TASK PARAMETERS: {'MARKOV_PROBABILITY': 0.7, 'REWARD_PROBABILITY': {'B1': 0.26, 'B2': 0.57, 'C1': 0.41, 'C2': 0.28}, 'REWARD': {'B1': 3, 'B2': 3, 'C1': 3, 'C2': 3}, 'RANDOM_WALK': True, 'M': 0.5} <<\n",
      " \t>> ACT-R PARAMETERS: {'v': None, 'seed': 'nil', 'ans': 0.2, 'lf': 1, 'bll': 0.5, 'mas': 2, 'egs': 0.2, 'alpha': 0.7, 'imaginal-activation': 1.0} <<\n",
      "\n",
      "COMPLETE...\n"
     ]
    },
    {
     "name": "stderr",
     "output_type": "stream",
     "text": [
      "\n",
      "100%|██████████| 1/1 [00:00<00:00,  3.92it/s]\u001b[A\n",
      "\n",
      "  0%|          | 0/1 [00:00<?, ?it/s]\u001b[A"
     ]
    },
    {
     "name": "stdout",
     "output_type": "stream",
     "text": [
      "######### SETUP MODEL markov-model1 #########\n",
      " \t>> TASK PARAMETERS: {'MARKOV_PROBABILITY': 0.7, 'REWARD_PROBABILITY': {'B1': 0.26, 'B2': 0.57, 'C1': 0.41, 'C2': 0.28}, 'REWARD': {'B1': 3, 'B2': 3, 'C1': 3, 'C2': 3}, 'RANDOM_WALK': True, 'M': 0.5} <<\n",
      " \t>> ACT-R PARAMETERS: {'v': None, 'seed': 'nil', 'ans': 0.2, 'lf': 0.5, 'bll': 0.5, 'mas': 2, 'egs': 0.7, 'alpha': 0.2, 'imaginal-activation': 1.0} <<\n",
      "\n"
     ]
    },
    {
     "name": "stderr",
     "output_type": "stream",
     "text": [
      "\n",
      "100%|██████████| 1/1 [00:00<00:00,  3.70it/s]\u001b[A\n",
      "\n",
      "  0%|          | 0/1 [00:00<?, ?it/s]\u001b[A"
     ]
    },
    {
     "name": "stdout",
     "output_type": "stream",
     "text": [
      "######### SETUP MODEL markov-model2 #########\n",
      " \t>> TASK PARAMETERS: {'MARKOV_PROBABILITY': 0.7, 'REWARD_PROBABILITY': {'B1': 0.26, 'B2': 0.57, 'C1': 0.41, 'C2': 0.28}, 'REWARD': {'B1': 3, 'B2': 3, 'C1': 3, 'C2': 3}, 'RANDOM_WALK': True, 'M': 0.5} <<\n",
      " \t>> ACT-R PARAMETERS: {'v': None, 'seed': 'nil', 'ans': 0.2, 'lf': 0.5, 'bll': 0.5, 'mas': 2, 'egs': 0.7, 'alpha': 0.2, 'imaginal-activation': 1.0} <<\n",
      "\n"
     ]
    },
    {
     "name": "stderr",
     "output_type": "stream",
     "text": [
      "\n",
      "100%|██████████| 1/1 [00:00<00:00,  3.54it/s]\u001b[A\n",
      "\n",
      "  0%|          | 0/1 [00:00<?, ?it/s]\u001b[A"
     ]
    },
    {
     "name": "stdout",
     "output_type": "stream",
     "text": [
      "######### SETUP MODEL markov-model3 #########\n",
      " \t>> TASK PARAMETERS: {'MARKOV_PROBABILITY': 0.7, 'REWARD_PROBABILITY': {'B1': 0.26, 'B2': 0.57, 'C1': 0.41, 'C2': 0.28}, 'REWARD': {'B1': 3, 'B2': 3, 'C1': 3, 'C2': 3}, 'RANDOM_WALK': True, 'M': 0.5} <<\n",
      " \t>> ACT-R PARAMETERS: {'v': None, 'seed': 'nil', 'ans': 0.2, 'lf': 0.5, 'bll': 0.5, 'mas': 2, 'egs': 0.7, 'alpha': 0.2, 'imaginal-activation': 1.0} <<\n",
      "\n",
      "COMPLETE...\n"
     ]
    },
    {
     "name": "stderr",
     "output_type": "stream",
     "text": [
      "\n",
      "100%|██████████| 1/1 [00:00<00:00,  3.60it/s]\u001b[A\n",
      "\n",
      "  0%|          | 0/1 [00:00<?, ?it/s]\u001b[A"
     ]
    },
    {
     "name": "stdout",
     "output_type": "stream",
     "text": [
      "######### SETUP MODEL markov-model1 #########\n",
      " \t>> TASK PARAMETERS: {'MARKOV_PROBABILITY': 0.7, 'REWARD_PROBABILITY': {'B1': 0.26, 'B2': 0.57, 'C1': 0.41, 'C2': 0.28}, 'REWARD': {'B1': 3, 'B2': 3, 'C1': 3, 'C2': 3}, 'RANDOM_WALK': True, 'M': 0.5} <<\n",
      " \t>> ACT-R PARAMETERS: {'v': None, 'seed': 'nil', 'ans': 0.2, 'lf': 1, 'bll': 0.5, 'mas': 2, 'egs': 0.7, 'alpha': 0.2, 'imaginal-activation': 1.0} <<\n",
      "\n"
     ]
    },
    {
     "name": "stderr",
     "output_type": "stream",
     "text": [
      "\n",
      "100%|██████████| 1/1 [00:00<00:00,  3.31it/s]\u001b[A\n",
      "\n",
      "  0%|          | 0/1 [00:00<?, ?it/s]\u001b[A"
     ]
    },
    {
     "name": "stdout",
     "output_type": "stream",
     "text": [
      "######### SETUP MODEL markov-model2 #########\n",
      " \t>> TASK PARAMETERS: {'MARKOV_PROBABILITY': 0.7, 'REWARD_PROBABILITY': {'B1': 0.26, 'B2': 0.57, 'C1': 0.41, 'C2': 0.28}, 'REWARD': {'B1': 3, 'B2': 3, 'C1': 3, 'C2': 3}, 'RANDOM_WALK': True, 'M': 0.5} <<\n",
      " \t>> ACT-R PARAMETERS: {'v': None, 'seed': 'nil', 'ans': 0.2, 'lf': 1, 'bll': 0.5, 'mas': 2, 'egs': 0.7, 'alpha': 0.2, 'imaginal-activation': 1.0} <<\n",
      "\n"
     ]
    },
    {
     "name": "stderr",
     "output_type": "stream",
     "text": [
      "\n",
      "100%|██████████| 1/1 [00:00<00:00,  3.47it/s]\u001b[A\n",
      "\n",
      "  0%|          | 0/1 [00:00<?, ?it/s]\u001b[A"
     ]
    },
    {
     "name": "stdout",
     "output_type": "stream",
     "text": [
      "######### SETUP MODEL markov-model3 #########\n",
      " \t>> TASK PARAMETERS: {'MARKOV_PROBABILITY': 0.7, 'REWARD_PROBABILITY': {'B1': 0.26, 'B2': 0.57, 'C1': 0.41, 'C2': 0.28}, 'REWARD': {'B1': 3, 'B2': 3, 'C1': 3, 'C2': 3}, 'RANDOM_WALK': True, 'M': 0.5} <<\n",
      " \t>> ACT-R PARAMETERS: {'v': None, 'seed': 'nil', 'ans': 0.2, 'lf': 1, 'bll': 0.5, 'mas': 2, 'egs': 0.7, 'alpha': 0.2, 'imaginal-activation': 1.0} <<\n",
      "\n",
      "COMPLETE...\n"
     ]
    },
    {
     "name": "stderr",
     "output_type": "stream",
     "text": [
      "\n",
      "100%|██████████| 1/1 [00:00<00:00,  3.16it/s]\u001b[A\n",
      "\n",
      "  0%|          | 0/1 [00:00<?, ?it/s]\u001b[A"
     ]
    },
    {
     "name": "stdout",
     "output_type": "stream",
     "text": [
      "######### SETUP MODEL markov-model1 #########\n",
      " \t>> TASK PARAMETERS: {'MARKOV_PROBABILITY': 0.7, 'REWARD_PROBABILITY': {'B1': 0.26, 'B2': 0.57, 'C1': 0.41, 'C2': 0.28}, 'REWARD': {'B1': 3, 'B2': 3, 'C1': 3, 'C2': 3}, 'RANDOM_WALK': True, 'M': 0.5} <<\n",
      " \t>> ACT-R PARAMETERS: {'v': None, 'seed': 'nil', 'ans': 0.2, 'lf': 0.5, 'bll': 0.5, 'mas': 2, 'egs': 0.7, 'alpha': 0.7, 'imaginal-activation': 1.0} <<\n",
      "\n"
     ]
    },
    {
     "name": "stderr",
     "output_type": "stream",
     "text": [
      "\n",
      "100%|██████████| 1/1 [00:00<00:00,  3.47it/s]\u001b[A\n",
      "\n",
      "  0%|          | 0/1 [00:00<?, ?it/s]\u001b[A"
     ]
    },
    {
     "name": "stdout",
     "output_type": "stream",
     "text": [
      "######### SETUP MODEL markov-model2 #########\n",
      " \t>> TASK PARAMETERS: {'MARKOV_PROBABILITY': 0.7, 'REWARD_PROBABILITY': {'B1': 0.26, 'B2': 0.57, 'C1': 0.41, 'C2': 0.28}, 'REWARD': {'B1': 3, 'B2': 3, 'C1': 3, 'C2': 3}, 'RANDOM_WALK': True, 'M': 0.5} <<\n",
      " \t>> ACT-R PARAMETERS: {'v': None, 'seed': 'nil', 'ans': 0.2, 'lf': 0.5, 'bll': 0.5, 'mas': 2, 'egs': 0.7, 'alpha': 0.7, 'imaginal-activation': 1.0} <<\n",
      "\n"
     ]
    },
    {
     "name": "stderr",
     "output_type": "stream",
     "text": [
      "\n",
      "100%|██████████| 1/1 [00:00<00:00,  3.33it/s]\u001b[A\n",
      "\n",
      "  0%|          | 0/1 [00:00<?, ?it/s]\u001b[A"
     ]
    },
    {
     "name": "stdout",
     "output_type": "stream",
     "text": [
      "######### SETUP MODEL markov-model3 #########\n",
      " \t>> TASK PARAMETERS: {'MARKOV_PROBABILITY': 0.7, 'REWARD_PROBABILITY': {'B1': 0.26, 'B2': 0.57, 'C1': 0.41, 'C2': 0.28}, 'REWARD': {'B1': 3, 'B2': 3, 'C1': 3, 'C2': 3}, 'RANDOM_WALK': True, 'M': 0.5} <<\n",
      " \t>> ACT-R PARAMETERS: {'v': None, 'seed': 'nil', 'ans': 0.2, 'lf': 0.5, 'bll': 0.5, 'mas': 2, 'egs': 0.7, 'alpha': 0.7, 'imaginal-activation': 1.0} <<\n",
      "\n",
      "COMPLETE...\n"
     ]
    },
    {
     "name": "stderr",
     "output_type": "stream",
     "text": [
      "\n",
      "100%|██████████| 1/1 [00:00<00:00,  3.25it/s]\u001b[A\n",
      "\n",
      "  0%|          | 0/1 [00:00<?, ?it/s]\u001b[A"
     ]
    },
    {
     "name": "stdout",
     "output_type": "stream",
     "text": [
      "######### SETUP MODEL markov-model1 #########\n",
      " \t>> TASK PARAMETERS: {'MARKOV_PROBABILITY': 0.7, 'REWARD_PROBABILITY': {'B1': 0.26, 'B2': 0.57, 'C1': 0.41, 'C2': 0.28}, 'REWARD': {'B1': 3, 'B2': 3, 'C1': 3, 'C2': 3}, 'RANDOM_WALK': True, 'M': 0.5} <<\n",
      " \t>> ACT-R PARAMETERS: {'v': None, 'seed': 'nil', 'ans': 0.2, 'lf': 1, 'bll': 0.5, 'mas': 2, 'egs': 0.7, 'alpha': 0.7, 'imaginal-activation': 1.0} <<\n",
      "\n"
     ]
    },
    {
     "name": "stderr",
     "output_type": "stream",
     "text": [
      "\n",
      "100%|██████████| 1/1 [00:00<00:00,  3.44it/s]\u001b[A\n",
      "\n",
      "  0%|          | 0/1 [00:00<?, ?it/s]\u001b[A"
     ]
    },
    {
     "name": "stdout",
     "output_type": "stream",
     "text": [
      "######### SETUP MODEL markov-model2 #########\n",
      " \t>> TASK PARAMETERS: {'MARKOV_PROBABILITY': 0.7, 'REWARD_PROBABILITY': {'B1': 0.26, 'B2': 0.57, 'C1': 0.41, 'C2': 0.28}, 'REWARD': {'B1': 3, 'B2': 3, 'C1': 3, 'C2': 3}, 'RANDOM_WALK': True, 'M': 0.5} <<\n",
      " \t>> ACT-R PARAMETERS: {'v': None, 'seed': 'nil', 'ans': 0.2, 'lf': 1, 'bll': 0.5, 'mas': 2, 'egs': 0.7, 'alpha': 0.7, 'imaginal-activation': 1.0} <<\n",
      "\n"
     ]
    },
    {
     "name": "stderr",
     "output_type": "stream",
     "text": [
      "\n",
      "100%|██████████| 1/1 [00:00<00:00,  3.49it/s]\u001b[A\n",
      "\n",
      "  0%|          | 0/1 [00:00<?, ?it/s]\u001b[A"
     ]
    },
    {
     "name": "stdout",
     "output_type": "stream",
     "text": [
      "######### SETUP MODEL markov-model3 #########\n",
      " \t>> TASK PARAMETERS: {'MARKOV_PROBABILITY': 0.7, 'REWARD_PROBABILITY': {'B1': 0.26, 'B2': 0.57, 'C1': 0.41, 'C2': 0.28}, 'REWARD': {'B1': 3, 'B2': 3, 'C1': 3, 'C2': 3}, 'RANDOM_WALK': True, 'M': 0.5} <<\n",
      " \t>> ACT-R PARAMETERS: {'v': None, 'seed': 'nil', 'ans': 0.2, 'lf': 1, 'bll': 0.5, 'mas': 2, 'egs': 0.7, 'alpha': 0.7, 'imaginal-activation': 1.0} <<\n",
      "\n",
      "COMPLETE...\n"
     ]
    },
    {
     "name": "stderr",
     "output_type": "stream",
     "text": [
      "\n",
      "100%|██████████| 1/1 [00:00<00:00,  3.60it/s]\u001b[A\n",
      "\n",
      "  0%|          | 0/1 [00:00<?, ?it/s]\u001b[A"
     ]
    },
    {
     "name": "stdout",
     "output_type": "stream",
     "text": [
      "######### SETUP MODEL markov-model1 #########\n",
      " \t>> TASK PARAMETERS: {'MARKOV_PROBABILITY': 0.7, 'REWARD_PROBABILITY': {'B1': 0.26, 'B2': 0.57, 'C1': 0.41, 'C2': 0.28}, 'REWARD': {'B1': 3, 'B2': 3, 'C1': 3, 'C2': 3}, 'RANDOM_WALK': True, 'M': 0.5} <<\n",
      " \t>> ACT-R PARAMETERS: {'v': None, 'seed': 'nil', 'ans': 0.7, 'lf': 0.5, 'bll': 0.5, 'mas': 2, 'egs': 0.2, 'alpha': 0.2, 'imaginal-activation': 1.0} <<\n",
      "\n"
     ]
    },
    {
     "name": "stderr",
     "output_type": "stream",
     "text": [
      "\n",
      "100%|██████████| 1/1 [00:00<00:00,  2.22it/s]\u001b[A\n",
      "\n",
      "  0%|          | 0/1 [00:00<?, ?it/s]\u001b[A"
     ]
    },
    {
     "name": "stdout",
     "output_type": "stream",
     "text": [
      "######### SETUP MODEL markov-model2 #########\n",
      " \t>> TASK PARAMETERS: {'MARKOV_PROBABILITY': 0.7, 'REWARD_PROBABILITY': {'B1': 0.26, 'B2': 0.57, 'C1': 0.41, 'C2': 0.28}, 'REWARD': {'B1': 3, 'B2': 3, 'C1': 3, 'C2': 3}, 'RANDOM_WALK': True, 'M': 0.5} <<\n",
      " \t>> ACT-R PARAMETERS: {'v': None, 'seed': 'nil', 'ans': 0.7, 'lf': 0.5, 'bll': 0.5, 'mas': 2, 'egs': 0.2, 'alpha': 0.2, 'imaginal-activation': 1.0} <<\n",
      "\n"
     ]
    },
    {
     "name": "stderr",
     "output_type": "stream",
     "text": [
      "\n",
      "100%|██████████| 1/1 [00:00<00:00,  3.45it/s]\u001b[A\n",
      "\n",
      "  0%|          | 0/1 [00:00<?, ?it/s]\u001b[A"
     ]
    },
    {
     "name": "stdout",
     "output_type": "stream",
     "text": [
      "######### SETUP MODEL markov-model3 #########\n",
      " \t>> TASK PARAMETERS: {'MARKOV_PROBABILITY': 0.7, 'REWARD_PROBABILITY': {'B1': 0.26, 'B2': 0.57, 'C1': 0.41, 'C2': 0.28}, 'REWARD': {'B1': 3, 'B2': 3, 'C1': 3, 'C2': 3}, 'RANDOM_WALK': True, 'M': 0.5} <<\n",
      " \t>> ACT-R PARAMETERS: {'v': None, 'seed': 'nil', 'ans': 0.7, 'lf': 0.5, 'bll': 0.5, 'mas': 2, 'egs': 0.2, 'alpha': 0.2, 'imaginal-activation': 1.0} <<\n",
      "\n",
      "COMPLETE...\n"
     ]
    },
    {
     "name": "stderr",
     "output_type": "stream",
     "text": [
      "\n",
      "100%|██████████| 1/1 [00:00<00:00,  3.94it/s]\u001b[A\n",
      "\n",
      "  0%|          | 0/1 [00:00<?, ?it/s]\u001b[A"
     ]
    },
    {
     "name": "stdout",
     "output_type": "stream",
     "text": [
      "######### SETUP MODEL markov-model1 #########\n",
      " \t>> TASK PARAMETERS: {'MARKOV_PROBABILITY': 0.7, 'REWARD_PROBABILITY': {'B1': 0.26, 'B2': 0.57, 'C1': 0.41, 'C2': 0.28}, 'REWARD': {'B1': 3, 'B2': 3, 'C1': 3, 'C2': 3}, 'RANDOM_WALK': True, 'M': 0.5} <<\n",
      " \t>> ACT-R PARAMETERS: {'v': None, 'seed': 'nil', 'ans': 0.7, 'lf': 1, 'bll': 0.5, 'mas': 2, 'egs': 0.2, 'alpha': 0.2, 'imaginal-activation': 1.0} <<\n",
      "\n",
      "######### SETUP MODEL markov-model2 #########\n",
      " \t>> TASK PARAMETERS: {'MARKOV_PROBABILITY': 0.7, 'REWARD_PROBABILITY': {'B1': 0.26, 'B2': 0.57, 'C1': 0.41, 'C2': 0.28}, 'REWARD': {'B1': 3, 'B2': 3, 'C1': 3, 'C2': 3}, 'RANDOM_WALK': True, 'M': 0.5} <<\n",
      " \t>> ACT-R PARAMETERS: {'v': None, 'seed': 'nil', 'ans': 0.7, 'lf': 1, 'bll': 0.5, 'mas': 2, 'egs': 0.2, 'alpha': 0.2, 'imaginal-activation': 1.0} <<\n",
      "\n"
     ]
    },
    {
     "name": "stderr",
     "output_type": "stream",
     "text": [
      "\n",
      "100%|██████████| 1/1 [00:00<00:00,  1.67it/s]\u001b[A\n",
      "\n",
      "  0%|          | 0/1 [00:00<?, ?it/s]\u001b[A\n",
      "100%|██████████| 1/1 [00:00<00:00,  3.05it/s]\u001b[A\n",
      "\n",
      "  0%|          | 0/1 [00:00<?, ?it/s]\u001b[A"
     ]
    },
    {
     "name": "stdout",
     "output_type": "stream",
     "text": [
      "######### SETUP MODEL markov-model3 #########\n",
      " \t>> TASK PARAMETERS: {'MARKOV_PROBABILITY': 0.7, 'REWARD_PROBABILITY': {'B1': 0.26, 'B2': 0.57, 'C1': 0.41, 'C2': 0.28}, 'REWARD': {'B1': 3, 'B2': 3, 'C1': 3, 'C2': 3}, 'RANDOM_WALK': True, 'M': 0.5} <<\n",
      " \t>> ACT-R PARAMETERS: {'v': None, 'seed': 'nil', 'ans': 0.7, 'lf': 1, 'bll': 0.5, 'mas': 2, 'egs': 0.2, 'alpha': 0.2, 'imaginal-activation': 1.0} <<\n",
      "\n",
      "COMPLETE...\n"
     ]
    },
    {
     "name": "stderr",
     "output_type": "stream",
     "text": [
      "\n",
      "100%|██████████| 1/1 [00:00<00:00,  3.50it/s]\u001b[A\n",
      "\n",
      "  0%|          | 0/1 [00:00<?, ?it/s]\u001b[A"
     ]
    },
    {
     "name": "stdout",
     "output_type": "stream",
     "text": [
      "######### SETUP MODEL markov-model1 #########\n",
      " \t>> TASK PARAMETERS: {'MARKOV_PROBABILITY': 0.7, 'REWARD_PROBABILITY': {'B1': 0.26, 'B2': 0.57, 'C1': 0.41, 'C2': 0.28}, 'REWARD': {'B1': 3, 'B2': 3, 'C1': 3, 'C2': 3}, 'RANDOM_WALK': True, 'M': 0.5} <<\n",
      " \t>> ACT-R PARAMETERS: {'v': None, 'seed': 'nil', 'ans': 0.7, 'lf': 0.5, 'bll': 0.5, 'mas': 2, 'egs': 0.2, 'alpha': 0.7, 'imaginal-activation': 1.0} <<\n",
      "\n"
     ]
    },
    {
     "name": "stderr",
     "output_type": "stream",
     "text": [
      "\n",
      "100%|██████████| 1/1 [00:00<00:00,  1.75it/s]\u001b[A\n",
      "\n",
      "  0%|          | 0/1 [00:00<?, ?it/s]\u001b[A"
     ]
    },
    {
     "name": "stdout",
     "output_type": "stream",
     "text": [
      "######### SETUP MODEL markov-model2 #########\n",
      " \t>> TASK PARAMETERS: {'MARKOV_PROBABILITY': 0.7, 'REWARD_PROBABILITY': {'B1': 0.26, 'B2': 0.57, 'C1': 0.41, 'C2': 0.28}, 'REWARD': {'B1': 3, 'B2': 3, 'C1': 3, 'C2': 3}, 'RANDOM_WALK': True, 'M': 0.5} <<\n",
      " \t>> ACT-R PARAMETERS: {'v': None, 'seed': 'nil', 'ans': 0.7, 'lf': 0.5, 'bll': 0.5, 'mas': 2, 'egs': 0.2, 'alpha': 0.7, 'imaginal-activation': 1.0} <<\n",
      "\n"
     ]
    },
    {
     "name": "stderr",
     "output_type": "stream",
     "text": [
      "\n",
      "100%|██████████| 1/1 [00:00<00:00,  3.20it/s]\u001b[A\n",
      "\n",
      "  0%|          | 0/1 [00:00<?, ?it/s]\u001b[A"
     ]
    },
    {
     "name": "stdout",
     "output_type": "stream",
     "text": [
      "######### SETUP MODEL markov-model3 #########\n",
      " \t>> TASK PARAMETERS: {'MARKOV_PROBABILITY': 0.7, 'REWARD_PROBABILITY': {'B1': 0.26, 'B2': 0.57, 'C1': 0.41, 'C2': 0.28}, 'REWARD': {'B1': 3, 'B2': 3, 'C1': 3, 'C2': 3}, 'RANDOM_WALK': True, 'M': 0.5} <<\n",
      " \t>> ACT-R PARAMETERS: {'v': None, 'seed': 'nil', 'ans': 0.7, 'lf': 0.5, 'bll': 0.5, 'mas': 2, 'egs': 0.2, 'alpha': 0.7, 'imaginal-activation': 1.0} <<\n",
      "\n",
      "COMPLETE...\n"
     ]
    },
    {
     "name": "stderr",
     "output_type": "stream",
     "text": [
      "\n",
      "100%|██████████| 1/1 [00:00<00:00,  3.36it/s]\u001b[A\n",
      "\n",
      "  0%|          | 0/1 [00:00<?, ?it/s]\u001b[A"
     ]
    },
    {
     "name": "stdout",
     "output_type": "stream",
     "text": [
      "######### SETUP MODEL markov-model1 #########\n",
      " \t>> TASK PARAMETERS: {'MARKOV_PROBABILITY': 0.7, 'REWARD_PROBABILITY': {'B1': 0.26, 'B2': 0.57, 'C1': 0.41, 'C2': 0.28}, 'REWARD': {'B1': 3, 'B2': 3, 'C1': 3, 'C2': 3}, 'RANDOM_WALK': True, 'M': 0.5} <<\n",
      " \t>> ACT-R PARAMETERS: {'v': None, 'seed': 'nil', 'ans': 0.7, 'lf': 1, 'bll': 0.5, 'mas': 2, 'egs': 0.2, 'alpha': 0.7, 'imaginal-activation': 1.0} <<\n",
      "\n"
     ]
    },
    {
     "name": "stderr",
     "output_type": "stream",
     "text": [
      "\n",
      "100%|██████████| 1/1 [00:00<00:00,  1.66it/s]\u001b[A\n",
      "\n",
      "  0%|          | 0/1 [00:00<?, ?it/s]\u001b[A"
     ]
    },
    {
     "name": "stdout",
     "output_type": "stream",
     "text": [
      "######### SETUP MODEL markov-model2 #########\n",
      " \t>> TASK PARAMETERS: {'MARKOV_PROBABILITY': 0.7, 'REWARD_PROBABILITY': {'B1': 0.26, 'B2': 0.57, 'C1': 0.41, 'C2': 0.28}, 'REWARD': {'B1': 3, 'B2': 3, 'C1': 3, 'C2': 3}, 'RANDOM_WALK': True, 'M': 0.5} <<\n",
      " \t>> ACT-R PARAMETERS: {'v': None, 'seed': 'nil', 'ans': 0.7, 'lf': 1, 'bll': 0.5, 'mas': 2, 'egs': 0.2, 'alpha': 0.7, 'imaginal-activation': 1.0} <<\n",
      "\n"
     ]
    },
    {
     "name": "stderr",
     "output_type": "stream",
     "text": [
      "\n",
      "100%|██████████| 1/1 [00:00<00:00,  3.23it/s]\u001b[A\n",
      "\n",
      "  0%|          | 0/1 [00:00<?, ?it/s]\u001b[A"
     ]
    },
    {
     "name": "stdout",
     "output_type": "stream",
     "text": [
      "######### SETUP MODEL markov-model3 #########\n",
      " \t>> TASK PARAMETERS: {'MARKOV_PROBABILITY': 0.7, 'REWARD_PROBABILITY': {'B1': 0.26, 'B2': 0.57, 'C1': 0.41, 'C2': 0.28}, 'REWARD': {'B1': 3, 'B2': 3, 'C1': 3, 'C2': 3}, 'RANDOM_WALK': True, 'M': 0.5} <<\n",
      " \t>> ACT-R PARAMETERS: {'v': None, 'seed': 'nil', 'ans': 0.7, 'lf': 1, 'bll': 0.5, 'mas': 2, 'egs': 0.2, 'alpha': 0.7, 'imaginal-activation': 1.0} <<\n",
      "\n",
      "COMPLETE...\n"
     ]
    },
    {
     "name": "stderr",
     "output_type": "stream",
     "text": [
      "\n",
      "100%|██████████| 1/1 [00:00<00:00,  3.38it/s]\u001b[A\n",
      "\n",
      "  0%|          | 0/1 [00:00<?, ?it/s]\u001b[A"
     ]
    },
    {
     "name": "stdout",
     "output_type": "stream",
     "text": [
      "######### SETUP MODEL markov-model1 #########\n",
      " \t>> TASK PARAMETERS: {'MARKOV_PROBABILITY': 0.7, 'REWARD_PROBABILITY': {'B1': 0.26, 'B2': 0.57, 'C1': 0.41, 'C2': 0.28}, 'REWARD': {'B1': 3, 'B2': 3, 'C1': 3, 'C2': 3}, 'RANDOM_WALK': True, 'M': 0.5} <<\n",
      " \t>> ACT-R PARAMETERS: {'v': None, 'seed': 'nil', 'ans': 0.7, 'lf': 0.5, 'bll': 0.5, 'mas': 2, 'egs': 0.7, 'alpha': 0.2, 'imaginal-activation': 1.0} <<\n",
      "\n"
     ]
    },
    {
     "name": "stderr",
     "output_type": "stream",
     "text": [
      "\n",
      "100%|██████████| 1/1 [00:00<00:00,  3.35it/s]\u001b[A\n",
      "\n",
      "  0%|          | 0/1 [00:00<?, ?it/s]\u001b[A"
     ]
    },
    {
     "name": "stdout",
     "output_type": "stream",
     "text": [
      "######### SETUP MODEL markov-model2 #########\n",
      " \t>> TASK PARAMETERS: {'MARKOV_PROBABILITY': 0.7, 'REWARD_PROBABILITY': {'B1': 0.26, 'B2': 0.57, 'C1': 0.41, 'C2': 0.28}, 'REWARD': {'B1': 3, 'B2': 3, 'C1': 3, 'C2': 3}, 'RANDOM_WALK': True, 'M': 0.5} <<\n",
      " \t>> ACT-R PARAMETERS: {'v': None, 'seed': 'nil', 'ans': 0.7, 'lf': 0.5, 'bll': 0.5, 'mas': 2, 'egs': 0.7, 'alpha': 0.2, 'imaginal-activation': 1.0} <<\n",
      "\n"
     ]
    },
    {
     "name": "stderr",
     "output_type": "stream",
     "text": [
      "\n",
      "100%|██████████| 1/1 [00:00<00:00,  3.21it/s]\u001b[A\n",
      "\n",
      "  0%|          | 0/1 [00:00<?, ?it/s]\u001b[A"
     ]
    },
    {
     "name": "stdout",
     "output_type": "stream",
     "text": [
      "######### SETUP MODEL markov-model3 #########\n",
      " \t>> TASK PARAMETERS: {'MARKOV_PROBABILITY': 0.7, 'REWARD_PROBABILITY': {'B1': 0.26, 'B2': 0.57, 'C1': 0.41, 'C2': 0.28}, 'REWARD': {'B1': 3, 'B2': 3, 'C1': 3, 'C2': 3}, 'RANDOM_WALK': True, 'M': 0.5} <<\n",
      " \t>> ACT-R PARAMETERS: {'v': None, 'seed': 'nil', 'ans': 0.7, 'lf': 0.5, 'bll': 0.5, 'mas': 2, 'egs': 0.7, 'alpha': 0.2, 'imaginal-activation': 1.0} <<\n",
      "\n",
      "COMPLETE...\n"
     ]
    },
    {
     "name": "stderr",
     "output_type": "stream",
     "text": [
      "\n",
      "100%|██████████| 1/1 [00:00<00:00,  3.51it/s]\u001b[A\n",
      "\n",
      "  0%|          | 0/1 [00:00<?, ?it/s]\u001b[A"
     ]
    },
    {
     "name": "stdout",
     "output_type": "stream",
     "text": [
      "######### SETUP MODEL markov-model1 #########\n",
      " \t>> TASK PARAMETERS: {'MARKOV_PROBABILITY': 0.7, 'REWARD_PROBABILITY': {'B1': 0.26, 'B2': 0.57, 'C1': 0.41, 'C2': 0.28}, 'REWARD': {'B1': 3, 'B2': 3, 'C1': 3, 'C2': 3}, 'RANDOM_WALK': True, 'M': 0.5} <<\n",
      " \t>> ACT-R PARAMETERS: {'v': None, 'seed': 'nil', 'ans': 0.7, 'lf': 1, 'bll': 0.5, 'mas': 2, 'egs': 0.7, 'alpha': 0.2, 'imaginal-activation': 1.0} <<\n",
      "\n"
     ]
    },
    {
     "name": "stderr",
     "output_type": "stream",
     "text": [
      "\n",
      "100%|██████████| 1/1 [00:00<00:00,  3.30it/s]\u001b[A\n",
      "\n",
      "  0%|          | 0/1 [00:00<?, ?it/s]\u001b[A"
     ]
    },
    {
     "name": "stdout",
     "output_type": "stream",
     "text": [
      "######### SETUP MODEL markov-model2 #########\n",
      " \t>> TASK PARAMETERS: {'MARKOV_PROBABILITY': 0.7, 'REWARD_PROBABILITY': {'B1': 0.26, 'B2': 0.57, 'C1': 0.41, 'C2': 0.28}, 'REWARD': {'B1': 3, 'B2': 3, 'C1': 3, 'C2': 3}, 'RANDOM_WALK': True, 'M': 0.5} <<\n",
      " \t>> ACT-R PARAMETERS: {'v': None, 'seed': 'nil', 'ans': 0.7, 'lf': 1, 'bll': 0.5, 'mas': 2, 'egs': 0.7, 'alpha': 0.2, 'imaginal-activation': 1.0} <<\n",
      "\n"
     ]
    },
    {
     "name": "stderr",
     "output_type": "stream",
     "text": [
      "\n",
      "100%|██████████| 1/1 [00:00<00:00,  3.43it/s]\u001b[A\n",
      "\n",
      "  0%|          | 0/1 [00:00<?, ?it/s]\u001b[A"
     ]
    },
    {
     "name": "stdout",
     "output_type": "stream",
     "text": [
      "######### SETUP MODEL markov-model3 #########\n",
      " \t>> TASK PARAMETERS: {'MARKOV_PROBABILITY': 0.7, 'REWARD_PROBABILITY': {'B1': 0.26, 'B2': 0.57, 'C1': 0.41, 'C2': 0.28}, 'REWARD': {'B1': 3, 'B2': 3, 'C1': 3, 'C2': 3}, 'RANDOM_WALK': True, 'M': 0.5} <<\n",
      " \t>> ACT-R PARAMETERS: {'v': None, 'seed': 'nil', 'ans': 0.7, 'lf': 1, 'bll': 0.5, 'mas': 2, 'egs': 0.7, 'alpha': 0.2, 'imaginal-activation': 1.0} <<\n",
      "\n",
      "COMPLETE...\n"
     ]
    },
    {
     "name": "stderr",
     "output_type": "stream",
     "text": [
      "\n",
      "100%|██████████| 1/1 [00:00<00:00,  3.37it/s]\u001b[A\n",
      "\n",
      "  0%|          | 0/1 [00:00<?, ?it/s]\u001b[A"
     ]
    },
    {
     "name": "stdout",
     "output_type": "stream",
     "text": [
      "######### SETUP MODEL markov-model1 #########\n",
      " \t>> TASK PARAMETERS: {'MARKOV_PROBABILITY': 0.7, 'REWARD_PROBABILITY': {'B1': 0.26, 'B2': 0.57, 'C1': 0.41, 'C2': 0.28}, 'REWARD': {'B1': 3, 'B2': 3, 'C1': 3, 'C2': 3}, 'RANDOM_WALK': True, 'M': 0.5} <<\n",
      " \t>> ACT-R PARAMETERS: {'v': None, 'seed': 'nil', 'ans': 0.7, 'lf': 0.5, 'bll': 0.5, 'mas': 2, 'egs': 0.7, 'alpha': 0.7, 'imaginal-activation': 1.0} <<\n",
      "\n"
     ]
    },
    {
     "name": "stderr",
     "output_type": "stream",
     "text": [
      "\n",
      "100%|██████████| 1/1 [00:00<00:00,  3.02it/s]\u001b[A\n",
      "\n",
      "  0%|          | 0/1 [00:00<?, ?it/s]\u001b[A"
     ]
    },
    {
     "name": "stdout",
     "output_type": "stream",
     "text": [
      "######### SETUP MODEL markov-model2 #########\n",
      " \t>> TASK PARAMETERS: {'MARKOV_PROBABILITY': 0.7, 'REWARD_PROBABILITY': {'B1': 0.26, 'B2': 0.57, 'C1': 0.41, 'C2': 0.28}, 'REWARD': {'B1': 3, 'B2': 3, 'C1': 3, 'C2': 3}, 'RANDOM_WALK': True, 'M': 0.5} <<\n",
      " \t>> ACT-R PARAMETERS: {'v': None, 'seed': 'nil', 'ans': 0.7, 'lf': 0.5, 'bll': 0.5, 'mas': 2, 'egs': 0.7, 'alpha': 0.7, 'imaginal-activation': 1.0} <<\n",
      "\n"
     ]
    },
    {
     "name": "stderr",
     "output_type": "stream",
     "text": [
      "\n",
      "100%|██████████| 1/1 [00:00<00:00,  3.24it/s]\u001b[A\n",
      "\n",
      "  0%|          | 0/1 [00:00<?, ?it/s]\u001b[A"
     ]
    },
    {
     "name": "stdout",
     "output_type": "stream",
     "text": [
      "######### SETUP MODEL markov-model3 #########\n",
      " \t>> TASK PARAMETERS: {'MARKOV_PROBABILITY': 0.7, 'REWARD_PROBABILITY': {'B1': 0.26, 'B2': 0.57, 'C1': 0.41, 'C2': 0.28}, 'REWARD': {'B1': 3, 'B2': 3, 'C1': 3, 'C2': 3}, 'RANDOM_WALK': True, 'M': 0.5} <<\n",
      " \t>> ACT-R PARAMETERS: {'v': None, 'seed': 'nil', 'ans': 0.7, 'lf': 0.5, 'bll': 0.5, 'mas': 2, 'egs': 0.7, 'alpha': 0.7, 'imaginal-activation': 1.0} <<\n",
      "\n",
      "COMPLETE...\n"
     ]
    },
    {
     "name": "stderr",
     "output_type": "stream",
     "text": [
      "\n",
      "100%|██████████| 1/1 [00:00<00:00,  3.17it/s]\u001b[A\n",
      "\n",
      "  0%|          | 0/1 [00:00<?, ?it/s]\u001b[A"
     ]
    },
    {
     "name": "stdout",
     "output_type": "stream",
     "text": [
      "######### SETUP MODEL markov-model1 #########\n",
      " \t>> TASK PARAMETERS: {'MARKOV_PROBABILITY': 0.7, 'REWARD_PROBABILITY': {'B1': 0.26, 'B2': 0.57, 'C1': 0.41, 'C2': 0.28}, 'REWARD': {'B1': 3, 'B2': 3, 'C1': 3, 'C2': 3}, 'RANDOM_WALK': True, 'M': 0.5} <<\n",
      " \t>> ACT-R PARAMETERS: {'v': None, 'seed': 'nil', 'ans': 0.7, 'lf': 1, 'bll': 0.5, 'mas': 2, 'egs': 0.7, 'alpha': 0.7, 'imaginal-activation': 1.0} <<\n",
      "\n"
     ]
    },
    {
     "name": "stderr",
     "output_type": "stream",
     "text": [
      "\n",
      "100%|██████████| 1/1 [00:00<00:00,  1.73it/s]\u001b[A\n",
      "\n",
      "  0%|          | 0/1 [00:00<?, ?it/s]\u001b[A"
     ]
    },
    {
     "name": "stdout",
     "output_type": "stream",
     "text": [
      "######### SETUP MODEL markov-model2 #########\n",
      " \t>> TASK PARAMETERS: {'MARKOV_PROBABILITY': 0.7, 'REWARD_PROBABILITY': {'B1': 0.26, 'B2': 0.57, 'C1': 0.41, 'C2': 0.28}, 'REWARD': {'B1': 3, 'B2': 3, 'C1': 3, 'C2': 3}, 'RANDOM_WALK': True, 'M': 0.5} <<\n",
      " \t>> ACT-R PARAMETERS: {'v': None, 'seed': 'nil', 'ans': 0.7, 'lf': 1, 'bll': 0.5, 'mas': 2, 'egs': 0.7, 'alpha': 0.7, 'imaginal-activation': 1.0} <<\n",
      "\n"
     ]
    },
    {
     "name": "stderr",
     "output_type": "stream",
     "text": [
      "\n",
      "100%|██████████| 1/1 [00:00<00:00,  3.34it/s]\u001b[A\n",
      " 33%|███▎      | 4/12 [00:59<02:01, 15.14s/it]\n",
      "  0%|          | 0/1 [00:00<?, ?it/s]\u001b[A"
     ]
    },
    {
     "name": "stdout",
     "output_type": "stream",
     "text": [
      "######### SETUP MODEL markov-model3 #########\n",
      " \t>> TASK PARAMETERS: {'MARKOV_PROBABILITY': 0.7, 'REWARD_PROBABILITY': {'B1': 0.26, 'B2': 0.57, 'C1': 0.41, 'C2': 0.28}, 'REWARD': {'B1': 3, 'B2': 3, 'C1': 3, 'C2': 3}, 'RANDOM_WALK': True, 'M': 0.5} <<\n",
      " \t>> ACT-R PARAMETERS: {'v': None, 'seed': 'nil', 'ans': 0.7, 'lf': 1, 'bll': 0.5, 'mas': 2, 'egs': 0.7, 'alpha': 0.7, 'imaginal-activation': 1.0} <<\n",
      "\n",
      "COMPLETE...\n"
     ]
    },
    {
     "name": "stderr",
     "output_type": "stream",
     "text": [
      "\n",
      "100%|██████████| 1/1 [00:00<00:00,  3.23it/s]\u001b[A\n",
      "\n",
      "  0%|          | 0/1 [00:00<?, ?it/s]\u001b[A"
     ]
    },
    {
     "name": "stdout",
     "output_type": "stream",
     "text": [
      "######### SETUP MODEL markov-model1 #########\n",
      " \t>> TASK PARAMETERS: {'MARKOV_PROBABILITY': 0.7, 'REWARD_PROBABILITY': {'B1': 0.26, 'B2': 0.57, 'C1': 0.41, 'C2': 0.28}, 'REWARD': {'B1': 5, 'B2': 5, 'C1': 5, 'C2': 5}, 'RANDOM_WALK': True, 'M': 0.5} <<\n",
      " \t>> ACT-R PARAMETERS: {'v': None, 'seed': 'nil', 'ans': 0.2, 'lf': 0.5, 'bll': 0.5, 'mas': 2, 'egs': 0.2, 'alpha': 0.2, 'imaginal-activation': 1.0} <<\n",
      "\n"
     ]
    },
    {
     "name": "stderr",
     "output_type": "stream",
     "text": [
      "\n",
      "100%|██████████| 1/1 [00:00<00:00,  3.46it/s]\u001b[A\n",
      "\n",
      "  0%|          | 0/1 [00:00<?, ?it/s]\u001b[A"
     ]
    },
    {
     "name": "stdout",
     "output_type": "stream",
     "text": [
      "######### SETUP MODEL markov-model2 #########\n",
      " \t>> TASK PARAMETERS: {'MARKOV_PROBABILITY': 0.7, 'REWARD_PROBABILITY': {'B1': 0.26, 'B2': 0.57, 'C1': 0.41, 'C2': 0.28}, 'REWARD': {'B1': 5, 'B2': 5, 'C1': 5, 'C2': 5}, 'RANDOM_WALK': True, 'M': 0.5} <<\n",
      " \t>> ACT-R PARAMETERS: {'v': None, 'seed': 'nil', 'ans': 0.2, 'lf': 0.5, 'bll': 0.5, 'mas': 2, 'egs': 0.2, 'alpha': 0.2, 'imaginal-activation': 1.0} <<\n",
      "\n"
     ]
    },
    {
     "name": "stderr",
     "output_type": "stream",
     "text": [
      "\n",
      "100%|██████████| 1/1 [00:00<00:00,  3.51it/s]\u001b[A\n",
      "\n",
      "  0%|          | 0/1 [00:00<?, ?it/s]\u001b[A"
     ]
    },
    {
     "name": "stdout",
     "output_type": "stream",
     "text": [
      "######### SETUP MODEL markov-model3 #########\n",
      " \t>> TASK PARAMETERS: {'MARKOV_PROBABILITY': 0.7, 'REWARD_PROBABILITY': {'B1': 0.26, 'B2': 0.57, 'C1': 0.41, 'C2': 0.28}, 'REWARD': {'B1': 5, 'B2': 5, 'C1': 5, 'C2': 5}, 'RANDOM_WALK': True, 'M': 0.5} <<\n",
      " \t>> ACT-R PARAMETERS: {'v': None, 'seed': 'nil', 'ans': 0.2, 'lf': 0.5, 'bll': 0.5, 'mas': 2, 'egs': 0.2, 'alpha': 0.2, 'imaginal-activation': 1.0} <<\n",
      "\n",
      "COMPLETE...\n"
     ]
    },
    {
     "name": "stderr",
     "output_type": "stream",
     "text": [
      "\n",
      "100%|██████████| 1/1 [00:00<00:00,  3.55it/s]\u001b[A\n",
      "\n",
      "  0%|          | 0/1 [00:00<?, ?it/s]\u001b[A"
     ]
    },
    {
     "name": "stdout",
     "output_type": "stream",
     "text": [
      "######### SETUP MODEL markov-model1 #########\n",
      " \t>> TASK PARAMETERS: {'MARKOV_PROBABILITY': 0.7, 'REWARD_PROBABILITY': {'B1': 0.26, 'B2': 0.57, 'C1': 0.41, 'C2': 0.28}, 'REWARD': {'B1': 5, 'B2': 5, 'C1': 5, 'C2': 5}, 'RANDOM_WALK': True, 'M': 0.5} <<\n",
      " \t>> ACT-R PARAMETERS: {'v': None, 'seed': 'nil', 'ans': 0.2, 'lf': 1, 'bll': 0.5, 'mas': 2, 'egs': 0.2, 'alpha': 0.2, 'imaginal-activation': 1.0} <<\n",
      "\n"
     ]
    },
    {
     "name": "stderr",
     "output_type": "stream",
     "text": [
      "\n",
      "100%|██████████| 1/1 [00:00<00:00,  3.37it/s]\u001b[A\n",
      "\n",
      "  0%|          | 0/1 [00:00<?, ?it/s]\u001b[A"
     ]
    },
    {
     "name": "stdout",
     "output_type": "stream",
     "text": [
      "######### SETUP MODEL markov-model2 #########\n",
      " \t>> TASK PARAMETERS: {'MARKOV_PROBABILITY': 0.7, 'REWARD_PROBABILITY': {'B1': 0.26, 'B2': 0.57, 'C1': 0.41, 'C2': 0.28}, 'REWARD': {'B1': 5, 'B2': 5, 'C1': 5, 'C2': 5}, 'RANDOM_WALK': True, 'M': 0.5} <<\n",
      " \t>> ACT-R PARAMETERS: {'v': None, 'seed': 'nil', 'ans': 0.2, 'lf': 1, 'bll': 0.5, 'mas': 2, 'egs': 0.2, 'alpha': 0.2, 'imaginal-activation': 1.0} <<\n",
      "\n"
     ]
    },
    {
     "name": "stderr",
     "output_type": "stream",
     "text": [
      "\n",
      "100%|██████████| 1/1 [00:00<00:00,  3.43it/s]\u001b[A\n",
      "\n",
      "  0%|          | 0/1 [00:00<?, ?it/s]\u001b[A"
     ]
    },
    {
     "name": "stdout",
     "output_type": "stream",
     "text": [
      "######### SETUP MODEL markov-model3 #########\n",
      " \t>> TASK PARAMETERS: {'MARKOV_PROBABILITY': 0.7, 'REWARD_PROBABILITY': {'B1': 0.26, 'B2': 0.57, 'C1': 0.41, 'C2': 0.28}, 'REWARD': {'B1': 5, 'B2': 5, 'C1': 5, 'C2': 5}, 'RANDOM_WALK': True, 'M': 0.5} <<\n",
      " \t>> ACT-R PARAMETERS: {'v': None, 'seed': 'nil', 'ans': 0.2, 'lf': 1, 'bll': 0.5, 'mas': 2, 'egs': 0.2, 'alpha': 0.2, 'imaginal-activation': 1.0} <<\n",
      "\n",
      "COMPLETE...\n"
     ]
    },
    {
     "name": "stderr",
     "output_type": "stream",
     "text": [
      "\n",
      "100%|██████████| 1/1 [00:00<00:00,  3.73it/s]\u001b[A\n",
      "\n",
      "  0%|          | 0/1 [00:00<?, ?it/s]\u001b[A"
     ]
    },
    {
     "name": "stdout",
     "output_type": "stream",
     "text": [
      "######### SETUP MODEL markov-model1 #########\n",
      " \t>> TASK PARAMETERS: {'MARKOV_PROBABILITY': 0.7, 'REWARD_PROBABILITY': {'B1': 0.26, 'B2': 0.57, 'C1': 0.41, 'C2': 0.28}, 'REWARD': {'B1': 5, 'B2': 5, 'C1': 5, 'C2': 5}, 'RANDOM_WALK': True, 'M': 0.5} <<\n",
      " \t>> ACT-R PARAMETERS: {'v': None, 'seed': 'nil', 'ans': 0.2, 'lf': 0.5, 'bll': 0.5, 'mas': 2, 'egs': 0.2, 'alpha': 0.7, 'imaginal-activation': 1.0} <<\n",
      "\n"
     ]
    },
    {
     "name": "stderr",
     "output_type": "stream",
     "text": [
      "\n",
      "100%|██████████| 1/1 [00:00<00:00,  2.87it/s]\u001b[A\n",
      "\n",
      "  0%|          | 0/1 [00:00<?, ?it/s]\u001b[A"
     ]
    },
    {
     "name": "stdout",
     "output_type": "stream",
     "text": [
      "######### SETUP MODEL markov-model2 #########\n",
      " \t>> TASK PARAMETERS: {'MARKOV_PROBABILITY': 0.7, 'REWARD_PROBABILITY': {'B1': 0.26, 'B2': 0.57, 'C1': 0.41, 'C2': 0.28}, 'REWARD': {'B1': 5, 'B2': 5, 'C1': 5, 'C2': 5}, 'RANDOM_WALK': True, 'M': 0.5} <<\n",
      " \t>> ACT-R PARAMETERS: {'v': None, 'seed': 'nil', 'ans': 0.2, 'lf': 0.5, 'bll': 0.5, 'mas': 2, 'egs': 0.2, 'alpha': 0.7, 'imaginal-activation': 1.0} <<\n",
      "\n"
     ]
    },
    {
     "name": "stderr",
     "output_type": "stream",
     "text": [
      "\n",
      "100%|██████████| 1/1 [00:00<00:00,  3.52it/s]\u001b[A\n",
      "\n",
      "  0%|          | 0/1 [00:00<?, ?it/s]\u001b[A"
     ]
    },
    {
     "name": "stdout",
     "output_type": "stream",
     "text": [
      "######### SETUP MODEL markov-model3 #########\n",
      " \t>> TASK PARAMETERS: {'MARKOV_PROBABILITY': 0.7, 'REWARD_PROBABILITY': {'B1': 0.26, 'B2': 0.57, 'C1': 0.41, 'C2': 0.28}, 'REWARD': {'B1': 5, 'B2': 5, 'C1': 5, 'C2': 5}, 'RANDOM_WALK': True, 'M': 0.5} <<\n",
      " \t>> ACT-R PARAMETERS: {'v': None, 'seed': 'nil', 'ans': 0.2, 'lf': 0.5, 'bll': 0.5, 'mas': 2, 'egs': 0.2, 'alpha': 0.7, 'imaginal-activation': 1.0} <<\n",
      "\n",
      "COMPLETE...\n"
     ]
    },
    {
     "name": "stderr",
     "output_type": "stream",
     "text": [
      "\n",
      "100%|██████████| 1/1 [00:00<00:00,  3.61it/s]\u001b[A\n",
      "\n",
      "  0%|          | 0/1 [00:00<?, ?it/s]\u001b[A"
     ]
    },
    {
     "name": "stdout",
     "output_type": "stream",
     "text": [
      "######### SETUP MODEL markov-model1 #########\n",
      " \t>> TASK PARAMETERS: {'MARKOV_PROBABILITY': 0.7, 'REWARD_PROBABILITY': {'B1': 0.26, 'B2': 0.57, 'C1': 0.41, 'C2': 0.28}, 'REWARD': {'B1': 5, 'B2': 5, 'C1': 5, 'C2': 5}, 'RANDOM_WALK': True, 'M': 0.5} <<\n",
      " \t>> ACT-R PARAMETERS: {'v': None, 'seed': 'nil', 'ans': 0.2, 'lf': 1, 'bll': 0.5, 'mas': 2, 'egs': 0.2, 'alpha': 0.7, 'imaginal-activation': 1.0} <<\n",
      "\n"
     ]
    },
    {
     "name": "stderr",
     "output_type": "stream",
     "text": [
      "\n",
      "100%|██████████| 1/1 [00:00<00:00,  3.08it/s]\u001b[A\n",
      "\n",
      "  0%|          | 0/1 [00:00<?, ?it/s]\u001b[A"
     ]
    },
    {
     "name": "stdout",
     "output_type": "stream",
     "text": [
      "######### SETUP MODEL markov-model2 #########\n",
      " \t>> TASK PARAMETERS: {'MARKOV_PROBABILITY': 0.7, 'REWARD_PROBABILITY': {'B1': 0.26, 'B2': 0.57, 'C1': 0.41, 'C2': 0.28}, 'REWARD': {'B1': 5, 'B2': 5, 'C1': 5, 'C2': 5}, 'RANDOM_WALK': True, 'M': 0.5} <<\n",
      " \t>> ACT-R PARAMETERS: {'v': None, 'seed': 'nil', 'ans': 0.2, 'lf': 1, 'bll': 0.5, 'mas': 2, 'egs': 0.2, 'alpha': 0.7, 'imaginal-activation': 1.0} <<\n",
      "\n"
     ]
    },
    {
     "name": "stderr",
     "output_type": "stream",
     "text": [
      "\n",
      "100%|██████████| 1/1 [00:00<00:00,  3.23it/s]\u001b[A\n",
      "\n",
      "  0%|          | 0/1 [00:00<?, ?it/s]\u001b[A"
     ]
    },
    {
     "name": "stdout",
     "output_type": "stream",
     "text": [
      "######### SETUP MODEL markov-model3 #########\n",
      " \t>> TASK PARAMETERS: {'MARKOV_PROBABILITY': 0.7, 'REWARD_PROBABILITY': {'B1': 0.26, 'B2': 0.57, 'C1': 0.41, 'C2': 0.28}, 'REWARD': {'B1': 5, 'B2': 5, 'C1': 5, 'C2': 5}, 'RANDOM_WALK': True, 'M': 0.5} <<\n",
      " \t>> ACT-R PARAMETERS: {'v': None, 'seed': 'nil', 'ans': 0.2, 'lf': 1, 'bll': 0.5, 'mas': 2, 'egs': 0.2, 'alpha': 0.7, 'imaginal-activation': 1.0} <<\n",
      "\n",
      "COMPLETE...\n"
     ]
    },
    {
     "name": "stderr",
     "output_type": "stream",
     "text": [
      "\n",
      "100%|██████████| 1/1 [00:00<00:00,  3.71it/s]\u001b[A\n",
      "\n",
      "  0%|          | 0/1 [00:00<?, ?it/s]\u001b[A"
     ]
    },
    {
     "name": "stdout",
     "output_type": "stream",
     "text": [
      "######### SETUP MODEL markov-model1 #########\n",
      " \t>> TASK PARAMETERS: {'MARKOV_PROBABILITY': 0.7, 'REWARD_PROBABILITY': {'B1': 0.26, 'B2': 0.57, 'C1': 0.41, 'C2': 0.28}, 'REWARD': {'B1': 5, 'B2': 5, 'C1': 5, 'C2': 5}, 'RANDOM_WALK': True, 'M': 0.5} <<\n",
      " \t>> ACT-R PARAMETERS: {'v': None, 'seed': 'nil', 'ans': 0.2, 'lf': 0.5, 'bll': 0.5, 'mas': 2, 'egs': 0.7, 'alpha': 0.2, 'imaginal-activation': 1.0} <<\n",
      "\n"
     ]
    },
    {
     "name": "stderr",
     "output_type": "stream",
     "text": [
      "\n",
      "100%|██████████| 1/1 [00:00<00:00,  3.55it/s]\u001b[A\n",
      "\n",
      "  0%|          | 0/1 [00:00<?, ?it/s]\u001b[A"
     ]
    },
    {
     "name": "stdout",
     "output_type": "stream",
     "text": [
      "######### SETUP MODEL markov-model2 #########\n",
      " \t>> TASK PARAMETERS: {'MARKOV_PROBABILITY': 0.7, 'REWARD_PROBABILITY': {'B1': 0.26, 'B2': 0.57, 'C1': 0.41, 'C2': 0.28}, 'REWARD': {'B1': 5, 'B2': 5, 'C1': 5, 'C2': 5}, 'RANDOM_WALK': True, 'M': 0.5} <<\n",
      " \t>> ACT-R PARAMETERS: {'v': None, 'seed': 'nil', 'ans': 0.2, 'lf': 0.5, 'bll': 0.5, 'mas': 2, 'egs': 0.7, 'alpha': 0.2, 'imaginal-activation': 1.0} <<\n",
      "\n"
     ]
    },
    {
     "name": "stderr",
     "output_type": "stream",
     "text": [
      "\n",
      "100%|██████████| 1/1 [00:00<00:00,  3.64it/s]\u001b[A\n",
      "\n",
      "  0%|          | 0/1 [00:00<?, ?it/s]\u001b[A"
     ]
    },
    {
     "name": "stdout",
     "output_type": "stream",
     "text": [
      "######### SETUP MODEL markov-model3 #########\n",
      " \t>> TASK PARAMETERS: {'MARKOV_PROBABILITY': 0.7, 'REWARD_PROBABILITY': {'B1': 0.26, 'B2': 0.57, 'C1': 0.41, 'C2': 0.28}, 'REWARD': {'B1': 5, 'B2': 5, 'C1': 5, 'C2': 5}, 'RANDOM_WALK': True, 'M': 0.5} <<\n",
      " \t>> ACT-R PARAMETERS: {'v': None, 'seed': 'nil', 'ans': 0.2, 'lf': 0.5, 'bll': 0.5, 'mas': 2, 'egs': 0.7, 'alpha': 0.2, 'imaginal-activation': 1.0} <<\n",
      "\n",
      "COMPLETE...\n"
     ]
    },
    {
     "name": "stderr",
     "output_type": "stream",
     "text": [
      "\n",
      "100%|██████████| 1/1 [00:00<00:00,  3.73it/s]\u001b[A\n",
      "\n",
      "  0%|          | 0/1 [00:00<?, ?it/s]\u001b[A"
     ]
    },
    {
     "name": "stdout",
     "output_type": "stream",
     "text": [
      "######### SETUP MODEL markov-model1 #########\n",
      " \t>> TASK PARAMETERS: {'MARKOV_PROBABILITY': 0.7, 'REWARD_PROBABILITY': {'B1': 0.26, 'B2': 0.57, 'C1': 0.41, 'C2': 0.28}, 'REWARD': {'B1': 5, 'B2': 5, 'C1': 5, 'C2': 5}, 'RANDOM_WALK': True, 'M': 0.5} <<\n",
      " \t>> ACT-R PARAMETERS: {'v': None, 'seed': 'nil', 'ans': 0.2, 'lf': 1, 'bll': 0.5, 'mas': 2, 'egs': 0.7, 'alpha': 0.2, 'imaginal-activation': 1.0} <<\n",
      "\n"
     ]
    },
    {
     "name": "stderr",
     "output_type": "stream",
     "text": [
      "\n",
      "100%|██████████| 1/1 [00:00<00:00,  3.31it/s]\u001b[A\n",
      "\n",
      "  0%|          | 0/1 [00:00<?, ?it/s]\u001b[A"
     ]
    },
    {
     "name": "stdout",
     "output_type": "stream",
     "text": [
      "######### SETUP MODEL markov-model2 #########\n",
      " \t>> TASK PARAMETERS: {'MARKOV_PROBABILITY': 0.7, 'REWARD_PROBABILITY': {'B1': 0.26, 'B2': 0.57, 'C1': 0.41, 'C2': 0.28}, 'REWARD': {'B1': 5, 'B2': 5, 'C1': 5, 'C2': 5}, 'RANDOM_WALK': True, 'M': 0.5} <<\n",
      " \t>> ACT-R PARAMETERS: {'v': None, 'seed': 'nil', 'ans': 0.2, 'lf': 1, 'bll': 0.5, 'mas': 2, 'egs': 0.7, 'alpha': 0.2, 'imaginal-activation': 1.0} <<\n",
      "\n"
     ]
    },
    {
     "name": "stderr",
     "output_type": "stream",
     "text": [
      "\n",
      "100%|██████████| 1/1 [00:00<00:00,  3.37it/s]\u001b[A\n",
      "\n",
      "  0%|          | 0/1 [00:00<?, ?it/s]\u001b[A"
     ]
    },
    {
     "name": "stdout",
     "output_type": "stream",
     "text": [
      "######### SETUP MODEL markov-model3 #########\n",
      " \t>> TASK PARAMETERS: {'MARKOV_PROBABILITY': 0.7, 'REWARD_PROBABILITY': {'B1': 0.26, 'B2': 0.57, 'C1': 0.41, 'C2': 0.28}, 'REWARD': {'B1': 5, 'B2': 5, 'C1': 5, 'C2': 5}, 'RANDOM_WALK': True, 'M': 0.5} <<\n",
      " \t>> ACT-R PARAMETERS: {'v': None, 'seed': 'nil', 'ans': 0.2, 'lf': 1, 'bll': 0.5, 'mas': 2, 'egs': 0.7, 'alpha': 0.2, 'imaginal-activation': 1.0} <<\n",
      "\n",
      "COMPLETE...\n"
     ]
    },
    {
     "name": "stderr",
     "output_type": "stream",
     "text": [
      "\n",
      "100%|██████████| 1/1 [00:00<00:00,  3.59it/s]\u001b[A\n",
      "\n",
      "  0%|          | 0/1 [00:00<?, ?it/s]\u001b[A"
     ]
    },
    {
     "name": "stdout",
     "output_type": "stream",
     "text": [
      "######### SETUP MODEL markov-model1 #########\n",
      " \t>> TASK PARAMETERS: {'MARKOV_PROBABILITY': 0.7, 'REWARD_PROBABILITY': {'B1': 0.26, 'B2': 0.57, 'C1': 0.41, 'C2': 0.28}, 'REWARD': {'B1': 5, 'B2': 5, 'C1': 5, 'C2': 5}, 'RANDOM_WALK': True, 'M': 0.5} <<\n",
      " \t>> ACT-R PARAMETERS: {'v': None, 'seed': 'nil', 'ans': 0.2, 'lf': 0.5, 'bll': 0.5, 'mas': 2, 'egs': 0.7, 'alpha': 0.7, 'imaginal-activation': 1.0} <<\n",
      "\n"
     ]
    },
    {
     "name": "stderr",
     "output_type": "stream",
     "text": [
      "\n",
      "100%|██████████| 1/1 [00:00<00:00,  3.28it/s]\u001b[A\n",
      "\n",
      "  0%|          | 0/1 [00:00<?, ?it/s]\u001b[A"
     ]
    },
    {
     "name": "stdout",
     "output_type": "stream",
     "text": [
      "######### SETUP MODEL markov-model2 #########\n",
      " \t>> TASK PARAMETERS: {'MARKOV_PROBABILITY': 0.7, 'REWARD_PROBABILITY': {'B1': 0.26, 'B2': 0.57, 'C1': 0.41, 'C2': 0.28}, 'REWARD': {'B1': 5, 'B2': 5, 'C1': 5, 'C2': 5}, 'RANDOM_WALK': True, 'M': 0.5} <<\n",
      " \t>> ACT-R PARAMETERS: {'v': None, 'seed': 'nil', 'ans': 0.2, 'lf': 0.5, 'bll': 0.5, 'mas': 2, 'egs': 0.7, 'alpha': 0.7, 'imaginal-activation': 1.0} <<\n",
      "\n"
     ]
    },
    {
     "name": "stderr",
     "output_type": "stream",
     "text": [
      "\n",
      "100%|██████████| 1/1 [00:00<00:00,  3.31it/s]\u001b[A\n",
      "\n",
      "  0%|          | 0/1 [00:00<?, ?it/s]\u001b[A"
     ]
    },
    {
     "name": "stdout",
     "output_type": "stream",
     "text": [
      "######### SETUP MODEL markov-model3 #########\n",
      " \t>> TASK PARAMETERS: {'MARKOV_PROBABILITY': 0.7, 'REWARD_PROBABILITY': {'B1': 0.26, 'B2': 0.57, 'C1': 0.41, 'C2': 0.28}, 'REWARD': {'B1': 5, 'B2': 5, 'C1': 5, 'C2': 5}, 'RANDOM_WALK': True, 'M': 0.5} <<\n",
      " \t>> ACT-R PARAMETERS: {'v': None, 'seed': 'nil', 'ans': 0.2, 'lf': 0.5, 'bll': 0.5, 'mas': 2, 'egs': 0.7, 'alpha': 0.7, 'imaginal-activation': 1.0} <<\n",
      "\n",
      "COMPLETE...\n"
     ]
    },
    {
     "name": "stderr",
     "output_type": "stream",
     "text": [
      "\n",
      "100%|██████████| 1/1 [00:00<00:00,  3.54it/s]\u001b[A\n",
      "\n",
      "  0%|          | 0/1 [00:00<?, ?it/s]\u001b[A"
     ]
    },
    {
     "name": "stdout",
     "output_type": "stream",
     "text": [
      "######### SETUP MODEL markov-model1 #########\n",
      " \t>> TASK PARAMETERS: {'MARKOV_PROBABILITY': 0.7, 'REWARD_PROBABILITY': {'B1': 0.26, 'B2': 0.57, 'C1': 0.41, 'C2': 0.28}, 'REWARD': {'B1': 5, 'B2': 5, 'C1': 5, 'C2': 5}, 'RANDOM_WALK': True, 'M': 0.5} <<\n",
      " \t>> ACT-R PARAMETERS: {'v': None, 'seed': 'nil', 'ans': 0.2, 'lf': 1, 'bll': 0.5, 'mas': 2, 'egs': 0.7, 'alpha': 0.7, 'imaginal-activation': 1.0} <<\n",
      "\n"
     ]
    },
    {
     "name": "stderr",
     "output_type": "stream",
     "text": [
      "\n",
      "100%|██████████| 1/1 [00:00<00:00,  3.40it/s]\u001b[A\n",
      "\n",
      "  0%|          | 0/1 [00:00<?, ?it/s]\u001b[A"
     ]
    },
    {
     "name": "stdout",
     "output_type": "stream",
     "text": [
      "######### SETUP MODEL markov-model2 #########\n",
      " \t>> TASK PARAMETERS: {'MARKOV_PROBABILITY': 0.7, 'REWARD_PROBABILITY': {'B1': 0.26, 'B2': 0.57, 'C1': 0.41, 'C2': 0.28}, 'REWARD': {'B1': 5, 'B2': 5, 'C1': 5, 'C2': 5}, 'RANDOM_WALK': True, 'M': 0.5} <<\n",
      " \t>> ACT-R PARAMETERS: {'v': None, 'seed': 'nil', 'ans': 0.2, 'lf': 1, 'bll': 0.5, 'mas': 2, 'egs': 0.7, 'alpha': 0.7, 'imaginal-activation': 1.0} <<\n",
      "\n"
     ]
    },
    {
     "name": "stderr",
     "output_type": "stream",
     "text": [
      "\n",
      "100%|██████████| 1/1 [00:00<00:00,  3.40it/s]\u001b[A\n",
      "\n",
      "  0%|          | 0/1 [00:00<?, ?it/s]\u001b[A"
     ]
    },
    {
     "name": "stdout",
     "output_type": "stream",
     "text": [
      "######### SETUP MODEL markov-model3 #########\n",
      " \t>> TASK PARAMETERS: {'MARKOV_PROBABILITY': 0.7, 'REWARD_PROBABILITY': {'B1': 0.26, 'B2': 0.57, 'C1': 0.41, 'C2': 0.28}, 'REWARD': {'B1': 5, 'B2': 5, 'C1': 5, 'C2': 5}, 'RANDOM_WALK': True, 'M': 0.5} <<\n",
      " \t>> ACT-R PARAMETERS: {'v': None, 'seed': 'nil', 'ans': 0.2, 'lf': 1, 'bll': 0.5, 'mas': 2, 'egs': 0.7, 'alpha': 0.7, 'imaginal-activation': 1.0} <<\n",
      "\n",
      "COMPLETE...\n"
     ]
    },
    {
     "name": "stderr",
     "output_type": "stream",
     "text": [
      "\n",
      "100%|██████████| 1/1 [00:00<00:00,  3.61it/s]\u001b[A\n",
      "\n",
      "  0%|          | 0/1 [00:00<?, ?it/s]\u001b[A"
     ]
    },
    {
     "name": "stdout",
     "output_type": "stream",
     "text": [
      "######### SETUP MODEL markov-model1 #########\n",
      " \t>> TASK PARAMETERS: {'MARKOV_PROBABILITY': 0.7, 'REWARD_PROBABILITY': {'B1': 0.26, 'B2': 0.57, 'C1': 0.41, 'C2': 0.28}, 'REWARD': {'B1': 5, 'B2': 5, 'C1': 5, 'C2': 5}, 'RANDOM_WALK': True, 'M': 0.5} <<\n",
      " \t>> ACT-R PARAMETERS: {'v': None, 'seed': 'nil', 'ans': 0.7, 'lf': 0.5, 'bll': 0.5, 'mas': 2, 'egs': 0.2, 'alpha': 0.2, 'imaginal-activation': 1.0} <<\n",
      "\n"
     ]
    },
    {
     "name": "stderr",
     "output_type": "stream",
     "text": [
      "\n",
      "100%|██████████| 1/1 [00:00<00:00,  2.30it/s]\u001b[A\n",
      "\n",
      "  0%|          | 0/1 [00:00<?, ?it/s]\u001b[A"
     ]
    },
    {
     "name": "stdout",
     "output_type": "stream",
     "text": [
      "######### SETUP MODEL markov-model2 #########\n",
      " \t>> TASK PARAMETERS: {'MARKOV_PROBABILITY': 0.7, 'REWARD_PROBABILITY': {'B1': 0.26, 'B2': 0.57, 'C1': 0.41, 'C2': 0.28}, 'REWARD': {'B1': 5, 'B2': 5, 'C1': 5, 'C2': 5}, 'RANDOM_WALK': True, 'M': 0.5} <<\n",
      " \t>> ACT-R PARAMETERS: {'v': None, 'seed': 'nil', 'ans': 0.7, 'lf': 0.5, 'bll': 0.5, 'mas': 2, 'egs': 0.2, 'alpha': 0.2, 'imaginal-activation': 1.0} <<\n",
      "\n"
     ]
    },
    {
     "name": "stderr",
     "output_type": "stream",
     "text": [
      "\n",
      "100%|██████████| 1/1 [00:00<00:00,  3.34it/s]\u001b[A\n",
      "\n",
      "  0%|          | 0/1 [00:00<?, ?it/s]\u001b[A"
     ]
    },
    {
     "name": "stdout",
     "output_type": "stream",
     "text": [
      "######### SETUP MODEL markov-model3 #########\n",
      " \t>> TASK PARAMETERS: {'MARKOV_PROBABILITY': 0.7, 'REWARD_PROBABILITY': {'B1': 0.26, 'B2': 0.57, 'C1': 0.41, 'C2': 0.28}, 'REWARD': {'B1': 5, 'B2': 5, 'C1': 5, 'C2': 5}, 'RANDOM_WALK': True, 'M': 0.5} <<\n",
      " \t>> ACT-R PARAMETERS: {'v': None, 'seed': 'nil', 'ans': 0.7, 'lf': 0.5, 'bll': 0.5, 'mas': 2, 'egs': 0.2, 'alpha': 0.2, 'imaginal-activation': 1.0} <<\n",
      "\n",
      "COMPLETE...\n"
     ]
    },
    {
     "name": "stderr",
     "output_type": "stream",
     "text": [
      "\n",
      "100%|██████████| 1/1 [00:00<00:00,  3.86it/s]\u001b[A\n",
      "\n",
      "  0%|          | 0/1 [00:00<?, ?it/s]\u001b[A"
     ]
    },
    {
     "name": "stdout",
     "output_type": "stream",
     "text": [
      "######### SETUP MODEL markov-model1 #########\n",
      " \t>> TASK PARAMETERS: {'MARKOV_PROBABILITY': 0.7, 'REWARD_PROBABILITY': {'B1': 0.26, 'B2': 0.57, 'C1': 0.41, 'C2': 0.28}, 'REWARD': {'B1': 5, 'B2': 5, 'C1': 5, 'C2': 5}, 'RANDOM_WALK': True, 'M': 0.5} <<\n",
      " \t>> ACT-R PARAMETERS: {'v': None, 'seed': 'nil', 'ans': 0.7, 'lf': 1, 'bll': 0.5, 'mas': 2, 'egs': 0.2, 'alpha': 0.2, 'imaginal-activation': 1.0} <<\n",
      "\n"
     ]
    },
    {
     "name": "stderr",
     "output_type": "stream",
     "text": [
      "\n",
      "100%|██████████| 1/1 [00:00<00:00,  2.45it/s]\u001b[A\n",
      "\n",
      "  0%|          | 0/1 [00:00<?, ?it/s]\u001b[A"
     ]
    },
    {
     "name": "stdout",
     "output_type": "stream",
     "text": [
      "######### SETUP MODEL markov-model2 #########\n",
      " \t>> TASK PARAMETERS: {'MARKOV_PROBABILITY': 0.7, 'REWARD_PROBABILITY': {'B1': 0.26, 'B2': 0.57, 'C1': 0.41, 'C2': 0.28}, 'REWARD': {'B1': 5, 'B2': 5, 'C1': 5, 'C2': 5}, 'RANDOM_WALK': True, 'M': 0.5} <<\n",
      " \t>> ACT-R PARAMETERS: {'v': None, 'seed': 'nil', 'ans': 0.7, 'lf': 1, 'bll': 0.5, 'mas': 2, 'egs': 0.2, 'alpha': 0.2, 'imaginal-activation': 1.0} <<\n",
      "\n"
     ]
    },
    {
     "name": "stderr",
     "output_type": "stream",
     "text": [
      "\n",
      "100%|██████████| 1/1 [00:00<00:00,  3.38it/s]\u001b[A\n",
      "\n",
      "  0%|          | 0/1 [00:00<?, ?it/s]\u001b[A"
     ]
    },
    {
     "name": "stdout",
     "output_type": "stream",
     "text": [
      "######### SETUP MODEL markov-model3 #########\n",
      " \t>> TASK PARAMETERS: {'MARKOV_PROBABILITY': 0.7, 'REWARD_PROBABILITY': {'B1': 0.26, 'B2': 0.57, 'C1': 0.41, 'C2': 0.28}, 'REWARD': {'B1': 5, 'B2': 5, 'C1': 5, 'C2': 5}, 'RANDOM_WALK': True, 'M': 0.5} <<\n",
      " \t>> ACT-R PARAMETERS: {'v': None, 'seed': 'nil', 'ans': 0.7, 'lf': 1, 'bll': 0.5, 'mas': 2, 'egs': 0.2, 'alpha': 0.2, 'imaginal-activation': 1.0} <<\n",
      "\n",
      "COMPLETE...\n"
     ]
    },
    {
     "name": "stderr",
     "output_type": "stream",
     "text": [
      "\n",
      "100%|██████████| 1/1 [00:00<00:00,  3.59it/s]\u001b[A\n",
      "\n",
      "  0%|          | 0/1 [00:00<?, ?it/s]\u001b[A"
     ]
    },
    {
     "name": "stdout",
     "output_type": "stream",
     "text": [
      "######### SETUP MODEL markov-model1 #########\n",
      " \t>> TASK PARAMETERS: {'MARKOV_PROBABILITY': 0.7, 'REWARD_PROBABILITY': {'B1': 0.26, 'B2': 0.57, 'C1': 0.41, 'C2': 0.28}, 'REWARD': {'B1': 5, 'B2': 5, 'C1': 5, 'C2': 5}, 'RANDOM_WALK': True, 'M': 0.5} <<\n",
      " \t>> ACT-R PARAMETERS: {'v': None, 'seed': 'nil', 'ans': 0.7, 'lf': 0.5, 'bll': 0.5, 'mas': 2, 'egs': 0.2, 'alpha': 0.7, 'imaginal-activation': 1.0} <<\n",
      "\n"
     ]
    },
    {
     "name": "stderr",
     "output_type": "stream",
     "text": [
      "\n",
      "100%|██████████| 1/1 [00:00<00:00,  1.87it/s]\u001b[A\n",
      "\n",
      "  0%|          | 0/1 [00:00<?, ?it/s]\u001b[A"
     ]
    },
    {
     "name": "stdout",
     "output_type": "stream",
     "text": [
      "######### SETUP MODEL markov-model2 #########\n",
      " \t>> TASK PARAMETERS: {'MARKOV_PROBABILITY': 0.7, 'REWARD_PROBABILITY': {'B1': 0.26, 'B2': 0.57, 'C1': 0.41, 'C2': 0.28}, 'REWARD': {'B1': 5, 'B2': 5, 'C1': 5, 'C2': 5}, 'RANDOM_WALK': True, 'M': 0.5} <<\n",
      " \t>> ACT-R PARAMETERS: {'v': None, 'seed': 'nil', 'ans': 0.7, 'lf': 0.5, 'bll': 0.5, 'mas': 2, 'egs': 0.2, 'alpha': 0.7, 'imaginal-activation': 1.0} <<\n",
      "\n"
     ]
    },
    {
     "name": "stderr",
     "output_type": "stream",
     "text": [
      "\n",
      "100%|██████████| 1/1 [00:00<00:00,  3.57it/s]\u001b[A\n",
      "\n",
      "  0%|          | 0/1 [00:00<?, ?it/s]\u001b[A"
     ]
    },
    {
     "name": "stdout",
     "output_type": "stream",
     "text": [
      "######### SETUP MODEL markov-model3 #########\n",
      " \t>> TASK PARAMETERS: {'MARKOV_PROBABILITY': 0.7, 'REWARD_PROBABILITY': {'B1': 0.26, 'B2': 0.57, 'C1': 0.41, 'C2': 0.28}, 'REWARD': {'B1': 5, 'B2': 5, 'C1': 5, 'C2': 5}, 'RANDOM_WALK': True, 'M': 0.5} <<\n",
      " \t>> ACT-R PARAMETERS: {'v': None, 'seed': 'nil', 'ans': 0.7, 'lf': 0.5, 'bll': 0.5, 'mas': 2, 'egs': 0.2, 'alpha': 0.7, 'imaginal-activation': 1.0} <<\n",
      "\n",
      "COMPLETE...\n"
     ]
    },
    {
     "name": "stderr",
     "output_type": "stream",
     "text": [
      "\n",
      "100%|██████████| 1/1 [00:00<00:00,  3.88it/s]\u001b[A\n",
      "\n",
      "  0%|          | 0/1 [00:00<?, ?it/s]\u001b[A"
     ]
    },
    {
     "name": "stdout",
     "output_type": "stream",
     "text": [
      "######### SETUP MODEL markov-model1 #########\n",
      " \t>> TASK PARAMETERS: {'MARKOV_PROBABILITY': 0.7, 'REWARD_PROBABILITY': {'B1': 0.26, 'B2': 0.57, 'C1': 0.41, 'C2': 0.28}, 'REWARD': {'B1': 5, 'B2': 5, 'C1': 5, 'C2': 5}, 'RANDOM_WALK': True, 'M': 0.5} <<\n",
      " \t>> ACT-R PARAMETERS: {'v': None, 'seed': 'nil', 'ans': 0.7, 'lf': 1, 'bll': 0.5, 'mas': 2, 'egs': 0.2, 'alpha': 0.7, 'imaginal-activation': 1.0} <<\n",
      "\n"
     ]
    },
    {
     "name": "stderr",
     "output_type": "stream",
     "text": [
      "\n",
      "100%|██████████| 1/1 [00:00<00:00,  1.71it/s]\u001b[A\n",
      "\n",
      "  0%|          | 0/1 [00:00<?, ?it/s]\u001b[A"
     ]
    },
    {
     "name": "stdout",
     "output_type": "stream",
     "text": [
      "######### SETUP MODEL markov-model2 #########\n",
      " \t>> TASK PARAMETERS: {'MARKOV_PROBABILITY': 0.7, 'REWARD_PROBABILITY': {'B1': 0.26, 'B2': 0.57, 'C1': 0.41, 'C2': 0.28}, 'REWARD': {'B1': 5, 'B2': 5, 'C1': 5, 'C2': 5}, 'RANDOM_WALK': True, 'M': 0.5} <<\n",
      " \t>> ACT-R PARAMETERS: {'v': None, 'seed': 'nil', 'ans': 0.7, 'lf': 1, 'bll': 0.5, 'mas': 2, 'egs': 0.2, 'alpha': 0.7, 'imaginal-activation': 1.0} <<\n",
      "\n"
     ]
    },
    {
     "name": "stderr",
     "output_type": "stream",
     "text": [
      "\n",
      "100%|██████████| 1/1 [00:00<00:00,  3.66it/s]\u001b[A\n",
      "\n",
      "  0%|          | 0/1 [00:00<?, ?it/s]\u001b[A"
     ]
    },
    {
     "name": "stdout",
     "output_type": "stream",
     "text": [
      "######### SETUP MODEL markov-model3 #########\n",
      " \t>> TASK PARAMETERS: {'MARKOV_PROBABILITY': 0.7, 'REWARD_PROBABILITY': {'B1': 0.26, 'B2': 0.57, 'C1': 0.41, 'C2': 0.28}, 'REWARD': {'B1': 5, 'B2': 5, 'C1': 5, 'C2': 5}, 'RANDOM_WALK': True, 'M': 0.5} <<\n",
      " \t>> ACT-R PARAMETERS: {'v': None, 'seed': 'nil', 'ans': 0.7, 'lf': 1, 'bll': 0.5, 'mas': 2, 'egs': 0.2, 'alpha': 0.7, 'imaginal-activation': 1.0} <<\n",
      "\n",
      "COMPLETE...\n"
     ]
    },
    {
     "name": "stderr",
     "output_type": "stream",
     "text": [
      "\n",
      "100%|██████████| 1/1 [00:00<00:00,  3.86it/s]\u001b[A\n",
      "\n",
      "  0%|          | 0/1 [00:00<?, ?it/s]\u001b[A"
     ]
    },
    {
     "name": "stdout",
     "output_type": "stream",
     "text": [
      "######### SETUP MODEL markov-model1 #########\n",
      " \t>> TASK PARAMETERS: {'MARKOV_PROBABILITY': 0.7, 'REWARD_PROBABILITY': {'B1': 0.26, 'B2': 0.57, 'C1': 0.41, 'C2': 0.28}, 'REWARD': {'B1': 5, 'B2': 5, 'C1': 5, 'C2': 5}, 'RANDOM_WALK': True, 'M': 0.5} <<\n",
      " \t>> ACT-R PARAMETERS: {'v': None, 'seed': 'nil', 'ans': 0.7, 'lf': 0.5, 'bll': 0.5, 'mas': 2, 'egs': 0.7, 'alpha': 0.2, 'imaginal-activation': 1.0} <<\n",
      "\n"
     ]
    },
    {
     "name": "stderr",
     "output_type": "stream",
     "text": [
      "\n",
      "100%|██████████| 1/1 [00:00<00:00,  3.90it/s]\u001b[A\n",
      "\n",
      "  0%|          | 0/1 [00:00<?, ?it/s]\u001b[A"
     ]
    },
    {
     "name": "stdout",
     "output_type": "stream",
     "text": [
      "######### SETUP MODEL markov-model2 #########\n",
      " \t>> TASK PARAMETERS: {'MARKOV_PROBABILITY': 0.7, 'REWARD_PROBABILITY': {'B1': 0.26, 'B2': 0.57, 'C1': 0.41, 'C2': 0.28}, 'REWARD': {'B1': 5, 'B2': 5, 'C1': 5, 'C2': 5}, 'RANDOM_WALK': True, 'M': 0.5} <<\n",
      " \t>> ACT-R PARAMETERS: {'v': None, 'seed': 'nil', 'ans': 0.7, 'lf': 0.5, 'bll': 0.5, 'mas': 2, 'egs': 0.7, 'alpha': 0.2, 'imaginal-activation': 1.0} <<\n",
      "\n"
     ]
    },
    {
     "name": "stderr",
     "output_type": "stream",
     "text": [
      "\n",
      "100%|██████████| 1/1 [00:00<00:00,  3.53it/s]\u001b[A\n",
      "\n",
      "  0%|          | 0/1 [00:00<?, ?it/s]\u001b[A"
     ]
    },
    {
     "name": "stdout",
     "output_type": "stream",
     "text": [
      "######### SETUP MODEL markov-model3 #########\n",
      " \t>> TASK PARAMETERS: {'MARKOV_PROBABILITY': 0.7, 'REWARD_PROBABILITY': {'B1': 0.26, 'B2': 0.57, 'C1': 0.41, 'C2': 0.28}, 'REWARD': {'B1': 5, 'B2': 5, 'C1': 5, 'C2': 5}, 'RANDOM_WALK': True, 'M': 0.5} <<\n",
      " \t>> ACT-R PARAMETERS: {'v': None, 'seed': 'nil', 'ans': 0.7, 'lf': 0.5, 'bll': 0.5, 'mas': 2, 'egs': 0.7, 'alpha': 0.2, 'imaginal-activation': 1.0} <<\n",
      "\n",
      "COMPLETE...\n"
     ]
    },
    {
     "name": "stderr",
     "output_type": "stream",
     "text": [
      "\n",
      "100%|██████████| 1/1 [00:00<00:00,  3.93it/s]\u001b[A\n",
      "\n",
      "  0%|          | 0/1 [00:00<?, ?it/s]\u001b[A"
     ]
    },
    {
     "name": "stdout",
     "output_type": "stream",
     "text": [
      "######### SETUP MODEL markov-model1 #########\n",
      " \t>> TASK PARAMETERS: {'MARKOV_PROBABILITY': 0.7, 'REWARD_PROBABILITY': {'B1': 0.26, 'B2': 0.57, 'C1': 0.41, 'C2': 0.28}, 'REWARD': {'B1': 5, 'B2': 5, 'C1': 5, 'C2': 5}, 'RANDOM_WALK': True, 'M': 0.5} <<\n",
      " \t>> ACT-R PARAMETERS: {'v': None, 'seed': 'nil', 'ans': 0.7, 'lf': 1, 'bll': 0.5, 'mas': 2, 'egs': 0.7, 'alpha': 0.2, 'imaginal-activation': 1.0} <<\n",
      "\n"
     ]
    },
    {
     "name": "stderr",
     "output_type": "stream",
     "text": [
      "\n",
      "100%|██████████| 1/1 [00:00<00:00,  3.81it/s]\u001b[A\n",
      "\n",
      "  0%|          | 0/1 [00:00<?, ?it/s]\u001b[A"
     ]
    },
    {
     "name": "stdout",
     "output_type": "stream",
     "text": [
      "######### SETUP MODEL markov-model2 #########\n",
      " \t>> TASK PARAMETERS: {'MARKOV_PROBABILITY': 0.7, 'REWARD_PROBABILITY': {'B1': 0.26, 'B2': 0.57, 'C1': 0.41, 'C2': 0.28}, 'REWARD': {'B1': 5, 'B2': 5, 'C1': 5, 'C2': 5}, 'RANDOM_WALK': True, 'M': 0.5} <<\n",
      " \t>> ACT-R PARAMETERS: {'v': None, 'seed': 'nil', 'ans': 0.7, 'lf': 1, 'bll': 0.5, 'mas': 2, 'egs': 0.7, 'alpha': 0.2, 'imaginal-activation': 1.0} <<\n",
      "\n"
     ]
    },
    {
     "name": "stderr",
     "output_type": "stream",
     "text": [
      "\n",
      "100%|██████████| 1/1 [00:00<00:00,  3.60it/s]\u001b[A\n",
      "\n",
      "  0%|          | 0/1 [00:00<?, ?it/s]\u001b[A"
     ]
    },
    {
     "name": "stdout",
     "output_type": "stream",
     "text": [
      "######### SETUP MODEL markov-model3 #########\n",
      " \t>> TASK PARAMETERS: {'MARKOV_PROBABILITY': 0.7, 'REWARD_PROBABILITY': {'B1': 0.26, 'B2': 0.57, 'C1': 0.41, 'C2': 0.28}, 'REWARD': {'B1': 5, 'B2': 5, 'C1': 5, 'C2': 5}, 'RANDOM_WALK': True, 'M': 0.5} <<\n",
      " \t>> ACT-R PARAMETERS: {'v': None, 'seed': 'nil', 'ans': 0.7, 'lf': 1, 'bll': 0.5, 'mas': 2, 'egs': 0.7, 'alpha': 0.2, 'imaginal-activation': 1.0} <<\n",
      "\n",
      "COMPLETE...\n"
     ]
    },
    {
     "name": "stderr",
     "output_type": "stream",
     "text": [
      "\n",
      "100%|██████████| 1/1 [00:00<00:00,  3.83it/s]\u001b[A\n",
      "\n",
      "  0%|          | 0/1 [00:00<?, ?it/s]\u001b[A"
     ]
    },
    {
     "name": "stdout",
     "output_type": "stream",
     "text": [
      "######### SETUP MODEL markov-model1 #########\n",
      " \t>> TASK PARAMETERS: {'MARKOV_PROBABILITY': 0.7, 'REWARD_PROBABILITY': {'B1': 0.26, 'B2': 0.57, 'C1': 0.41, 'C2': 0.28}, 'REWARD': {'B1': 5, 'B2': 5, 'C1': 5, 'C2': 5}, 'RANDOM_WALK': True, 'M': 0.5} <<\n",
      " \t>> ACT-R PARAMETERS: {'v': None, 'seed': 'nil', 'ans': 0.7, 'lf': 0.5, 'bll': 0.5, 'mas': 2, 'egs': 0.7, 'alpha': 0.7, 'imaginal-activation': 1.0} <<\n",
      "\n"
     ]
    },
    {
     "name": "stderr",
     "output_type": "stream",
     "text": [
      "\n",
      "100%|██████████| 1/1 [00:00<00:00,  3.39it/s]\u001b[A\n",
      "\n",
      "  0%|          | 0/1 [00:00<?, ?it/s]\u001b[A"
     ]
    },
    {
     "name": "stdout",
     "output_type": "stream",
     "text": [
      "######### SETUP MODEL markov-model2 #########\n",
      " \t>> TASK PARAMETERS: {'MARKOV_PROBABILITY': 0.7, 'REWARD_PROBABILITY': {'B1': 0.26, 'B2': 0.57, 'C1': 0.41, 'C2': 0.28}, 'REWARD': {'B1': 5, 'B2': 5, 'C1': 5, 'C2': 5}, 'RANDOM_WALK': True, 'M': 0.5} <<\n",
      " \t>> ACT-R PARAMETERS: {'v': None, 'seed': 'nil', 'ans': 0.7, 'lf': 0.5, 'bll': 0.5, 'mas': 2, 'egs': 0.7, 'alpha': 0.7, 'imaginal-activation': 1.0} <<\n",
      "\n"
     ]
    },
    {
     "name": "stderr",
     "output_type": "stream",
     "text": [
      "\n",
      "100%|██████████| 1/1 [00:00<00:00,  3.55it/s]\u001b[A\n",
      "\n",
      "  0%|          | 0/1 [00:00<?, ?it/s]\u001b[A"
     ]
    },
    {
     "name": "stdout",
     "output_type": "stream",
     "text": [
      "######### SETUP MODEL markov-model3 #########\n",
      " \t>> TASK PARAMETERS: {'MARKOV_PROBABILITY': 0.7, 'REWARD_PROBABILITY': {'B1': 0.26, 'B2': 0.57, 'C1': 0.41, 'C2': 0.28}, 'REWARD': {'B1': 5, 'B2': 5, 'C1': 5, 'C2': 5}, 'RANDOM_WALK': True, 'M': 0.5} <<\n",
      " \t>> ACT-R PARAMETERS: {'v': None, 'seed': 'nil', 'ans': 0.7, 'lf': 0.5, 'bll': 0.5, 'mas': 2, 'egs': 0.7, 'alpha': 0.7, 'imaginal-activation': 1.0} <<\n",
      "\n",
      "COMPLETE...\n"
     ]
    },
    {
     "name": "stderr",
     "output_type": "stream",
     "text": [
      "\n",
      "100%|██████████| 1/1 [00:00<00:00,  3.97it/s]\u001b[A\n",
      "\n",
      "  0%|          | 0/1 [00:00<?, ?it/s]\u001b[A"
     ]
    },
    {
     "name": "stdout",
     "output_type": "stream",
     "text": [
      "######### SETUP MODEL markov-model1 #########\n",
      " \t>> TASK PARAMETERS: {'MARKOV_PROBABILITY': 0.7, 'REWARD_PROBABILITY': {'B1': 0.26, 'B2': 0.57, 'C1': 0.41, 'C2': 0.28}, 'REWARD': {'B1': 5, 'B2': 5, 'C1': 5, 'C2': 5}, 'RANDOM_WALK': True, 'M': 0.5} <<\n",
      " \t>> ACT-R PARAMETERS: {'v': None, 'seed': 'nil', 'ans': 0.7, 'lf': 1, 'bll': 0.5, 'mas': 2, 'egs': 0.7, 'alpha': 0.7, 'imaginal-activation': 1.0} <<\n",
      "\n"
     ]
    },
    {
     "name": "stderr",
     "output_type": "stream",
     "text": [
      "\n",
      "100%|██████████| 1/1 [00:00<00:00,  2.02it/s]\u001b[A\n",
      "\n",
      "  0%|          | 0/1 [00:00<?, ?it/s]\u001b[A"
     ]
    },
    {
     "name": "stdout",
     "output_type": "stream",
     "text": [
      "######### SETUP MODEL markov-model2 #########\n",
      " \t>> TASK PARAMETERS: {'MARKOV_PROBABILITY': 0.7, 'REWARD_PROBABILITY': {'B1': 0.26, 'B2': 0.57, 'C1': 0.41, 'C2': 0.28}, 'REWARD': {'B1': 5, 'B2': 5, 'C1': 5, 'C2': 5}, 'RANDOM_WALK': True, 'M': 0.5} <<\n",
      " \t>> ACT-R PARAMETERS: {'v': None, 'seed': 'nil', 'ans': 0.7, 'lf': 1, 'bll': 0.5, 'mas': 2, 'egs': 0.7, 'alpha': 0.7, 'imaginal-activation': 1.0} <<\n",
      "\n"
     ]
    },
    {
     "name": "stderr",
     "output_type": "stream",
     "text": [
      "\n",
      "100%|██████████| 1/1 [00:00<00:00,  3.51it/s]\u001b[A\n",
      " 42%|████▏     | 5/12 [01:14<01:45, 15.04s/it]\n",
      "  0%|          | 0/1 [00:00<?, ?it/s]\u001b[A"
     ]
    },
    {
     "name": "stdout",
     "output_type": "stream",
     "text": [
      "######### SETUP MODEL markov-model3 #########\n",
      " \t>> TASK PARAMETERS: {'MARKOV_PROBABILITY': 0.7, 'REWARD_PROBABILITY': {'B1': 0.26, 'B2': 0.57, 'C1': 0.41, 'C2': 0.28}, 'REWARD': {'B1': 5, 'B2': 5, 'C1': 5, 'C2': 5}, 'RANDOM_WALK': True, 'M': 0.5} <<\n",
      " \t>> ACT-R PARAMETERS: {'v': None, 'seed': 'nil', 'ans': 0.7, 'lf': 1, 'bll': 0.5, 'mas': 2, 'egs': 0.7, 'alpha': 0.7, 'imaginal-activation': 1.0} <<\n",
      "\n",
      "COMPLETE...\n"
     ]
    },
    {
     "name": "stderr",
     "output_type": "stream",
     "text": [
      "\n",
      "100%|██████████| 1/1 [00:00<00:00,  3.83it/s]\u001b[A\n",
      "\n",
      "  0%|          | 0/1 [00:00<?, ?it/s]\u001b[A"
     ]
    },
    {
     "name": "stdout",
     "output_type": "stream",
     "text": [
      "######### SETUP MODEL markov-model1 #########\n",
      " \t>> TASK PARAMETERS: {'MARKOV_PROBABILITY': 0.7, 'REWARD_PROBABILITY': {'B1': 0.26, 'B2': 0.57, 'C1': 0.41, 'C2': 0.28}, 'REWARD': {'B1': 10, 'B2': 10, 'C1': 10, 'C2': 10}, 'RANDOM_WALK': True, 'M': 0.5} <<\n",
      " \t>> ACT-R PARAMETERS: {'v': None, 'seed': 'nil', 'ans': 0.2, 'lf': 0.5, 'bll': 0.5, 'mas': 2, 'egs': 0.2, 'alpha': 0.2, 'imaginal-activation': 1.0} <<\n",
      "\n"
     ]
    },
    {
     "name": "stderr",
     "output_type": "stream",
     "text": [
      "\n",
      "100%|██████████| 1/1 [00:00<00:00,  3.79it/s]\u001b[A\n",
      "\n",
      "  0%|          | 0/1 [00:00<?, ?it/s]\u001b[A"
     ]
    },
    {
     "name": "stdout",
     "output_type": "stream",
     "text": [
      "######### SETUP MODEL markov-model2 #########\n",
      " \t>> TASK PARAMETERS: {'MARKOV_PROBABILITY': 0.7, 'REWARD_PROBABILITY': {'B1': 0.26, 'B2': 0.57, 'C1': 0.41, 'C2': 0.28}, 'REWARD': {'B1': 10, 'B2': 10, 'C1': 10, 'C2': 10}, 'RANDOM_WALK': True, 'M': 0.5} <<\n",
      " \t>> ACT-R PARAMETERS: {'v': None, 'seed': 'nil', 'ans': 0.2, 'lf': 0.5, 'bll': 0.5, 'mas': 2, 'egs': 0.2, 'alpha': 0.2, 'imaginal-activation': 1.0} <<\n",
      "\n"
     ]
    },
    {
     "name": "stderr",
     "output_type": "stream",
     "text": [
      "\n",
      "100%|██████████| 1/1 [00:00<00:00,  3.44it/s]\u001b[A\n",
      "\n",
      "  0%|          | 0/1 [00:00<?, ?it/s]\u001b[A"
     ]
    },
    {
     "name": "stdout",
     "output_type": "stream",
     "text": [
      "######### SETUP MODEL markov-model3 #########\n",
      " \t>> TASK PARAMETERS: {'MARKOV_PROBABILITY': 0.7, 'REWARD_PROBABILITY': {'B1': 0.26, 'B2': 0.57, 'C1': 0.41, 'C2': 0.28}, 'REWARD': {'B1': 10, 'B2': 10, 'C1': 10, 'C2': 10}, 'RANDOM_WALK': True, 'M': 0.5} <<\n",
      " \t>> ACT-R PARAMETERS: {'v': None, 'seed': 'nil', 'ans': 0.2, 'lf': 0.5, 'bll': 0.5, 'mas': 2, 'egs': 0.2, 'alpha': 0.2, 'imaginal-activation': 1.0} <<\n",
      "\n",
      "COMPLETE...\n"
     ]
    },
    {
     "name": "stderr",
     "output_type": "stream",
     "text": [
      "\n",
      "100%|██████████| 1/1 [00:00<00:00,  4.00it/s]\u001b[A\n",
      "\n",
      "  0%|          | 0/1 [00:00<?, ?it/s]\u001b[A"
     ]
    },
    {
     "name": "stdout",
     "output_type": "stream",
     "text": [
      "######### SETUP MODEL markov-model1 #########\n",
      " \t>> TASK PARAMETERS: {'MARKOV_PROBABILITY': 0.7, 'REWARD_PROBABILITY': {'B1': 0.26, 'B2': 0.57, 'C1': 0.41, 'C2': 0.28}, 'REWARD': {'B1': 10, 'B2': 10, 'C1': 10, 'C2': 10}, 'RANDOM_WALK': True, 'M': 0.5} <<\n",
      " \t>> ACT-R PARAMETERS: {'v': None, 'seed': 'nil', 'ans': 0.2, 'lf': 1, 'bll': 0.5, 'mas': 2, 'egs': 0.2, 'alpha': 0.2, 'imaginal-activation': 1.0} <<\n",
      "\n"
     ]
    },
    {
     "name": "stderr",
     "output_type": "stream",
     "text": [
      "\n",
      "100%|██████████| 1/1 [00:00<00:00,  3.66it/s]\u001b[A\n",
      "\n",
      "  0%|          | 0/1 [00:00<?, ?it/s]\u001b[A"
     ]
    },
    {
     "name": "stdout",
     "output_type": "stream",
     "text": [
      "######### SETUP MODEL markov-model2 #########\n",
      " \t>> TASK PARAMETERS: {'MARKOV_PROBABILITY': 0.7, 'REWARD_PROBABILITY': {'B1': 0.26, 'B2': 0.57, 'C1': 0.41, 'C2': 0.28}, 'REWARD': {'B1': 10, 'B2': 10, 'C1': 10, 'C2': 10}, 'RANDOM_WALK': True, 'M': 0.5} <<\n",
      " \t>> ACT-R PARAMETERS: {'v': None, 'seed': 'nil', 'ans': 0.2, 'lf': 1, 'bll': 0.5, 'mas': 2, 'egs': 0.2, 'alpha': 0.2, 'imaginal-activation': 1.0} <<\n",
      "\n"
     ]
    },
    {
     "name": "stderr",
     "output_type": "stream",
     "text": [
      "\n",
      "100%|██████████| 1/1 [00:00<00:00,  3.47it/s]\u001b[A\n",
      "\n",
      "  0%|          | 0/1 [00:00<?, ?it/s]\u001b[A"
     ]
    },
    {
     "name": "stdout",
     "output_type": "stream",
     "text": [
      "######### SETUP MODEL markov-model3 #########\n",
      " \t>> TASK PARAMETERS: {'MARKOV_PROBABILITY': 0.7, 'REWARD_PROBABILITY': {'B1': 0.26, 'B2': 0.57, 'C1': 0.41, 'C2': 0.28}, 'REWARD': {'B1': 10, 'B2': 10, 'C1': 10, 'C2': 10}, 'RANDOM_WALK': True, 'M': 0.5} <<\n",
      " \t>> ACT-R PARAMETERS: {'v': None, 'seed': 'nil', 'ans': 0.2, 'lf': 1, 'bll': 0.5, 'mas': 2, 'egs': 0.2, 'alpha': 0.2, 'imaginal-activation': 1.0} <<\n",
      "\n",
      "COMPLETE...\n"
     ]
    },
    {
     "name": "stderr",
     "output_type": "stream",
     "text": [
      "\n",
      "100%|██████████| 1/1 [00:00<00:00,  4.05it/s]\u001b[A\n",
      "\n",
      "  0%|          | 0/1 [00:00<?, ?it/s]\u001b[A"
     ]
    },
    {
     "name": "stdout",
     "output_type": "stream",
     "text": [
      "######### SETUP MODEL markov-model1 #########\n",
      " \t>> TASK PARAMETERS: {'MARKOV_PROBABILITY': 0.7, 'REWARD_PROBABILITY': {'B1': 0.26, 'B2': 0.57, 'C1': 0.41, 'C2': 0.28}, 'REWARD': {'B1': 10, 'B2': 10, 'C1': 10, 'C2': 10}, 'RANDOM_WALK': True, 'M': 0.5} <<\n",
      " \t>> ACT-R PARAMETERS: {'v': None, 'seed': 'nil', 'ans': 0.2, 'lf': 0.5, 'bll': 0.5, 'mas': 2, 'egs': 0.2, 'alpha': 0.7, 'imaginal-activation': 1.0} <<\n",
      "\n"
     ]
    },
    {
     "name": "stderr",
     "output_type": "stream",
     "text": [
      "\n",
      "100%|██████████| 1/1 [00:00<00:00,  3.22it/s]\u001b[A\n",
      "\n",
      "  0%|          | 0/1 [00:00<?, ?it/s]\u001b[A"
     ]
    },
    {
     "name": "stdout",
     "output_type": "stream",
     "text": [
      "######### SETUP MODEL markov-model2 #########\n",
      " \t>> TASK PARAMETERS: {'MARKOV_PROBABILITY': 0.7, 'REWARD_PROBABILITY': {'B1': 0.26, 'B2': 0.57, 'C1': 0.41, 'C2': 0.28}, 'REWARD': {'B1': 10, 'B2': 10, 'C1': 10, 'C2': 10}, 'RANDOM_WALK': True, 'M': 0.5} <<\n",
      " \t>> ACT-R PARAMETERS: {'v': None, 'seed': 'nil', 'ans': 0.2, 'lf': 0.5, 'bll': 0.5, 'mas': 2, 'egs': 0.2, 'alpha': 0.7, 'imaginal-activation': 1.0} <<\n",
      "\n"
     ]
    },
    {
     "name": "stderr",
     "output_type": "stream",
     "text": [
      "\n",
      "100%|██████████| 1/1 [00:00<00:00,  3.33it/s]\u001b[A\n",
      "\n",
      "  0%|          | 0/1 [00:00<?, ?it/s]\u001b[A"
     ]
    },
    {
     "name": "stdout",
     "output_type": "stream",
     "text": [
      "######### SETUP MODEL markov-model3 #########\n",
      " \t>> TASK PARAMETERS: {'MARKOV_PROBABILITY': 0.7, 'REWARD_PROBABILITY': {'B1': 0.26, 'B2': 0.57, 'C1': 0.41, 'C2': 0.28}, 'REWARD': {'B1': 10, 'B2': 10, 'C1': 10, 'C2': 10}, 'RANDOM_WALK': True, 'M': 0.5} <<\n",
      " \t>> ACT-R PARAMETERS: {'v': None, 'seed': 'nil', 'ans': 0.2, 'lf': 0.5, 'bll': 0.5, 'mas': 2, 'egs': 0.2, 'alpha': 0.7, 'imaginal-activation': 1.0} <<\n",
      "\n",
      "COMPLETE...\n"
     ]
    },
    {
     "name": "stderr",
     "output_type": "stream",
     "text": [
      "\n",
      "100%|██████████| 1/1 [00:00<00:00,  3.33it/s]\u001b[A\n",
      "\n",
      "  0%|          | 0/1 [00:00<?, ?it/s]\u001b[A"
     ]
    },
    {
     "name": "stdout",
     "output_type": "stream",
     "text": [
      "######### SETUP MODEL markov-model1 #########\n",
      " \t>> TASK PARAMETERS: {'MARKOV_PROBABILITY': 0.7, 'REWARD_PROBABILITY': {'B1': 0.26, 'B2': 0.57, 'C1': 0.41, 'C2': 0.28}, 'REWARD': {'B1': 10, 'B2': 10, 'C1': 10, 'C2': 10}, 'RANDOM_WALK': True, 'M': 0.5} <<\n",
      " \t>> ACT-R PARAMETERS: {'v': None, 'seed': 'nil', 'ans': 0.2, 'lf': 1, 'bll': 0.5, 'mas': 2, 'egs': 0.2, 'alpha': 0.7, 'imaginal-activation': 1.0} <<\n",
      "\n"
     ]
    },
    {
     "name": "stderr",
     "output_type": "stream",
     "text": [
      "\n",
      "100%|██████████| 1/1 [00:00<00:00,  3.58it/s]\u001b[A\n",
      "\n",
      "  0%|          | 0/1 [00:00<?, ?it/s]\u001b[A"
     ]
    },
    {
     "name": "stdout",
     "output_type": "stream",
     "text": [
      "######### SETUP MODEL markov-model2 #########\n",
      " \t>> TASK PARAMETERS: {'MARKOV_PROBABILITY': 0.7, 'REWARD_PROBABILITY': {'B1': 0.26, 'B2': 0.57, 'C1': 0.41, 'C2': 0.28}, 'REWARD': {'B1': 10, 'B2': 10, 'C1': 10, 'C2': 10}, 'RANDOM_WALK': True, 'M': 0.5} <<\n",
      " \t>> ACT-R PARAMETERS: {'v': None, 'seed': 'nil', 'ans': 0.2, 'lf': 1, 'bll': 0.5, 'mas': 2, 'egs': 0.2, 'alpha': 0.7, 'imaginal-activation': 1.0} <<\n",
      "\n"
     ]
    },
    {
     "name": "stderr",
     "output_type": "stream",
     "text": [
      "\n",
      "100%|██████████| 1/1 [00:00<00:00,  2.77it/s]\u001b[A\n",
      "\n",
      "  0%|          | 0/1 [00:00<?, ?it/s]\u001b[A"
     ]
    },
    {
     "name": "stdout",
     "output_type": "stream",
     "text": [
      "######### SETUP MODEL markov-model3 #########\n",
      " \t>> TASK PARAMETERS: {'MARKOV_PROBABILITY': 0.7, 'REWARD_PROBABILITY': {'B1': 0.26, 'B2': 0.57, 'C1': 0.41, 'C2': 0.28}, 'REWARD': {'B1': 10, 'B2': 10, 'C1': 10, 'C2': 10}, 'RANDOM_WALK': True, 'M': 0.5} <<\n",
      " \t>> ACT-R PARAMETERS: {'v': None, 'seed': 'nil', 'ans': 0.2, 'lf': 1, 'bll': 0.5, 'mas': 2, 'egs': 0.2, 'alpha': 0.7, 'imaginal-activation': 1.0} <<\n",
      "\n",
      "COMPLETE...\n"
     ]
    },
    {
     "name": "stderr",
     "output_type": "stream",
     "text": [
      "\n",
      "100%|██████████| 1/1 [00:00<00:00,  3.64it/s]\u001b[A\n",
      "\n",
      "  0%|          | 0/1 [00:00<?, ?it/s]\u001b[A"
     ]
    },
    {
     "name": "stdout",
     "output_type": "stream",
     "text": [
      "######### SETUP MODEL markov-model1 #########\n",
      " \t>> TASK PARAMETERS: {'MARKOV_PROBABILITY': 0.7, 'REWARD_PROBABILITY': {'B1': 0.26, 'B2': 0.57, 'C1': 0.41, 'C2': 0.28}, 'REWARD': {'B1': 10, 'B2': 10, 'C1': 10, 'C2': 10}, 'RANDOM_WALK': True, 'M': 0.5} <<\n",
      " \t>> ACT-R PARAMETERS: {'v': None, 'seed': 'nil', 'ans': 0.2, 'lf': 0.5, 'bll': 0.5, 'mas': 2, 'egs': 0.7, 'alpha': 0.2, 'imaginal-activation': 1.0} <<\n",
      "\n"
     ]
    },
    {
     "name": "stderr",
     "output_type": "stream",
     "text": [
      "\n",
      "100%|██████████| 1/1 [00:00<00:00,  3.11it/s]\u001b[A\n",
      "\n",
      "  0%|          | 0/1 [00:00<?, ?it/s]\u001b[A"
     ]
    },
    {
     "name": "stdout",
     "output_type": "stream",
     "text": [
      "######### SETUP MODEL markov-model2 #########\n",
      " \t>> TASK PARAMETERS: {'MARKOV_PROBABILITY': 0.7, 'REWARD_PROBABILITY': {'B1': 0.26, 'B2': 0.57, 'C1': 0.41, 'C2': 0.28}, 'REWARD': {'B1': 10, 'B2': 10, 'C1': 10, 'C2': 10}, 'RANDOM_WALK': True, 'M': 0.5} <<\n",
      " \t>> ACT-R PARAMETERS: {'v': None, 'seed': 'nil', 'ans': 0.2, 'lf': 0.5, 'bll': 0.5, 'mas': 2, 'egs': 0.7, 'alpha': 0.2, 'imaginal-activation': 1.0} <<\n",
      "\n"
     ]
    },
    {
     "name": "stderr",
     "output_type": "stream",
     "text": [
      "\n",
      "100%|██████████| 1/1 [00:00<00:00,  3.07it/s]\u001b[A\n",
      "\n",
      "  0%|          | 0/1 [00:00<?, ?it/s]\u001b[A"
     ]
    },
    {
     "name": "stdout",
     "output_type": "stream",
     "text": [
      "######### SETUP MODEL markov-model3 #########\n",
      " \t>> TASK PARAMETERS: {'MARKOV_PROBABILITY': 0.7, 'REWARD_PROBABILITY': {'B1': 0.26, 'B2': 0.57, 'C1': 0.41, 'C2': 0.28}, 'REWARD': {'B1': 10, 'B2': 10, 'C1': 10, 'C2': 10}, 'RANDOM_WALK': True, 'M': 0.5} <<\n",
      " \t>> ACT-R PARAMETERS: {'v': None, 'seed': 'nil', 'ans': 0.2, 'lf': 0.5, 'bll': 0.5, 'mas': 2, 'egs': 0.7, 'alpha': 0.2, 'imaginal-activation': 1.0} <<\n",
      "\n",
      "COMPLETE...\n"
     ]
    },
    {
     "name": "stderr",
     "output_type": "stream",
     "text": [
      "\n",
      "100%|██████████| 1/1 [00:00<00:00,  3.25it/s]\u001b[A\n",
      "\n",
      "  0%|          | 0/1 [00:00<?, ?it/s]\u001b[A"
     ]
    },
    {
     "name": "stdout",
     "output_type": "stream",
     "text": [
      "######### SETUP MODEL markov-model1 #########\n",
      " \t>> TASK PARAMETERS: {'MARKOV_PROBABILITY': 0.7, 'REWARD_PROBABILITY': {'B1': 0.26, 'B2': 0.57, 'C1': 0.41, 'C2': 0.28}, 'REWARD': {'B1': 10, 'B2': 10, 'C1': 10, 'C2': 10}, 'RANDOM_WALK': True, 'M': 0.5} <<\n",
      " \t>> ACT-R PARAMETERS: {'v': None, 'seed': 'nil', 'ans': 0.2, 'lf': 1, 'bll': 0.5, 'mas': 2, 'egs': 0.7, 'alpha': 0.2, 'imaginal-activation': 1.0} <<\n",
      "\n"
     ]
    },
    {
     "name": "stderr",
     "output_type": "stream",
     "text": [
      "\n",
      "100%|██████████| 1/1 [00:00<00:00,  3.64it/s]\u001b[A\n",
      "\n",
      "  0%|          | 0/1 [00:00<?, ?it/s]\u001b[A"
     ]
    },
    {
     "name": "stdout",
     "output_type": "stream",
     "text": [
      "######### SETUP MODEL markov-model2 #########\n",
      " \t>> TASK PARAMETERS: {'MARKOV_PROBABILITY': 0.7, 'REWARD_PROBABILITY': {'B1': 0.26, 'B2': 0.57, 'C1': 0.41, 'C2': 0.28}, 'REWARD': {'B1': 10, 'B2': 10, 'C1': 10, 'C2': 10}, 'RANDOM_WALK': True, 'M': 0.5} <<\n",
      " \t>> ACT-R PARAMETERS: {'v': None, 'seed': 'nil', 'ans': 0.2, 'lf': 1, 'bll': 0.5, 'mas': 2, 'egs': 0.7, 'alpha': 0.2, 'imaginal-activation': 1.0} <<\n",
      "\n"
     ]
    },
    {
     "name": "stderr",
     "output_type": "stream",
     "text": [
      "\n",
      "100%|██████████| 1/1 [00:00<00:00,  3.28it/s]\u001b[A\n",
      "\n",
      "  0%|          | 0/1 [00:00<?, ?it/s]\u001b[A"
     ]
    },
    {
     "name": "stdout",
     "output_type": "stream",
     "text": [
      "######### SETUP MODEL markov-model3 #########\n",
      " \t>> TASK PARAMETERS: {'MARKOV_PROBABILITY': 0.7, 'REWARD_PROBABILITY': {'B1': 0.26, 'B2': 0.57, 'C1': 0.41, 'C2': 0.28}, 'REWARD': {'B1': 10, 'B2': 10, 'C1': 10, 'C2': 10}, 'RANDOM_WALK': True, 'M': 0.5} <<\n",
      " \t>> ACT-R PARAMETERS: {'v': None, 'seed': 'nil', 'ans': 0.2, 'lf': 1, 'bll': 0.5, 'mas': 2, 'egs': 0.7, 'alpha': 0.2, 'imaginal-activation': 1.0} <<\n",
      "\n",
      "COMPLETE...\n"
     ]
    },
    {
     "name": "stderr",
     "output_type": "stream",
     "text": [
      "\n",
      "100%|██████████| 1/1 [00:00<00:00,  3.60it/s]\u001b[A\n",
      "\n",
      "  0%|          | 0/1 [00:00<?, ?it/s]\u001b[A"
     ]
    },
    {
     "name": "stdout",
     "output_type": "stream",
     "text": [
      "######### SETUP MODEL markov-model1 #########\n",
      " \t>> TASK PARAMETERS: {'MARKOV_PROBABILITY': 0.7, 'REWARD_PROBABILITY': {'B1': 0.26, 'B2': 0.57, 'C1': 0.41, 'C2': 0.28}, 'REWARD': {'B1': 10, 'B2': 10, 'C1': 10, 'C2': 10}, 'RANDOM_WALK': True, 'M': 0.5} <<\n",
      " \t>> ACT-R PARAMETERS: {'v': None, 'seed': 'nil', 'ans': 0.2, 'lf': 0.5, 'bll': 0.5, 'mas': 2, 'egs': 0.7, 'alpha': 0.7, 'imaginal-activation': 1.0} <<\n",
      "\n"
     ]
    },
    {
     "name": "stderr",
     "output_type": "stream",
     "text": [
      "\n",
      "100%|██████████| 1/1 [00:00<00:00,  3.29it/s]\u001b[A\n",
      "\n",
      "  0%|          | 0/1 [00:00<?, ?it/s]\u001b[A"
     ]
    },
    {
     "name": "stdout",
     "output_type": "stream",
     "text": [
      "######### SETUP MODEL markov-model2 #########\n",
      " \t>> TASK PARAMETERS: {'MARKOV_PROBABILITY': 0.7, 'REWARD_PROBABILITY': {'B1': 0.26, 'B2': 0.57, 'C1': 0.41, 'C2': 0.28}, 'REWARD': {'B1': 10, 'B2': 10, 'C1': 10, 'C2': 10}, 'RANDOM_WALK': True, 'M': 0.5} <<\n",
      " \t>> ACT-R PARAMETERS: {'v': None, 'seed': 'nil', 'ans': 0.2, 'lf': 0.5, 'bll': 0.5, 'mas': 2, 'egs': 0.7, 'alpha': 0.7, 'imaginal-activation': 1.0} <<\n",
      "\n"
     ]
    },
    {
     "name": "stderr",
     "output_type": "stream",
     "text": [
      "\n",
      "100%|██████████| 1/1 [00:00<00:00,  3.12it/s]\u001b[A\n",
      "\n",
      "  0%|          | 0/1 [00:00<?, ?it/s]\u001b[A"
     ]
    },
    {
     "name": "stdout",
     "output_type": "stream",
     "text": [
      "######### SETUP MODEL markov-model3 #########\n",
      " \t>> TASK PARAMETERS: {'MARKOV_PROBABILITY': 0.7, 'REWARD_PROBABILITY': {'B1': 0.26, 'B2': 0.57, 'C1': 0.41, 'C2': 0.28}, 'REWARD': {'B1': 10, 'B2': 10, 'C1': 10, 'C2': 10}, 'RANDOM_WALK': True, 'M': 0.5} <<\n",
      " \t>> ACT-R PARAMETERS: {'v': None, 'seed': 'nil', 'ans': 0.2, 'lf': 0.5, 'bll': 0.5, 'mas': 2, 'egs': 0.7, 'alpha': 0.7, 'imaginal-activation': 1.0} <<\n",
      "\n",
      "COMPLETE...\n"
     ]
    },
    {
     "name": "stderr",
     "output_type": "stream",
     "text": [
      "\n",
      "100%|██████████| 1/1 [00:00<00:00,  3.24it/s]\u001b[A\n",
      "\n",
      "  0%|          | 0/1 [00:00<?, ?it/s]\u001b[A"
     ]
    },
    {
     "name": "stdout",
     "output_type": "stream",
     "text": [
      "######### SETUP MODEL markov-model1 #########\n",
      " \t>> TASK PARAMETERS: {'MARKOV_PROBABILITY': 0.7, 'REWARD_PROBABILITY': {'B1': 0.26, 'B2': 0.57, 'C1': 0.41, 'C2': 0.28}, 'REWARD': {'B1': 10, 'B2': 10, 'C1': 10, 'C2': 10}, 'RANDOM_WALK': True, 'M': 0.5} <<\n",
      " \t>> ACT-R PARAMETERS: {'v': None, 'seed': 'nil', 'ans': 0.2, 'lf': 1, 'bll': 0.5, 'mas': 2, 'egs': 0.7, 'alpha': 0.7, 'imaginal-activation': 1.0} <<\n",
      "\n"
     ]
    },
    {
     "name": "stderr",
     "output_type": "stream",
     "text": [
      "\n",
      "100%|██████████| 1/1 [00:00<00:00,  3.53it/s]\u001b[A\n",
      "\n",
      "  0%|          | 0/1 [00:00<?, ?it/s]\u001b[A"
     ]
    },
    {
     "name": "stdout",
     "output_type": "stream",
     "text": [
      "######### SETUP MODEL markov-model2 #########\n",
      " \t>> TASK PARAMETERS: {'MARKOV_PROBABILITY': 0.7, 'REWARD_PROBABILITY': {'B1': 0.26, 'B2': 0.57, 'C1': 0.41, 'C2': 0.28}, 'REWARD': {'B1': 10, 'B2': 10, 'C1': 10, 'C2': 10}, 'RANDOM_WALK': True, 'M': 0.5} <<\n",
      " \t>> ACT-R PARAMETERS: {'v': None, 'seed': 'nil', 'ans': 0.2, 'lf': 1, 'bll': 0.5, 'mas': 2, 'egs': 0.7, 'alpha': 0.7, 'imaginal-activation': 1.0} <<\n",
      "\n"
     ]
    },
    {
     "name": "stderr",
     "output_type": "stream",
     "text": [
      "\n",
      "100%|██████████| 1/1 [00:00<00:00,  3.50it/s]\u001b[A\n",
      "\n",
      "  0%|          | 0/1 [00:00<?, ?it/s]\u001b[A"
     ]
    },
    {
     "name": "stdout",
     "output_type": "stream",
     "text": [
      "######### SETUP MODEL markov-model3 #########\n",
      " \t>> TASK PARAMETERS: {'MARKOV_PROBABILITY': 0.7, 'REWARD_PROBABILITY': {'B1': 0.26, 'B2': 0.57, 'C1': 0.41, 'C2': 0.28}, 'REWARD': {'B1': 10, 'B2': 10, 'C1': 10, 'C2': 10}, 'RANDOM_WALK': True, 'M': 0.5} <<\n",
      " \t>> ACT-R PARAMETERS: {'v': None, 'seed': 'nil', 'ans': 0.2, 'lf': 1, 'bll': 0.5, 'mas': 2, 'egs': 0.7, 'alpha': 0.7, 'imaginal-activation': 1.0} <<\n",
      "\n",
      "COMPLETE...\n"
     ]
    },
    {
     "name": "stderr",
     "output_type": "stream",
     "text": [
      "\n",
      "100%|██████████| 1/1 [00:00<00:00,  3.39it/s]\u001b[A\n",
      "\n",
      "  0%|          | 0/1 [00:00<?, ?it/s]\u001b[A"
     ]
    },
    {
     "name": "stdout",
     "output_type": "stream",
     "text": [
      "######### SETUP MODEL markov-model1 #########\n",
      " \t>> TASK PARAMETERS: {'MARKOV_PROBABILITY': 0.7, 'REWARD_PROBABILITY': {'B1': 0.26, 'B2': 0.57, 'C1': 0.41, 'C2': 0.28}, 'REWARD': {'B1': 10, 'B2': 10, 'C1': 10, 'C2': 10}, 'RANDOM_WALK': True, 'M': 0.5} <<\n",
      " \t>> ACT-R PARAMETERS: {'v': None, 'seed': 'nil', 'ans': 0.7, 'lf': 0.5, 'bll': 0.5, 'mas': 2, 'egs': 0.2, 'alpha': 0.2, 'imaginal-activation': 1.0} <<\n",
      "\n"
     ]
    },
    {
     "name": "stderr",
     "output_type": "stream",
     "text": [
      "\n",
      "100%|██████████| 1/1 [00:00<00:00,  2.30it/s]\u001b[A\n",
      "\n",
      "  0%|          | 0/1 [00:00<?, ?it/s]\u001b[A"
     ]
    },
    {
     "name": "stdout",
     "output_type": "stream",
     "text": [
      "######### SETUP MODEL markov-model2 #########\n",
      " \t>> TASK PARAMETERS: {'MARKOV_PROBABILITY': 0.7, 'REWARD_PROBABILITY': {'B1': 0.26, 'B2': 0.57, 'C1': 0.41, 'C2': 0.28}, 'REWARD': {'B1': 10, 'B2': 10, 'C1': 10, 'C2': 10}, 'RANDOM_WALK': True, 'M': 0.5} <<\n",
      " \t>> ACT-R PARAMETERS: {'v': None, 'seed': 'nil', 'ans': 0.7, 'lf': 0.5, 'bll': 0.5, 'mas': 2, 'egs': 0.2, 'alpha': 0.2, 'imaginal-activation': 1.0} <<\n",
      "\n"
     ]
    },
    {
     "name": "stderr",
     "output_type": "stream",
     "text": [
      "\n",
      "100%|██████████| 1/1 [00:00<00:00,  3.39it/s]\u001b[A\n",
      "\n",
      "  0%|          | 0/1 [00:00<?, ?it/s]\u001b[A"
     ]
    },
    {
     "name": "stdout",
     "output_type": "stream",
     "text": [
      "######### SETUP MODEL markov-model3 #########\n",
      " \t>> TASK PARAMETERS: {'MARKOV_PROBABILITY': 0.7, 'REWARD_PROBABILITY': {'B1': 0.26, 'B2': 0.57, 'C1': 0.41, 'C2': 0.28}, 'REWARD': {'B1': 10, 'B2': 10, 'C1': 10, 'C2': 10}, 'RANDOM_WALK': True, 'M': 0.5} <<\n",
      " \t>> ACT-R PARAMETERS: {'v': None, 'seed': 'nil', 'ans': 0.7, 'lf': 0.5, 'bll': 0.5, 'mas': 2, 'egs': 0.2, 'alpha': 0.2, 'imaginal-activation': 1.0} <<\n",
      "\n",
      "COMPLETE...\n"
     ]
    },
    {
     "name": "stderr",
     "output_type": "stream",
     "text": [
      "\n",
      "100%|██████████| 1/1 [00:00<00:00,  3.68it/s]\u001b[A\n",
      "\n",
      "  0%|          | 0/1 [00:00<?, ?it/s]\u001b[A"
     ]
    },
    {
     "name": "stdout",
     "output_type": "stream",
     "text": [
      "######### SETUP MODEL markov-model1 #########\n",
      " \t>> TASK PARAMETERS: {'MARKOV_PROBABILITY': 0.7, 'REWARD_PROBABILITY': {'B1': 0.26, 'B2': 0.57, 'C1': 0.41, 'C2': 0.28}, 'REWARD': {'B1': 10, 'B2': 10, 'C1': 10, 'C2': 10}, 'RANDOM_WALK': True, 'M': 0.5} <<\n",
      " \t>> ACT-R PARAMETERS: {'v': None, 'seed': 'nil', 'ans': 0.7, 'lf': 1, 'bll': 0.5, 'mas': 2, 'egs': 0.2, 'alpha': 0.2, 'imaginal-activation': 1.0} <<\n",
      "\n"
     ]
    },
    {
     "name": "stderr",
     "output_type": "stream",
     "text": [
      "\n",
      "100%|██████████| 1/1 [00:00<00:00,  2.33it/s]\u001b[A\n",
      "\n",
      "  0%|          | 0/1 [00:00<?, ?it/s]\u001b[A"
     ]
    },
    {
     "name": "stdout",
     "output_type": "stream",
     "text": [
      "######### SETUP MODEL markov-model2 #########\n",
      " \t>> TASK PARAMETERS: {'MARKOV_PROBABILITY': 0.7, 'REWARD_PROBABILITY': {'B1': 0.26, 'B2': 0.57, 'C1': 0.41, 'C2': 0.28}, 'REWARD': {'B1': 10, 'B2': 10, 'C1': 10, 'C2': 10}, 'RANDOM_WALK': True, 'M': 0.5} <<\n",
      " \t>> ACT-R PARAMETERS: {'v': None, 'seed': 'nil', 'ans': 0.7, 'lf': 1, 'bll': 0.5, 'mas': 2, 'egs': 0.2, 'alpha': 0.2, 'imaginal-activation': 1.0} <<\n",
      "\n"
     ]
    },
    {
     "name": "stderr",
     "output_type": "stream",
     "text": [
      "\n",
      "100%|██████████| 1/1 [00:00<00:00,  3.64it/s]\u001b[A\n",
      "\n",
      "  0%|          | 0/1 [00:00<?, ?it/s]\u001b[A"
     ]
    },
    {
     "name": "stdout",
     "output_type": "stream",
     "text": [
      "######### SETUP MODEL markov-model3 #########\n",
      " \t>> TASK PARAMETERS: {'MARKOV_PROBABILITY': 0.7, 'REWARD_PROBABILITY': {'B1': 0.26, 'B2': 0.57, 'C1': 0.41, 'C2': 0.28}, 'REWARD': {'B1': 10, 'B2': 10, 'C1': 10, 'C2': 10}, 'RANDOM_WALK': True, 'M': 0.5} <<\n",
      " \t>> ACT-R PARAMETERS: {'v': None, 'seed': 'nil', 'ans': 0.7, 'lf': 1, 'bll': 0.5, 'mas': 2, 'egs': 0.2, 'alpha': 0.2, 'imaginal-activation': 1.0} <<\n",
      "\n",
      "COMPLETE...\n"
     ]
    },
    {
     "name": "stderr",
     "output_type": "stream",
     "text": [
      "\n",
      "100%|██████████| 1/1 [00:00<00:00,  3.93it/s]\u001b[A\n",
      "\n",
      "  0%|          | 0/1 [00:00<?, ?it/s]\u001b[A"
     ]
    },
    {
     "name": "stdout",
     "output_type": "stream",
     "text": [
      "######### SETUP MODEL markov-model1 #########\n",
      " \t>> TASK PARAMETERS: {'MARKOV_PROBABILITY': 0.7, 'REWARD_PROBABILITY': {'B1': 0.26, 'B2': 0.57, 'C1': 0.41, 'C2': 0.28}, 'REWARD': {'B1': 10, 'B2': 10, 'C1': 10, 'C2': 10}, 'RANDOM_WALK': True, 'M': 0.5} <<\n",
      " \t>> ACT-R PARAMETERS: {'v': None, 'seed': 'nil', 'ans': 0.7, 'lf': 0.5, 'bll': 0.5, 'mas': 2, 'egs': 0.2, 'alpha': 0.7, 'imaginal-activation': 1.0} <<\n",
      "\n"
     ]
    },
    {
     "name": "stderr",
     "output_type": "stream",
     "text": [
      "\n",
      "100%|██████████| 1/1 [00:00<00:00,  1.77it/s]\u001b[A\n",
      "\n",
      "  0%|          | 0/1 [00:00<?, ?it/s]\u001b[A"
     ]
    },
    {
     "name": "stdout",
     "output_type": "stream",
     "text": [
      "######### SETUP MODEL markov-model2 #########\n",
      " \t>> TASK PARAMETERS: {'MARKOV_PROBABILITY': 0.7, 'REWARD_PROBABILITY': {'B1': 0.26, 'B2': 0.57, 'C1': 0.41, 'C2': 0.28}, 'REWARD': {'B1': 10, 'B2': 10, 'C1': 10, 'C2': 10}, 'RANDOM_WALK': True, 'M': 0.5} <<\n",
      " \t>> ACT-R PARAMETERS: {'v': None, 'seed': 'nil', 'ans': 0.7, 'lf': 0.5, 'bll': 0.5, 'mas': 2, 'egs': 0.2, 'alpha': 0.7, 'imaginal-activation': 1.0} <<\n",
      "\n"
     ]
    },
    {
     "name": "stderr",
     "output_type": "stream",
     "text": [
      "\n",
      "100%|██████████| 1/1 [00:00<00:00,  3.26it/s]\u001b[A\n",
      "\n",
      "  0%|          | 0/1 [00:00<?, ?it/s]\u001b[A"
     ]
    },
    {
     "name": "stdout",
     "output_type": "stream",
     "text": [
      "######### SETUP MODEL markov-model3 #########\n",
      " \t>> TASK PARAMETERS: {'MARKOV_PROBABILITY': 0.7, 'REWARD_PROBABILITY': {'B1': 0.26, 'B2': 0.57, 'C1': 0.41, 'C2': 0.28}, 'REWARD': {'B1': 10, 'B2': 10, 'C1': 10, 'C2': 10}, 'RANDOM_WALK': True, 'M': 0.5} <<\n",
      " \t>> ACT-R PARAMETERS: {'v': None, 'seed': 'nil', 'ans': 0.7, 'lf': 0.5, 'bll': 0.5, 'mas': 2, 'egs': 0.2, 'alpha': 0.7, 'imaginal-activation': 1.0} <<\n",
      "\n",
      "COMPLETE...\n"
     ]
    },
    {
     "name": "stderr",
     "output_type": "stream",
     "text": [
      "\n",
      "100%|██████████| 1/1 [00:00<00:00,  3.89it/s]\u001b[A\n",
      "\n",
      "  0%|          | 0/1 [00:00<?, ?it/s]\u001b[A"
     ]
    },
    {
     "name": "stdout",
     "output_type": "stream",
     "text": [
      "######### SETUP MODEL markov-model1 #########\n",
      " \t>> TASK PARAMETERS: {'MARKOV_PROBABILITY': 0.7, 'REWARD_PROBABILITY': {'B1': 0.26, 'B2': 0.57, 'C1': 0.41, 'C2': 0.28}, 'REWARD': {'B1': 10, 'B2': 10, 'C1': 10, 'C2': 10}, 'RANDOM_WALK': True, 'M': 0.5} <<\n",
      " \t>> ACT-R PARAMETERS: {'v': None, 'seed': 'nil', 'ans': 0.7, 'lf': 1, 'bll': 0.5, 'mas': 2, 'egs': 0.2, 'alpha': 0.7, 'imaginal-activation': 1.0} <<\n",
      "\n"
     ]
    },
    {
     "name": "stderr",
     "output_type": "stream",
     "text": [
      "\n",
      "100%|██████████| 1/1 [00:00<00:00,  1.83it/s]\u001b[A\n",
      "\n",
      "  0%|          | 0/1 [00:00<?, ?it/s]\u001b[A"
     ]
    },
    {
     "name": "stdout",
     "output_type": "stream",
     "text": [
      "######### SETUP MODEL markov-model2 #########\n",
      " \t>> TASK PARAMETERS: {'MARKOV_PROBABILITY': 0.7, 'REWARD_PROBABILITY': {'B1': 0.26, 'B2': 0.57, 'C1': 0.41, 'C2': 0.28}, 'REWARD': {'B1': 10, 'B2': 10, 'C1': 10, 'C2': 10}, 'RANDOM_WALK': True, 'M': 0.5} <<\n",
      " \t>> ACT-R PARAMETERS: {'v': None, 'seed': 'nil', 'ans': 0.7, 'lf': 1, 'bll': 0.5, 'mas': 2, 'egs': 0.2, 'alpha': 0.7, 'imaginal-activation': 1.0} <<\n",
      "\n"
     ]
    },
    {
     "name": "stderr",
     "output_type": "stream",
     "text": [
      "\n",
      "100%|██████████| 1/1 [00:00<00:00,  3.35it/s]\u001b[A\n",
      "\n",
      "  0%|          | 0/1 [00:00<?, ?it/s]\u001b[A"
     ]
    },
    {
     "name": "stdout",
     "output_type": "stream",
     "text": [
      "######### SETUP MODEL markov-model3 #########\n",
      " \t>> TASK PARAMETERS: {'MARKOV_PROBABILITY': 0.7, 'REWARD_PROBABILITY': {'B1': 0.26, 'B2': 0.57, 'C1': 0.41, 'C2': 0.28}, 'REWARD': {'B1': 10, 'B2': 10, 'C1': 10, 'C2': 10}, 'RANDOM_WALK': True, 'M': 0.5} <<\n",
      " \t>> ACT-R PARAMETERS: {'v': None, 'seed': 'nil', 'ans': 0.7, 'lf': 1, 'bll': 0.5, 'mas': 2, 'egs': 0.2, 'alpha': 0.7, 'imaginal-activation': 1.0} <<\n",
      "\n",
      "COMPLETE...\n"
     ]
    },
    {
     "name": "stderr",
     "output_type": "stream",
     "text": [
      "\n",
      "100%|██████████| 1/1 [00:00<00:00,  3.63it/s]\u001b[A\n",
      "\n",
      "  0%|          | 0/1 [00:00<?, ?it/s]\u001b[A"
     ]
    },
    {
     "name": "stdout",
     "output_type": "stream",
     "text": [
      "######### SETUP MODEL markov-model1 #########\n",
      " \t>> TASK PARAMETERS: {'MARKOV_PROBABILITY': 0.7, 'REWARD_PROBABILITY': {'B1': 0.26, 'B2': 0.57, 'C1': 0.41, 'C2': 0.28}, 'REWARD': {'B1': 10, 'B2': 10, 'C1': 10, 'C2': 10}, 'RANDOM_WALK': True, 'M': 0.5} <<\n",
      " \t>> ACT-R PARAMETERS: {'v': None, 'seed': 'nil', 'ans': 0.7, 'lf': 0.5, 'bll': 0.5, 'mas': 2, 'egs': 0.7, 'alpha': 0.2, 'imaginal-activation': 1.0} <<\n",
      "\n"
     ]
    },
    {
     "name": "stderr",
     "output_type": "stream",
     "text": [
      "\n",
      "100%|██████████| 1/1 [00:00<00:00,  3.51it/s]\u001b[A\n",
      "\n",
      "  0%|          | 0/1 [00:00<?, ?it/s]\u001b[A"
     ]
    },
    {
     "name": "stdout",
     "output_type": "stream",
     "text": [
      "######### SETUP MODEL markov-model2 #########\n",
      " \t>> TASK PARAMETERS: {'MARKOV_PROBABILITY': 0.7, 'REWARD_PROBABILITY': {'B1': 0.26, 'B2': 0.57, 'C1': 0.41, 'C2': 0.28}, 'REWARD': {'B1': 10, 'B2': 10, 'C1': 10, 'C2': 10}, 'RANDOM_WALK': True, 'M': 0.5} <<\n",
      " \t>> ACT-R PARAMETERS: {'v': None, 'seed': 'nil', 'ans': 0.7, 'lf': 0.5, 'bll': 0.5, 'mas': 2, 'egs': 0.7, 'alpha': 0.2, 'imaginal-activation': 1.0} <<\n",
      "\n"
     ]
    },
    {
     "name": "stderr",
     "output_type": "stream",
     "text": [
      "\n",
      "100%|██████████| 1/1 [00:00<00:00,  3.33it/s]\u001b[A\n",
      "\n",
      "  0%|          | 0/1 [00:00<?, ?it/s]\u001b[A"
     ]
    },
    {
     "name": "stdout",
     "output_type": "stream",
     "text": [
      "######### SETUP MODEL markov-model3 #########\n",
      " \t>> TASK PARAMETERS: {'MARKOV_PROBABILITY': 0.7, 'REWARD_PROBABILITY': {'B1': 0.26, 'B2': 0.57, 'C1': 0.41, 'C2': 0.28}, 'REWARD': {'B1': 10, 'B2': 10, 'C1': 10, 'C2': 10}, 'RANDOM_WALK': True, 'M': 0.5} <<\n",
      " \t>> ACT-R PARAMETERS: {'v': None, 'seed': 'nil', 'ans': 0.7, 'lf': 0.5, 'bll': 0.5, 'mas': 2, 'egs': 0.7, 'alpha': 0.2, 'imaginal-activation': 1.0} <<\n",
      "\n",
      "COMPLETE...\n"
     ]
    },
    {
     "name": "stderr",
     "output_type": "stream",
     "text": [
      "\n",
      "100%|██████████| 1/1 [00:00<00:00,  3.78it/s]\u001b[A\n",
      "\n",
      "  0%|          | 0/1 [00:00<?, ?it/s]\u001b[A"
     ]
    },
    {
     "name": "stdout",
     "output_type": "stream",
     "text": [
      "######### SETUP MODEL markov-model1 #########\n",
      " \t>> TASK PARAMETERS: {'MARKOV_PROBABILITY': 0.7, 'REWARD_PROBABILITY': {'B1': 0.26, 'B2': 0.57, 'C1': 0.41, 'C2': 0.28}, 'REWARD': {'B1': 10, 'B2': 10, 'C1': 10, 'C2': 10}, 'RANDOM_WALK': True, 'M': 0.5} <<\n",
      " \t>> ACT-R PARAMETERS: {'v': None, 'seed': 'nil', 'ans': 0.7, 'lf': 1, 'bll': 0.5, 'mas': 2, 'egs': 0.7, 'alpha': 0.2, 'imaginal-activation': 1.0} <<\n",
      "\n"
     ]
    },
    {
     "name": "stderr",
     "output_type": "stream",
     "text": [
      "\n",
      "100%|██████████| 1/1 [00:00<00:00,  3.45it/s]\u001b[A\n",
      "\n",
      "  0%|          | 0/1 [00:00<?, ?it/s]\u001b[A"
     ]
    },
    {
     "name": "stdout",
     "output_type": "stream",
     "text": [
      "######### SETUP MODEL markov-model2 #########\n",
      " \t>> TASK PARAMETERS: {'MARKOV_PROBABILITY': 0.7, 'REWARD_PROBABILITY': {'B1': 0.26, 'B2': 0.57, 'C1': 0.41, 'C2': 0.28}, 'REWARD': {'B1': 10, 'B2': 10, 'C1': 10, 'C2': 10}, 'RANDOM_WALK': True, 'M': 0.5} <<\n",
      " \t>> ACT-R PARAMETERS: {'v': None, 'seed': 'nil', 'ans': 0.7, 'lf': 1, 'bll': 0.5, 'mas': 2, 'egs': 0.7, 'alpha': 0.2, 'imaginal-activation': 1.0} <<\n",
      "\n"
     ]
    },
    {
     "name": "stderr",
     "output_type": "stream",
     "text": [
      "\n",
      "100%|██████████| 1/1 [00:00<00:00,  3.31it/s]\u001b[A\n",
      "\n",
      "  0%|          | 0/1 [00:00<?, ?it/s]\u001b[A"
     ]
    },
    {
     "name": "stdout",
     "output_type": "stream",
     "text": [
      "######### SETUP MODEL markov-model3 #########\n",
      " \t>> TASK PARAMETERS: {'MARKOV_PROBABILITY': 0.7, 'REWARD_PROBABILITY': {'B1': 0.26, 'B2': 0.57, 'C1': 0.41, 'C2': 0.28}, 'REWARD': {'B1': 10, 'B2': 10, 'C1': 10, 'C2': 10}, 'RANDOM_WALK': True, 'M': 0.5} <<\n",
      " \t>> ACT-R PARAMETERS: {'v': None, 'seed': 'nil', 'ans': 0.7, 'lf': 1, 'bll': 0.5, 'mas': 2, 'egs': 0.7, 'alpha': 0.2, 'imaginal-activation': 1.0} <<\n",
      "\n",
      "COMPLETE...\n"
     ]
    },
    {
     "name": "stderr",
     "output_type": "stream",
     "text": [
      "\n",
      "100%|██████████| 1/1 [00:00<00:00,  3.96it/s]\u001b[A\n",
      "\n",
      "  0%|          | 0/1 [00:00<?, ?it/s]\u001b[A"
     ]
    },
    {
     "name": "stdout",
     "output_type": "stream",
     "text": [
      "######### SETUP MODEL markov-model1 #########\n",
      " \t>> TASK PARAMETERS: {'MARKOV_PROBABILITY': 0.7, 'REWARD_PROBABILITY': {'B1': 0.26, 'B2': 0.57, 'C1': 0.41, 'C2': 0.28}, 'REWARD': {'B1': 10, 'B2': 10, 'C1': 10, 'C2': 10}, 'RANDOM_WALK': True, 'M': 0.5} <<\n",
      " \t>> ACT-R PARAMETERS: {'v': None, 'seed': 'nil', 'ans': 0.7, 'lf': 0.5, 'bll': 0.5, 'mas': 2, 'egs': 0.7, 'alpha': 0.7, 'imaginal-activation': 1.0} <<\n",
      "\n"
     ]
    },
    {
     "name": "stderr",
     "output_type": "stream",
     "text": [
      "\n",
      "100%|██████████| 1/1 [00:00<00:00,  3.41it/s]\u001b[A\n",
      "\n",
      "  0%|          | 0/1 [00:00<?, ?it/s]\u001b[A"
     ]
    },
    {
     "name": "stdout",
     "output_type": "stream",
     "text": [
      "######### SETUP MODEL markov-model2 #########\n",
      " \t>> TASK PARAMETERS: {'MARKOV_PROBABILITY': 0.7, 'REWARD_PROBABILITY': {'B1': 0.26, 'B2': 0.57, 'C1': 0.41, 'C2': 0.28}, 'REWARD': {'B1': 10, 'B2': 10, 'C1': 10, 'C2': 10}, 'RANDOM_WALK': True, 'M': 0.5} <<\n",
      " \t>> ACT-R PARAMETERS: {'v': None, 'seed': 'nil', 'ans': 0.7, 'lf': 0.5, 'bll': 0.5, 'mas': 2, 'egs': 0.7, 'alpha': 0.7, 'imaginal-activation': 1.0} <<\n",
      "\n"
     ]
    },
    {
     "name": "stderr",
     "output_type": "stream",
     "text": [
      "\n",
      "100%|██████████| 1/1 [00:00<00:00,  3.35it/s]\u001b[A\n",
      "\n",
      "  0%|          | 0/1 [00:00<?, ?it/s]\u001b[A"
     ]
    },
    {
     "name": "stdout",
     "output_type": "stream",
     "text": [
      "######### SETUP MODEL markov-model3 #########\n",
      " \t>> TASK PARAMETERS: {'MARKOV_PROBABILITY': 0.7, 'REWARD_PROBABILITY': {'B1': 0.26, 'B2': 0.57, 'C1': 0.41, 'C2': 0.28}, 'REWARD': {'B1': 10, 'B2': 10, 'C1': 10, 'C2': 10}, 'RANDOM_WALK': True, 'M': 0.5} <<\n",
      " \t>> ACT-R PARAMETERS: {'v': None, 'seed': 'nil', 'ans': 0.7, 'lf': 0.5, 'bll': 0.5, 'mas': 2, 'egs': 0.7, 'alpha': 0.7, 'imaginal-activation': 1.0} <<\n",
      "\n",
      "COMPLETE...\n"
     ]
    },
    {
     "name": "stderr",
     "output_type": "stream",
     "text": [
      "\n",
      "100%|██████████| 1/1 [00:00<00:00,  3.42it/s]\u001b[A\n",
      "\n",
      "  0%|          | 0/1 [00:00<?, ?it/s]\u001b[A"
     ]
    },
    {
     "name": "stdout",
     "output_type": "stream",
     "text": [
      "######### SETUP MODEL markov-model1 #########\n",
      " \t>> TASK PARAMETERS: {'MARKOV_PROBABILITY': 0.7, 'REWARD_PROBABILITY': {'B1': 0.26, 'B2': 0.57, 'C1': 0.41, 'C2': 0.28}, 'REWARD': {'B1': 10, 'B2': 10, 'C1': 10, 'C2': 10}, 'RANDOM_WALK': True, 'M': 0.5} <<\n",
      " \t>> ACT-R PARAMETERS: {'v': None, 'seed': 'nil', 'ans': 0.7, 'lf': 1, 'bll': 0.5, 'mas': 2, 'egs': 0.7, 'alpha': 0.7, 'imaginal-activation': 1.0} <<\n",
      "\n"
     ]
    },
    {
     "name": "stderr",
     "output_type": "stream",
     "text": [
      "\n",
      "100%|██████████| 1/1 [00:00<00:00,  1.83it/s]\u001b[A\n",
      "\n",
      "  0%|          | 0/1 [00:00<?, ?it/s]\u001b[A"
     ]
    },
    {
     "name": "stdout",
     "output_type": "stream",
     "text": [
      "######### SETUP MODEL markov-model2 #########\n",
      " \t>> TASK PARAMETERS: {'MARKOV_PROBABILITY': 0.7, 'REWARD_PROBABILITY': {'B1': 0.26, 'B2': 0.57, 'C1': 0.41, 'C2': 0.28}, 'REWARD': {'B1': 10, 'B2': 10, 'C1': 10, 'C2': 10}, 'RANDOM_WALK': True, 'M': 0.5} <<\n",
      " \t>> ACT-R PARAMETERS: {'v': None, 'seed': 'nil', 'ans': 0.7, 'lf': 1, 'bll': 0.5, 'mas': 2, 'egs': 0.7, 'alpha': 0.7, 'imaginal-activation': 1.0} <<\n",
      "\n"
     ]
    },
    {
     "name": "stderr",
     "output_type": "stream",
     "text": [
      "\n",
      "100%|██████████| 1/1 [00:00<00:00,  3.23it/s]\u001b[A\n",
      " 50%|█████     | 6/12 [01:29<01:30, 15.09s/it]\n",
      "  0%|          | 0/1 [00:00<?, ?it/s]\u001b[A"
     ]
    },
    {
     "name": "stdout",
     "output_type": "stream",
     "text": [
      "######### SETUP MODEL markov-model3 #########\n",
      " \t>> TASK PARAMETERS: {'MARKOV_PROBABILITY': 0.7, 'REWARD_PROBABILITY': {'B1': 0.26, 'B2': 0.57, 'C1': 0.41, 'C2': 0.28}, 'REWARD': {'B1': 10, 'B2': 10, 'C1': 10, 'C2': 10}, 'RANDOM_WALK': True, 'M': 0.5} <<\n",
      " \t>> ACT-R PARAMETERS: {'v': None, 'seed': 'nil', 'ans': 0.7, 'lf': 1, 'bll': 0.5, 'mas': 2, 'egs': 0.7, 'alpha': 0.7, 'imaginal-activation': 1.0} <<\n",
      "\n",
      "COMPLETE...\n"
     ]
    },
    {
     "name": "stderr",
     "output_type": "stream",
     "text": [
      "\n",
      "100%|██████████| 1/1 [00:00<00:00,  3.63it/s]\u001b[A\n",
      "\n",
      "  0%|          | 0/1 [00:00<?, ?it/s]\u001b[A"
     ]
    },
    {
     "name": "stdout",
     "output_type": "stream",
     "text": [
      "######### SETUP MODEL markov-model1 #########\n",
      " \t>> TASK PARAMETERS: {'MARKOV_PROBABILITY': 0.7, 'REWARD_PROBABILITY': {'B1': 0.26, 'B2': 0.57, 'C1': 0.41, 'C2': 0.28}, 'REWARD': {'B1': 3, 'B2': 3, 'C1': 3, 'C2': 3}, 'RANDOM_WALK': True, 'M': 1} <<\n",
      " \t>> ACT-R PARAMETERS: {'v': None, 'seed': 'nil', 'ans': 0.2, 'lf': 0.5, 'bll': 0.5, 'mas': 2, 'egs': 0.2, 'alpha': 0.2, 'imaginal-activation': 1.0} <<\n",
      "\n"
     ]
    },
    {
     "name": "stderr",
     "output_type": "stream",
     "text": [
      "\n",
      "100%|██████████| 1/1 [00:00<00:00,  3.28it/s]\u001b[A\n",
      "\n",
      "  0%|          | 0/1 [00:00<?, ?it/s]\u001b[A"
     ]
    },
    {
     "name": "stdout",
     "output_type": "stream",
     "text": [
      "######### SETUP MODEL markov-model2 #########\n",
      " \t>> TASK PARAMETERS: {'MARKOV_PROBABILITY': 0.7, 'REWARD_PROBABILITY': {'B1': 0.26, 'B2': 0.57, 'C1': 0.41, 'C2': 0.28}, 'REWARD': {'B1': 3, 'B2': 3, 'C1': 3, 'C2': 3}, 'RANDOM_WALK': True, 'M': 1} <<\n",
      " \t>> ACT-R PARAMETERS: {'v': None, 'seed': 'nil', 'ans': 0.2, 'lf': 0.5, 'bll': 0.5, 'mas': 2, 'egs': 0.2, 'alpha': 0.2, 'imaginal-activation': 1.0} <<\n",
      "\n"
     ]
    },
    {
     "name": "stderr",
     "output_type": "stream",
     "text": [
      "\n",
      "100%|██████████| 1/1 [00:00<00:00,  3.31it/s]\u001b[A\n",
      "\n",
      "  0%|          | 0/1 [00:00<?, ?it/s]\u001b[A"
     ]
    },
    {
     "name": "stdout",
     "output_type": "stream",
     "text": [
      "######### SETUP MODEL markov-model3 #########\n",
      " \t>> TASK PARAMETERS: {'MARKOV_PROBABILITY': 0.7, 'REWARD_PROBABILITY': {'B1': 0.26, 'B2': 0.57, 'C1': 0.41, 'C2': 0.28}, 'REWARD': {'B1': 3, 'B2': 3, 'C1': 3, 'C2': 3}, 'RANDOM_WALK': True, 'M': 1} <<\n",
      " \t>> ACT-R PARAMETERS: {'v': None, 'seed': 'nil', 'ans': 0.2, 'lf': 0.5, 'bll': 0.5, 'mas': 2, 'egs': 0.2, 'alpha': 0.2, 'imaginal-activation': 1.0} <<\n",
      "\n",
      "COMPLETE...\n"
     ]
    },
    {
     "name": "stderr",
     "output_type": "stream",
     "text": [
      "\n",
      "100%|██████████| 1/1 [00:00<00:00,  3.45it/s]\u001b[A\n",
      "\n",
      "  0%|          | 0/1 [00:00<?, ?it/s]\u001b[A"
     ]
    },
    {
     "name": "stdout",
     "output_type": "stream",
     "text": [
      "######### SETUP MODEL markov-model1 #########\n",
      " \t>> TASK PARAMETERS: {'MARKOV_PROBABILITY': 0.7, 'REWARD_PROBABILITY': {'B1': 0.26, 'B2': 0.57, 'C1': 0.41, 'C2': 0.28}, 'REWARD': {'B1': 3, 'B2': 3, 'C1': 3, 'C2': 3}, 'RANDOM_WALK': True, 'M': 1} <<\n",
      " \t>> ACT-R PARAMETERS: {'v': None, 'seed': 'nil', 'ans': 0.2, 'lf': 1, 'bll': 0.5, 'mas': 2, 'egs': 0.2, 'alpha': 0.2, 'imaginal-activation': 1.0} <<\n",
      "\n"
     ]
    },
    {
     "name": "stderr",
     "output_type": "stream",
     "text": [
      "\n",
      "100%|██████████| 1/1 [00:00<00:00,  3.71it/s]\u001b[A\n",
      "\n",
      "  0%|          | 0/1 [00:00<?, ?it/s]\u001b[A"
     ]
    },
    {
     "name": "stdout",
     "output_type": "stream",
     "text": [
      "######### SETUP MODEL markov-model2 #########\n",
      " \t>> TASK PARAMETERS: {'MARKOV_PROBABILITY': 0.7, 'REWARD_PROBABILITY': {'B1': 0.26, 'B2': 0.57, 'C1': 0.41, 'C2': 0.28}, 'REWARD': {'B1': 3, 'B2': 3, 'C1': 3, 'C2': 3}, 'RANDOM_WALK': True, 'M': 1} <<\n",
      " \t>> ACT-R PARAMETERS: {'v': None, 'seed': 'nil', 'ans': 0.2, 'lf': 1, 'bll': 0.5, 'mas': 2, 'egs': 0.2, 'alpha': 0.2, 'imaginal-activation': 1.0} <<\n",
      "\n"
     ]
    },
    {
     "name": "stderr",
     "output_type": "stream",
     "text": [
      "\n",
      "100%|██████████| 1/1 [00:00<00:00,  3.70it/s]\u001b[A\n",
      "\n",
      "  0%|          | 0/1 [00:00<?, ?it/s]\u001b[A"
     ]
    },
    {
     "name": "stdout",
     "output_type": "stream",
     "text": [
      "######### SETUP MODEL markov-model3 #########\n",
      " \t>> TASK PARAMETERS: {'MARKOV_PROBABILITY': 0.7, 'REWARD_PROBABILITY': {'B1': 0.26, 'B2': 0.57, 'C1': 0.41, 'C2': 0.28}, 'REWARD': {'B1': 3, 'B2': 3, 'C1': 3, 'C2': 3}, 'RANDOM_WALK': True, 'M': 1} <<\n",
      " \t>> ACT-R PARAMETERS: {'v': None, 'seed': 'nil', 'ans': 0.2, 'lf': 1, 'bll': 0.5, 'mas': 2, 'egs': 0.2, 'alpha': 0.2, 'imaginal-activation': 1.0} <<\n",
      "\n",
      "COMPLETE...\n"
     ]
    },
    {
     "name": "stderr",
     "output_type": "stream",
     "text": [
      "\n",
      "100%|██████████| 1/1 [00:00<00:00,  3.69it/s]\u001b[A\n",
      "\n",
      "  0%|          | 0/1 [00:00<?, ?it/s]\u001b[A"
     ]
    },
    {
     "name": "stdout",
     "output_type": "stream",
     "text": [
      "######### SETUP MODEL markov-model1 #########\n",
      " \t>> TASK PARAMETERS: {'MARKOV_PROBABILITY': 0.7, 'REWARD_PROBABILITY': {'B1': 0.26, 'B2': 0.57, 'C1': 0.41, 'C2': 0.28}, 'REWARD': {'B1': 3, 'B2': 3, 'C1': 3, 'C2': 3}, 'RANDOM_WALK': True, 'M': 1} <<\n",
      " \t>> ACT-R PARAMETERS: {'v': None, 'seed': 'nil', 'ans': 0.2, 'lf': 0.5, 'bll': 0.5, 'mas': 2, 'egs': 0.2, 'alpha': 0.7, 'imaginal-activation': 1.0} <<\n",
      "\n"
     ]
    },
    {
     "name": "stderr",
     "output_type": "stream",
     "text": [
      "\n",
      "100%|██████████| 1/1 [00:00<00:00,  2.93it/s]\u001b[A\n",
      "\n",
      "  0%|          | 0/1 [00:00<?, ?it/s]\u001b[A"
     ]
    },
    {
     "name": "stdout",
     "output_type": "stream",
     "text": [
      "######### SETUP MODEL markov-model2 #########\n",
      " \t>> TASK PARAMETERS: {'MARKOV_PROBABILITY': 0.7, 'REWARD_PROBABILITY': {'B1': 0.26, 'B2': 0.57, 'C1': 0.41, 'C2': 0.28}, 'REWARD': {'B1': 3, 'B2': 3, 'C1': 3, 'C2': 3}, 'RANDOM_WALK': True, 'M': 1} <<\n",
      " \t>> ACT-R PARAMETERS: {'v': None, 'seed': 'nil', 'ans': 0.2, 'lf': 0.5, 'bll': 0.5, 'mas': 2, 'egs': 0.2, 'alpha': 0.7, 'imaginal-activation': 1.0} <<\n",
      "\n"
     ]
    },
    {
     "name": "stderr",
     "output_type": "stream",
     "text": [
      "\n",
      "100%|██████████| 1/1 [00:00<00:00,  2.85it/s]\u001b[A\n",
      "\n",
      "  0%|          | 0/1 [00:00<?, ?it/s]\u001b[A"
     ]
    },
    {
     "name": "stdout",
     "output_type": "stream",
     "text": [
      "######### SETUP MODEL markov-model3 #########\n",
      " \t>> TASK PARAMETERS: {'MARKOV_PROBABILITY': 0.7, 'REWARD_PROBABILITY': {'B1': 0.26, 'B2': 0.57, 'C1': 0.41, 'C2': 0.28}, 'REWARD': {'B1': 3, 'B2': 3, 'C1': 3, 'C2': 3}, 'RANDOM_WALK': True, 'M': 1} <<\n",
      " \t>> ACT-R PARAMETERS: {'v': None, 'seed': 'nil', 'ans': 0.2, 'lf': 0.5, 'bll': 0.5, 'mas': 2, 'egs': 0.2, 'alpha': 0.7, 'imaginal-activation': 1.0} <<\n",
      "\n",
      "COMPLETE...\n"
     ]
    },
    {
     "name": "stderr",
     "output_type": "stream",
     "text": [
      "\n",
      "100%|██████████| 1/1 [00:00<00:00,  3.28it/s]\u001b[A\n",
      "\n",
      "  0%|          | 0/1 [00:00<?, ?it/s]\u001b[A"
     ]
    },
    {
     "name": "stdout",
     "output_type": "stream",
     "text": [
      "######### SETUP MODEL markov-model1 #########\n",
      " \t>> TASK PARAMETERS: {'MARKOV_PROBABILITY': 0.7, 'REWARD_PROBABILITY': {'B1': 0.26, 'B2': 0.57, 'C1': 0.41, 'C2': 0.28}, 'REWARD': {'B1': 3, 'B2': 3, 'C1': 3, 'C2': 3}, 'RANDOM_WALK': True, 'M': 1} <<\n",
      " \t>> ACT-R PARAMETERS: {'v': None, 'seed': 'nil', 'ans': 0.2, 'lf': 1, 'bll': 0.5, 'mas': 2, 'egs': 0.2, 'alpha': 0.7, 'imaginal-activation': 1.0} <<\n",
      "\n"
     ]
    },
    {
     "name": "stderr",
     "output_type": "stream",
     "text": [
      "\n",
      "100%|██████████| 1/1 [00:00<00:00,  3.44it/s]\u001b[A\n",
      "\n",
      "  0%|          | 0/1 [00:00<?, ?it/s]\u001b[A"
     ]
    },
    {
     "name": "stdout",
     "output_type": "stream",
     "text": [
      "######### SETUP MODEL markov-model2 #########\n",
      " \t>> TASK PARAMETERS: {'MARKOV_PROBABILITY': 0.7, 'REWARD_PROBABILITY': {'B1': 0.26, 'B2': 0.57, 'C1': 0.41, 'C2': 0.28}, 'REWARD': {'B1': 3, 'B2': 3, 'C1': 3, 'C2': 3}, 'RANDOM_WALK': True, 'M': 1} <<\n",
      " \t>> ACT-R PARAMETERS: {'v': None, 'seed': 'nil', 'ans': 0.2, 'lf': 1, 'bll': 0.5, 'mas': 2, 'egs': 0.2, 'alpha': 0.7, 'imaginal-activation': 1.0} <<\n",
      "\n"
     ]
    },
    {
     "name": "stderr",
     "output_type": "stream",
     "text": [
      "\n",
      "100%|██████████| 1/1 [00:00<00:00,  3.20it/s]\u001b[A\n",
      "\n",
      "  0%|          | 0/1 [00:00<?, ?it/s]\u001b[A"
     ]
    },
    {
     "name": "stdout",
     "output_type": "stream",
     "text": [
      "######### SETUP MODEL markov-model3 #########\n",
      " \t>> TASK PARAMETERS: {'MARKOV_PROBABILITY': 0.7, 'REWARD_PROBABILITY': {'B1': 0.26, 'B2': 0.57, 'C1': 0.41, 'C2': 0.28}, 'REWARD': {'B1': 3, 'B2': 3, 'C1': 3, 'C2': 3}, 'RANDOM_WALK': True, 'M': 1} <<\n",
      " \t>> ACT-R PARAMETERS: {'v': None, 'seed': 'nil', 'ans': 0.2, 'lf': 1, 'bll': 0.5, 'mas': 2, 'egs': 0.2, 'alpha': 0.7, 'imaginal-activation': 1.0} <<\n",
      "\n",
      "COMPLETE...\n"
     ]
    },
    {
     "name": "stderr",
     "output_type": "stream",
     "text": [
      "\n",
      "100%|██████████| 1/1 [00:00<00:00,  3.63it/s]\u001b[A\n",
      "\n",
      "  0%|          | 0/1 [00:00<?, ?it/s]\u001b[A"
     ]
    },
    {
     "name": "stdout",
     "output_type": "stream",
     "text": [
      "######### SETUP MODEL markov-model1 #########\n",
      " \t>> TASK PARAMETERS: {'MARKOV_PROBABILITY': 0.7, 'REWARD_PROBABILITY': {'B1': 0.26, 'B2': 0.57, 'C1': 0.41, 'C2': 0.28}, 'REWARD': {'B1': 3, 'B2': 3, 'C1': 3, 'C2': 3}, 'RANDOM_WALK': True, 'M': 1} <<\n",
      " \t>> ACT-R PARAMETERS: {'v': None, 'seed': 'nil', 'ans': 0.2, 'lf': 0.5, 'bll': 0.5, 'mas': 2, 'egs': 0.7, 'alpha': 0.2, 'imaginal-activation': 1.0} <<\n",
      "\n"
     ]
    },
    {
     "name": "stderr",
     "output_type": "stream",
     "text": [
      "\n",
      "100%|██████████| 1/1 [00:00<00:00,  2.88it/s]\u001b[A\n",
      "\n",
      "  0%|          | 0/1 [00:00<?, ?it/s]\u001b[A"
     ]
    },
    {
     "name": "stdout",
     "output_type": "stream",
     "text": [
      "######### SETUP MODEL markov-model2 #########\n",
      " \t>> TASK PARAMETERS: {'MARKOV_PROBABILITY': 0.7, 'REWARD_PROBABILITY': {'B1': 0.26, 'B2': 0.57, 'C1': 0.41, 'C2': 0.28}, 'REWARD': {'B1': 3, 'B2': 3, 'C1': 3, 'C2': 3}, 'RANDOM_WALK': True, 'M': 1} <<\n",
      " \t>> ACT-R PARAMETERS: {'v': None, 'seed': 'nil', 'ans': 0.2, 'lf': 0.5, 'bll': 0.5, 'mas': 2, 'egs': 0.7, 'alpha': 0.2, 'imaginal-activation': 1.0} <<\n",
      "\n"
     ]
    },
    {
     "name": "stderr",
     "output_type": "stream",
     "text": [
      "\n",
      "100%|██████████| 1/1 [00:00<00:00,  3.21it/s]\u001b[A\n",
      "\n",
      "  0%|          | 0/1 [00:00<?, ?it/s]\u001b[A"
     ]
    },
    {
     "name": "stdout",
     "output_type": "stream",
     "text": [
      "######### SETUP MODEL markov-model3 #########\n",
      " \t>> TASK PARAMETERS: {'MARKOV_PROBABILITY': 0.7, 'REWARD_PROBABILITY': {'B1': 0.26, 'B2': 0.57, 'C1': 0.41, 'C2': 0.28}, 'REWARD': {'B1': 3, 'B2': 3, 'C1': 3, 'C2': 3}, 'RANDOM_WALK': True, 'M': 1} <<\n",
      " \t>> ACT-R PARAMETERS: {'v': None, 'seed': 'nil', 'ans': 0.2, 'lf': 0.5, 'bll': 0.5, 'mas': 2, 'egs': 0.7, 'alpha': 0.2, 'imaginal-activation': 1.0} <<\n",
      "\n",
      "COMPLETE...\n"
     ]
    },
    {
     "name": "stderr",
     "output_type": "stream",
     "text": [
      "\n",
      "100%|██████████| 1/1 [00:00<00:00,  3.56it/s]\u001b[A\n",
      "\n",
      "  0%|          | 0/1 [00:00<?, ?it/s]\u001b[A"
     ]
    },
    {
     "name": "stdout",
     "output_type": "stream",
     "text": [
      "######### SETUP MODEL markov-model1 #########\n",
      " \t>> TASK PARAMETERS: {'MARKOV_PROBABILITY': 0.7, 'REWARD_PROBABILITY': {'B1': 0.26, 'B2': 0.57, 'C1': 0.41, 'C2': 0.28}, 'REWARD': {'B1': 3, 'B2': 3, 'C1': 3, 'C2': 3}, 'RANDOM_WALK': True, 'M': 1} <<\n",
      " \t>> ACT-R PARAMETERS: {'v': None, 'seed': 'nil', 'ans': 0.2, 'lf': 1, 'bll': 0.5, 'mas': 2, 'egs': 0.7, 'alpha': 0.2, 'imaginal-activation': 1.0} <<\n",
      "\n"
     ]
    },
    {
     "name": "stderr",
     "output_type": "stream",
     "text": [
      "\n",
      "100%|██████████| 1/1 [00:00<00:00,  3.23it/s]\u001b[A\n",
      "\n",
      "  0%|          | 0/1 [00:00<?, ?it/s]\u001b[A"
     ]
    },
    {
     "name": "stdout",
     "output_type": "stream",
     "text": [
      "######### SETUP MODEL markov-model2 #########\n",
      " \t>> TASK PARAMETERS: {'MARKOV_PROBABILITY': 0.7, 'REWARD_PROBABILITY': {'B1': 0.26, 'B2': 0.57, 'C1': 0.41, 'C2': 0.28}, 'REWARD': {'B1': 3, 'B2': 3, 'C1': 3, 'C2': 3}, 'RANDOM_WALK': True, 'M': 1} <<\n",
      " \t>> ACT-R PARAMETERS: {'v': None, 'seed': 'nil', 'ans': 0.2, 'lf': 1, 'bll': 0.5, 'mas': 2, 'egs': 0.7, 'alpha': 0.2, 'imaginal-activation': 1.0} <<\n",
      "\n"
     ]
    },
    {
     "name": "stderr",
     "output_type": "stream",
     "text": [
      "\n",
      "100%|██████████| 1/1 [00:00<00:00,  3.34it/s]\u001b[A\n",
      "\n",
      "  0%|          | 0/1 [00:00<?, ?it/s]\u001b[A"
     ]
    },
    {
     "name": "stdout",
     "output_type": "stream",
     "text": [
      "######### SETUP MODEL markov-model3 #########\n",
      " \t>> TASK PARAMETERS: {'MARKOV_PROBABILITY': 0.7, 'REWARD_PROBABILITY': {'B1': 0.26, 'B2': 0.57, 'C1': 0.41, 'C2': 0.28}, 'REWARD': {'B1': 3, 'B2': 3, 'C1': 3, 'C2': 3}, 'RANDOM_WALK': True, 'M': 1} <<\n",
      " \t>> ACT-R PARAMETERS: {'v': None, 'seed': 'nil', 'ans': 0.2, 'lf': 1, 'bll': 0.5, 'mas': 2, 'egs': 0.7, 'alpha': 0.2, 'imaginal-activation': 1.0} <<\n",
      "\n",
      "COMPLETE...\n"
     ]
    },
    {
     "name": "stderr",
     "output_type": "stream",
     "text": [
      "\n",
      "100%|██████████| 1/1 [00:00<00:00,  3.86it/s]\u001b[A\n",
      "\n",
      "  0%|          | 0/1 [00:00<?, ?it/s]\u001b[A\n",
      " 50%|█████     | 6/12 [01:35<01:35, 15.93s/it]"
     ]
    },
    {
     "name": "stdout",
     "output_type": "stream",
     "text": [
      "######### SETUP MODEL markov-model1 #########\n",
      " \t>> TASK PARAMETERS: {'MARKOV_PROBABILITY': 0.7, 'REWARD_PROBABILITY': {'B1': 0.26, 'B2': 0.57, 'C1': 0.41, 'C2': 0.28}, 'REWARD': {'B1': 3, 'B2': 3, 'C1': 3, 'C2': 3}, 'RANDOM_WALK': True, 'M': 1} <<\n",
      " \t>> ACT-R PARAMETERS: {'v': None, 'seed': 'nil', 'ans': 0.2, 'lf': 0.5, 'bll': 0.5, 'mas': 2, 'egs': 0.7, 'alpha': 0.7, 'imaginal-activation': 1.0} <<\n",
      "\n"
     ]
    },
    {
     "name": "stderr",
     "output_type": "stream",
     "text": [
      "\n"
     ]
    },
    {
     "ename": "KeyboardInterrupt",
     "evalue": "",
     "output_type": "error",
     "traceback": [
      "\u001b[0;31m---------------------------------------------------------------------------\u001b[0m",
      "\u001b[0;31mKeyboardInterrupt\u001b[0m                         Traceback (most recent call last)",
      "\u001b[0;32m<ipython-input-6-cbe141b1c528>\u001b[0m in \u001b[0;36m<module>\u001b[0;34m\u001b[0m\n\u001b[1;32m     14\u001b[0m         \u001b[0;32mif\u001b[0m \u001b[0;32mnot\u001b[0m \u001b[0mcheck_parameters\u001b[0m\u001b[0;34m(\u001b[0m\u001b[0mlog_file_path\u001b[0m\u001b[0;34m=\u001b[0m\u001b[0;34m'../data/'\u001b[0m\u001b[0;34m+\u001b[0m\u001b[0mlog_path\u001b[0m\u001b[0;34m+\u001b[0m\u001b[0mparam_folder_id\u001b[0m\u001b[0;34m+\u001b[0m\u001b[0;34m'log.csv'\u001b[0m\u001b[0;34m,\u001b[0m \u001b[0mtask_param_set\u001b[0m\u001b[0;34m=\u001b[0m\u001b[0mtask_params\u001b[0m\u001b[0;34m,\u001b[0m \u001b[0mactr_param_set\u001b[0m\u001b[0;34m=\u001b[0m\u001b[0mactr_params\u001b[0m\u001b[0;34m,\u001b[0m \u001b[0mepoch\u001b[0m\u001b[0;34m=\u001b[0m\u001b[0me\u001b[0m\u001b[0;34m,\u001b[0m \u001b[0mn\u001b[0m\u001b[0;34m=\u001b[0m\u001b[0mn\u001b[0m\u001b[0;34m)\u001b[0m\u001b[0;34m:\u001b[0m\u001b[0;34m\u001b[0m\u001b[0;34m\u001b[0m\u001b[0m\n\u001b[1;32m     15\u001b[0m             \u001b[0mdf_beh\u001b[0m\u001b[0;34m,\u001b[0m \u001b[0mdf_state1stay\u001b[0m\u001b[0;34m,\u001b[0m \u001b[0mdf_utrace\u001b[0m\u001b[0;34m,\u001b[0m \u001b[0mdf_atrace\u001b[0m \u001b[0;34m=\u001b[0m \u001b[0msimulate_stay_probability\u001b[0m\u001b[0;34m(\u001b[0m\u001b[0mmodel\u001b[0m\u001b[0;34m=\u001b[0m\u001b[0;34m\"markov-model1\"\u001b[0m\u001b[0;34m,\u001b[0m \u001b[0mepoch\u001b[0m\u001b[0;34m=\u001b[0m\u001b[0me\u001b[0m\u001b[0;34m,\u001b[0m \u001b[0mn\u001b[0m\u001b[0;34m=\u001b[0m\u001b[0mn\u001b[0m\u001b[0;34m,\u001b[0m \u001b[0mtask_params\u001b[0m\u001b[0;34m=\u001b[0m\u001b[0mtask_params\u001b[0m\u001b[0;34m,\u001b[0m \u001b[0mactr_params\u001b[0m\u001b[0;34m=\u001b[0m\u001b[0mactr_params\u001b[0m\u001b[0;34m,\u001b[0m \u001b[0mlog\u001b[0m\u001b[0;34m=\u001b[0m\u001b[0mlog_path\u001b[0m\u001b[0;34m+\u001b[0m\u001b[0mparam_folder_id\u001b[0m\u001b[0;34m)\u001b[0m\u001b[0;34m\u001b[0m\u001b[0;34m\u001b[0m\u001b[0m\n\u001b[0;32m---> 16\u001b[0;31m             \u001b[0msimulate_stay_probability\u001b[0m\u001b[0;34m(\u001b[0m\u001b[0mmodel\u001b[0m\u001b[0;34m=\u001b[0m\u001b[0;34m\"markov-model2\"\u001b[0m\u001b[0;34m,\u001b[0m \u001b[0mepoch\u001b[0m\u001b[0;34m=\u001b[0m\u001b[0me\u001b[0m\u001b[0;34m,\u001b[0m \u001b[0mn\u001b[0m\u001b[0;34m=\u001b[0m\u001b[0mn\u001b[0m\u001b[0;34m,\u001b[0m \u001b[0mtask_params\u001b[0m\u001b[0;34m=\u001b[0m\u001b[0mtask_params\u001b[0m\u001b[0;34m,\u001b[0m \u001b[0mactr_params\u001b[0m\u001b[0;34m=\u001b[0m\u001b[0mactr_params\u001b[0m\u001b[0;34m,\u001b[0m \u001b[0mlog\u001b[0m\u001b[0;34m=\u001b[0m\u001b[0mlog_path\u001b[0m\u001b[0;34m+\u001b[0m\u001b[0mparam_folder_id\u001b[0m\u001b[0;34m)\u001b[0m\u001b[0;34m\u001b[0m\u001b[0;34m\u001b[0m\u001b[0m\n\u001b[0m\u001b[1;32m     17\u001b[0m             \u001b[0msimulate_stay_probability\u001b[0m\u001b[0;34m(\u001b[0m\u001b[0mmodel\u001b[0m\u001b[0;34m=\u001b[0m\u001b[0;34m\"markov-model3\"\u001b[0m\u001b[0;34m,\u001b[0m \u001b[0mepoch\u001b[0m\u001b[0;34m=\u001b[0m\u001b[0me\u001b[0m\u001b[0;34m,\u001b[0m \u001b[0mn\u001b[0m\u001b[0;34m=\u001b[0m\u001b[0mn\u001b[0m\u001b[0;34m,\u001b[0m \u001b[0mtask_params\u001b[0m\u001b[0;34m=\u001b[0m\u001b[0mtask_params\u001b[0m\u001b[0;34m,\u001b[0m \u001b[0mactr_params\u001b[0m\u001b[0;34m=\u001b[0m\u001b[0mactr_params\u001b[0m\u001b[0;34m,\u001b[0m \u001b[0mlog\u001b[0m\u001b[0;34m=\u001b[0m\u001b[0mlog_path\u001b[0m\u001b[0;34m+\u001b[0m\u001b[0mparam_folder_id\u001b[0m\u001b[0;34m)\u001b[0m\u001b[0;34m\u001b[0m\u001b[0;34m\u001b[0m\u001b[0m\n\u001b[1;32m     18\u001b[0m             \u001b[0mprint\u001b[0m\u001b[0;34m(\u001b[0m\u001b[0;34m\"COMPLETE...\"\u001b[0m\u001b[0;34m)\u001b[0m\u001b[0;34m\u001b[0m\u001b[0;34m\u001b[0m\u001b[0m\n",
      "\u001b[0;32m~/Documents/GitProject/ACTR-MarkovTask/script/markov_simulate_test.py\u001b[0m in \u001b[0;36msimulate_stay_probability\u001b[0;34m(model, epoch, n, task_params, actr_params, log)\u001b[0m\n\u001b[1;32m    100\u001b[0m     \u001b[0mstart_time\u001b[0m \u001b[0;34m=\u001b[0m \u001b[0mtime\u001b[0m\u001b[0;34m.\u001b[0m\u001b[0mtime\u001b[0m\u001b[0;34m(\u001b[0m\u001b[0;34m)\u001b[0m\u001b[0;34m\u001b[0m\u001b[0;34m\u001b[0m\u001b[0m\n\u001b[1;32m    101\u001b[0m     \u001b[0;32mfor\u001b[0m \u001b[0mi\u001b[0m \u001b[0;32min\u001b[0m \u001b[0mtqdm\u001b[0m\u001b[0;34m(\u001b[0m\u001b[0mrange\u001b[0m\u001b[0;34m(\u001b[0m\u001b[0mepoch\u001b[0m\u001b[0;34m)\u001b[0m\u001b[0;34m)\u001b[0m\u001b[0;34m:\u001b[0m\u001b[0;34m\u001b[0m\u001b[0;34m\u001b[0m\u001b[0m\n\u001b[0;32m--> 102\u001b[0;31m         \u001b[0mm\u001b[0m \u001b[0;34m=\u001b[0m \u001b[0msimulate\u001b[0m\u001b[0;34m(\u001b[0m\u001b[0mmodel\u001b[0m\u001b[0;34m=\u001b[0m\u001b[0mmodel\u001b[0m\u001b[0;34m,\u001b[0m \u001b[0mn\u001b[0m\u001b[0;34m=\u001b[0m\u001b[0mn\u001b[0m\u001b[0;34m,\u001b[0m \u001b[0mtask_params\u001b[0m\u001b[0;34m=\u001b[0m\u001b[0mtask_params\u001b[0m\u001b[0;34m,\u001b[0m \u001b[0mactr_params\u001b[0m\u001b[0;34m=\u001b[0m\u001b[0mactr_params\u001b[0m\u001b[0;34m,\u001b[0m \u001b[0mthresh\u001b[0m\u001b[0;34m=\u001b[0m\u001b[0;36m0\u001b[0m\u001b[0;34m)\u001b[0m\u001b[0;34m\u001b[0m\u001b[0;34m\u001b[0m\u001b[0m\n\u001b[0m\u001b[1;32m    103\u001b[0m         \u001b[0;32mif\u001b[0m \u001b[0;34m(\u001b[0m\u001b[0mi\u001b[0m\u001b[0;34m==\u001b[0m\u001b[0;36m0\u001b[0m\u001b[0;34m)\u001b[0m\u001b[0;34m:\u001b[0m \u001b[0mprint\u001b[0m\u001b[0;34m(\u001b[0m\u001b[0mm\u001b[0m\u001b[0;34m)\u001b[0m\u001b[0;34m\u001b[0m\u001b[0;34m\u001b[0m\u001b[0m\n\u001b[1;32m    104\u001b[0m \u001b[0;34m\u001b[0m\u001b[0m\n",
      "\u001b[0;32m~/Documents/GitProject/ACTR-MarkovTask/script/markov_simulate_test.py\u001b[0m in \u001b[0;36msimulate\u001b[0;34m(model, n, task_params, actr_params, thresh, verbose)\u001b[0m\n\u001b[1;32m     26\u001b[0m         \u001b[0;32mreturn\u001b[0m\u001b[0;34m\u001b[0m\u001b[0;34m\u001b[0m\u001b[0m\n\u001b[1;32m     27\u001b[0m     \u001b[0mm\u001b[0m \u001b[0;34m=\u001b[0m \u001b[0mMarkovACTR\u001b[0m\u001b[0;34m(\u001b[0m\u001b[0msetup\u001b[0m\u001b[0;34m=\u001b[0m\u001b[0;32mFalse\u001b[0m\u001b[0;34m)\u001b[0m\u001b[0;34m\u001b[0m\u001b[0;34m\u001b[0m\u001b[0m\n\u001b[0;32m---> 28\u001b[0;31m     \u001b[0mm\u001b[0m\u001b[0;34m.\u001b[0m\u001b[0msetup\u001b[0m\u001b[0;34m(\u001b[0m\u001b[0mmodel\u001b[0m\u001b[0;34m=\u001b[0m\u001b[0mmodel\u001b[0m\u001b[0;34m,\u001b[0m \u001b[0mverbose\u001b[0m\u001b[0;34m=\u001b[0m\u001b[0mverbose\u001b[0m\u001b[0;34m,\u001b[0m \u001b[0mtask_params\u001b[0m\u001b[0;34m=\u001b[0m\u001b[0mtask_params\u001b[0m\u001b[0;34m,\u001b[0m \u001b[0mactr_params\u001b[0m\u001b[0;34m=\u001b[0m\u001b[0mactr_params\u001b[0m\u001b[0;34m)\u001b[0m\u001b[0;34m\u001b[0m\u001b[0;34m\u001b[0m\u001b[0m\n\u001b[0m\u001b[1;32m     29\u001b[0m     \u001b[0mm\u001b[0m\u001b[0;34m.\u001b[0m\u001b[0mrun_experiment\u001b[0m\u001b[0;34m(\u001b[0m\u001b[0mn\u001b[0m\u001b[0;34m)\u001b[0m\u001b[0;34m\u001b[0m\u001b[0;34m\u001b[0m\u001b[0m\n\u001b[1;32m     30\u001b[0m     \u001b[0mdf\u001b[0m \u001b[0;34m=\u001b[0m \u001b[0mm\u001b[0m\u001b[0;34m.\u001b[0m\u001b[0mdf_postprocess_behaviors\u001b[0m\u001b[0;34m(\u001b[0m\u001b[0;34m)\u001b[0m\u001b[0;34m\u001b[0m\u001b[0;34m\u001b[0m\u001b[0m\n",
      "\u001b[0;32m~/Documents/GitProject/ACTR-MarkovTask/script/markov_device.py\u001b[0m in \u001b[0;36msetup\u001b[0;34m(self, model, actr_params, task_params, reload, verbose)\u001b[0m\n\u001b[1;32m    411\u001b[0m \u001b[0;34m\u001b[0m\u001b[0m\n\u001b[1;32m    412\u001b[0m \u001b[0;34m\u001b[0m\u001b[0m\n\u001b[0;32m--> 413\u001b[0;31m         \u001b[0mself\u001b[0m\u001b[0;34m.\u001b[0m\u001b[0madd_actr_commands\u001b[0m\u001b[0;34m(\u001b[0m\u001b[0;34m)\u001b[0m\u001b[0;34m\u001b[0m\u001b[0;34m\u001b[0m\u001b[0m\n\u001b[0m\u001b[1;32m    414\u001b[0m         \u001b[0;32mif\u001b[0m \u001b[0mreload\u001b[0m\u001b[0;34m:\u001b[0m\u001b[0;34m\u001b[0m\u001b[0;34m\u001b[0m\u001b[0m\n\u001b[1;32m    415\u001b[0m             \u001b[0;31m# schedule event of detect production/reward before loading model\u001b[0m\u001b[0;34m\u001b[0m\u001b[0;34m\u001b[0m\u001b[0;34m\u001b[0m\u001b[0m\n",
      "\u001b[0;32m~/Documents/GitProject/ACTR-MarkovTask/script/markov_device.py\u001b[0m in \u001b[0;36madd_actr_commands\u001b[0;34m(self)\u001b[0m\n\u001b[1;32m    450\u001b[0m     \u001b[0;32mdef\u001b[0m \u001b[0madd_actr_commands\u001b[0m\u001b[0;34m(\u001b[0m\u001b[0mself\u001b[0m\u001b[0;34m)\u001b[0m\u001b[0;34m:\u001b[0m\u001b[0;34m\u001b[0m\u001b[0;34m\u001b[0m\u001b[0m\n\u001b[1;32m    451\u001b[0m         \u001b[0mactr\u001b[0m\u001b[0;34m.\u001b[0m\u001b[0madd_command\u001b[0m\u001b[0;34m(\u001b[0m\u001b[0;34m\"markov-update-state0\"\u001b[0m\u001b[0;34m,\u001b[0m \u001b[0mself\u001b[0m\u001b[0;34m.\u001b[0m\u001b[0mupdate_state0\u001b[0m\u001b[0;34m,\u001b[0m \u001b[0;34m\"Update window: fixation\"\u001b[0m\u001b[0;34m)\u001b[0m\u001b[0;34m\u001b[0m\u001b[0;34m\u001b[0m\u001b[0m\n\u001b[0;32m--> 452\u001b[0;31m         \u001b[0mactr\u001b[0m\u001b[0;34m.\u001b[0m\u001b[0madd_command\u001b[0m\u001b[0;34m(\u001b[0m\u001b[0;34m\"markov-update-state1\"\u001b[0m\u001b[0;34m,\u001b[0m \u001b[0mself\u001b[0m\u001b[0;34m.\u001b[0m\u001b[0mupdate_state1\u001b[0m\u001b[0;34m,\u001b[0m \u001b[0;34m\"Update window: state1\"\u001b[0m\u001b[0;34m)\u001b[0m\u001b[0;34m\u001b[0m\u001b[0;34m\u001b[0m\u001b[0m\n\u001b[0m\u001b[1;32m    453\u001b[0m         \u001b[0mactr\u001b[0m\u001b[0;34m.\u001b[0m\u001b[0madd_command\u001b[0m\u001b[0;34m(\u001b[0m\u001b[0;34m\"markov-update-state2\"\u001b[0m\u001b[0;34m,\u001b[0m \u001b[0mself\u001b[0m\u001b[0;34m.\u001b[0m\u001b[0mupdate_state2\u001b[0m\u001b[0;34m,\u001b[0m \u001b[0;34m\"Update window: state2\"\u001b[0m\u001b[0;34m)\u001b[0m\u001b[0;34m\u001b[0m\u001b[0;34m\u001b[0m\u001b[0m\n\u001b[1;32m    454\u001b[0m         \u001b[0mactr\u001b[0m\u001b[0;34m.\u001b[0m\u001b[0madd_command\u001b[0m\u001b[0;34m(\u001b[0m\u001b[0;34m\"markov-update-state3\"\u001b[0m\u001b[0;34m,\u001b[0m \u001b[0mself\u001b[0m\u001b[0;34m.\u001b[0m\u001b[0mupdate_state3\u001b[0m\u001b[0;34m,\u001b[0m \u001b[0;34m\"Update window: state3\"\u001b[0m\u001b[0;34m)\u001b[0m\u001b[0;34m\u001b[0m\u001b[0;34m\u001b[0m\u001b[0m\n",
      "\u001b[0;32m~/Documents/GitProject/ACTR-MarkovTask/script/actr.py\u001b[0m in \u001b[0;36madd_command\u001b[0;34m(name, function, documentation, single, local_name, encoded)\u001b[0m\n\u001b[1;32m    507\u001b[0m \u001b[0;34m\u001b[0m\u001b[0m\n\u001b[1;32m    508\u001b[0m \u001b[0;32mdef\u001b[0m \u001b[0madd_command\u001b[0m\u001b[0;34m(\u001b[0m\u001b[0mname\u001b[0m\u001b[0;34m,\u001b[0m\u001b[0mfunction\u001b[0m\u001b[0;34m=\u001b[0m\u001b[0;32mNone\u001b[0m\u001b[0;34m,\u001b[0m\u001b[0mdocumentation\u001b[0m\u001b[0;34m=\u001b[0m\u001b[0;34m\"No documentation provided.\"\u001b[0m\u001b[0;34m,\u001b[0m\u001b[0msingle\u001b[0m\u001b[0;34m=\u001b[0m\u001b[0;32mTrue\u001b[0m\u001b[0;34m,\u001b[0m\u001b[0mlocal_name\u001b[0m\u001b[0;34m=\u001b[0m\u001b[0;32mNone\u001b[0m\u001b[0;34m,\u001b[0m\u001b[0mencoded\u001b[0m\u001b[0;34m=\u001b[0m\u001b[0;32mFalse\u001b[0m\u001b[0;34m)\u001b[0m\u001b[0;34m:\u001b[0m\u001b[0;34m\u001b[0m\u001b[0;34m\u001b[0m\u001b[0m\n\u001b[0;32m--> 509\u001b[0;31m     \u001b[0;32mreturn\u001b[0m \u001b[0mcurrent_connection\u001b[0m\u001b[0;34m.\u001b[0m\u001b[0madd_command\u001b[0m\u001b[0;34m(\u001b[0m\u001b[0mname\u001b[0m\u001b[0;34m,\u001b[0m\u001b[0mfunction\u001b[0m\u001b[0;34m,\u001b[0m\u001b[0mdocumentation\u001b[0m\u001b[0;34m,\u001b[0m\u001b[0msingle\u001b[0m\u001b[0;34m,\u001b[0m\u001b[0mlocal_name\u001b[0m\u001b[0;34m,\u001b[0m\u001b[0mencoded\u001b[0m\u001b[0;34m)\u001b[0m\u001b[0;34m\u001b[0m\u001b[0;34m\u001b[0m\u001b[0m\n\u001b[0m\u001b[1;32m    510\u001b[0m \u001b[0;34m\u001b[0m\u001b[0m\n\u001b[1;32m    511\u001b[0m \u001b[0;32mdef\u001b[0m \u001b[0mmonitor_command\u001b[0m\u001b[0;34m(\u001b[0m\u001b[0moriginal\u001b[0m\u001b[0;34m,\u001b[0m\u001b[0mmonitor\u001b[0m\u001b[0;34m)\u001b[0m\u001b[0;34m:\u001b[0m\u001b[0;34m\u001b[0m\u001b[0;34m\u001b[0m\u001b[0m\n",
      "\u001b[0;32m~/Documents/GitProject/ACTR-MarkovTask/script/actr.py\u001b[0m in \u001b[0;36madd_command\u001b[0;34m(self, name, function, documentation, single, actr_name, encoded)\u001b[0m\n\u001b[1;32m     78\u001b[0m         \u001b[0;32mif\u001b[0m \u001b[0mexisting\u001b[0m\u001b[0;34m[\u001b[0m\u001b[0;36m0\u001b[0m\u001b[0;34m]\u001b[0m \u001b[0;34m==\u001b[0m \u001b[0;32mTrue\u001b[0m\u001b[0;34m:\u001b[0m\u001b[0;34m\u001b[0m\u001b[0;34m\u001b[0m\u001b[0m\n\u001b[1;32m     79\u001b[0m             \u001b[0;32mif\u001b[0m \u001b[0mexisting\u001b[0m\u001b[0;34m[\u001b[0m\u001b[0;36m1\u001b[0m\u001b[0;34m]\u001b[0m \u001b[0;34m==\u001b[0m \u001b[0;32mNone\u001b[0m\u001b[0;34m:\u001b[0m\u001b[0;34m\u001b[0m\u001b[0;34m\u001b[0m\u001b[0m\n\u001b[0;32m---> 80\u001b[0;31m                 \u001b[0mresult\u001b[0m \u001b[0;34m=\u001b[0m \u001b[0mself\u001b[0m\u001b[0;34m.\u001b[0m\u001b[0minterface\u001b[0m\u001b[0;34m.\u001b[0m\u001b[0msend\u001b[0m\u001b[0;34m(\u001b[0m\u001b[0;34m\"add\"\u001b[0m\u001b[0;34m,\u001b[0m\u001b[0mname\u001b[0m\u001b[0;34m,\u001b[0m\u001b[0mcall_name\u001b[0m\u001b[0;34m,\u001b[0m\u001b[0mdocumentation\u001b[0m\u001b[0;34m,\u001b[0m\u001b[0msingle\u001b[0m\u001b[0;34m,\u001b[0m\u001b[0mactr_name\u001b[0m\u001b[0;34m,\u001b[0m\u001b[0mencoded\u001b[0m\u001b[0;34m)\u001b[0m\u001b[0;34m\u001b[0m\u001b[0;34m\u001b[0m\u001b[0m\n\u001b[0m\u001b[1;32m     81\u001b[0m                 \u001b[0;32mif\u001b[0m \u001b[0mresult\u001b[0m\u001b[0;34m[\u001b[0m\u001b[0;36m0\u001b[0m\u001b[0;34m]\u001b[0m\u001b[0;34m:\u001b[0m\u001b[0;34m\u001b[0m\u001b[0;34m\u001b[0m\u001b[0m\n\u001b[1;32m     82\u001b[0m                     \u001b[0mself\u001b[0m\u001b[0;34m.\u001b[0m\u001b[0minterface\u001b[0m\u001b[0;34m.\u001b[0m\u001b[0madd_command\u001b[0m\u001b[0;34m(\u001b[0m\u001b[0mname\u001b[0m\u001b[0;34m,\u001b[0m\u001b[0mfunction\u001b[0m\u001b[0;34m)\u001b[0m\u001b[0;34m\u001b[0m\u001b[0;34m\u001b[0m\u001b[0m\n",
      "\u001b[0;32m~/Documents/GitProject/ACTR-MarkovTask/script/actr.py\u001b[0m in \u001b[0;36msend\u001b[0;34m(self, method, *params)\u001b[0m\n\u001b[1;32m    262\u001b[0m \u001b[0;34m\u001b[0m\u001b[0m\n\u001b[1;32m    263\u001b[0m         \u001b[0;32mwhile\u001b[0m \u001b[0;32mnot\u001b[0m \u001b[0mr\u001b[0m\u001b[0;34m.\u001b[0m\u001b[0mcomplete\u001b[0m\u001b[0;34m:\u001b[0m\u001b[0;34m\u001b[0m\u001b[0;34m\u001b[0m\u001b[0m\n\u001b[0;32m--> 264\u001b[0;31m           \u001b[0mr\u001b[0m\u001b[0;34m.\u001b[0m\u001b[0mcv\u001b[0m\u001b[0;34m.\u001b[0m\u001b[0mwait\u001b[0m\u001b[0;34m(\u001b[0m\u001b[0;34m)\u001b[0m\u001b[0;34m\u001b[0m\u001b[0;34m\u001b[0m\u001b[0m\n\u001b[0m\u001b[1;32m    265\u001b[0m \u001b[0;34m\u001b[0m\u001b[0m\n\u001b[1;32m    266\u001b[0m         \u001b[0;32mreturn\u001b[0m \u001b[0;34m[\u001b[0m\u001b[0mr\u001b[0m\u001b[0;34m.\u001b[0m\u001b[0msuccess\u001b[0m\u001b[0;34m]\u001b[0m \u001b[0;34m+\u001b[0m \u001b[0mr\u001b[0m\u001b[0;34m.\u001b[0m\u001b[0mresults\u001b[0m\u001b[0;34m\u001b[0m\u001b[0;34m\u001b[0m\u001b[0m\n",
      "\u001b[0;32m/opt/anaconda3/envs/pyactr/lib/python3.8/threading.py\u001b[0m in \u001b[0;36mwait\u001b[0;34m(self, timeout)\u001b[0m\n\u001b[1;32m    300\u001b[0m         \u001b[0;32mtry\u001b[0m\u001b[0;34m:\u001b[0m    \u001b[0;31m# restore state no matter what (e.g., KeyboardInterrupt)\u001b[0m\u001b[0;34m\u001b[0m\u001b[0;34m\u001b[0m\u001b[0m\n\u001b[1;32m    301\u001b[0m             \u001b[0;32mif\u001b[0m \u001b[0mtimeout\u001b[0m \u001b[0;32mis\u001b[0m \u001b[0;32mNone\u001b[0m\u001b[0;34m:\u001b[0m\u001b[0;34m\u001b[0m\u001b[0;34m\u001b[0m\u001b[0m\n\u001b[0;32m--> 302\u001b[0;31m                 \u001b[0mwaiter\u001b[0m\u001b[0;34m.\u001b[0m\u001b[0macquire\u001b[0m\u001b[0;34m(\u001b[0m\u001b[0;34m)\u001b[0m\u001b[0;34m\u001b[0m\u001b[0;34m\u001b[0m\u001b[0m\n\u001b[0m\u001b[1;32m    303\u001b[0m                 \u001b[0mgotit\u001b[0m \u001b[0;34m=\u001b[0m \u001b[0;32mTrue\u001b[0m\u001b[0;34m\u001b[0m\u001b[0;34m\u001b[0m\u001b[0m\n\u001b[1;32m    304\u001b[0m             \u001b[0;32melse\u001b[0m\u001b[0;34m:\u001b[0m\u001b[0;34m\u001b[0m\u001b[0;34m\u001b[0m\u001b[0m\n",
      "\u001b[0;31mKeyboardInterrupt\u001b[0m: "
     ]
    }
   ],
   "source": [
    "start_time = time.time()\n",
    "for i in tqdm(range(len(task_param_set))):\n",
    "    \n",
    "    random_walk, m, r = task_param_set[i]\n",
    "    task_params ={'REWARD': {'B1': r, 'B2': r, 'C1': r, 'C2': r}, 'RANDOM_WALK':random_walk, 'M':m}\n",
    "    \n",
    "    for j in range(len(actr_param_set)):\n",
    "        ans, egs, alpha, lf = actr_param_set[j]\n",
    "        actr_params={'seed':'nil', 'ans':ans, 'egs':egs, 'alpha':alpha, 'lf':lf, 'bll':0.5, 'mas':2}\n",
    "\n",
    "        param_folder_id = 'param_task%d_actr%d/' % (i, j) \n",
    "\n",
    "        # check if alreay simulated\n",
    "        if not check_parameters(log_file_path='../data/'+log_path+param_folder_id+'log.csv', task_param_set=task_params, actr_param_set=actr_params, epoch=e, n=n):\n",
    "            df_beh, df_state1stay, df_utrace, df_atrace = simulate_stay_probability(model=\"markov-model1\", epoch=e, n=n, task_params=task_params, actr_params=actr_params, log=log_path+param_folder_id)\n",
    "            simulate_stay_probability(model=\"markov-model2\", epoch=e, n=n, task_params=task_params, actr_params=actr_params, log=log_path+param_folder_id)\n",
    "            simulate_stay_probability(model=\"markov-model3\", epoch=e, n=n, task_params=task_params, actr_params=actr_params, log=log_path+param_folder_id)\n",
    "            print(\"COMPLETE...\")\n",
    "        else:\n",
    "            print(\"SKIP ....\")\n",
    "            \n",
    "print('RUNNING TIME: [%.2f]' % (time.time() - start_time))"
   ]
  },
  {
   "cell_type": "code",
   "execution_count": null,
   "id": "6929e9ce-46ce-4594-8db4-3368fb53ab34",
   "metadata": {},
   "outputs": [],
   "source": []
  },
  {
   "cell_type": "code",
   "execution_count": null,
   "id": "763cf242-d5d0-43d6-9b17-41508cc53e63",
   "metadata": {},
   "outputs": [],
   "source": []
  },
  {
   "cell_type": "code",
   "execution_count": null,
   "id": "502b329b-0587-4c8f-837c-0f3dbe12e611",
   "metadata": {},
   "outputs": [],
   "source": [
    "# start_time = time.time()\n",
    "# for i in tqdm(range(len(task_param_set[:5]))):\n",
    "#     random_walk, m, r = task_param_set[i]\n",
    "#     task_params ={'REWARD': {'B1': r, 'B2': r, 'C1': r, 'C2': r}, 'RANDOM_WALK':random_walk, 'M':m}\n",
    "#     for actr_params in [actr_params1, actr_params2]:\n",
    "#         print(\"START >>>[%s]\\n[%s]\" % (str(task_params), str(actr_params)))\n",
    "#         param_folder_id = 'param_id'+str(i)+'/'\n",
    "        \n",
    "#         simulate_stay_probability(model=\"markov-model1\", epoch=e, n=n, task_params=task_params, actr_params=actr_params, log=log_path+param_folder_id)\n",
    "#         simulate_stay_probability(model=\"markov-model2\", epoch=e, n=n, task_params=task_params, actr_params=actr_params, log=log_path+param_folder_id)\n",
    "#         simulate_stay_probability(model=\"markov-model3\", epoch=e, n=n, task_params=task_params, actr_params=actr_params, log=log_path+param_folder_id)\n",
    "\n",
    "# print('...TOTAL RUNNING TIME [%.2f]..' % ((time.time() - start_time)))"
   ]
  },
  {
   "cell_type": "code",
   "execution_count": null,
   "id": "3c1eeddd-0377-4a8b-8a13-8d86c9dfa6aa",
   "metadata": {},
   "outputs": [],
   "source": [
    "# m1, m2= 0, 1\n",
    "# r = 5\n",
    "\n",
    "# task_params={'REWARD': {'B1': r, 'B2': r, 'C1': r, 'C2': r}}\n",
    "# actr_params1={'seed':'nil', 'ans':0.2, 'egs':0.5, 'alpha':0.2, 'v':'nil', 'lf':1, 'bll':0.5, 'mas':2}\n",
    "# actr_params2={'seed':'nil', 'ans':0.7, 'egs':0.5, 'alpha':0.2, 'v':'nil', 'lf':.5, 'bll':0.5, 'mas':2}\n",
    "\n",
    "# # simulation parameter: \n",
    "# # e: the number of simulation epoch\n",
    "# # n: the number of trials per simulation epoch\n",
    "# e=10\n",
    "# n=500\n",
    "\n"
   ]
  },
  {
   "cell_type": "code",
   "execution_count": null,
   "id": "573a5fe2-7db0-41f3-8d80-737a5322ca52",
   "metadata": {},
   "outputs": [],
   "source": []
  },
  {
   "cell_type": "code",
   "execution_count": null,
   "id": "ae7f3802-e1ee-4a41-82d5-4efc0c4f4fde",
   "metadata": {},
   "outputs": [],
   "source": []
  },
  {
   "cell_type": "code",
   "execution_count": null,
   "id": "96268e82-1bc3-44ef-b414-20354413b8c4",
   "metadata": {},
   "outputs": [],
   "source": []
  },
  {
   "cell_type": "code",
   "execution_count": null,
   "id": "ee02ef36-a4ec-4535-bf67-25e03e730b22",
   "metadata": {},
   "outputs": [],
   "source": []
  },
  {
   "cell_type": "code",
   "execution_count": null,
   "id": "062a5ccb-d20a-4e0f-8e31-dcf2620b319f",
   "metadata": {},
   "outputs": [],
   "source": []
  },
  {
   "cell_type": "code",
   "execution_count": null,
   "id": "40beef21-b027-4d7c-8272-69fd64e065db",
   "metadata": {},
   "outputs": [],
   "source": []
  },
  {
   "cell_type": "code",
   "execution_count": null,
   "id": "d9ee05e4-af71-456c-a687-77a50d272119",
   "metadata": {},
   "outputs": [],
   "source": []
  }
 ],
 "metadata": {
  "kernelspec": {
   "display_name": "Python 3",
   "language": "python",
   "name": "python3"
  },
  "language_info": {
   "codemirror_mode": {
    "name": "ipython",
    "version": 3
   },
   "file_extension": ".py",
   "mimetype": "text/x-python",
   "name": "python",
   "nbconvert_exporter": "python",
   "pygments_lexer": "ipython3",
   "version": "3.8.2"
  }
 },
 "nbformat": 4,
 "nbformat_minor": 5
}
