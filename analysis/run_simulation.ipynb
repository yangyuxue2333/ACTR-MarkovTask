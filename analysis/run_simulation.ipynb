{
 "cells": [
  {
   "cell_type": "code",
   "execution_count": 1,
   "id": "3bdb0a58-eb6f-4ae2-9089-bb55125443d3",
   "metadata": {},
   "outputs": [
    {
     "name": "stdout",
     "output_type": "stream",
     "text": [
      "ACT-R connection has been started.\n"
     ]
    }
   ],
   "source": [
    "import sys\n",
    "import os\n",
    "\n",
    "SCRIPT_PATH = os.path.join(os.path.abspath(os.path.dirname('../__file__')), 'script')\n",
    "sys.path.insert(0, SCRIPT_PATH)\n",
    "\n",
    "from markov_simulate_test import *\n",
    "import pandas as pd\n",
    "import numpy as np\n",
    "import matplotlib.pyplot as plt\n",
    "import seaborn as sns\n",
    "from pathlib import Path\n",
    "from tqdm import tqdm\n",
    "import itertools\n",
    "from tqdm import tqdm\n",
    "import time"
   ]
  },
  {
   "cell_type": "code",
   "execution_count": 2,
   "id": "8fe8c4be-8650-4b55-ac41-3becc6bc916f",
   "metadata": {},
   "outputs": [],
   "source": [
    "# task parameter combination\n",
    "m = [0, 0.5, 1, 1.5]\n",
    "r = [3, 5, 10]\n",
    "random_walk = [True]\n",
    "\n",
    "# actr parameter combination\n",
    "ans = [0.2, 0.5, 0.8]\n",
    "egs = [0.2, 0.5, 0.8]\n",
    "alpha = [.2, .5, .8]\n",
    "lf = [.5, 1, 1.5]\n",
    "\n",
    "task_param_set = list(itertools.product(*[random_walk, m, r]))\n",
    "actr_param_set = list(itertools.product(*[ans, egs, alpha, lf]))"
   ]
  },
  {
   "cell_type": "code",
   "execution_count": 3,
   "id": "2bfc3fea-ef73-4cbf-94c2-61d2ff1c7fa5",
   "metadata": {},
   "outputs": [
    {
     "name": "stdout",
     "output_type": "stream",
     "text": [
      "TOTAL NUM PARAMETER COMBINATION \n",
      "\t[TASK PARAM: (12)], \n",
      "\t[ACT-R PARAM: (81)]\n"
     ]
    }
   ],
   "source": [
    "print('TOTAL NUM PARAMETER COMBINATION \\n\\t[TASK PARAM: (%d)], \\n\\t[ACT-R PARAM: (%d)]' % (len(task_param_set), len(actr_param_set)))"
   ]
  },
  {
   "cell_type": "code",
   "execution_count": 4,
   "id": "b1d2c0b1-625c-44e5-9bd3-572d24a4a4b0",
   "metadata": {},
   "outputs": [],
   "source": [
    "# actr parameter:\n",
    "actr_params1={'seed':'nil', 'ans':0.2, 'egs':0.5, 'alpha':0.2, 'v':'nil', 'lf':1, 'bll':0.5, 'mas':2}\n",
    "actr_params2={'seed':'nil', 'ans':0.7, 'egs':0.5, 'alpha':0.2, 'v':'nil', 'lf':.5, 'bll':0.5, 'mas':2}\n",
    "\n",
    "# simulation parameter: \n",
    "# e: the number of simulation epoch\n",
    "# n: the number of trials per simulation epoch\n",
    "e=5\n",
    "n=500\n",
    "\n",
    "# log parameter:\n",
    "log_path = 'param_simulation_1115/'"
   ]
  },
  {
   "cell_type": "code",
   "execution_count": 5,
   "id": "7c113fb7-8320-4494-a92a-e1cd9caf645d",
   "metadata": {},
   "outputs": [],
   "source": [
    "def check_parameters(log_file_path, task_param_set, actr_param_set, epoch, n):\n",
    "    if not os.path.exists(log_file_path):\n",
    "        return False\n",
    "    log = pd.read_csv(log_file_path, header=0, index_col=0).drop(columns=['file_path'])\n",
    "    log_param_list = log.to_records(index=False).tolist()\n",
    "    for log_param_set in log_param_list:\n",
    "        curr_param_set = (epoch, n, \n",
    "                          actr_param_set['seed'], \n",
    "                          actr_param_set['ans'], \n",
    "                          actr_param_set['egs'], \n",
    "                          actr_param_set['alpha'], \n",
    "                          actr_param_set['v'], \n",
    "                          actr_param_set['lf'], \n",
    "                          actr_param_set['bll'], \n",
    "                          actr_param_set['mas'],\n",
    "                          str(task_param_set['REWARD']),\n",
    "                          task_param_set['RANDOM_WALK'],\n",
    "                          task_param_set['M'])\n",
    "        \n",
    "        if log_param_set == curr_param_set:\n",
    "            return True\n",
    "    return False"
   ]
  },
  {
   "cell_type": "code",
   "execution_count": null,
   "id": "5f0e553c-9260-4eac-b60e-51977610554c",
   "metadata": {},
   "outputs": [
    {
     "name": "stderr",
     "output_type": "stream",
     "text": [
      "  0%|          | 0/3 [00:00<?, ?it/s]\n",
      "  0%|          | 0/5 [00:00<?, ?it/s]\u001b[A\n",
      " 20%|██        | 1/5 [00:36<02:27, 36.82s/it]\u001b[A"
     ]
    },
    {
     "name": "stdout",
     "output_type": "stream",
     "text": [
      "######### SETUP MODEL markov-model1 #########\n",
      " \t>> TASK PARAMETERS: {'MARKOV_PROBABILITY': 0.7, 'REWARD_PROBABILITY': {'B1': 0.26, 'B2': 0.57, 'C1': 0.41, 'C2': 0.28}, 'REWARD': {'B1': 3, 'B2': 3, 'C1': 3, 'C2': 3}, 'RANDOM_WALK': True, 'M': 0} <<\n",
      " \t>> ACT-R PARAMETERS: {'v': 'nil', 'seed': 'nil', 'ans': 0.2, 'lf': 1, 'bll': 0.5, 'mas': 2, 'egs': 0.5, 'alpha': 0.2, 'imaginal-activation': 1.0} <<\n",
      "\n"
     ]
    },
    {
     "name": "stderr",
     "output_type": "stream",
     "text": [
      "\n",
      " 40%|████      | 2/5 [01:16<01:54, 38.26s/it]\u001b[A"
     ]
    }
   ],
   "source": [
    "start_time = time.time()\n",
    "for i in tqdm(range(len(task_param_set[:3]))):\n",
    "    random_walk, m, r = task_param_set[i]\n",
    "    task_params ={'REWARD': {'B1': r, 'B2': r, 'C1': r, 'C2': r}, 'RANDOM_WALK':random_walk, 'M':m}\n",
    "    for actr_params in [actr_params1, actr_params2]:\n",
    "        \n",
    "        param_folder_id = 'param_id'+str(i)+'/'\n",
    "        \n",
    "        # check if alreay simulated\n",
    "        if not check_parameters(log_file_path='../data/'+log_path+param_folder_id+'log.csv', task_param_set=task_params, actr_param_set=actr_params, epoch=e, n=n):\n",
    "            simulate_stay_probability(model=\"markov-model1\", epoch=e, n=n, task_params=task_params, actr_params=actr_params, log=log_path+param_folder_id)\n",
    "            simulate_stay_probability(model=\"markov-model2\", epoch=e, n=n, task_params=task_params, actr_params=actr_params, log=log_path+param_folder_id)\n",
    "            simulate_stay_probability(model=\"markov-model3\", epoch=e, n=n, task_params=task_params, actr_params=actr_params, log=log_path+param_folder_id)\n",
    "            print(\"COMPLETE...\")\n",
    "        else:\n",
    "            print(\"SKIP ....\")\n",
    "print('RUNNING TIME: [%.2f]' % (time.time() - start_time))"
   ]
  },
  {
   "cell_type": "code",
   "execution_count": null,
   "id": "502b329b-0587-4c8f-837c-0f3dbe12e611",
   "metadata": {},
   "outputs": [],
   "source": [
    "# start_time = time.time()\n",
    "# for i in tqdm(range(len(task_param_set[:5]))):\n",
    "#     random_walk, m, r = task_param_set[i]\n",
    "#     task_params ={'REWARD': {'B1': r, 'B2': r, 'C1': r, 'C2': r}, 'RANDOM_WALK':random_walk, 'M':m}\n",
    "#     for actr_params in [actr_params1, actr_params2]:\n",
    "#         print(\"START >>>[%s]\\n[%s]\" % (str(task_params), str(actr_params)))\n",
    "#         param_folder_id = 'param_id'+str(i)+'/'\n",
    "        \n",
    "#         simulate_stay_probability(model=\"markov-model1\", epoch=e, n=n, task_params=task_params, actr_params=actr_params, log=log_path+param_folder_id)\n",
    "#         simulate_stay_probability(model=\"markov-model2\", epoch=e, n=n, task_params=task_params, actr_params=actr_params, log=log_path+param_folder_id)\n",
    "#         simulate_stay_probability(model=\"markov-model3\", epoch=e, n=n, task_params=task_params, actr_params=actr_params, log=log_path+param_folder_id)\n",
    "\n",
    "# print('...TOTAL RUNNING TIME [%.2f]..' % ((time.time() - start_time)))"
   ]
  },
  {
   "cell_type": "code",
   "execution_count": null,
   "id": "3c1eeddd-0377-4a8b-8a13-8d86c9dfa6aa",
   "metadata": {},
   "outputs": [],
   "source": [
    "# m1, m2= 0, 1\n",
    "# r = 5\n",
    "\n",
    "# task_params={'REWARD': {'B1': r, 'B2': r, 'C1': r, 'C2': r}}\n",
    "# actr_params1={'seed':'nil', 'ans':0.2, 'egs':0.5, 'alpha':0.2, 'v':'nil', 'lf':1, 'bll':0.5, 'mas':2}\n",
    "# actr_params2={'seed':'nil', 'ans':0.7, 'egs':0.5, 'alpha':0.2, 'v':'nil', 'lf':.5, 'bll':0.5, 'mas':2}\n",
    "\n",
    "# # simulation parameter: \n",
    "# # e: the number of simulation epoch\n",
    "# # n: the number of trials per simulation epoch\n",
    "# e=10\n",
    "# n=500\n",
    "\n"
   ]
  },
  {
   "cell_type": "code",
   "execution_count": null,
   "id": "573a5fe2-7db0-41f3-8d80-737a5322ca52",
   "metadata": {},
   "outputs": [],
   "source": []
  },
  {
   "cell_type": "code",
   "execution_count": null,
   "id": "ae7f3802-e1ee-4a41-82d5-4efc0c4f4fde",
   "metadata": {},
   "outputs": [],
   "source": []
  },
  {
   "cell_type": "code",
   "execution_count": null,
   "id": "96268e82-1bc3-44ef-b414-20354413b8c4",
   "metadata": {},
   "outputs": [],
   "source": []
  },
  {
   "cell_type": "code",
   "execution_count": null,
   "id": "ee02ef36-a4ec-4535-bf67-25e03e730b22",
   "metadata": {},
   "outputs": [],
   "source": []
  },
  {
   "cell_type": "code",
   "execution_count": null,
   "id": "062a5ccb-d20a-4e0f-8e31-dcf2620b319f",
   "metadata": {},
   "outputs": [],
   "source": []
  },
  {
   "cell_type": "code",
   "execution_count": null,
   "id": "40beef21-b027-4d7c-8272-69fd64e065db",
   "metadata": {},
   "outputs": [],
   "source": []
  },
  {
   "cell_type": "code",
   "execution_count": null,
   "id": "d9ee05e4-af71-456c-a687-77a50d272119",
   "metadata": {},
   "outputs": [],
   "source": []
  }
 ],
 "metadata": {
  "kernelspec": {
   "display_name": "Python 3",
   "language": "python",
   "name": "python3"
  },
  "language_info": {
   "codemirror_mode": {
    "name": "ipython",
    "version": 3
   },
   "file_extension": ".py",
   "mimetype": "text/x-python",
   "name": "python",
   "nbconvert_exporter": "python",
   "pygments_lexer": "ipython3",
   "version": "3.9.12"
  }
 },
 "nbformat": 4,
 "nbformat_minor": 5
}
