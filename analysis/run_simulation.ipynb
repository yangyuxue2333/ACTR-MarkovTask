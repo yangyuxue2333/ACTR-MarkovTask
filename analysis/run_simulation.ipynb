{
 "cells": [
  {
   "cell_type": "code",
   "execution_count": 1,
   "id": "3bdb0a58-eb6f-4ae2-9089-bb55125443d3",
   "metadata": {},
   "outputs": [
    {
     "name": "stdout",
     "output_type": "stream",
     "text": [
      "ACT-R connection has been started.\n"
     ]
    }
   ],
   "source": [
    "import sys\n",
    "import os\n",
    "\n",
    "SCRIPT_PATH = os.path.join(os.path.abspath(os.path.dirname('../__file__')), 'script')\n",
    "sys.path.insert(0, SCRIPT_PATH)\n",
    "\n",
    "from markov_simulate_test import *\n",
    "import pandas as pd\n",
    "import numpy as np\n",
    "import matplotlib.pyplot as plt\n",
    "import seaborn as sns\n",
    "from pathlib import Path\n",
    "from tqdm import tqdm"
   ]
  },
  {
   "cell_type": "code",
   "execution_count": 2,
   "id": "54ef2d18-2ab2-40d2-9c9c-43b7a1facccd",
   "metadata": {},
   "outputs": [],
   "source": [
    "\n",
    "m1, m2= 0, 1.5\n",
    "r = 3\n",
    "task_params={'REWARD': {'B1': r, 'B2': r, 'C1': r, 'C2': r}}\n",
    "task_params1={'REWARD': {'B1': r, 'B2': r, 'C1': r, 'C2': r}, 'M':m1}\n",
    "task_params2={'REWARD': {'B1': r, 'B2': r, 'C1': r, 'C2': r}, 'M':m2}\n",
    "actr_params={'seed':'[100, 0]', 'v':'nil', 'ans': 0.2, 'egs':0.2, 'lf':0.5, 'bll':0.5}\n",
    "\n",
    "# simulation parameter: \n",
    "# e: the number of simulation epoch\n",
    "# n: the number of trials per simulation epoch\n",
    "e=5\n",
    "n=10\n",
    "\n",
    "# log parameter:\n",
    "log_path = 'random_walk_test0/'"
   ]
  },
  {
   "cell_type": "code",
   "execution_count": 3,
   "id": "573a5fe2-7db0-41f3-8d80-737a5322ca52",
   "metadata": {},
   "outputs": [
    {
     "name": "stderr",
     "output_type": "stream",
     "text": [
      " 20%|██        | 1/5 [00:02<00:11,  2.84s/it]"
     ]
    },
    {
     "name": "stdout",
     "output_type": "stream",
     "text": [
      "######### SETUP MODEL markov-model1 #########\n",
      " \t>> TASK PARAMETERS: {'MARKOV_PROBABILITY': 0.7, 'REWARD_PROBABILITY': {'B1': 0.26, 'B2': 0.57, 'C1': 0.41, 'C2': 0.28}, 'REWARD': {'B1': 3, 'B2': 3, 'C1': 3, 'C2': 3}, 'RANDOM_WALK': True, 'M': 1} <<\n",
      " \t>> ACT-R PARAMETERS: {'v': 'nil', 'seed': '[100, 0]', 'ans': 0.2, 'lf': 0.5, 'bll': 0.5, 'mas': None, 'egs': 0.2, 'alpha': 0.2, 'imaginal-activation': 1.0} <<\n",
      "\n"
     ]
    },
    {
     "name": "stderr",
     "output_type": "stream",
     "text": [
      "100%|██████████| 5/5 [00:14<00:00,  2.82s/it]\n"
     ]
    }
   ],
   "source": [
    "simulate_stay_probability(model=\"markov-model1\", epoch=e, n=n, task_params=task_params, actr_params=actr_params, log=log_path)"
   ]
  },
  {
   "cell_type": "code",
   "execution_count": 4,
   "id": "ae7f3802-e1ee-4a41-82d5-4efc0c4f4fde",
   "metadata": {},
   "outputs": [
    {
     "name": "stderr",
     "output_type": "stream",
     "text": [
      " 20%|██        | 1/5 [00:02<00:11,  2.79s/it]"
     ]
    },
    {
     "name": "stdout",
     "output_type": "stream",
     "text": [
      "######### SETUP MODEL markov-model2 #########\n",
      " \t>> TASK PARAMETERS: {'MARKOV_PROBABILITY': 0.7, 'REWARD_PROBABILITY': {'B1': 0.26, 'B2': 0.57, 'C1': 0.41, 'C2': 0.28}, 'REWARD': {'B1': 3, 'B2': 3, 'C1': 3, 'C2': 3}, 'RANDOM_WALK': True, 'M': 1} <<\n",
      " \t>> ACT-R PARAMETERS: {'v': 'nil', 'seed': '[100, 0]', 'ans': 0.2, 'lf': 0.5, 'bll': 0.5, 'mas': None, 'egs': 0.2, 'alpha': 0.2, 'imaginal-activation': 1.0} <<\n",
      "\n"
     ]
    },
    {
     "name": "stderr",
     "output_type": "stream",
     "text": [
      "100%|██████████| 5/5 [00:14<00:00,  2.83s/it]\n"
     ]
    }
   ],
   "source": [
    "simulate_stay_probability(model=\"markov-model2\", epoch=e, n=n, task_params=task_params, actr_params=actr_params, log=log_path)"
   ]
  },
  {
   "cell_type": "code",
   "execution_count": 5,
   "id": "96268e82-1bc3-44ef-b414-20354413b8c4",
   "metadata": {},
   "outputs": [
    {
     "name": "stderr",
     "output_type": "stream",
     "text": [
      " 20%|██        | 1/5 [00:03<00:12,  3.03s/it]"
     ]
    },
    {
     "name": "stdout",
     "output_type": "stream",
     "text": [
      "######### SETUP MODEL markov-model3 #########\n",
      " \t>> TASK PARAMETERS: {'MARKOV_PROBABILITY': 0.7, 'REWARD_PROBABILITY': {'B1': 0.26, 'B2': 0.57, 'C1': 0.41, 'C2': 0.28}, 'REWARD': {'B1': 3, 'B2': 3, 'C1': 3, 'C2': 3}, 'RANDOM_WALK': True, 'M': 0} <<\n",
      " \t>> ACT-R PARAMETERS: {'v': 'nil', 'seed': '[100, 0]', 'ans': 0.2, 'lf': 0.5, 'bll': 0.5, 'mas': None, 'egs': 0.2, 'alpha': 0.2, 'imaginal-activation': 1.0} <<\n",
      "\n"
     ]
    },
    {
     "name": "stderr",
     "output_type": "stream",
     "text": [
      "100%|██████████| 5/5 [00:14<00:00,  2.86s/it]\n"
     ]
    }
   ],
   "source": [
    "simulate_stay_probability(model=\"markov-model3\", epoch=e, n=n, task_params=task_params1, actr_params=actr_params, log=log_path)"
   ]
  },
  {
   "cell_type": "code",
   "execution_count": 6,
   "id": "ee02ef36-a4ec-4535-bf67-25e03e730b22",
   "metadata": {},
   "outputs": [
    {
     "name": "stderr",
     "output_type": "stream",
     "text": [
      " 20%|██        | 1/5 [00:02<00:11,  2.95s/it]"
     ]
    },
    {
     "name": "stdout",
     "output_type": "stream",
     "text": [
      "######### SETUP MODEL markov-model3 #########\n",
      " \t>> TASK PARAMETERS: {'MARKOV_PROBABILITY': 0.7, 'REWARD_PROBABILITY': {'B1': 0.26, 'B2': 0.57, 'C1': 0.41, 'C2': 0.28}, 'REWARD': {'B1': 3, 'B2': 3, 'C1': 3, 'C2': 3}, 'RANDOM_WALK': True, 'M': 1.5} <<\n",
      " \t>> ACT-R PARAMETERS: {'v': 'nil', 'seed': '[100, 0]', 'ans': 0.2, 'lf': 0.5, 'bll': 0.5, 'mas': None, 'egs': 0.2, 'alpha': 0.2, 'imaginal-activation': 1.0} <<\n",
      "\n"
     ]
    },
    {
     "name": "stderr",
     "output_type": "stream",
     "text": [
      "100%|██████████| 5/5 [00:14<00:00,  2.92s/it]\n"
     ]
    }
   ],
   "source": [
    "simulate_stay_probability(model=\"markov-model3\", epoch=e, n=n, task_params=task_params2, actr_params=actr_params, log=log_path)"
   ]
  },
  {
   "cell_type": "code",
   "execution_count": 7,
   "id": "73d51b47-0de1-46dc-be13-72786fa5b068",
   "metadata": {},
   "outputs": [
    {
     "data": {
      "text/plain": [
       "'-011123'"
      ]
     },
     "execution_count": 7,
     "metadata": {},
     "output_type": "execute_result"
    }
   ],
   "source": [
    "date.today().strftime('-%m%d%y')"
   ]
  },
  {
   "cell_type": "code",
   "execution_count": null,
   "id": "062a5ccb-d20a-4e0f-8e31-dcf2620b319f",
   "metadata": {},
   "outputs": [],
   "source": []
  }
 ],
 "metadata": {
  "kernelspec": {
   "display_name": "Python 3",
   "language": "python",
   "name": "python3"
  },
  "language_info": {
   "codemirror_mode": {
    "name": "ipython",
    "version": 3
   },
   "file_extension": ".py",
   "mimetype": "text/x-python",
   "name": "python",
   "nbconvert_exporter": "python",
   "pygments_lexer": "ipython3",
   "version": "3.8.8"
  }
 },
 "nbformat": 4,
 "nbformat_minor": 5
}
