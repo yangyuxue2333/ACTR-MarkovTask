{
 "cells": [
  {
   "cell_type": "code",
   "execution_count": 1,
   "id": "267d8334-98fa-43ec-bdf5-55f1027bf6d7",
   "metadata": {},
   "outputs": [
    {
     "name": "stdout",
     "output_type": "stream",
     "text": [
      "ACT-R connection has been started.\n"
     ]
    }
   ],
   "source": [
    "from markov_device import *\n",
    "import matplotlib.pyplot as plt\n",
    "import seaborn as sns\n",
    "from tqdm import tqdm"
   ]
  },
  {
   "cell_type": "markdown",
   "id": "18d3983b-5da3-4eee-83f2-5770798fbb51",
   "metadata": {},
   "source": [
    "# Stay Probability\n",
    "\n",
    "Compare the stay probabilityt of Model-free vs. Model-based"
   ]
  },
  {
   "cell_type": "code",
   "execution_count": 2,
   "id": "df0cd1c3-2f52-4b22-9b61-a08b617fff52",
   "metadata": {},
   "outputs": [],
   "source": [
    "def simulate_stay_probability(model=\"markov-model1\", epoch=1, n=20):\n",
    "    \n",
    "    rewards = 0.0\n",
    "    df_state1stay = []\n",
    "    for i in tqdm(range(epoch)):\n",
    "        m = MarkovACTR(setup=False) \n",
    "        m.setup(model, verbose=False)\n",
    "        if (i==0): print(m)\n",
    "        m.run_experiment(n)\n",
    "        df = m.calculate_stay_probability()\n",
    "        df_state1stay.append(df.groupby(['received_reward', 'reward_frequency', 'state_frequency']).agg({'state1_stay': lambda x: x.mean(skipna=True)}).reset_index())\n",
    "\n",
    "        # plot \n",
    "        rewards += df['received_reward'].sum()\n",
    "        \n",
    "        \n",
    "    print('--- simulation ---', epoch)\n",
    "    print('mean reward =', str(rewards/epoch))\n",
    "    dff = pd.concat(df_state1stay, axis=0)\n",
    "    ax = sns.pointplot(data=dff, x='received_reward', y='state1_stay',\n",
    "                       hue='state_frequency',\n",
    "                       order = sorted(df['received_reward'].unique(), reverse=True), \n",
    "                       join=True, dodge=True) \n",
    "    ax.set(ylim=(0, 1.1))\n",
    "    for container in ax.containers:\n",
    "        ax.bar_label(container, fmt='%.2f', label_type='center', color='white')\n",
    "    \n",
    "    if model==\"markov-model1\": plt.title('markov-model-free') \n",
    "    else: plt.title('markov-model-base')\n",
    "    plt.show()\n",
    "    \n",
    "    return df_state1stay"
   ]
  },
  {
   "cell_type": "code",
   "execution_count": 3,
   "id": "2fc59be0-377f-4457-ab22-9d36176bfc08",
   "metadata": {},
   "outputs": [
    {
     "name": "stderr",
     "output_type": "stream",
     "text": [
      "  0%|          | 0/10 [00:00<?, ?it/s]"
     ]
    },
    {
     "name": "stdout",
     "output_type": "stream",
     "text": [
      "######### SETUP MODEL markov-model1 #########\n",
      " \t>> TASK PARAMETERS: {'MARKOV_PROBABILITY': 0.7, 'REWARD_PROBABILITY': 0.7, 'REWARD': {'B1': 2, 'B2': 0, 'C1': 0, 'C2': 0}} <<\n",
      " \t>> ACT-R PARAMETERS: {'v': None, 'seed': [100, 0], 'ans': 0.1, 'le': 1.0, 'mas': None, 'egs': 0.1, 'alpha': 0.2, 'imaginal-activation': 1.0} <<\n",
      "\n"
     ]
    },
    {
     "name": "stderr",
     "output_type": "stream",
     "text": [
      "100%|██████████| 10/10 [01:59<00:00, 11.92s/it]\n"
     ]
    },
    {
     "name": "stdout",
     "output_type": "stream",
     "text": [
      "--- simulation --- 10\n",
      "mean reward = 31.2\n"
     ]
    },
    {
     "data": {
      "image/png": "[encoded data removed]",
      "text/plain": [
       "<Figure size 432x288 with 1 Axes>"
      ]
     },
     "metadata": {
      "needs_background": "light"
     },
     "output_type": "display_data"
    }
   ],
   "source": [
    "sim1 = simulate_stay_probability(model=\"markov-model1\", epoch=10, n=50)"
   ]
  },
  {
   "cell_type": "code",
   "execution_count": 4,
   "id": "35f0815c-152b-45c4-9d07-dc1bf106d519",
   "metadata": {},
   "outputs": [
    {
     "name": "stderr",
     "output_type": "stream",
     "text": [
      "  0%|          | 0/10 [00:00<?, ?it/s]"
     ]
    },
    {
     "name": "stdout",
     "output_type": "stream",
     "text": [
      "######### SETUP MODEL markov-model2 #########\n",
      " \t>> TASK PARAMETERS: {'MARKOV_PROBABILITY': 0.7, 'REWARD_PROBABILITY': 0.7, 'REWARD': {'B1': 2, 'B2': 0, 'C1': 0, 'C2': 0}} <<\n",
      " \t>> ACT-R PARAMETERS: {'v': None, 'seed': [100, 0], 'ans': 0.1, 'le': 1.0, 'mas': None, 'egs': 0.1, 'alpha': 0.2, 'imaginal-activation': 1.0} <<\n",
      "\n"
     ]
    },
    {
     "name": "stderr",
     "output_type": "stream",
     "text": [
      "100%|██████████| 10/10 [02:01<00:00, 12.18s/it]\n"
     ]
    },
    {
     "name": "stdout",
     "output_type": "stream",
     "text": [
      "--- simulation --- 10\n",
      "mean reward = 33.2\n"
     ]
    },
    {
     "data": {
      "image/png": "[encoded data removed]",
      "text/plain": [
       "<Figure size 432x288 with 1 Axes>"
      ]
     },
     "metadata": {
      "needs_background": "light"
     },
     "output_type": "display_data"
    }
   ],
   "source": [
    "sim2 = simulate_stay_probability(model=\"markov-model2\", epoch=10, n=50)"
   ]
  },
  {
   "cell_type": "code",
   "execution_count": null,
   "id": "7322af5c-976e-47a0-9751-bf5e80f9c3ea",
   "metadata": {},
   "outputs": [],
   "source": []
  }
 ],
 "metadata": {
  "kernelspec": {
   "display_name": "Python 3",
   "language": "python",
   "name": "python3"
  },
  "language_info": {
   "codemirror_mode": {
    "name": "ipython",
    "version": 3
   },
   "file_extension": ".py",
   "mimetype": "text/x-python",
   "name": "python",
   "nbconvert_exporter": "python",
   "pygments_lexer": "ipython3",
   "version": "3.8.8"
  }
 },
 "nbformat": 4,
 "nbformat_minor": 5
}
