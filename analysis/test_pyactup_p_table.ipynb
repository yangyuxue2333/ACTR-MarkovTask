{
 "cells": [
  {
   "cell_type": "code",
   "execution_count": null,
   "id": "37a7c1d0-427d-4526-ae11-c9ea0555a966",
   "metadata": {},
   "outputs": [],
   "source": [
    "import sys\n",
    "import os\n",
    "\n",
    "SCRIPT_PATH = os.path.join(os.path.abspath(os.path.dirname('../__file__')), 'script')\n",
    "sys.path.insert(0, SCRIPT_PATH)\n",
    "\n",
    "\n",
    "from markov_pyactup import *\n",
    "from statsmodels.formula.api import logit, glm\n",
    "import statsmodels.api as sm\n",
    "import statsmodels.formula.api as smf\n",
    "from scipy import stats\n",
    "import matplotlib.pyplot as plt\n",
    "import seaborn as sns\n",
    "import glob\n",
    "from matplotlib.ticker import (MultipleLocator, AutoMinorLocator)\n",
    "\n",
    "main_dir = os.path.dirname(os.getcwd())\n",
    "dest_dir = os.path.join(main_dir, 'data', 'model', 'transition_probability') \n",
    "\n",
    "if not os.path.exists(dest_dir):\n",
    "    print('...CREATING...', dest_dir)\n",
    "    os.mkdir(dest_dir)\n",
    "\n",
    "\n",
    "main_dir = os.path.dirname(os.path.realpath('../__file__'))"
   ]
  },
  {
   "cell_type": "markdown",
   "id": "1a9e3d06-4bcc-4a83-b753-775730c453bc",
   "metadata": {},
   "source": [
    "## Simulate transition probability"
   ]
  },
  {
   "cell_type": "code",
   "execution_count": null,
   "id": "1c485f53-6cc7-499f-8cd2-bd37014249f7",
   "metadata": {},
   "outputs": [],
   "source": [
    "temperatures = np.linspace(0.1,1.5,5)\n",
    "decays = np.linspace(0.1,1.5, 5)\n",
    "\n",
    "\n",
    "files = np.sort([f for f in glob.glob(os.path.join(main_dir, dest_dir, 'transition_probability*sim.csv'))])\n",
    "\n",
    "# load\n",
    "if len(files) >= len(temperatures) * len(decays):\n",
    "    df = pd.concat([pd.read_csv(f, index_col=0) for f in files], axis=0)\n",
    "else: \n",
    "    param_id = 0\n",
    "    for t in temperatures:\n",
    "        for d in decays:\n",
    "            MarkovSimulation.simulate_transition_probability(param_id=param_id, epoch=10, save_output=dest_dir, verbose=True, temperature=t, decay=d)\n",
    "            param_id += 1"
   ]
  },
  {
   "cell_type": "markdown",
   "id": "51c48127-c004-4294-bc1a-903f1b698947",
   "metadata": {},
   "source": [
    "## Visualize"
   ]
  },
  {
   "cell_type": "code",
   "execution_count": null,
   "id": "9d802174-7e63-4d67-8ba1-9f691b12729d",
   "metadata": {
    "tags": []
   },
   "outputs": [],
   "source": [
    "df = pd.concat([pd.read_csv(f, index_col=0) for f in files], axis=0)\n",
    "MarkovPlot.plot_transition_probability(df.round(2))"
   ]
  },
  {
   "cell_type": "code",
   "execution_count": null,
   "id": "fb6ca077-493a-448d-b65d-9b11cf7a9649",
   "metadata": {},
   "outputs": [],
   "source": []
  }
 ],
 "metadata": {
  "kernelspec": {
   "display_name": "Python 3 (ipykernel)",
   "language": "python",
   "name": "python3"
  },
  "language_info": {
   "codemirror_mode": {
    "name": "ipython",
    "version": 3
   },
   "file_extension": ".py",
   "mimetype": "text/x-python",
   "name": "python",
   "nbconvert_exporter": "python",
   "pygments_lexer": "ipython3",
   "version": "3.9.0"
  }
 },
 "nbformat": 4,
 "nbformat_minor": 5
}
