{
 "cells": [
  {
   "cell_type": "markdown",
   "id": "f9ccbabe-6bea-4a42-b8f0-5f2dfaccdd0b",
   "metadata": {},
   "source": [
    "# Model-Base Summary\n"
   ]
  },
  {
   "cell_type": "code",
   "execution_count": 1,
   "id": "7d0c3aff-8b44-496b-9095-6d54ba5d632a",
   "metadata": {},
   "outputs": [
    {
     "name": "stdout",
     "output_type": "stream",
     "text": [
      "ACT-R connection has been started.\n"
     ]
    }
   ],
   "source": [
    "import sys\n",
    "import os\n",
    "import shutil\n",
    "\n",
    "SCRIPT_PATH = os.path.join(os.path.abspath(os.path.dirname('../__file__')), 'script')\n",
    "sys.path.insert(0, SCRIPT_PATH)\n",
    "\n",
    "#from markov_device import *\n",
    "from markov_simulate_test import Simulation, MaxLogLikelihood, Plot\n",
    "import matplotlib.pyplot as plt\n",
    "import seaborn as sns\n",
    "import pandas as pd\n",
    "from pathlib import Path\n",
    "from tqdm import tqdm\n",
    "import pandas.api.types as pdtypes\n",
    "\n",
    "\n",
    "%matplotlib inline"
   ]
  },
  {
   "cell_type": "code",
   "execution_count": 2,
   "id": "daa53775-6d68-41bc-9960-2e979d9bd5bd",
   "metadata": {},
   "outputs": [
    {
     "data": {
      "text/plain": [
       "('/Users/cheryang/Documents/GitProject/ACTR-MarkovTask',\n",
       " '/Users/cheryang/Documents/GitProject/ACTR-MarkovTask/analysis/__cache__/markov-model2')"
      ]
     },
     "execution_count": 2,
     "metadata": {},
     "output_type": "execute_result"
    }
   ],
   "source": [
    "model_name=\"markov-model1\"\n",
    "\n",
    "main_dir = os.path.dirname(os.getcwd())\n",
    "dest_dir = os.path.join(os.getcwd(), '__cache__', model_name)\n",
    "main_dir, dest_dir "
   ]
  },
  {
   "cell_type": "code",
   "execution_count": 3,
   "id": "c7fd85ad-0aa7-438a-8cf4-5b9196c56bbe",
   "metadata": {},
   "outputs": [
    {
     "name": "stdout",
     "output_type": "stream",
     "text": [
      "deleting...[/Users/cheryang/Documents/GitProject/ACTR-MarkovTask/analysis/__cache__/markov-model2]\n"
     ]
    }
   ],
   "source": [
    "overwrite=0\n",
    "if overwrite:\n",
    "    try:\n",
    "        shutil.rmtree(dest_dir)\n",
    "        print('deleting...[%s]' % (dest_dir))\n",
    "    except:\n",
    "        print('no file found...', dest_dir)"
   ]
  },
  {
   "cell_type": "code",
   "execution_count": 4,
   "id": "9d0e09df-05e2-432e-9a69-dc8a9c3dc3cb",
   "metadata": {},
   "outputs": [],
   "source": [
    "r = 1\n",
    "task_params={'REWARD': {'B1': r, 'B2': r, 'C1':r, 'C2': r}, 'RANDOM_WALK':'LOAD'}\n",
    "actr_params={'v':'nil', 'ans':0.2, 'egs':0.2, 'alpha':0.2, 'lf': 0.5, 'bll': 0.5, 'mas':2}\n",
    "\n",
    "e=25\n",
    "n=200"
   ]
  },
  {
   "cell_type": "code",
   "execution_count": null,
   "id": "cd1eec74-f3ab-48a7-8d9d-0fb9cae69769",
   "metadata": {},
   "outputs": [],
   "source": []
  },
  {
   "cell_type": "code",
   "execution_count": null,
   "id": "b1260a71-0b16-4870-8e7f-3043ff462007",
   "metadata": {},
   "outputs": [],
   "source": [
    "try:\n",
    "    df1_state1stay=pd.read_csv(os.path.join(dest_dir, model_name+'-sim-staydata.csv'), index_col=0)\n",
    "except FileNotFoundError:\n",
    "    Simulation.simulate_stay_probability(model=model_name, epoch=e, n=n, task_params=task_params, actr_params=actr_params, log=dest_dir, thresh=0.8, verbose=0)\n",
    "finally:\n",
    "    df1_state1stay=pd.read_csv(os.path.join(dest_dir, model_name+'-sim-staydata.csv'), index_col=0)"
   ]
  },
  {
   "cell_type": "code",
   "execution_count": null,
   "id": "c1243ad4-6329-4aad-8b9d-e7bcd408ecf7",
   "metadata": {},
   "outputs": [],
   "source": [
    "if 'epoch' not in MaxLogLikelihood.MAXLL_FACTOR_VAR:\n",
    "     MaxLogLikelihood.MAXLL_FACTOR_VAR.append('epoch')\n",
    "df1stay_aggregate  = MaxLogLikelihood.calculate_agg_data(df1_state1stay, data_id='')"
   ]
  },
  {
   "cell_type": "code",
   "execution_count": null,
   "id": "24cacd25-974e-4323-a475-9a1127ffe3d9",
   "metadata": {},
   "outputs": [],
   "source": [
    "Plot.plot_response_switch(df=df1stay_aggregate, model_name=model_name, dep_var_suffix='_mean')"
   ]
  },
  {
   "cell_type": "markdown",
   "id": "824b68a1-16e7-40f7-a600-0a40e92fae29",
   "metadata": {},
   "source": [
    "## Simulation Results: Effect"
   ]
  },
  {
   "cell_type": "code",
   "execution_count": null,
   "id": "8530e56c-6fbd-4fce-a804-76d6ce51fe18",
   "metadata": {},
   "outputs": [],
   "source": [
    "Plot.plot_response_switch_stripplot(df1stay_aggregate, model_name=model_name, point_hue='epoch')"
   ]
  },
  {
   "cell_type": "code",
   "execution_count": null,
   "id": "3abed0df-78ee-4e0d-9db4-c761abe74599",
   "metadata": {},
   "outputs": [],
   "source": []
  },
  {
   "cell_type": "markdown",
   "id": "d7406487-0c6d-4831-9cb5-22672a62c405",
   "metadata": {},
   "source": [
    "## Response Time"
   ]
  },
  {
   "cell_type": "code",
   "execution_count": null,
   "id": "3b4e9465-4ea2-488e-81a5-2019f4b34de2",
   "metadata": {},
   "outputs": [],
   "source": [
    "Plot.plot_response_time(df=df1stay_aggregate, model_name=model_name, dep_var_suffix='_mean')"
   ]
  },
  {
   "cell_type": "code",
   "execution_count": null,
   "id": "0f8b501c-c161-40b2-a7b2-31b0efafcbe0",
   "metadata": {},
   "outputs": [],
   "source": [
    "Plot.plot_response_time(df=df1stay_aggregate, model_name=model_name, combine=False, dep_var_suffix='_mean')"
   ]
  },
  {
   "cell_type": "markdown",
   "id": "1734e411-8e11-47db-8c42-bb4ce549cbdb",
   "metadata": {},
   "source": [
    "# Learning Performance"
   ]
  },
  {
   "cell_type": "code",
   "execution_count": null,
   "id": "3da9e70d-9e40-4f4d-823a-ab2759cdb88d",
   "metadata": {},
   "outputs": [],
   "source": [
    "dfp = pd.read_csv(os.path.join(dest_dir, model_name+'-sim-logdata.csv'), index_col=0)"
   ]
  },
  {
   "cell_type": "code",
   "execution_count": null,
   "id": "d59ed531-a4b6-454d-8b7b-8d7d6493e843",
   "metadata": {},
   "outputs": [],
   "source": [
    "Plot.plot_learning_performance(dfp, title=model_name)"
   ]
  },
  {
   "cell_type": "code",
   "execution_count": null,
   "id": "33c388b0-4801-420f-b286-2c8176599c35",
   "metadata": {},
   "outputs": [],
   "source": []
  },
  {
   "cell_type": "code",
   "execution_count": null,
   "id": "a4e4b81c-c73f-4d19-8d73-31fdb0c81389",
   "metadata": {},
   "outputs": [],
   "source": []
  },
  {
   "cell_type": "markdown",
   "id": "d9872226-d8fa-4922-9448-07170c4a2fa2",
   "metadata": {},
   "source": [
    "## ACT-R Traces\n",
    "\n"
   ]
  },
  {
   "cell_type": "code",
   "execution_count": null,
   "id": "04b1917a-bc01-4266-b28c-63cab2ffd239",
   "metadata": {},
   "outputs": [],
   "source": [
    "df1_utrace = pd.read_csv(os.path.join(dest_dir, model_name+'-actr-udata.csv'), index_col=0)"
   ]
  },
  {
   "cell_type": "code",
   "execution_count": null,
   "id": "d64d8deb-6d8e-4c28-ab37-e93bcd5cc0ce",
   "metadata": {},
   "outputs": [],
   "source": [
    "fig, ax = plt.subplots(figsize=(6,2))\n",
    "fig.suptitle('Summary: Utility Trace [%s]' % model_name) \n",
    "sns.barplot(data=df1_utrace, y='action', x=':utility', hue='state', palette='Set2', ax=ax) \n",
    "plt.show()"
   ]
  },
  {
   "cell_type": "markdown",
   "id": "1489b2f2-13c0-4dda-94df-e48fd9db9e65",
   "metadata": {},
   "source": [
    "## Activation Trace"
   ]
  },
  {
   "cell_type": "code",
   "execution_count": null,
   "id": "4f6ca186-0f32-4e97-8d83-a06aa0a80d3e",
   "metadata": {},
   "outputs": [],
   "source": []
  },
  {
   "cell_type": "code",
   "execution_count": null,
   "id": "d3ba8181-94ea-47f0-a2e5-1c6e25267599",
   "metadata": {},
   "outputs": [],
   "source": [
    "df1_atrace = pd.read_csv(os.path.join(dest_dir, model_name+'-actr-adata.csv'), index_col=0)\n",
    "Plot.plot_activation_trace(df1_atrace)"
   ]
  },
  {
   "cell_type": "code",
   "execution_count": null,
   "id": "b3cfb5b1-b41d-4fc3-a4d7-9e45065b9d5e",
   "metadata": {},
   "outputs": [],
   "source": []
  },
  {
   "cell_type": "code",
   "execution_count": null,
   "id": "a5f142e8-b325-4aab-8aba-f820c5c46b82",
   "metadata": {},
   "outputs": [],
   "source": []
  },
  {
   "cell_type": "code",
   "execution_count": null,
   "id": "aa367a2a-d7ad-4c71-a481-c2bae38504ff",
   "metadata": {},
   "outputs": [],
   "source": []
  }
 ],
 "metadata": {
  "kernelspec": {
   "display_name": "Python 3",
   "language": "python",
   "name": "python3"
  },
  "language_info": {
   "codemirror_mode": {
    "name": "ipython",
    "version": 3
   },
   "file_extension": ".py",
   "mimetype": "text/x-python",
   "name": "python",
   "nbconvert_exporter": "python",
   "pygments_lexer": "ipython3",
   "version": "3.8.2"
  }
 },
 "nbformat": 4,
 "nbformat_minor": 5
}
